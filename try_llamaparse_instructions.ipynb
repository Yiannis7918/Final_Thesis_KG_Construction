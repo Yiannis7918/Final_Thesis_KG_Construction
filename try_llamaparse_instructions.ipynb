{
 "cells": [
  {
   "cell_type": "code",
   "execution_count": 1,
   "metadata": {},
   "outputs": [
    {
     "name": "stdout",
     "output_type": "stream",
     "text": [
      "Requirement already satisfied: llama-parse in c:\\users\\johnn\\desktop\\thesis-coding\\.venv\\lib\\site-packages (0.5.6)\n",
      "Requirement already satisfied: llama-index-core>=0.11.0 in c:\\users\\johnn\\desktop\\thesis-coding\\.venv\\lib\\site-packages (from llama-parse) (0.11.13.post1)\n",
      "Requirement already satisfied: PyYAML>=6.0.1 in c:\\users\\johnn\\desktop\\thesis-coding\\.venv\\lib\\site-packages (from llama-index-core>=0.11.0->llama-parse) (6.0.2)\n",
      "Requirement already satisfied: SQLAlchemy>=1.4.49 in c:\\users\\johnn\\desktop\\thesis-coding\\.venv\\lib\\site-packages (from SQLAlchemy[asyncio]>=1.4.49->llama-index-core>=0.11.0->llama-parse) (2.0.35)\n",
      "Requirement already satisfied: aiohttp<4.0.0,>=3.8.6 in c:\\users\\johnn\\desktop\\thesis-coding\\.venv\\lib\\site-packages (from llama-index-core>=0.11.0->llama-parse) (3.10.5)\n",
      "Requirement already satisfied: dataclasses-json in c:\\users\\johnn\\desktop\\thesis-coding\\.venv\\lib\\site-packages (from llama-index-core>=0.11.0->llama-parse) (0.6.7)\n",
      "Requirement already satisfied: deprecated>=1.2.9.3 in c:\\users\\johnn\\desktop\\thesis-coding\\.venv\\lib\\site-packages (from llama-index-core>=0.11.0->llama-parse) (1.2.14)\n",
      "Requirement already satisfied: dirtyjson<2.0.0,>=1.0.8 in c:\\users\\johnn\\desktop\\thesis-coding\\.venv\\lib\\site-packages (from llama-index-core>=0.11.0->llama-parse) (1.0.8)\n",
      "Requirement already satisfied: fsspec>=2023.5.0 in c:\\users\\johnn\\desktop\\thesis-coding\\.venv\\lib\\site-packages (from llama-index-core>=0.11.0->llama-parse) (2024.9.0)\n",
      "Requirement already satisfied: httpx in c:\\users\\johnn\\desktop\\thesis-coding\\.venv\\lib\\site-packages (from llama-index-core>=0.11.0->llama-parse) (0.27.2)\n",
      "Requirement already satisfied: nest-asyncio<2.0.0,>=1.5.8 in c:\\users\\johnn\\desktop\\thesis-coding\\.venv\\lib\\site-packages (from llama-index-core>=0.11.0->llama-parse) (1.6.0)\n",
      "Requirement already satisfied: networkx>=3.0 in c:\\users\\johnn\\desktop\\thesis-coding\\.venv\\lib\\site-packages (from llama-index-core>=0.11.0->llama-parse) (3.3)\n",
      "Requirement already satisfied: nltk>3.8.1 in c:\\users\\johnn\\desktop\\thesis-coding\\.venv\\lib\\site-packages (from llama-index-core>=0.11.0->llama-parse) (3.9.1)\n",
      "Requirement already satisfied: numpy<2.0.0 in c:\\users\\johnn\\desktop\\thesis-coding\\.venv\\lib\\site-packages (from llama-index-core>=0.11.0->llama-parse) (1.26.4)\n",
      "Requirement already satisfied: pillow>=9.0.0 in c:\\users\\johnn\\desktop\\thesis-coding\\.venv\\lib\\site-packages (from llama-index-core>=0.11.0->llama-parse) (10.4.0)\n",
      "Requirement already satisfied: pydantic<3.0.0,>=2.7.0 in c:\\users\\johnn\\desktop\\thesis-coding\\.venv\\lib\\site-packages (from llama-index-core>=0.11.0->llama-parse) (2.9.2)\n",
      "Requirement already satisfied: requests>=2.31.0 in c:\\users\\johnn\\desktop\\thesis-coding\\.venv\\lib\\site-packages (from llama-index-core>=0.11.0->llama-parse) (2.32.3)\n",
      "Requirement already satisfied: tenacity!=8.4.0,<9.0.0,>=8.2.0 in c:\\users\\johnn\\desktop\\thesis-coding\\.venv\\lib\\site-packages (from llama-index-core>=0.11.0->llama-parse) (8.5.0)\n",
      "Requirement already satisfied: tiktoken>=0.3.3 in c:\\users\\johnn\\desktop\\thesis-coding\\.venv\\lib\\site-packages (from llama-index-core>=0.11.0->llama-parse) (0.7.0)\n",
      "Requirement already satisfied: tqdm<5.0.0,>=4.66.1 in c:\\users\\johnn\\desktop\\thesis-coding\\.venv\\lib\\site-packages (from llama-index-core>=0.11.0->llama-parse) (4.66.5)\n",
      "Requirement already satisfied: typing-extensions>=4.5.0 in c:\\users\\johnn\\desktop\\thesis-coding\\.venv\\lib\\site-packages (from llama-index-core>=0.11.0->llama-parse) (4.12.2)\n",
      "Requirement already satisfied: typing-inspect>=0.8.0 in c:\\users\\johnn\\desktop\\thesis-coding\\.venv\\lib\\site-packages (from llama-index-core>=0.11.0->llama-parse) (0.9.0)\n",
      "Requirement already satisfied: wrapt in c:\\users\\johnn\\desktop\\thesis-coding\\.venv\\lib\\site-packages (from llama-index-core>=0.11.0->llama-parse) (1.16.0)\n",
      "Requirement already satisfied: aiohappyeyeballs>=2.3.0 in c:\\users\\johnn\\desktop\\thesis-coding\\.venv\\lib\\site-packages (from aiohttp<4.0.0,>=3.8.6->llama-index-core>=0.11.0->llama-parse) (2.4.0)\n",
      "Requirement already satisfied: aiosignal>=1.1.2 in c:\\users\\johnn\\desktop\\thesis-coding\\.venv\\lib\\site-packages (from aiohttp<4.0.0,>=3.8.6->llama-index-core>=0.11.0->llama-parse) (1.3.1)\n",
      "Requirement already satisfied: attrs>=17.3.0 in c:\\users\\johnn\\desktop\\thesis-coding\\.venv\\lib\\site-packages (from aiohttp<4.0.0,>=3.8.6->llama-index-core>=0.11.0->llama-parse) (24.2.0)\n",
      "Requirement already satisfied: frozenlist>=1.1.1 in c:\\users\\johnn\\desktop\\thesis-coding\\.venv\\lib\\site-packages (from aiohttp<4.0.0,>=3.8.6->llama-index-core>=0.11.0->llama-parse) (1.4.1)\n",
      "Requirement already satisfied: multidict<7.0,>=4.5 in c:\\users\\johnn\\desktop\\thesis-coding\\.venv\\lib\\site-packages (from aiohttp<4.0.0,>=3.8.6->llama-index-core>=0.11.0->llama-parse) (6.1.0)\n",
      "Requirement already satisfied: yarl<2.0,>=1.0 in c:\\users\\johnn\\desktop\\thesis-coding\\.venv\\lib\\site-packages (from aiohttp<4.0.0,>=3.8.6->llama-index-core>=0.11.0->llama-parse) (1.12.1)\n",
      "Requirement already satisfied: click in c:\\users\\johnn\\desktop\\thesis-coding\\.venv\\lib\\site-packages (from nltk>3.8.1->llama-index-core>=0.11.0->llama-parse) (8.1.7)\n",
      "Requirement already satisfied: joblib in c:\\users\\johnn\\desktop\\thesis-coding\\.venv\\lib\\site-packages (from nltk>3.8.1->llama-index-core>=0.11.0->llama-parse) (1.4.2)\n",
      "Requirement already satisfied: regex>=2021.8.3 in c:\\users\\johnn\\desktop\\thesis-coding\\.venv\\lib\\site-packages (from nltk>3.8.1->llama-index-core>=0.11.0->llama-parse) (2024.9.11)\n",
      "Requirement already satisfied: annotated-types>=0.6.0 in c:\\users\\johnn\\desktop\\thesis-coding\\.venv\\lib\\site-packages (from pydantic<3.0.0,>=2.7.0->llama-index-core>=0.11.0->llama-parse) (0.7.0)\n",
      "Requirement already satisfied: pydantic-core==2.23.4 in c:\\users\\johnn\\desktop\\thesis-coding\\.venv\\lib\\site-packages (from pydantic<3.0.0,>=2.7.0->llama-index-core>=0.11.0->llama-parse) (2.23.4)\n",
      "Requirement already satisfied: charset-normalizer<4,>=2 in c:\\users\\johnn\\desktop\\thesis-coding\\.venv\\lib\\site-packages (from requests>=2.31.0->llama-index-core>=0.11.0->llama-parse) (3.3.2)\n",
      "Requirement already satisfied: idna<4,>=2.5 in c:\\users\\johnn\\desktop\\thesis-coding\\.venv\\lib\\site-packages (from requests>=2.31.0->llama-index-core>=0.11.0->llama-parse) (3.10)\n",
      "Requirement already satisfied: urllib3<3,>=1.21.1 in c:\\users\\johnn\\desktop\\thesis-coding\\.venv\\lib\\site-packages (from requests>=2.31.0->llama-index-core>=0.11.0->llama-parse) (2.2.3)\n",
      "Requirement already satisfied: certifi>=2017.4.17 in c:\\users\\johnn\\desktop\\thesis-coding\\.venv\\lib\\site-packages (from requests>=2.31.0->llama-index-core>=0.11.0->llama-parse) (2024.8.30)\n",
      "Requirement already satisfied: greenlet!=0.4.17 in c:\\users\\johnn\\desktop\\thesis-coding\\.venv\\lib\\site-packages (from SQLAlchemy>=1.4.49->SQLAlchemy[asyncio]>=1.4.49->llama-index-core>=0.11.0->llama-parse) (3.1.1)\n",
      "Requirement already satisfied: colorama in c:\\users\\johnn\\desktop\\thesis-coding\\.venv\\lib\\site-packages (from tqdm<5.0.0,>=4.66.1->llama-index-core>=0.11.0->llama-parse) (0.4.6)\n",
      "Requirement already satisfied: mypy-extensions>=0.3.0 in c:\\users\\johnn\\desktop\\thesis-coding\\.venv\\lib\\site-packages (from typing-inspect>=0.8.0->llama-index-core>=0.11.0->llama-parse) (1.0.0)\n",
      "Requirement already satisfied: marshmallow<4.0.0,>=3.18.0 in c:\\users\\johnn\\desktop\\thesis-coding\\.venv\\lib\\site-packages (from dataclasses-json->llama-index-core>=0.11.0->llama-parse) (3.22.0)\n",
      "Requirement already satisfied: anyio in c:\\users\\johnn\\desktop\\thesis-coding\\.venv\\lib\\site-packages (from httpx->llama-index-core>=0.11.0->llama-parse) (4.6.0)\n",
      "Requirement already satisfied: httpcore==1.* in c:\\users\\johnn\\desktop\\thesis-coding\\.venv\\lib\\site-packages (from httpx->llama-index-core>=0.11.0->llama-parse) (1.0.5)\n",
      "Requirement already satisfied: sniffio in c:\\users\\johnn\\desktop\\thesis-coding\\.venv\\lib\\site-packages (from httpx->llama-index-core>=0.11.0->llama-parse) (1.3.1)\n",
      "Requirement already satisfied: h11<0.15,>=0.13 in c:\\users\\johnn\\desktop\\thesis-coding\\.venv\\lib\\site-packages (from httpcore==1.*->httpx->llama-index-core>=0.11.0->llama-parse) (0.14.0)\n",
      "Requirement already satisfied: packaging>=17.0 in c:\\users\\johnn\\desktop\\thesis-coding\\.venv\\lib\\site-packages (from marshmallow<4.0.0,>=3.18.0->dataclasses-json->llama-index-core>=0.11.0->llama-parse) (24.1)\n",
      "Note: you may need to restart the kernel to use updated packages.\n"
     ]
    }
   ],
   "source": [
    "%pip install llama-parse"
   ]
  },
  {
   "cell_type": "code",
   "execution_count": 2,
   "metadata": {},
   "outputs": [],
   "source": [
    "import os\n",
    "\n",
    "os.environ[\"LLAMA_CLOUD_API_KEY\"] = \"llx-eywBtXYA0RKYUHYQyCUhlHMUf7sAbIZvWtCxyyCL0XRYgsQV\""
   ]
  },
  {
   "cell_type": "code",
   "execution_count": 3,
   "metadata": {},
   "outputs": [],
   "source": [
    "import nest_asyncio\n",
    "\n",
    "nest_asyncio.apply()"
   ]
  },
  {
   "cell_type": "code",
   "execution_count": 4,
   "metadata": {},
   "outputs": [],
   "source": [
    "from llama_parse import LlamaParse"
   ]
  },
  {
   "cell_type": "code",
   "execution_count": 5,
   "metadata": {},
   "outputs": [
    {
     "name": "stdout",
     "output_type": "stream",
     "text": [
      "Started parsing the file under job_id 7160161b-97f1-497b-9005-3f27425fff41\n"
     ]
    }
   ],
   "source": [
    "vanilaParsing = LlamaParse(result_type=\"markdown\").load_data(\"just-page-26-and-31.pdf\")"
   ]
  },
  {
   "cell_type": "code",
   "execution_count": 39,
   "metadata": {},
   "outputs": [
    {
     "name": "stdout",
     "output_type": "stream",
     "text": [
      "L 193/26 EN Official Journal of the European Union 30.7.2018\n",
      "\n",
      "(245) Some modifications regarding financial instruments, budgetary guarantees and financial assistance should only apply from the date of application of the post-2020 multiannual financial framework in order to allow sufficient time to adapt the applicable legal bases and programmes to the new rules.\n",
      "\n",
      "(246) The information on the annual average of full-time equivalents and on the estimated amount of assigned revenue carried over from preceding years should be provided for the first time together with the draft budget to be presented in 2021 in order to allow sufficient time for the Commission to adapt to the new obligation,\n",
      "\n",
      "# HAVE ADOPTED THIS REGULATION:\n",
      "\n",
      "# PART ONE\n",
      "\n",
      "# FINANCIAL REGULATION\n",
      "\n",
      "# TITLE I\n",
      "\n",
      "# SUBJECT MATTER, DEFINITIONS AND GENERAL PRINCIPLES\n",
      "\n",
      "# Article 1\n",
      "\n",
      "# Subject matter\n",
      "\n",
      "This Regulation lays down the rules for the establishment and the implementation of the general budget of the European Union and of the European Atomic Energy Community (‘the budget’) and the presentation and auditing of their accounts.\n",
      "\n",
      "# Article 2\n",
      "\n",
      "# Definitions\n",
      "\n",
      "For the purposes of this Regulation, the following definitions apply:\n",
      "\n",
      "1. ‘applicant’ means a natural person or an entity with or without legal personality who has submitted an application in a grant award procedure or in a contest for prizes;\n",
      "2. ‘application document’ means a tender, a request to participate, a grant application or an application in a contest for prizes;\n",
      "3. ‘award procedure’ means a procurement procedure, a grant award procedure, a contest for prizes, or a procedure for the selection of experts or persons or entities implementing the budget pursuant to point (c) of the first subparagraph of Article 62(1);\n",
      "4. ‘basic act’ means a legal act, other than a recommendation or an opinion, which provides a legal basis for an action and for the implementation of the corresponding expenditure entered in the budget or of the budgetary guarantee or financial assistance backed by the budget, and which may take any of the following forms:\n",
      "1. (a) in implementation of the Treaty on the Functioning of the European Union (TFEU) and the Treaty establishing the European Atomic Energy Community (the Euratom Treaty), the form of a regulation, a directive or a decision within the meaning of Article 288 TFEU; or\n",
      "2. (b) in implementation of Title V of the Treaty on European Union (TEU), one of the forms specified in Articles 28(1) and 31(2), Article 33, and Articles 42(4) and 43(2) TEU;\n",
      "5. ‘beneficiary’ means a natural person or an entity with or without legal personality with whom a grant agreement has been signed;\n",
      "6. ‘blending facility or platform’ means a cooperation framework established between the Commission and development or other public finance institutions with a view to combining non-repayable forms of support and/or financial instruments and/or budgetary guarantees from the budget and repayable forms of support from development or other public finance institutions, as well as from private-sector finance institutions and private-sector investors;\n",
      "7. ‘budget implementation’ means the carrying out of activities relating to the management, monitoring, control and auditing of budget appropriations in accordance with the methods provided for in Article 62;\n",
      "8. ‘budgetary commitment’ means the operation by which the authorising officer responsible reserves the budget appropriations necessary to cover subsequent payments to honour legal commitments;\n"
     ]
    }
   ],
   "source": [
    "print(vanilaParsing[0].text)"
   ]
  },
  {
   "cell_type": "code",
   "execution_count": 23,
   "metadata": {},
   "outputs": [
    {
     "name": "stdout",
     "output_type": "stream",
     "text": [
      "Started parsing the file under job_id 9d441edb-4365-4a88-8d6d-c40d1576ffef\n"
     ]
    }
   ],
   "source": [
    "parsingInstructionManga = \"\"\"The provided document is a set of articles containing regulations. Provide the content of each article as a list.\"\"\"\n",
    "withInstructionParsing = LlamaParse(\n",
    "    result_type=\"markdown\", parsing_instruction=parsingInstructionManga\n",
    ").load_data(\"just-page-26-and-31.pdf\")"
   ]
  },
  {
   "cell_type": "code",
   "execution_count": 34,
   "metadata": {},
   "outputs": [
    {
     "name": "stdout",
     "output_type": "stream",
     "text": [
      "# Regulations Articles\n",
      "\n",
      "\n",
      "- Article 8\n",
      "- An appropriation shall be entered in the budget only if it is for an item of expenditure considered necessary.\n",
      "- Interest generated by pre-financing payments made from the budget shall not be due to the Union except as otherwise provided in the contribution agreements or the financing agreements concerned.\n",
      "- Article 9\n",
      "- The appropriations entered in the budget shall be authorised for a financial year which shall run from 1 January to 31 December.\n",
      "- Article 10\n",
      "- The revenue of a financial year shall be entered in the accounts for that year on the basis of the amounts collected during it. However, the own resources for the month of January of the following financial year may be made available in advance pursuant to Regulation (EU, Euratom) No 609/2014.\n",
      "- The entries in respect of the Value Added Tax (VAT) and Gross National Income-based own resources may be adjusted in accordance with Regulation (EU, Euratom) No 609/2014.\n",
      "- Commitments shall be entered in the accounts for a financial year on the basis of the legal commitments entered into up to 31 December of that year. However, the global budgetary commitments referred to in Article 112(4) shall be entered in the accounts for a financial year on the basis of the budgetary commitments up to 31 December of that year.\n",
      "- Payments shall be entered in the accounts for a financial year on the basis of the payments made by the accounting officer by 31 December of that year.\n",
      "- By way of derogation from paragraphs 3 and 4:\n",
      "- Article 11\n",
      "- The appropriations entered in the budget may be committed with effect from 1 January, once the budget has been definitively adopted.\n",
      "- As of 15 October of the financial year, the following expenditure may be committed in advance against the appropriations provided for the following financial year:\n"
     ]
    }
   ],
   "source": [
    "print(withInstructionParsing[6].text)"
   ]
  },
  {
   "cell_type": "code",
   "execution_count": null,
   "metadata": {},
   "outputs": [],
   "source": []
  },
  {
   "cell_type": "code",
   "execution_count": null,
   "metadata": {},
   "outputs": [],
   "source": []
  }
 ],
 "metadata": {
  "kernelspec": {
   "display_name": ".venv",
   "language": "python",
   "name": "python3"
  },
  "language_info": {
   "codemirror_mode": {
    "name": "ipython",
    "version": 3
   },
   "file_extension": ".py",
   "mimetype": "text/x-python",
   "name": "python",
   "nbconvert_exporter": "python",
   "pygments_lexer": "ipython3",
   "version": "3.11.5"
  }
 },
 "nbformat": 4,
 "nbformat_minor": 2
}
