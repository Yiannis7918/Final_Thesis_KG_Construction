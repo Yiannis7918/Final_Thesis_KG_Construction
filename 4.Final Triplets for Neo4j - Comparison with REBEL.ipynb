{
 "cells": [
  {
   "cell_type": "markdown",
   "metadata": {},
   "source": [
    "# Final Triplets for Rule-Based KG & REBEL-ClausIE Comparison\n",
    "\n",
    "1. Import the previously manually adjusted \"rule_original_whole_triplets_III.csv\", now named \"Clean_Use_Case_III_KG.csv\"\n",
    "2. Add the Article Information as Node Property \n",
    "3. Visualize the Identify Entity Classes \n",
    "4. Compare ClausIE with REBEL "
   ]
  },
  {
   "cell_type": "markdown",
   "metadata": {},
   "source": [
    "## Import Packages"
   ]
  },
  {
   "cell_type": "code",
   "execution_count": 1,
   "metadata": {},
   "outputs": [],
   "source": [
    "import pandas as pd\n",
    "import ast\n",
    "import spacy\n",
    "import re\n",
    "import numpy as np\n",
    "import matplotlib.pyplot as plt\n",
    "import matplotx\n",
    "from wordcloud import WordCloud\n",
    "import seaborn as sns"
   ]
  },
  {
   "cell_type": "markdown",
   "metadata": {},
   "source": [
    "## Load Triplet III CSV FILE \"Clean_Use_Case_III_KG\"\n",
    "\n",
    "* This CSV is manually adjusted directly from the whole Tail Full Triplet III csv (\"rule_original_whole_triplets_III.csv\")\n",
    "* Add Article Content as column\n",
    "* Export for Neo4j Use"
   ]
  },
  {
   "cell_type": "code",
   "execution_count": 2,
   "metadata": {},
   "outputs": [],
   "source": [
    "ground_truth = pd.read_csv(r'C:\\Users\\Student\\Desktop\\Thesis-Coding\\Thesis\\Clean_Use_Case_III_KG.csv')"
   ]
  },
  {
   "cell_type": "code",
   "execution_count": 3,
   "metadata": {},
   "outputs": [
    {
     "data": {
      "text/html": [
       "<div>\n",
       "<style scoped>\n",
       "    .dataframe tbody tr th:only-of-type {\n",
       "        vertical-align: middle;\n",
       "    }\n",
       "\n",
       "    .dataframe tbody tr th {\n",
       "        vertical-align: top;\n",
       "    }\n",
       "\n",
       "    .dataframe thead th {\n",
       "        text-align: right;\n",
       "    }\n",
       "</style>\n",
       "<table border=\"1\" class=\"dataframe\">\n",
       "  <thead>\n",
       "    <tr style=\"text-align: right;\">\n",
       "      <th></th>\n",
       "      <th>Head</th>\n",
       "      <th>Relation</th>\n",
       "      <th>Tail</th>\n",
       "      <th>Head_Class</th>\n",
       "      <th>Tail_Class</th>\n",
       "      <th>Title</th>\n",
       "      <th>Articles</th>\n",
       "    </tr>\n",
       "  </thead>\n",
       "  <tbody>\n",
       "    <tr>\n",
       "      <th>0</th>\n",
       "      <td>Letter of Amendment</td>\n",
       "      <td>CONCERNS</td>\n",
       "      <td>Amendment Updating</td>\n",
       "      <td>Budget_Amendment</td>\n",
       "      <td>Budget_Amendment</td>\n",
       "      <td>TITLE III ESTABLISHMENT AND STRUCTURE OF THE B...</td>\n",
       "      <td>Article 42  Letter of amendment to the draft b...</td>\n",
       "    </tr>\n",
       "    <tr>\n",
       "      <th>1</th>\n",
       "      <td>Amendment Updating</td>\n",
       "      <td>INCLUDED_IN</td>\n",
       "      <td>Letter of Amendment</td>\n",
       "      <td>Budget_Amendment</td>\n",
       "      <td>Budget_Amendment</td>\n",
       "      <td>TITLE III ESTABLISHMENT AND STRUCTURE OF THE B...</td>\n",
       "      <td>Article 42  Letter of amendment to the draft b...</td>\n",
       "    </tr>\n",
       "    <tr>\n",
       "      <th>2</th>\n",
       "      <td>Letter of Amendment</td>\n",
       "      <td>CREATED_BY</td>\n",
       "      <td>European Commission</td>\n",
       "      <td>Budget_Amendment</td>\n",
       "      <td>European_Union</td>\n",
       "      <td>TITLE III ESTABLISHMENT AND STRUCTURE OF THE B...</td>\n",
       "      <td>Article 42  Letter of amendment to the draft b...</td>\n",
       "    </tr>\n",
       "    <tr>\n",
       "      <th>3</th>\n",
       "      <td>Letter of Amendment</td>\n",
       "      <td>SEND_TO</td>\n",
       "      <td>European Council</td>\n",
       "      <td>Budget_Amendment</td>\n",
       "      <td>European_Union</td>\n",
       "      <td>TITLE III ESTABLISHMENT AND STRUCTURE OF THE B...</td>\n",
       "      <td>Article 42  Letter of amendment to the draft b...</td>\n",
       "    </tr>\n",
       "    <tr>\n",
       "      <th>4</th>\n",
       "      <td>Letter of Amendment</td>\n",
       "      <td>SEND_TO</td>\n",
       "      <td>European Parliament</td>\n",
       "      <td>Budget_Amendment</td>\n",
       "      <td>European_Union</td>\n",
       "      <td>TITLE III ESTABLISHMENT AND STRUCTURE OF THE B...</td>\n",
       "      <td>Article 42  Letter of amendment to the draft b...</td>\n",
       "    </tr>\n",
       "    <tr>\n",
       "      <th>...</th>\n",
       "      <td>...</td>\n",
       "      <td>...</td>\n",
       "      <td>...</td>\n",
       "      <td>...</td>\n",
       "      <td>...</td>\n",
       "      <td>...</td>\n",
       "      <td>...</td>\n",
       "    </tr>\n",
       "    <tr>\n",
       "      <th>126</th>\n",
       "      <td>European Council</td>\n",
       "      <td>SUBCLASS_OF</td>\n",
       "      <td>European Union</td>\n",
       "      <td>European_Union</td>\n",
       "      <td>European_Union</td>\n",
       "      <td>TITLE III ESTABLISHMENT AND STRUCTURE OF THE B...</td>\n",
       "      <td>Article 40  Estimated budget of the Union bodi...</td>\n",
       "    </tr>\n",
       "    <tr>\n",
       "      <th>127</th>\n",
       "      <td>National Parliaments</td>\n",
       "      <td>SUBCLASS_OF</td>\n",
       "      <td>European Union</td>\n",
       "      <td>European_Union</td>\n",
       "      <td>European_Union</td>\n",
       "      <td>TITLE III ESTABLISHMENT AND STRUCTURE OF THE B...</td>\n",
       "      <td>Article 40  Estimated budget of the Union bodi...</td>\n",
       "    </tr>\n",
       "    <tr>\n",
       "      <th>128</th>\n",
       "      <td>European Parliament</td>\n",
       "      <td>SUBCLASS_OF</td>\n",
       "      <td>European Union</td>\n",
       "      <td>European_Union</td>\n",
       "      <td>European_Union</td>\n",
       "      <td>TITLE III ESTABLISHMENT AND STRUCTURE OF THE B...</td>\n",
       "      <td>Article 40  Estimated budget of the Union bodi...</td>\n",
       "    </tr>\n",
       "    <tr>\n",
       "      <th>129</th>\n",
       "      <td>European Commission</td>\n",
       "      <td>SUBCLASS_OF</td>\n",
       "      <td>European Union</td>\n",
       "      <td>European_Union</td>\n",
       "      <td>European_Union</td>\n",
       "      <td>TITLE III ESTABLISHMENT AND STRUCTURE OF THE B...</td>\n",
       "      <td>Article 40  Estimated budget of the Union bodi...</td>\n",
       "    </tr>\n",
       "    <tr>\n",
       "      <th>130</th>\n",
       "      <td>Union Institutions</td>\n",
       "      <td>SUBCLASS_OF</td>\n",
       "      <td>European Union</td>\n",
       "      <td>European_Union</td>\n",
       "      <td>European_Union</td>\n",
       "      <td>TITLE III ESTABLISHMENT AND STRUCTURE OF THE B...</td>\n",
       "      <td>Article 40  Estimated budget of the Union bodi...</td>\n",
       "    </tr>\n",
       "  </tbody>\n",
       "</table>\n",
       "<p>131 rows × 7 columns</p>\n",
       "</div>"
      ],
      "text/plain": [
       "                     Head     Relation                  Tail  \\\n",
       "0    Letter of Amendment      CONCERNS    Amendment Updating   \n",
       "1      Amendment Updating  INCLUDED_IN  Letter of Amendment    \n",
       "2    Letter of Amendment    CREATED_BY   European Commission   \n",
       "3    Letter of Amendment      SEND_TO      European Council    \n",
       "4    Letter of Amendment      SEND_TO   European Parliament    \n",
       "..                    ...          ...                   ...   \n",
       "126     European Council   SUBCLASS_OF       European Union    \n",
       "127  National Parliaments  SUBCLASS_OF       European Union    \n",
       "128   European Parliament  SUBCLASS_OF       European Union    \n",
       "129   European Commission  SUBCLASS_OF       European Union    \n",
       "130    Union Institutions  SUBCLASS_OF       European Union    \n",
       "\n",
       "            Head_Class         Tail_Class  \\\n",
       "0    Budget_Amendment   Budget_Amendment    \n",
       "1    Budget_Amendment   Budget_Amendment    \n",
       "2    Budget_Amendment      European_Union   \n",
       "3    Budget_Amendment      European_Union   \n",
       "4    Budget_Amendment      European_Union   \n",
       "..                 ...                ...   \n",
       "126    European_Union     European_Union    \n",
       "127    European_Union     European_Union    \n",
       "128    European_Union     European_Union    \n",
       "129    European_Union     European_Union    \n",
       "130    European_Union     European_Union    \n",
       "\n",
       "                                                 Title  \\\n",
       "0    TITLE III ESTABLISHMENT AND STRUCTURE OF THE B...   \n",
       "1    TITLE III ESTABLISHMENT AND STRUCTURE OF THE B...   \n",
       "2    TITLE III ESTABLISHMENT AND STRUCTURE OF THE B...   \n",
       "3    TITLE III ESTABLISHMENT AND STRUCTURE OF THE B...   \n",
       "4    TITLE III ESTABLISHMENT AND STRUCTURE OF THE B...   \n",
       "..                                                 ...   \n",
       "126  TITLE III ESTABLISHMENT AND STRUCTURE OF THE B...   \n",
       "127  TITLE III ESTABLISHMENT AND STRUCTURE OF THE B...   \n",
       "128  TITLE III ESTABLISHMENT AND STRUCTURE OF THE B...   \n",
       "129  TITLE III ESTABLISHMENT AND STRUCTURE OF THE B...   \n",
       "130  TITLE III ESTABLISHMENT AND STRUCTURE OF THE B...   \n",
       "\n",
       "                                              Articles  \n",
       "0    Article 42  Letter of amendment to the draft b...  \n",
       "1    Article 42  Letter of amendment to the draft b...  \n",
       "2    Article 42  Letter of amendment to the draft b...  \n",
       "3    Article 42  Letter of amendment to the draft b...  \n",
       "4    Article 42  Letter of amendment to the draft b...  \n",
       "..                                                 ...  \n",
       "126  Article 40  Estimated budget of the Union bodi...  \n",
       "127  Article 40  Estimated budget of the Union bodi...  \n",
       "128  Article 40  Estimated budget of the Union bodi...  \n",
       "129  Article 40  Estimated budget of the Union bodi...  \n",
       "130  Article 40  Estimated budget of the Union bodi...  \n",
       "\n",
       "[131 rows x 7 columns]"
      ]
     },
     "execution_count": 3,
     "metadata": {},
     "output_type": "execute_result"
    }
   ],
   "source": [
    "ground_truth"
   ]
  },
  {
   "cell_type": "code",
   "execution_count": 4,
   "metadata": {},
   "outputs": [
    {
     "data": {
      "text/plain": [
       "(131, 7)"
      ]
     },
     "execution_count": 4,
     "metadata": {},
     "output_type": "execute_result"
    }
   ],
   "source": [
    "ground_truth.shape"
   ]
  },
  {
   "cell_type": "code",
   "execution_count": 5,
   "metadata": {},
   "outputs": [
    {
     "data": {
      "text/plain": [
       "Index(['Head', 'Relation', 'Tail', 'Head_Class', 'Tail_Class', 'Title',\n",
       "       'Articles'],\n",
       "      dtype='object')"
      ]
     },
     "execution_count": 5,
     "metadata": {},
     "output_type": "execute_result"
    }
   ],
   "source": [
    "ground_truth.columns"
   ]
  },
  {
   "cell_type": "code",
   "execution_count": 6,
   "metadata": {},
   "outputs": [],
   "source": [
    "for column_name in ground_truth.columns:\n",
    "   ground_truth[column_name] = ground_truth[column_name].apply(lambda x: str(x).strip())"
   ]
  },
  {
   "cell_type": "markdown",
   "metadata": {},
   "source": [
    "## Add Article Information as Property using \"final_dataframe.csv\" "
   ]
  },
  {
   "cell_type": "code",
   "execution_count": 7,
   "metadata": {},
   "outputs": [
    {
     "data": {
      "text/plain": [
       "array(['Article 42  Letter of amendment to the draft budget',\n",
       "       'Article 44  Draft amending budgets', 'Article 41  Draft budget',\n",
       "       'Article 54  Compliance with the multiannual financial framework and Decision 2014/335/EU, Euratom',\n",
       "       'Article 52  Presentation of the budget',\n",
       "       'Article 51  Emergency Aid Reserve',\n",
       "       'Article 39  Estimates of revenue and expenditure',\n",
       "       'Article 50  Negative reserve', 'Article 47  Budget nomenclature',\n",
       "       'Article 49  Provisions',\n",
       "       'Article 40  Estimated budget of the Union bodies referred to in Article 70',\n",
       "       'Article 48  Negative revenue',\n",
       "       'Article 43  Obligations of Member States as a result of the adoption of the budget'],\n",
       "      dtype=object)"
      ]
     },
     "execution_count": 7,
     "metadata": {},
     "output_type": "execute_result"
    }
   ],
   "source": [
    "ground_truth[\"Articles\"].unique()"
   ]
  },
  {
   "cell_type": "code",
   "execution_count": 8,
   "metadata": {},
   "outputs": [
    {
     "name": "stderr",
     "output_type": "stream",
     "text": [
      "C:\\Users\\Student\\AppData\\Local\\Temp\\ipykernel_4740\\3352836925.py:35: SettingWithCopyWarning: \n",
      "A value is trying to be set on a copy of a slice from a DataFrame\n",
      "\n",
      "See the caveats in the documentation: https://pandas.pydata.org/pandas-docs/stable/user_guide/indexing.html#returning-a-view-versus-a-copy\n",
      "  article_content.drop_duplicates([\"Articles\",\"Content_Text\"], inplace=True, ignore_index=True)\n"
     ]
    }
   ],
   "source": [
    "def convert_to_list(column):\n",
    "    return column.apply(ast.literal_eval)\n",
    "\n",
    "original_text = pd.read_csv(r'C:\\Users\\Student\\Desktop\\Thesis-Coding\\Thesis\\final_dataframe.csv')\n",
    "\n",
    "original_text['Content'] = convert_to_list(original_text['Content'])\n",
    "\n",
    "original_text[\"Articles\"] = original_text[\"Articles\"].apply(lambda x: x.strip())\n",
    "\n",
    "original_text = original_text[[\"Articles\",\"Content\"]]\n",
    "\n",
    "\n",
    "def get_content(con_list):\n",
    "    con_text = \"\".join(con_list).strip()\n",
    "    con_text = re.sub('\\n', '', \"\".join(con_text))\n",
    "    con_text = re.sub('  ', ' ', con_text)\n",
    "\n",
    "    return con_text\n",
    "\n",
    "def denoise_paragraph(paragraph):\n",
    "    para_text = re.sub('\\n', '', paragraph.strip())\n",
    "    \n",
    "    return para_text\n",
    "    \n",
    "original_text[\"Content_Text\"] = original_text[\"Content\"].apply(get_content)\n",
    "\n",
    "original_text = original_text.explode(\"Content\")\n",
    "\n",
    "original_text[\"Paragraph_Text\"] = original_text[\"Content\"].apply(denoise_paragraph)\n",
    "\n",
    "original_text = original_text[[\"Articles\",\"Content_Text\",\"Paragraph_Text\"]]\n",
    "\n",
    "article_content = original_text[[\"Articles\",\"Content_Text\"]]\n",
    "\n",
    "article_content.drop_duplicates([\"Articles\",\"Content_Text\"], inplace=True, ignore_index=True)"
   ]
  },
  {
   "cell_type": "code",
   "execution_count": 9,
   "metadata": {},
   "outputs": [
    {
     "data": {
      "text/html": [
       "<div>\n",
       "<style scoped>\n",
       "    .dataframe tbody tr th:only-of-type {\n",
       "        vertical-align: middle;\n",
       "    }\n",
       "\n",
       "    .dataframe tbody tr th {\n",
       "        vertical-align: top;\n",
       "    }\n",
       "\n",
       "    .dataframe thead th {\n",
       "        text-align: right;\n",
       "    }\n",
       "</style>\n",
       "<table border=\"1\" class=\"dataframe\">\n",
       "  <thead>\n",
       "    <tr style=\"text-align: right;\">\n",
       "      <th></th>\n",
       "      <th>Articles</th>\n",
       "      <th>Content_Text</th>\n",
       "    </tr>\n",
       "  </thead>\n",
       "  <tbody>\n",
       "    <tr>\n",
       "      <th>0</th>\n",
       "      <td>Article 1  Subject matter</td>\n",
       "      <td>This Regulation lays down the rules for the es...</td>\n",
       "    </tr>\n",
       "    <tr>\n",
       "      <th>1</th>\n",
       "      <td>Article 2  Definitions</td>\n",
       "      <td>‘applicant’ means a natural person or an entit...</td>\n",
       "    </tr>\n",
       "    <tr>\n",
       "      <th>2</th>\n",
       "      <td>Article 3  Compliance of secondary legislation...</td>\n",
       "      <td>Provisions concerning the implementation of th...</td>\n",
       "    </tr>\n",
       "    <tr>\n",
       "      <th>3</th>\n",
       "      <td>Article 4  Periods, dates and time limits</td>\n",
       "      <td>Unless otherwise provided in this Regulation, ...</td>\n",
       "    </tr>\n",
       "    <tr>\n",
       "      <th>4</th>\n",
       "      <td>Article 5  Protection of personal data</td>\n",
       "      <td>This Regulation is without prejudice to Regula...</td>\n",
       "    </tr>\n",
       "  </tbody>\n",
       "</table>\n",
       "</div>"
      ],
      "text/plain": [
       "                                            Articles  \\\n",
       "0                          Article 1  Subject matter   \n",
       "1                             Article 2  Definitions   \n",
       "2  Article 3  Compliance of secondary legislation...   \n",
       "3          Article 4  Periods, dates and time limits   \n",
       "4             Article 5  Protection of personal data   \n",
       "\n",
       "                                        Content_Text  \n",
       "0  This Regulation lays down the rules for the es...  \n",
       "1  ‘applicant’ means a natural person or an entit...  \n",
       "2  Provisions concerning the implementation of th...  \n",
       "3  Unless otherwise provided in this Regulation, ...  \n",
       "4  This Regulation is without prejudice to Regula...  "
      ]
     },
     "execution_count": 9,
     "metadata": {},
     "output_type": "execute_result"
    }
   ],
   "source": [
    "article_content.head()"
   ]
  },
  {
   "cell_type": "code",
   "execution_count": 10,
   "metadata": {},
   "outputs": [],
   "source": [
    "ground_truth = pd.merge(ground_truth, article_content, on='Articles', how='left')"
   ]
  },
  {
   "cell_type": "code",
   "execution_count": 11,
   "metadata": {},
   "outputs": [
    {
     "data": {
      "text/plain": [
       "(131, 8)"
      ]
     },
     "execution_count": 11,
     "metadata": {},
     "output_type": "execute_result"
    }
   ],
   "source": [
    "ground_truth.shape"
   ]
  },
  {
   "cell_type": "markdown",
   "metadata": {},
   "source": [
    "## Final Triplets for Knowledge Graph"
   ]
  },
  {
   "cell_type": "code",
   "execution_count": 12,
   "metadata": {},
   "outputs": [
    {
     "data": {
      "text/html": [
       "<div>\n",
       "<style scoped>\n",
       "    .dataframe tbody tr th:only-of-type {\n",
       "        vertical-align: middle;\n",
       "    }\n",
       "\n",
       "    .dataframe tbody tr th {\n",
       "        vertical-align: top;\n",
       "    }\n",
       "\n",
       "    .dataframe thead th {\n",
       "        text-align: right;\n",
       "    }\n",
       "</style>\n",
       "<table border=\"1\" class=\"dataframe\">\n",
       "  <thead>\n",
       "    <tr style=\"text-align: right;\">\n",
       "      <th></th>\n",
       "      <th>Head</th>\n",
       "      <th>Relation</th>\n",
       "      <th>Tail</th>\n",
       "      <th>Head_Class</th>\n",
       "      <th>Tail_Class</th>\n",
       "      <th>Title</th>\n",
       "      <th>Articles</th>\n",
       "      <th>Content_Text</th>\n",
       "    </tr>\n",
       "  </thead>\n",
       "  <tbody>\n",
       "    <tr>\n",
       "      <th>0</th>\n",
       "      <td>Letter of Amendment</td>\n",
       "      <td>CONCERNS</td>\n",
       "      <td>Amendment Updating</td>\n",
       "      <td>Budget_Amendment</td>\n",
       "      <td>Budget_Amendment</td>\n",
       "      <td>TITLE III ESTABLISHMENT AND STRUCTURE OF THE B...</td>\n",
       "      <td>Article 42  Letter of amendment to the draft b...</td>\n",
       "      <td>On the basis of any new information which was ...</td>\n",
       "    </tr>\n",
       "    <tr>\n",
       "      <th>1</th>\n",
       "      <td>Amendment Updating</td>\n",
       "      <td>INCLUDED_IN</td>\n",
       "      <td>Letter of Amendment</td>\n",
       "      <td>Budget_Amendment</td>\n",
       "      <td>Budget_Amendment</td>\n",
       "      <td>TITLE III ESTABLISHMENT AND STRUCTURE OF THE B...</td>\n",
       "      <td>Article 42  Letter of amendment to the draft b...</td>\n",
       "      <td>On the basis of any new information which was ...</td>\n",
       "    </tr>\n",
       "    <tr>\n",
       "      <th>2</th>\n",
       "      <td>Letter of Amendment</td>\n",
       "      <td>CREATED_BY</td>\n",
       "      <td>European Commission</td>\n",
       "      <td>Budget_Amendment</td>\n",
       "      <td>European_Union</td>\n",
       "      <td>TITLE III ESTABLISHMENT AND STRUCTURE OF THE B...</td>\n",
       "      <td>Article 42  Letter of amendment to the draft b...</td>\n",
       "      <td>On the basis of any new information which was ...</td>\n",
       "    </tr>\n",
       "    <tr>\n",
       "      <th>3</th>\n",
       "      <td>Letter of Amendment</td>\n",
       "      <td>SEND_TO</td>\n",
       "      <td>European Council</td>\n",
       "      <td>Budget_Amendment</td>\n",
       "      <td>European_Union</td>\n",
       "      <td>TITLE III ESTABLISHMENT AND STRUCTURE OF THE B...</td>\n",
       "      <td>Article 42  Letter of amendment to the draft b...</td>\n",
       "      <td>On the basis of any new information which was ...</td>\n",
       "    </tr>\n",
       "    <tr>\n",
       "      <th>4</th>\n",
       "      <td>Letter of Amendment</td>\n",
       "      <td>SEND_TO</td>\n",
       "      <td>European Parliament</td>\n",
       "      <td>Budget_Amendment</td>\n",
       "      <td>European_Union</td>\n",
       "      <td>TITLE III ESTABLISHMENT AND STRUCTURE OF THE B...</td>\n",
       "      <td>Article 42  Letter of amendment to the draft b...</td>\n",
       "      <td>On the basis of any new information which was ...</td>\n",
       "    </tr>\n",
       "    <tr>\n",
       "      <th>...</th>\n",
       "      <td>...</td>\n",
       "      <td>...</td>\n",
       "      <td>...</td>\n",
       "      <td>...</td>\n",
       "      <td>...</td>\n",
       "      <td>...</td>\n",
       "      <td>...</td>\n",
       "      <td>...</td>\n",
       "    </tr>\n",
       "    <tr>\n",
       "      <th>126</th>\n",
       "      <td>European Council</td>\n",
       "      <td>SUBCLASS_OF</td>\n",
       "      <td>European Union</td>\n",
       "      <td>European_Union</td>\n",
       "      <td>European_Union</td>\n",
       "      <td>TITLE III ESTABLISHMENT AND STRUCTURE OF THE B...</td>\n",
       "      <td>Article 40  Estimated budget of the Union bodi...</td>\n",
       "      <td>By 31 January each year, each Union body refer...</td>\n",
       "    </tr>\n",
       "    <tr>\n",
       "      <th>127</th>\n",
       "      <td>National Parliaments</td>\n",
       "      <td>SUBCLASS_OF</td>\n",
       "      <td>European Union</td>\n",
       "      <td>European_Union</td>\n",
       "      <td>European_Union</td>\n",
       "      <td>TITLE III ESTABLISHMENT AND STRUCTURE OF THE B...</td>\n",
       "      <td>Article 40  Estimated budget of the Union bodi...</td>\n",
       "      <td>By 31 January each year, each Union body refer...</td>\n",
       "    </tr>\n",
       "    <tr>\n",
       "      <th>128</th>\n",
       "      <td>European Parliament</td>\n",
       "      <td>SUBCLASS_OF</td>\n",
       "      <td>European Union</td>\n",
       "      <td>European_Union</td>\n",
       "      <td>European_Union</td>\n",
       "      <td>TITLE III ESTABLISHMENT AND STRUCTURE OF THE B...</td>\n",
       "      <td>Article 40  Estimated budget of the Union bodi...</td>\n",
       "      <td>By 31 January each year, each Union body refer...</td>\n",
       "    </tr>\n",
       "    <tr>\n",
       "      <th>129</th>\n",
       "      <td>European Commission</td>\n",
       "      <td>SUBCLASS_OF</td>\n",
       "      <td>European Union</td>\n",
       "      <td>European_Union</td>\n",
       "      <td>European_Union</td>\n",
       "      <td>TITLE III ESTABLISHMENT AND STRUCTURE OF THE B...</td>\n",
       "      <td>Article 40  Estimated budget of the Union bodi...</td>\n",
       "      <td>By 31 January each year, each Union body refer...</td>\n",
       "    </tr>\n",
       "    <tr>\n",
       "      <th>130</th>\n",
       "      <td>Union Institutions</td>\n",
       "      <td>SUBCLASS_OF</td>\n",
       "      <td>European Union</td>\n",
       "      <td>European_Union</td>\n",
       "      <td>European_Union</td>\n",
       "      <td>TITLE III ESTABLISHMENT AND STRUCTURE OF THE B...</td>\n",
       "      <td>Article 40  Estimated budget of the Union bodi...</td>\n",
       "      <td>By 31 January each year, each Union body refer...</td>\n",
       "    </tr>\n",
       "  </tbody>\n",
       "</table>\n",
       "<p>131 rows × 8 columns</p>\n",
       "</div>"
      ],
      "text/plain": [
       "                     Head     Relation                 Tail        Head_Class  \\\n",
       "0     Letter of Amendment     CONCERNS   Amendment Updating  Budget_Amendment   \n",
       "1      Amendment Updating  INCLUDED_IN  Letter of Amendment  Budget_Amendment   \n",
       "2     Letter of Amendment   CREATED_BY  European Commission  Budget_Amendment   \n",
       "3     Letter of Amendment      SEND_TO     European Council  Budget_Amendment   \n",
       "4     Letter of Amendment      SEND_TO  European Parliament  Budget_Amendment   \n",
       "..                    ...          ...                  ...               ...   \n",
       "126      European Council  SUBCLASS_OF       European Union    European_Union   \n",
       "127  National Parliaments  SUBCLASS_OF       European Union    European_Union   \n",
       "128   European Parliament  SUBCLASS_OF       European Union    European_Union   \n",
       "129   European Commission  SUBCLASS_OF       European Union    European_Union   \n",
       "130    Union Institutions  SUBCLASS_OF       European Union    European_Union   \n",
       "\n",
       "           Tail_Class                                              Title  \\\n",
       "0    Budget_Amendment  TITLE III ESTABLISHMENT AND STRUCTURE OF THE B...   \n",
       "1    Budget_Amendment  TITLE III ESTABLISHMENT AND STRUCTURE OF THE B...   \n",
       "2      European_Union  TITLE III ESTABLISHMENT AND STRUCTURE OF THE B...   \n",
       "3      European_Union  TITLE III ESTABLISHMENT AND STRUCTURE OF THE B...   \n",
       "4      European_Union  TITLE III ESTABLISHMENT AND STRUCTURE OF THE B...   \n",
       "..                ...                                                ...   \n",
       "126    European_Union  TITLE III ESTABLISHMENT AND STRUCTURE OF THE B...   \n",
       "127    European_Union  TITLE III ESTABLISHMENT AND STRUCTURE OF THE B...   \n",
       "128    European_Union  TITLE III ESTABLISHMENT AND STRUCTURE OF THE B...   \n",
       "129    European_Union  TITLE III ESTABLISHMENT AND STRUCTURE OF THE B...   \n",
       "130    European_Union  TITLE III ESTABLISHMENT AND STRUCTURE OF THE B...   \n",
       "\n",
       "                                              Articles  \\\n",
       "0    Article 42  Letter of amendment to the draft b...   \n",
       "1    Article 42  Letter of amendment to the draft b...   \n",
       "2    Article 42  Letter of amendment to the draft b...   \n",
       "3    Article 42  Letter of amendment to the draft b...   \n",
       "4    Article 42  Letter of amendment to the draft b...   \n",
       "..                                                 ...   \n",
       "126  Article 40  Estimated budget of the Union bodi...   \n",
       "127  Article 40  Estimated budget of the Union bodi...   \n",
       "128  Article 40  Estimated budget of the Union bodi...   \n",
       "129  Article 40  Estimated budget of the Union bodi...   \n",
       "130  Article 40  Estimated budget of the Union bodi...   \n",
       "\n",
       "                                          Content_Text  \n",
       "0    On the basis of any new information which was ...  \n",
       "1    On the basis of any new information which was ...  \n",
       "2    On the basis of any new information which was ...  \n",
       "3    On the basis of any new information which was ...  \n",
       "4    On the basis of any new information which was ...  \n",
       "..                                                 ...  \n",
       "126  By 31 January each year, each Union body refer...  \n",
       "127  By 31 January each year, each Union body refer...  \n",
       "128  By 31 January each year, each Union body refer...  \n",
       "129  By 31 January each year, each Union body refer...  \n",
       "130  By 31 January each year, each Union body refer...  \n",
       "\n",
       "[131 rows x 8 columns]"
      ]
     },
     "execution_count": 12,
     "metadata": {},
     "output_type": "execute_result"
    }
   ],
   "source": [
    "ground_truth"
   ]
  },
  {
   "cell_type": "code",
   "execution_count": 13,
   "metadata": {},
   "outputs": [
    {
     "data": {
      "text/plain": [
       "Head            object\n",
       "Relation        object\n",
       "Tail            object\n",
       "Head_Class      object\n",
       "Tail_Class      object\n",
       "Title           object\n",
       "Articles        object\n",
       "Content_Text    object\n",
       "dtype: object"
      ]
     },
     "execution_count": 13,
     "metadata": {},
     "output_type": "execute_result"
    }
   ],
   "source": [
    "ground_truth.dtypes"
   ]
  },
  {
   "cell_type": "markdown",
   "metadata": {},
   "source": [
    "## Save to CSV for use in Neo4j"
   ]
  },
  {
   "cell_type": "code",
   "execution_count": 14,
   "metadata": {},
   "outputs": [],
   "source": [
    "ground_truth.to_csv(r'C:\\Users\\Student\\Desktop\\Thesis-Coding\\Thesis\\Final_Use_Case_III_Ground_Truth_KG.csv', index=False) "
   ]
  },
  {
   "cell_type": "code",
   "execution_count": 30,
   "metadata": {},
   "outputs": [
    {
     "data": {
      "text/html": [
       "<div>\n",
       "<style scoped>\n",
       "    .dataframe tbody tr th:only-of-type {\n",
       "        vertical-align: middle;\n",
       "    }\n",
       "\n",
       "    .dataframe tbody tr th {\n",
       "        vertical-align: top;\n",
       "    }\n",
       "\n",
       "    .dataframe thead th {\n",
       "        text-align: right;\n",
       "    }\n",
       "</style>\n",
       "<table border=\"1\" class=\"dataframe\">\n",
       "  <thead>\n",
       "    <tr style=\"text-align: right;\">\n",
       "      <th></th>\n",
       "      <th>Head</th>\n",
       "      <th>Relation</th>\n",
       "      <th>Tail</th>\n",
       "      <th>Head_Class</th>\n",
       "      <th>Tail_Class</th>\n",
       "      <th>Title</th>\n",
       "      <th>Articles</th>\n",
       "      <th>Content_Text</th>\n",
       "    </tr>\n",
       "  </thead>\n",
       "  <tbody>\n",
       "    <tr>\n",
       "      <th>0</th>\n",
       "      <td>Letter of Amendment</td>\n",
       "      <td>CONCERNS</td>\n",
       "      <td>Amendment Updating</td>\n",
       "      <td>Budget_Amendment</td>\n",
       "      <td>Budget_Amendment</td>\n",
       "      <td>TITLE III ESTABLISHMENT AND STRUCTURE OF THE B...</td>\n",
       "      <td>Article 42  Letter of amendment to the draft b...</td>\n",
       "      <td>On the basis of any new information which was ...</td>\n",
       "    </tr>\n",
       "    <tr>\n",
       "      <th>1</th>\n",
       "      <td>Amendment Updating</td>\n",
       "      <td>INCLUDED_IN</td>\n",
       "      <td>Letter of Amendment</td>\n",
       "      <td>Budget_Amendment</td>\n",
       "      <td>Budget_Amendment</td>\n",
       "      <td>TITLE III ESTABLISHMENT AND STRUCTURE OF THE B...</td>\n",
       "      <td>Article 42  Letter of amendment to the draft b...</td>\n",
       "      <td>On the basis of any new information which was ...</td>\n",
       "    </tr>\n",
       "    <tr>\n",
       "      <th>2</th>\n",
       "      <td>Letter of Amendment</td>\n",
       "      <td>CREATED_BY</td>\n",
       "      <td>European Commission</td>\n",
       "      <td>Budget_Amendment</td>\n",
       "      <td>European_Union</td>\n",
       "      <td>TITLE III ESTABLISHMENT AND STRUCTURE OF THE B...</td>\n",
       "      <td>Article 42  Letter of amendment to the draft b...</td>\n",
       "      <td>On the basis of any new information which was ...</td>\n",
       "    </tr>\n",
       "    <tr>\n",
       "      <th>3</th>\n",
       "      <td>Letter of Amendment</td>\n",
       "      <td>SEND_TO</td>\n",
       "      <td>European Council</td>\n",
       "      <td>Budget_Amendment</td>\n",
       "      <td>European_Union</td>\n",
       "      <td>TITLE III ESTABLISHMENT AND STRUCTURE OF THE B...</td>\n",
       "      <td>Article 42  Letter of amendment to the draft b...</td>\n",
       "      <td>On the basis of any new information which was ...</td>\n",
       "    </tr>\n",
       "    <tr>\n",
       "      <th>4</th>\n",
       "      <td>Letter of Amendment</td>\n",
       "      <td>SEND_TO</td>\n",
       "      <td>European Parliament</td>\n",
       "      <td>Budget_Amendment</td>\n",
       "      <td>European_Union</td>\n",
       "      <td>TITLE III ESTABLISHMENT AND STRUCTURE OF THE B...</td>\n",
       "      <td>Article 42  Letter of amendment to the draft b...</td>\n",
       "      <td>On the basis of any new information which was ...</td>\n",
       "    </tr>\n",
       "  </tbody>\n",
       "</table>\n",
       "</div>"
      ],
      "text/plain": [
       "                  Head     Relation                 Tail        Head_Class  \\\n",
       "0  Letter of Amendment     CONCERNS   Amendment Updating  Budget_Amendment   \n",
       "1   Amendment Updating  INCLUDED_IN  Letter of Amendment  Budget_Amendment   \n",
       "2  Letter of Amendment   CREATED_BY  European Commission  Budget_Amendment   \n",
       "3  Letter of Amendment      SEND_TO     European Council  Budget_Amendment   \n",
       "4  Letter of Amendment      SEND_TO  European Parliament  Budget_Amendment   \n",
       "\n",
       "         Tail_Class                                              Title  \\\n",
       "0  Budget_Amendment  TITLE III ESTABLISHMENT AND STRUCTURE OF THE B...   \n",
       "1  Budget_Amendment  TITLE III ESTABLISHMENT AND STRUCTURE OF THE B...   \n",
       "2    European_Union  TITLE III ESTABLISHMENT AND STRUCTURE OF THE B...   \n",
       "3    European_Union  TITLE III ESTABLISHMENT AND STRUCTURE OF THE B...   \n",
       "4    European_Union  TITLE III ESTABLISHMENT AND STRUCTURE OF THE B...   \n",
       "\n",
       "                                            Articles  \\\n",
       "0  Article 42  Letter of amendment to the draft b...   \n",
       "1  Article 42  Letter of amendment to the draft b...   \n",
       "2  Article 42  Letter of amendment to the draft b...   \n",
       "3  Article 42  Letter of amendment to the draft b...   \n",
       "4  Article 42  Letter of amendment to the draft b...   \n",
       "\n",
       "                                        Content_Text  \n",
       "0  On the basis of any new information which was ...  \n",
       "1  On the basis of any new information which was ...  \n",
       "2  On the basis of any new information which was ...  \n",
       "3  On the basis of any new information which was ...  \n",
       "4  On the basis of any new information which was ...  "
      ]
     },
     "execution_count": 30,
     "metadata": {},
     "output_type": "execute_result"
    }
   ],
   "source": [
    "ground_truth.head()"
   ]
  },
  {
   "cell_type": "code",
   "execution_count": 31,
   "metadata": {},
   "outputs": [
    {
     "data": {
      "text/plain": [
       "array(['Budget_Amendment', 'Draft_Budget', 'Working_Documents',\n",
       "       'Budget_Tool', 'EU_Action', 'Human_Resources', 'Financial_Tool',\n",
       "       'Estimates', 'Legal_Construct', 'Fund', 'Sections', 'Aid',\n",
       "       'Person', 'Appropriations', 'Provisions', 'Adopted_Draft_Budget',\n",
       "       'European_Union'], dtype=object)"
      ]
     },
     "execution_count": 31,
     "metadata": {},
     "output_type": "execute_result"
    }
   ],
   "source": [
    "ground_truth[\"Head_Class\"].unique()"
   ]
  },
  {
   "cell_type": "code",
   "execution_count": 32,
   "metadata": {},
   "outputs": [
    {
     "data": {
      "text/plain": [
       "array(['Budget_Amendment', 'European_Union', 'Estimates', 'Draft_Budget',\n",
       "       'Budget', 'Legal_Construct', 'Working_Documents', 'Budget_Tool',\n",
       "       'Fund', 'EU_Action', 'Human_Resources', 'Financial_Tool', 'Person',\n",
       "       'Sections', 'Appropriations', 'Aid', 'Provisions', 'Article',\n",
       "       'Adopted_Draft_Budget'], dtype=object)"
      ]
     },
     "execution_count": 32,
     "metadata": {},
     "output_type": "execute_result"
    }
   ],
   "source": [
    "ground_truth[\"Tail_Class\"].unique()"
   ]
  },
  {
   "cell_type": "code",
   "execution_count": 33,
   "metadata": {},
   "outputs": [
    {
     "data": {
      "text/plain": [
       "array(['CONCERNS', 'INCLUDED_IN', 'CREATED_BY', 'SEND_TO', 'SUBCLASS_OF',\n",
       "       'COMPLIES_TO', 'IS_INSTANCE_OF', 'COMPRISED_OF', 'RULED_BY',\n",
       "       'CONCERN', 'EVALUATED_BY', 'MEASURED_BY', 'FUNDED_BY', 'CONTAIN',\n",
       "       'CONSULTS', 'COMPRISES_OF', 'EXAMINED_BY', 'NOT_RULED_BY',\n",
       "       'PROVIDED_BY', 'DRAWN_BY', 'ESTABLISHED_BY', 'INCLUDES', 'PAID_TO',\n",
       "       'PAY', 'BASED_ON', 'LEADS_TO', 'APPROVE_OF'], dtype=object)"
      ]
     },
     "execution_count": 33,
     "metadata": {},
     "output_type": "execute_result"
    }
   ],
   "source": [
    "ground_truth[\"Relation\"].unique()"
   ]
  },
  {
   "cell_type": "code",
   "execution_count": 34,
   "metadata": {},
   "outputs": [
    {
     "data": {
      "text/plain": [
       "array(['Letter of Amendment', 'Amendment Updating', 'Budget Amendment',\n",
       "       'Draft Budget', 'Structure', 'Working Documents',\n",
       "       'Budget Guarantees and Common Provisioning Fund Work Document',\n",
       "       'Budgetary Guarantees', 'Operations',\n",
       "       'Establishment Plan Work Document', 'Establishment Plan',\n",
       "       'Euratom Supply Agency Staff', 'Personnel Statistics',\n",
       "       'Financial Instruments Work Document', 'Financial Tables',\n",
       "       'Financial Instruments', 'Performance',\n",
       "       'Duration Reduction Action Plan', 'Administrative Expenditure',\n",
       "       'Public-Private Partnership', 'Trust Funds Working Document',\n",
       "       'Union Activities', 'Trust Funds', 'Objectives', 'Sections',\n",
       "       'Commission Budget Section', 'Expenditure Estimates',\n",
       "       'General Summary Statement', 'Budget Lines', 'Emergency Aid',\n",
       "       'Emergency Aid Reserve', 'High Representative', 'Negative Reserve',\n",
       "       'Payment Appropriations', 'Operational Appropriations',\n",
       "       'Administrative Appropriations', 'Appropriations',\n",
       "       'Provision Titles Section', 'Provisions',\n",
       "       'Unauthorized Appropriations', 'Inadequate Appropriations',\n",
       "       'Basic Act', 'Introduction', 'General Introduction',\n",
       "       'Changes in Appropriations', 'Proposal', 'Estimated Draft Budget',\n",
       "       'Revenue Estimates', 'Net Amounts', 'Resource Pay Decision',\n",
       "       'Commission Estimates', 'Union Institution Estimates',\n",
       "       'Budget Contributions', 'Member State', 'Adopted Draft Budget',\n",
       "       'National Parliaments', 'European Council', 'European Parliament',\n",
       "       'European Commission', 'Union Institutions'], dtype=object)"
      ]
     },
     "execution_count": 34,
     "metadata": {},
     "output_type": "execute_result"
    }
   ],
   "source": [
    "ground_truth[\"Head\"].unique()"
   ]
  },
  {
   "cell_type": "code",
   "execution_count": 35,
   "metadata": {},
   "outputs": [
    {
     "data": {
      "text/plain": [
       "array(['Amendment Updating', 'Letter of Amendment', 'European Commission',\n",
       "       'European Council', 'European Parliament', 'Expenditure Estimates',\n",
       "       'Draft Budget', 'Budget', 'Euratom Treaty',\n",
       "       'Multiannual Financial Framework', 'Structure',\n",
       "       'Working Documents', 'Budgetary Guarantees',\n",
       "       'Common Provisioning Fund', 'Basic Act', 'EU_Action', 'Operations',\n",
       "       'Establishment Plan', 'Personnel', 'Posts', 'Number', 'Grade',\n",
       "       'Gender Balance', 'Administrative Units', 'Financial Tables',\n",
       "       'Financial Instruments', 'Performance', 'Realized Investment',\n",
       "       'Private Capital', 'Achieved Target', 'Multiplier Effect',\n",
       "       'Annual Discharge Procedure Framework',\n",
       "       'Administrative Expenditure', 'Management Fee',\n",
       "       'Financial Operating Charge', 'Public-Private Partnership',\n",
       "       'Trust Funds', 'External Donors', 'Objectives', 'Sections',\n",
       "       'General Summary Statement', 'Payment Appropriations',\n",
       "       'Commitments', 'Budget Lines', 'Token Entry Pro Memoria',\n",
       "       'Emergency Aid Reserve', 'Emergency Aid', 'Negative Reserve',\n",
       "       'Member State', 'High Representative',\n",
       "       'Operational Appropriations', 'Administrative Appropriations',\n",
       "       'Appropriations', 'Union Institutions', 'Provisions',\n",
       "       'Unauthorized Appropriations', 'Inadequate Appropriations',\n",
       "       'Sound Financial Management', 'Article 294 TFUE',\n",
       "       'General Introduction', 'Changes in Appropriations',\n",
       "       'Union Institution Introduction', 'Euratom treaty',\n",
       "       'Estimated Draft Budget', 'Proposal', 'Estimates', 'Net Amounts',\n",
       "       'Resource Pay Decision', 'Union Institution Estimates',\n",
       "       'National Parliaments', 'European Union', 'Budget Contributions',\n",
       "       'Adopted Draft Budget'], dtype=object)"
      ]
     },
     "execution_count": 35,
     "metadata": {},
     "output_type": "execute_result"
    }
   ],
   "source": [
    "ground_truth[\"Tail\"].unique()"
   ]
  },
  {
   "cell_type": "code",
   "execution_count": 36,
   "metadata": {},
   "outputs": [
    {
     "data": {
      "text/html": [
       "<div>\n",
       "<style scoped>\n",
       "    .dataframe tbody tr th:only-of-type {\n",
       "        vertical-align: middle;\n",
       "    }\n",
       "\n",
       "    .dataframe tbody tr th {\n",
       "        vertical-align: top;\n",
       "    }\n",
       "\n",
       "    .dataframe thead th {\n",
       "        text-align: right;\n",
       "    }\n",
       "</style>\n",
       "<table border=\"1\" class=\"dataframe\">\n",
       "  <thead>\n",
       "    <tr style=\"text-align: right;\">\n",
       "      <th></th>\n",
       "      <th>Head</th>\n",
       "      <th>Relation</th>\n",
       "      <th>Tail</th>\n",
       "      <th>Head_Class</th>\n",
       "      <th>Tail_Class</th>\n",
       "      <th>Title</th>\n",
       "      <th>Articles</th>\n",
       "      <th>Content_Text</th>\n",
       "    </tr>\n",
       "  </thead>\n",
       "  <tbody>\n",
       "    <tr>\n",
       "      <th>7</th>\n",
       "      <td>Budget Amendment</td>\n",
       "      <td>SUBCLASS_OF</td>\n",
       "      <td>Draft Budget</td>\n",
       "      <td>Budget_Amendment</td>\n",
       "      <td>Draft_Budget</td>\n",
       "      <td>TITLE III ESTABLISHMENT AND STRUCTURE OF THE B...</td>\n",
       "      <td>Article 44  Draft amending budgets</td>\n",
       "      <td>The Commission may present draft amending budg...</td>\n",
       "    </tr>\n",
       "    <tr>\n",
       "      <th>8</th>\n",
       "      <td>Draft Budget</td>\n",
       "      <td>SUBCLASS_OF</td>\n",
       "      <td>Budget</td>\n",
       "      <td>Draft_Budget</td>\n",
       "      <td>Budget</td>\n",
       "      <td>TITLE III ESTABLISHMENT AND STRUCTURE OF THE B...</td>\n",
       "      <td>Article 41  Draft budget</td>\n",
       "      <td>The Commission shall submit a proposal contain...</td>\n",
       "    </tr>\n",
       "    <tr>\n",
       "      <th>11</th>\n",
       "      <td>Structure</td>\n",
       "      <td>SUBCLASS_OF</td>\n",
       "      <td>Draft Budget</td>\n",
       "      <td>Draft_Budget</td>\n",
       "      <td>Draft_Budget</td>\n",
       "      <td>TITLE III ESTABLISHMENT AND STRUCTURE OF THE B...</td>\n",
       "      <td>Article 41  Draft budget</td>\n",
       "      <td>The Commission shall submit a proposal contain...</td>\n",
       "    </tr>\n",
       "    <tr>\n",
       "      <th>12</th>\n",
       "      <td>Working Documents</td>\n",
       "      <td>SUBCLASS_OF</td>\n",
       "      <td>Structure</td>\n",
       "      <td>Working_Documents</td>\n",
       "      <td>Draft_Budget</td>\n",
       "      <td>TITLE III ESTABLISHMENT AND STRUCTURE OF THE B...</td>\n",
       "      <td>Article 41  Draft budget</td>\n",
       "      <td>The Commission shall submit a proposal contain...</td>\n",
       "    </tr>\n",
       "    <tr>\n",
       "      <th>17</th>\n",
       "      <td>Operations</td>\n",
       "      <td>SUBCLASS_OF</td>\n",
       "      <td>EU_Action</td>\n",
       "      <td>EU_Action</td>\n",
       "      <td>EU_Action</td>\n",
       "      <td>TITLE III ESTABLISHMENT AND STRUCTURE OF THE B...</td>\n",
       "      <td>Article 41  Draft budget</td>\n",
       "      <td>The Commission shall submit a proposal contain...</td>\n",
       "    </tr>\n",
       "    <tr>\n",
       "      <th>40</th>\n",
       "      <td>Administrative Expenditure</td>\n",
       "      <td>SUBCLASS_OF</td>\n",
       "      <td>Expenditure Estimates</td>\n",
       "      <td>Estimates</td>\n",
       "      <td>Estimates</td>\n",
       "      <td>TITLE III ESTABLISHMENT AND STRUCTURE OF THE B...</td>\n",
       "      <td>Article 41  Draft budget</td>\n",
       "      <td>The Commission shall submit a proposal contain...</td>\n",
       "    </tr>\n",
       "    <tr>\n",
       "      <th>51</th>\n",
       "      <td>Objectives</td>\n",
       "      <td>SUBCLASS_OF</td>\n",
       "      <td>EU_Action</td>\n",
       "      <td>EU_Action</td>\n",
       "      <td>EU_Action</td>\n",
       "      <td>TITLE III ESTABLISHMENT AND STRUCTURE OF THE B...</td>\n",
       "      <td>Article 41  Draft budget</td>\n",
       "      <td>The Commission shall submit a proposal contain...</td>\n",
       "    </tr>\n",
       "    <tr>\n",
       "      <th>54</th>\n",
       "      <td>Sections</td>\n",
       "      <td>SUBCLASS_OF</td>\n",
       "      <td>Structure</td>\n",
       "      <td>Sections</td>\n",
       "      <td>Draft_Budget</td>\n",
       "      <td>TITLE III ESTABLISHMENT AND STRUCTURE OF THE B...</td>\n",
       "      <td>Article 41  Draft budget</td>\n",
       "      <td>The Commission shall submit a proposal contain...</td>\n",
       "    </tr>\n",
       "    <tr>\n",
       "      <th>64</th>\n",
       "      <td>Emergency Aid</td>\n",
       "      <td>SUBCLASS_OF</td>\n",
       "      <td>EU_Action</td>\n",
       "      <td>Aid</td>\n",
       "      <td>EU_Action</td>\n",
       "      <td>TITLE III ESTABLISHMENT AND STRUCTURE OF THE B...</td>\n",
       "      <td>Article 51  Emergency Aid Reserve</td>\n",
       "      <td>The section of the budget relating to the Comm...</td>\n",
       "    </tr>\n",
       "    <tr>\n",
       "      <th>73</th>\n",
       "      <td>Payment Appropriations</td>\n",
       "      <td>SUBCLASS_OF</td>\n",
       "      <td>Appropriations</td>\n",
       "      <td>Appropriations</td>\n",
       "      <td>Appropriations</td>\n",
       "      <td>TITLE III ESTABLISHMENT AND STRUCTURE OF THE B...</td>\n",
       "      <td>Article 52  Presentation of the budget</td>\n",
       "      <td>The budget shall show: (a) in the general stat...</td>\n",
       "    </tr>\n",
       "    <tr>\n",
       "      <th>74</th>\n",
       "      <td>Operational Appropriations</td>\n",
       "      <td>SUBCLASS_OF</td>\n",
       "      <td>Appropriations</td>\n",
       "      <td>Appropriations</td>\n",
       "      <td>Appropriations</td>\n",
       "      <td>TITLE III ESTABLISHMENT AND STRUCTURE OF THE B...</td>\n",
       "      <td>Article 47  Budget nomenclature</td>\n",
       "      <td>Commission revenue and the revenue and expendi...</td>\n",
       "    </tr>\n",
       "    <tr>\n",
       "      <th>75</th>\n",
       "      <td>Administrative Appropriations</td>\n",
       "      <td>SUBCLASS_OF</td>\n",
       "      <td>Appropriations</td>\n",
       "      <td>Appropriations</td>\n",
       "      <td>Appropriations</td>\n",
       "      <td>TITLE III ESTABLISHMENT AND STRUCTURE OF THE B...</td>\n",
       "      <td>Article 47  Budget nomenclature</td>\n",
       "      <td>Commission revenue and the revenue and expendi...</td>\n",
       "    </tr>\n",
       "    <tr>\n",
       "      <th>86</th>\n",
       "      <td>Unauthorized Appropriations</td>\n",
       "      <td>SUBCLASS_OF</td>\n",
       "      <td>Appropriations</td>\n",
       "      <td>Appropriations</td>\n",
       "      <td>Appropriations</td>\n",
       "      <td>TITLE III ESTABLISHMENT AND STRUCTURE OF THE B...</td>\n",
       "      <td>Article 49  Provisions</td>\n",
       "      <td>Each section of the budget may include a ‘prov...</td>\n",
       "    </tr>\n",
       "    <tr>\n",
       "      <th>87</th>\n",
       "      <td>Inadequate Appropriations</td>\n",
       "      <td>SUBCLASS_OF</td>\n",
       "      <td>Appropriations</td>\n",
       "      <td>Appropriations</td>\n",
       "      <td>Appropriations</td>\n",
       "      <td>TITLE III ESTABLISHMENT AND STRUCTURE OF THE B...</td>\n",
       "      <td>Article 49  Provisions</td>\n",
       "      <td>Each section of the budget may include a ‘prov...</td>\n",
       "    </tr>\n",
       "    <tr>\n",
       "      <th>88</th>\n",
       "      <td>Introduction</td>\n",
       "      <td>SUBCLASS_OF</td>\n",
       "      <td>Structure</td>\n",
       "      <td>Sections</td>\n",
       "      <td>Draft_Budget</td>\n",
       "      <td>TITLE III ESTABLISHMENT AND STRUCTURE OF THE B...</td>\n",
       "      <td>Article 41  Draft budget</td>\n",
       "      <td>The Commission shall submit a proposal contain...</td>\n",
       "    </tr>\n",
       "    <tr>\n",
       "      <th>97</th>\n",
       "      <td>Expenditure Estimates</td>\n",
       "      <td>SUBCLASS_OF</td>\n",
       "      <td>Estimates</td>\n",
       "      <td>Estimates</td>\n",
       "      <td>Estimates</td>\n",
       "      <td>TITLE III ESTABLISHMENT AND STRUCTURE OF THE B...</td>\n",
       "      <td>Article 39  Estimates of revenue and expenditure</td>\n",
       "      <td>Each Union institution other than the Commissi...</td>\n",
       "    </tr>\n",
       "    <tr>\n",
       "      <th>98</th>\n",
       "      <td>Revenue Estimates</td>\n",
       "      <td>SUBCLASS_OF</td>\n",
       "      <td>Estimates</td>\n",
       "      <td>Estimates</td>\n",
       "      <td>Estimates</td>\n",
       "      <td>TITLE III ESTABLISHMENT AND STRUCTURE OF THE B...</td>\n",
       "      <td>Article 39  Estimates of revenue and expenditure</td>\n",
       "      <td>Each Union institution other than the Commissi...</td>\n",
       "    </tr>\n",
       "    <tr>\n",
       "      <th>101</th>\n",
       "      <td>Resource Pay Decision</td>\n",
       "      <td>SUBCLASS_OF</td>\n",
       "      <td>EU_Action</td>\n",
       "      <td>EU_Action</td>\n",
       "      <td>EU_Action</td>\n",
       "      <td>TITLE III ESTABLISHMENT AND STRUCTURE OF THE B...</td>\n",
       "      <td>Article 48  Negative revenue</td>\n",
       "      <td>The budget shall not contain negative revenue,...</td>\n",
       "    </tr>\n",
       "    <tr>\n",
       "      <th>123</th>\n",
       "      <td>Adopted Draft Budget</td>\n",
       "      <td>SUBCLASS_OF</td>\n",
       "      <td>Draft Budget</td>\n",
       "      <td>Adopted_Draft_Budget</td>\n",
       "      <td>Draft_Budget</td>\n",
       "      <td>TITLE III ESTABLISHMENT AND STRUCTURE OF THE B...</td>\n",
       "      <td>Article 43  Obligations of Member States as a ...</td>\n",
       "      <td>The President of the European Parliament shall...</td>\n",
       "    </tr>\n",
       "    <tr>\n",
       "      <th>125</th>\n",
       "      <td>Member State</td>\n",
       "      <td>SUBCLASS_OF</td>\n",
       "      <td>European Union</td>\n",
       "      <td>European_Union</td>\n",
       "      <td>European_Union</td>\n",
       "      <td>TITLE III ESTABLISHMENT AND STRUCTURE OF THE B...</td>\n",
       "      <td>Article 43  Obligations of Member States as a ...</td>\n",
       "      <td>The President of the European Parliament shall...</td>\n",
       "    </tr>\n",
       "    <tr>\n",
       "      <th>126</th>\n",
       "      <td>European Council</td>\n",
       "      <td>SUBCLASS_OF</td>\n",
       "      <td>European Union</td>\n",
       "      <td>European_Union</td>\n",
       "      <td>European_Union</td>\n",
       "      <td>TITLE III ESTABLISHMENT AND STRUCTURE OF THE B...</td>\n",
       "      <td>Article 40  Estimated budget of the Union bodi...</td>\n",
       "      <td>By 31 January each year, each Union body refer...</td>\n",
       "    </tr>\n",
       "    <tr>\n",
       "      <th>127</th>\n",
       "      <td>National Parliaments</td>\n",
       "      <td>SUBCLASS_OF</td>\n",
       "      <td>European Union</td>\n",
       "      <td>European_Union</td>\n",
       "      <td>European_Union</td>\n",
       "      <td>TITLE III ESTABLISHMENT AND STRUCTURE OF THE B...</td>\n",
       "      <td>Article 40  Estimated budget of the Union bodi...</td>\n",
       "      <td>By 31 January each year, each Union body refer...</td>\n",
       "    </tr>\n",
       "    <tr>\n",
       "      <th>128</th>\n",
       "      <td>European Parliament</td>\n",
       "      <td>SUBCLASS_OF</td>\n",
       "      <td>European Union</td>\n",
       "      <td>European_Union</td>\n",
       "      <td>European_Union</td>\n",
       "      <td>TITLE III ESTABLISHMENT AND STRUCTURE OF THE B...</td>\n",
       "      <td>Article 40  Estimated budget of the Union bodi...</td>\n",
       "      <td>By 31 January each year, each Union body refer...</td>\n",
       "    </tr>\n",
       "    <tr>\n",
       "      <th>129</th>\n",
       "      <td>European Commission</td>\n",
       "      <td>SUBCLASS_OF</td>\n",
       "      <td>European Union</td>\n",
       "      <td>European_Union</td>\n",
       "      <td>European_Union</td>\n",
       "      <td>TITLE III ESTABLISHMENT AND STRUCTURE OF THE B...</td>\n",
       "      <td>Article 40  Estimated budget of the Union bodi...</td>\n",
       "      <td>By 31 January each year, each Union body refer...</td>\n",
       "    </tr>\n",
       "    <tr>\n",
       "      <th>130</th>\n",
       "      <td>Union Institutions</td>\n",
       "      <td>SUBCLASS_OF</td>\n",
       "      <td>European Union</td>\n",
       "      <td>European_Union</td>\n",
       "      <td>European_Union</td>\n",
       "      <td>TITLE III ESTABLISHMENT AND STRUCTURE OF THE B...</td>\n",
       "      <td>Article 40  Estimated budget of the Union bodi...</td>\n",
       "      <td>By 31 January each year, each Union body refer...</td>\n",
       "    </tr>\n",
       "  </tbody>\n",
       "</table>\n",
       "</div>"
      ],
      "text/plain": [
       "                              Head     Relation                   Tail  \\\n",
       "7                 Budget Amendment  SUBCLASS_OF           Draft Budget   \n",
       "8                     Draft Budget  SUBCLASS_OF                 Budget   \n",
       "11                       Structure  SUBCLASS_OF           Draft Budget   \n",
       "12               Working Documents  SUBCLASS_OF              Structure   \n",
       "17                      Operations  SUBCLASS_OF              EU_Action   \n",
       "40      Administrative Expenditure  SUBCLASS_OF  Expenditure Estimates   \n",
       "51                      Objectives  SUBCLASS_OF              EU_Action   \n",
       "54                        Sections  SUBCLASS_OF              Structure   \n",
       "64                   Emergency Aid  SUBCLASS_OF              EU_Action   \n",
       "73          Payment Appropriations  SUBCLASS_OF         Appropriations   \n",
       "74      Operational Appropriations  SUBCLASS_OF         Appropriations   \n",
       "75   Administrative Appropriations  SUBCLASS_OF         Appropriations   \n",
       "86     Unauthorized Appropriations  SUBCLASS_OF         Appropriations   \n",
       "87       Inadequate Appropriations  SUBCLASS_OF         Appropriations   \n",
       "88                    Introduction  SUBCLASS_OF              Structure   \n",
       "97           Expenditure Estimates  SUBCLASS_OF              Estimates   \n",
       "98               Revenue Estimates  SUBCLASS_OF              Estimates   \n",
       "101          Resource Pay Decision  SUBCLASS_OF              EU_Action   \n",
       "123           Adopted Draft Budget  SUBCLASS_OF           Draft Budget   \n",
       "125                   Member State  SUBCLASS_OF         European Union   \n",
       "126               European Council  SUBCLASS_OF         European Union   \n",
       "127           National Parliaments  SUBCLASS_OF         European Union   \n",
       "128            European Parliament  SUBCLASS_OF         European Union   \n",
       "129            European Commission  SUBCLASS_OF         European Union   \n",
       "130             Union Institutions  SUBCLASS_OF         European Union   \n",
       "\n",
       "               Head_Class      Tail_Class  \\\n",
       "7        Budget_Amendment    Draft_Budget   \n",
       "8            Draft_Budget          Budget   \n",
       "11           Draft_Budget    Draft_Budget   \n",
       "12      Working_Documents    Draft_Budget   \n",
       "17              EU_Action       EU_Action   \n",
       "40              Estimates       Estimates   \n",
       "51              EU_Action       EU_Action   \n",
       "54               Sections    Draft_Budget   \n",
       "64                    Aid       EU_Action   \n",
       "73         Appropriations  Appropriations   \n",
       "74         Appropriations  Appropriations   \n",
       "75         Appropriations  Appropriations   \n",
       "86         Appropriations  Appropriations   \n",
       "87         Appropriations  Appropriations   \n",
       "88               Sections    Draft_Budget   \n",
       "97              Estimates       Estimates   \n",
       "98              Estimates       Estimates   \n",
       "101             EU_Action       EU_Action   \n",
       "123  Adopted_Draft_Budget    Draft_Budget   \n",
       "125        European_Union  European_Union   \n",
       "126        European_Union  European_Union   \n",
       "127        European_Union  European_Union   \n",
       "128        European_Union  European_Union   \n",
       "129        European_Union  European_Union   \n",
       "130        European_Union  European_Union   \n",
       "\n",
       "                                                 Title  \\\n",
       "7    TITLE III ESTABLISHMENT AND STRUCTURE OF THE B...   \n",
       "8    TITLE III ESTABLISHMENT AND STRUCTURE OF THE B...   \n",
       "11   TITLE III ESTABLISHMENT AND STRUCTURE OF THE B...   \n",
       "12   TITLE III ESTABLISHMENT AND STRUCTURE OF THE B...   \n",
       "17   TITLE III ESTABLISHMENT AND STRUCTURE OF THE B...   \n",
       "40   TITLE III ESTABLISHMENT AND STRUCTURE OF THE B...   \n",
       "51   TITLE III ESTABLISHMENT AND STRUCTURE OF THE B...   \n",
       "54   TITLE III ESTABLISHMENT AND STRUCTURE OF THE B...   \n",
       "64   TITLE III ESTABLISHMENT AND STRUCTURE OF THE B...   \n",
       "73   TITLE III ESTABLISHMENT AND STRUCTURE OF THE B...   \n",
       "74   TITLE III ESTABLISHMENT AND STRUCTURE OF THE B...   \n",
       "75   TITLE III ESTABLISHMENT AND STRUCTURE OF THE B...   \n",
       "86   TITLE III ESTABLISHMENT AND STRUCTURE OF THE B...   \n",
       "87   TITLE III ESTABLISHMENT AND STRUCTURE OF THE B...   \n",
       "88   TITLE III ESTABLISHMENT AND STRUCTURE OF THE B...   \n",
       "97   TITLE III ESTABLISHMENT AND STRUCTURE OF THE B...   \n",
       "98   TITLE III ESTABLISHMENT AND STRUCTURE OF THE B...   \n",
       "101  TITLE III ESTABLISHMENT AND STRUCTURE OF THE B...   \n",
       "123  TITLE III ESTABLISHMENT AND STRUCTURE OF THE B...   \n",
       "125  TITLE III ESTABLISHMENT AND STRUCTURE OF THE B...   \n",
       "126  TITLE III ESTABLISHMENT AND STRUCTURE OF THE B...   \n",
       "127  TITLE III ESTABLISHMENT AND STRUCTURE OF THE B...   \n",
       "128  TITLE III ESTABLISHMENT AND STRUCTURE OF THE B...   \n",
       "129  TITLE III ESTABLISHMENT AND STRUCTURE OF THE B...   \n",
       "130  TITLE III ESTABLISHMENT AND STRUCTURE OF THE B...   \n",
       "\n",
       "                                              Articles  \\\n",
       "7                   Article 44  Draft amending budgets   \n",
       "8                             Article 41  Draft budget   \n",
       "11                            Article 41  Draft budget   \n",
       "12                            Article 41  Draft budget   \n",
       "17                            Article 41  Draft budget   \n",
       "40                            Article 41  Draft budget   \n",
       "51                            Article 41  Draft budget   \n",
       "54                            Article 41  Draft budget   \n",
       "64                   Article 51  Emergency Aid Reserve   \n",
       "73              Article 52  Presentation of the budget   \n",
       "74                     Article 47  Budget nomenclature   \n",
       "75                     Article 47  Budget nomenclature   \n",
       "86                              Article 49  Provisions   \n",
       "87                              Article 49  Provisions   \n",
       "88                            Article 41  Draft budget   \n",
       "97    Article 39  Estimates of revenue and expenditure   \n",
       "98    Article 39  Estimates of revenue and expenditure   \n",
       "101                       Article 48  Negative revenue   \n",
       "123  Article 43  Obligations of Member States as a ...   \n",
       "125  Article 43  Obligations of Member States as a ...   \n",
       "126  Article 40  Estimated budget of the Union bodi...   \n",
       "127  Article 40  Estimated budget of the Union bodi...   \n",
       "128  Article 40  Estimated budget of the Union bodi...   \n",
       "129  Article 40  Estimated budget of the Union bodi...   \n",
       "130  Article 40  Estimated budget of the Union bodi...   \n",
       "\n",
       "                                          Content_Text  \n",
       "7    The Commission may present draft amending budg...  \n",
       "8    The Commission shall submit a proposal contain...  \n",
       "11   The Commission shall submit a proposal contain...  \n",
       "12   The Commission shall submit a proposal contain...  \n",
       "17   The Commission shall submit a proposal contain...  \n",
       "40   The Commission shall submit a proposal contain...  \n",
       "51   The Commission shall submit a proposal contain...  \n",
       "54   The Commission shall submit a proposal contain...  \n",
       "64   The section of the budget relating to the Comm...  \n",
       "73   The budget shall show: (a) in the general stat...  \n",
       "74   Commission revenue and the revenue and expendi...  \n",
       "75   Commission revenue and the revenue and expendi...  \n",
       "86   Each section of the budget may include a ‘prov...  \n",
       "87   Each section of the budget may include a ‘prov...  \n",
       "88   The Commission shall submit a proposal contain...  \n",
       "97   Each Union institution other than the Commissi...  \n",
       "98   Each Union institution other than the Commissi...  \n",
       "101  The budget shall not contain negative revenue,...  \n",
       "123  The President of the European Parliament shall...  \n",
       "125  The President of the European Parliament shall...  \n",
       "126  By 31 January each year, each Union body refer...  \n",
       "127  By 31 January each year, each Union body refer...  \n",
       "128  By 31 January each year, each Union body refer...  \n",
       "129  By 31 January each year, each Union body refer...  \n",
       "130  By 31 January each year, each Union body refer...  "
      ]
     },
     "execution_count": 36,
     "metadata": {},
     "output_type": "execute_result"
    }
   ],
   "source": [
    "ground_truth[ground_truth[\"Relation\"]==\"SUBCLASS_OF\"]"
   ]
  },
  {
   "cell_type": "markdown",
   "metadata": {},
   "source": [
    "## Visualize captured Entities \n",
    "\n",
    "* Bar plot\n",
    "* Word Cloud of Classes\n",
    "* Bubble Plot "
   ]
  },
  {
   "cell_type": "code",
   "execution_count": 37,
   "metadata": {},
   "outputs": [
    {
     "name": "stderr",
     "output_type": "stream",
     "text": [
      "C:\\Users\\Student\\AppData\\Local\\Temp\\ipykernel_11932\\1561387163.py:14: FutureWarning: Series.__getitem__ treating keys as positions is deprecated. In a future version, integer keys will always be treated as labels (consistent with DataFrame behavior). To access a value by position, use `ser.iloc[pos]`\n",
      "  if row[0] not in class_dictionary_unique_entities[row[3]]:\n",
      "C:\\Users\\Student\\AppData\\Local\\Temp\\ipykernel_11932\\1561387163.py:15: FutureWarning: Series.__getitem__ treating keys as positions is deprecated. In a future version, integer keys will always be treated as labels (consistent with DataFrame behavior). To access a value by position, use `ser.iloc[pos]`\n",
      "  class_dictionary_unique_entities[row[3]].append(row[0])\n",
      "C:\\Users\\Student\\AppData\\Local\\Temp\\ipykernel_11932\\1561387163.py:16: FutureWarning: Series.__getitem__ treating keys as positions is deprecated. In a future version, integer keys will always be treated as labels (consistent with DataFrame behavior). To access a value by position, use `ser.iloc[pos]`\n",
      "  if row[2] not in class_dictionary_unique_entities[row[4]]:\n",
      "C:\\Users\\Student\\AppData\\Local\\Temp\\ipykernel_11932\\1561387163.py:17: FutureWarning: Series.__getitem__ treating keys as positions is deprecated. In a future version, integer keys will always be treated as labels (consistent with DataFrame behavior). To access a value by position, use `ser.iloc[pos]`\n",
      "  class_dictionary_unique_entities[row[4]].append(row[2])\n",
      "C:\\Users\\Student\\AppData\\Local\\Temp\\ipykernel_11932\\1561387163.py:33: FutureWarning: Series.__getitem__ treating keys as positions is deprecated. In a future version, integer keys will always be treated as labels (consistent with DataFrame behavior). To access a value by position, use `ser.iloc[pos]`\n",
      "  class_dictionary_total_entities[row[3]].append(row[0])\n",
      "C:\\Users\\Student\\AppData\\Local\\Temp\\ipykernel_11932\\1561387163.py:34: FutureWarning: Series.__getitem__ treating keys as positions is deprecated. In a future version, integer keys will always be treated as labels (consistent with DataFrame behavior). To access a value by position, use `ser.iloc[pos]`\n",
      "  class_dictionary_total_entities[row[4]].append(row[2])\n"
     ]
    }
   ],
   "source": [
    "tail_class = ground_truth[\"Tail_Class\"].to_list()\n",
    "head_class = ground_truth[\"Head_Class\"].to_list()\n",
    "\n",
    "class_dictionary_unique_entities = {}\n",
    "for class_name_t in tail_class:\n",
    "    if class_name_t not in class_dictionary_unique_entities.keys():\n",
    "        class_dictionary_unique_entities[class_name_t] = []\n",
    "\n",
    "for class_name_h in head_class:\n",
    "    if class_name_h not in class_dictionary_unique_entities.keys():\n",
    "        class_dictionary_unique_entities[class_name_h] = []\n",
    "\n",
    "for index, row in ground_truth.iterrows():\n",
    "    if row[0] not in class_dictionary_unique_entities[row[3]]:\n",
    "        class_dictionary_unique_entities[row[3]].append(row[0])\n",
    "    if row[2] not in class_dictionary_unique_entities[row[4]]:\n",
    "        class_dictionary_unique_entities[row[4]].append(row[2])\n",
    "\n",
    "\n",
    "class_dictionary_total_entities = {}\n",
    "for class_name_t in tail_class:\n",
    "    if class_name_t not in class_dictionary_total_entities.keys():\n",
    "        class_dictionary_total_entities[class_name_t] = []\n",
    "\n",
    "for class_name_h in head_class:\n",
    "    if class_name_h not in class_dictionary_total_entities.keys():\n",
    "        class_dictionary_total_entities[class_name_h] = []\n",
    "\n",
    "\n",
    "\n",
    "\n",
    "for index, row in ground_truth.iterrows():\n",
    "     class_dictionary_total_entities[row[3]].append(row[0])\n",
    "     class_dictionary_total_entities[row[4]].append(row[2])"
   ]
  },
  {
   "cell_type": "code",
   "execution_count": 38,
   "metadata": {},
   "outputs": [],
   "source": [
    "unique_entities_per_cat = {}\n",
    "total_entities_per_cat = {}\n",
    "\n",
    "for category in class_dictionary_unique_entities.keys():\n",
    "    unique_entities_per_cat[category]=len(class_dictionary_unique_entities[category])\n",
    "    total_entities_per_cat[category]=len(class_dictionary_total_entities[category])\n"
   ]
  },
  {
   "cell_type": "code",
   "execution_count": 39,
   "metadata": {},
   "outputs": [
    {
     "data": {
      "text/plain": [
       "{'Budget_Amendment': 11,\n",
       " 'European_Union': 32,\n",
       " 'Estimates': 27,\n",
       " 'Draft_Budget': 30,\n",
       " 'Budget': 1,\n",
       " 'Legal_Construct': 16,\n",
       " 'Working_Documents': 15,\n",
       " 'Budget_Tool': 10,\n",
       " 'Fund': 6,\n",
       " 'EU_Action': 17,\n",
       " 'Human_Resources': 16,\n",
       " 'Financial_Tool': 20,\n",
       " 'Person': 3,\n",
       " 'Sections': 17,\n",
       " 'Appropriations': 21,\n",
       " 'Aid': 9,\n",
       " 'Provisions': 3,\n",
       " 'Article': 1,\n",
       " 'Adopted_Draft_Budget': 7}"
      ]
     },
     "execution_count": 39,
     "metadata": {},
     "output_type": "execute_result"
    }
   ],
   "source": [
    "total_entities_per_cat"
   ]
  },
  {
   "cell_type": "code",
   "execution_count": 40,
   "metadata": {},
   "outputs": [
    {
     "data": {
      "text/plain": [
       "{'Budget_Amendment': 3,\n",
       " 'European_Union': 7,\n",
       " 'Estimates': 9,\n",
       " 'Draft_Budget': 5,\n",
       " 'Budget': 1,\n",
       " 'Legal_Construct': 7,\n",
       " 'Working_Documents': 5,\n",
       " 'Budget_Tool': 4,\n",
       " 'Fund': 2,\n",
       " 'EU_Action': 6,\n",
       " 'Human_Resources': 8,\n",
       " 'Financial_Tool': 9,\n",
       " 'Person': 2,\n",
       " 'Sections': 7,\n",
       " 'Appropriations': 6,\n",
       " 'Aid': 3,\n",
       " 'Provisions': 1,\n",
       " 'Article': 1,\n",
       " 'Adopted_Draft_Budget': 2}"
      ]
     },
     "execution_count": 40,
     "metadata": {},
     "output_type": "execute_result"
    }
   ],
   "source": [
    "unique_entities_per_cat"
   ]
  },
  {
   "cell_type": "code",
   "execution_count": 41,
   "metadata": {},
   "outputs": [],
   "source": [
    "total_freq = pd.DataFrame(list(total_entities_per_cat.items()), columns=['Categories', 'Frequency'])\n",
    "\n",
    "unique_freq = pd.DataFrame(list(unique_entities_per_cat.items()), columns=['Categories', 'Frequency'])"
   ]
  },
  {
   "cell_type": "code",
   "execution_count": 42,
   "metadata": {},
   "outputs": [
    {
     "data": {
      "image/png": "[encoded data removed]",
      "text/plain": [
       "<Figure size 640x480 with 1 Axes>"
      ]
     },
     "metadata": {},
     "output_type": "display_data"
    }
   ],
   "source": [
    "# BAR PLOT \n",
    "\n",
    "plt.style.use(matplotx.styles.dracula)\n",
    "        \n",
    "fig, ax = plt.subplots()\n",
    "\n",
    "\n",
    "ax.barh(total_freq[\"Categories\"], total_freq[\"Frequency\"])\n",
    "ax.invert_yaxis()\n",
    "ax.set_ylabel('Classes')\n",
    "ax.set_xlabel('Number of Entities')\n",
    "ax.set_title(\"Total Entities Detected - Preliminary Graphs\")\n",
    "\n",
    "plt.tight_layout()\n",
    "# ax.tick_params(axis='y', labelsize=8)\n",
    "\n",
    "plt.show()"
   ]
  },
  {
   "cell_type": "code",
   "execution_count": 43,
   "metadata": {},
   "outputs": [
    {
     "data": {
      "image/png": "[encoded data removed]",
      "text/plain": [
       "<Figure size 640x480 with 1 Axes>"
      ]
     },
     "metadata": {},
     "output_type": "display_data"
    }
   ],
   "source": [
    "plt.style.use(matplotx.styles.dracula)\n",
    "        \n",
    "fig, ax = plt.subplots()\n",
    "\n",
    "\n",
    "ax.barh(unique_freq[\"Categories\"], unique_freq[\"Frequency\"])\n",
    "ax.invert_yaxis()\n",
    "ax.set_ylabel('Classes')\n",
    "ax.set_xlabel('Number of Entities')\n",
    "ax.set_title(\"Unique Entities Detected - Preliminary Graphs\")\n",
    "\n",
    "plt.tight_layout()\n",
    "# ax.tick_params(axis='y', labelsize=8)\n",
    "\n",
    "plt.show()"
   ]
  },
  {
   "cell_type": "code",
   "execution_count": 44,
   "metadata": {},
   "outputs": [],
   "source": [
    "# Bubble Plot - Categories \n",
    "\n",
    "# import plotly.express as px\n",
    "\n",
    "# fig = px.scatter(total_freq, x=\"Frequency\", y=\"Categories\", size=\"Frequency\", color=\"Categories\",\n",
    "#            hover_name=\"Categories\", log_x=True, size_max=60)\n",
    "# fig.show(renderer=\"browser\") "
   ]
  },
  {
   "cell_type": "code",
   "execution_count": 48,
   "metadata": {},
   "outputs": [
    {
     "data": {
      "application/vnd.plotly.v1+json": {
       "config": {
        "plotlyServerURL": "https://plot.ly"
       },
       "data": [
        {
         "hovertemplate": "<b>%{hovertext}</b><br><br>Categories=%{y}<br>Frequency=%{marker.size}<extra></extra>",
         "hovertext": [
          "Budget_Amendment"
         ],
         "legendgroup": "Budget_Amendment",
         "marker": {
          "color": "#636efa",
          "size": [
           11
          ],
          "sizemode": "area",
          "sizeref": 0.008888888888888889,
          "symbol": "circle"
         },
         "mode": "markers",
         "name": "Budget_Amendment",
         "orientation": "h",
         "showlegend": true,
         "type": "scatter",
         "x": [
          11
         ],
         "xaxis": "x",
         "y": [
          "Budget_Amendment"
         ],
         "yaxis": "y"
        },
        {
         "hovertemplate": "<b>%{hovertext}</b><br><br>Categories=%{y}<br>Frequency=%{marker.size}<extra></extra>",
         "hovertext": [
          "European_Union"
         ],
         "legendgroup": "European_Union",
         "marker": {
          "color": "#EF553B",
          "size": [
           32
          ],
          "sizemode": "area",
          "sizeref": 0.008888888888888889,
          "symbol": "circle"
         },
         "mode": "markers",
         "name": "European_Union",
         "orientation": "h",
         "showlegend": true,
         "type": "scatter",
         "x": [
          32
         ],
         "xaxis": "x",
         "y": [
          "European_Union"
         ],
         "yaxis": "y"
        },
        {
         "hovertemplate": "<b>%{hovertext}</b><br><br>Categories=%{y}<br>Frequency=%{marker.size}<extra></extra>",
         "hovertext": [
          "Estimates"
         ],
         "legendgroup": "Estimates",
         "marker": {
          "color": "#00cc96",
          "size": [
           27
          ],
          "sizemode": "area",
          "sizeref": 0.008888888888888889,
          "symbol": "circle"
         },
         "mode": "markers",
         "name": "Estimates",
         "orientation": "h",
         "showlegend": true,
         "type": "scatter",
         "x": [
          27
         ],
         "xaxis": "x",
         "y": [
          "Estimates"
         ],
         "yaxis": "y"
        },
        {
         "hovertemplate": "<b>%{hovertext}</b><br><br>Categories=%{y}<br>Frequency=%{marker.size}<extra></extra>",
         "hovertext": [
          "Draft_Budget"
         ],
         "legendgroup": "Draft_Budget",
         "marker": {
          "color": "#ab63fa",
          "size": [
           30
          ],
          "sizemode": "area",
          "sizeref": 0.008888888888888889,
          "symbol": "circle"
         },
         "mode": "markers",
         "name": "Draft_Budget",
         "orientation": "h",
         "showlegend": true,
         "type": "scatter",
         "x": [
          30
         ],
         "xaxis": "x",
         "y": [
          "Draft_Budget"
         ],
         "yaxis": "y"
        },
        {
         "hovertemplate": "<b>%{hovertext}</b><br><br>Categories=%{y}<br>Frequency=%{marker.size}<extra></extra>",
         "hovertext": [
          "Budget"
         ],
         "legendgroup": "Budget",
         "marker": {
          "color": "#FFA15A",
          "size": [
           1
          ],
          "sizemode": "area",
          "sizeref": 0.008888888888888889,
          "symbol": "circle"
         },
         "mode": "markers",
         "name": "Budget",
         "orientation": "h",
         "showlegend": true,
         "type": "scatter",
         "x": [
          1
         ],
         "xaxis": "x",
         "y": [
          "Budget"
         ],
         "yaxis": "y"
        },
        {
         "hovertemplate": "<b>%{hovertext}</b><br><br>Categories=%{y}<br>Frequency=%{marker.size}<extra></extra>",
         "hovertext": [
          "Legal_Construct"
         ],
         "legendgroup": "Legal_Construct",
         "marker": {
          "color": "#19d3f3",
          "size": [
           16
          ],
          "sizemode": "area",
          "sizeref": 0.008888888888888889,
          "symbol": "circle"
         },
         "mode": "markers",
         "name": "Legal_Construct",
         "orientation": "h",
         "showlegend": true,
         "type": "scatter",
         "x": [
          16
         ],
         "xaxis": "x",
         "y": [
          "Legal_Construct"
         ],
         "yaxis": "y"
        },
        {
         "hovertemplate": "<b>%{hovertext}</b><br><br>Categories=%{y}<br>Frequency=%{marker.size}<extra></extra>",
         "hovertext": [
          "Working_Documents"
         ],
         "legendgroup": "Working_Documents",
         "marker": {
          "color": "#FF6692",
          "size": [
           15
          ],
          "sizemode": "area",
          "sizeref": 0.008888888888888889,
          "symbol": "circle"
         },
         "mode": "markers",
         "name": "Working_Documents",
         "orientation": "h",
         "showlegend": true,
         "type": "scatter",
         "x": [
          15
         ],
         "xaxis": "x",
         "y": [
          "Working_Documents"
         ],
         "yaxis": "y"
        },
        {
         "hovertemplate": "<b>%{hovertext}</b><br><br>Categories=%{y}<br>Frequency=%{marker.size}<extra></extra>",
         "hovertext": [
          "Budget_Tool"
         ],
         "legendgroup": "Budget_Tool",
         "marker": {
          "color": "#B6E880",
          "size": [
           10
          ],
          "sizemode": "area",
          "sizeref": 0.008888888888888889,
          "symbol": "circle"
         },
         "mode": "markers",
         "name": "Budget_Tool",
         "orientation": "h",
         "showlegend": true,
         "type": "scatter",
         "x": [
          10
         ],
         "xaxis": "x",
         "y": [
          "Budget_Tool"
         ],
         "yaxis": "y"
        },
        {
         "hovertemplate": "<b>%{hovertext}</b><br><br>Categories=%{y}<br>Frequency=%{marker.size}<extra></extra>",
         "hovertext": [
          "Fund"
         ],
         "legendgroup": "Fund",
         "marker": {
          "color": "#FF97FF",
          "size": [
           6
          ],
          "sizemode": "area",
          "sizeref": 0.008888888888888889,
          "symbol": "circle"
         },
         "mode": "markers",
         "name": "Fund",
         "orientation": "h",
         "showlegend": true,
         "type": "scatter",
         "x": [
          6
         ],
         "xaxis": "x",
         "y": [
          "Fund"
         ],
         "yaxis": "y"
        },
        {
         "hovertemplate": "<b>%{hovertext}</b><br><br>Categories=%{y}<br>Frequency=%{marker.size}<extra></extra>",
         "hovertext": [
          "EU_Action"
         ],
         "legendgroup": "EU_Action",
         "marker": {
          "color": "#FECB52",
          "size": [
           17
          ],
          "sizemode": "area",
          "sizeref": 0.008888888888888889,
          "symbol": "circle"
         },
         "mode": "markers",
         "name": "EU_Action",
         "orientation": "h",
         "showlegend": true,
         "type": "scatter",
         "x": [
          17
         ],
         "xaxis": "x",
         "y": [
          "EU_Action"
         ],
         "yaxis": "y"
        },
        {
         "hovertemplate": "<b>%{hovertext}</b><br><br>Categories=%{y}<br>Frequency=%{marker.size}<extra></extra>",
         "hovertext": [
          "Human_Resources"
         ],
         "legendgroup": "Human_Resources",
         "marker": {
          "color": "#636efa",
          "size": [
           16
          ],
          "sizemode": "area",
          "sizeref": 0.008888888888888889,
          "symbol": "circle"
         },
         "mode": "markers",
         "name": "Human_Resources",
         "orientation": "h",
         "showlegend": true,
         "type": "scatter",
         "x": [
          16
         ],
         "xaxis": "x",
         "y": [
          "Human_Resources"
         ],
         "yaxis": "y"
        },
        {
         "hovertemplate": "<b>%{hovertext}</b><br><br>Categories=%{y}<br>Frequency=%{marker.size}<extra></extra>",
         "hovertext": [
          "Financial_Tool"
         ],
         "legendgroup": "Financial_Tool",
         "marker": {
          "color": "#EF553B",
          "size": [
           20
          ],
          "sizemode": "area",
          "sizeref": 0.008888888888888889,
          "symbol": "circle"
         },
         "mode": "markers",
         "name": "Financial_Tool",
         "orientation": "h",
         "showlegend": true,
         "type": "scatter",
         "x": [
          20
         ],
         "xaxis": "x",
         "y": [
          "Financial_Tool"
         ],
         "yaxis": "y"
        },
        {
         "hovertemplate": "<b>%{hovertext}</b><br><br>Categories=%{y}<br>Frequency=%{marker.size}<extra></extra>",
         "hovertext": [
          "Person"
         ],
         "legendgroup": "Person",
         "marker": {
          "color": "#00cc96",
          "size": [
           3
          ],
          "sizemode": "area",
          "sizeref": 0.008888888888888889,
          "symbol": "circle"
         },
         "mode": "markers",
         "name": "Person",
         "orientation": "h",
         "showlegend": true,
         "type": "scatter",
         "x": [
          3
         ],
         "xaxis": "x",
         "y": [
          "Person"
         ],
         "yaxis": "y"
        },
        {
         "hovertemplate": "<b>%{hovertext}</b><br><br>Categories=%{y}<br>Frequency=%{marker.size}<extra></extra>",
         "hovertext": [
          "Sections"
         ],
         "legendgroup": "Sections",
         "marker": {
          "color": "#ab63fa",
          "size": [
           17
          ],
          "sizemode": "area",
          "sizeref": 0.008888888888888889,
          "symbol": "circle"
         },
         "mode": "markers",
         "name": "Sections",
         "orientation": "h",
         "showlegend": true,
         "type": "scatter",
         "x": [
          17
         ],
         "xaxis": "x",
         "y": [
          "Sections"
         ],
         "yaxis": "y"
        },
        {
         "hovertemplate": "<b>%{hovertext}</b><br><br>Categories=%{y}<br>Frequency=%{marker.size}<extra></extra>",
         "hovertext": [
          "Appropriations"
         ],
         "legendgroup": "Appropriations",
         "marker": {
          "color": "#FFA15A",
          "size": [
           21
          ],
          "sizemode": "area",
          "sizeref": 0.008888888888888889,
          "symbol": "circle"
         },
         "mode": "markers",
         "name": "Appropriations",
         "orientation": "h",
         "showlegend": true,
         "type": "scatter",
         "x": [
          21
         ],
         "xaxis": "x",
         "y": [
          "Appropriations"
         ],
         "yaxis": "y"
        },
        {
         "hovertemplate": "<b>%{hovertext}</b><br><br>Categories=%{y}<br>Frequency=%{marker.size}<extra></extra>",
         "hovertext": [
          "Aid"
         ],
         "legendgroup": "Aid",
         "marker": {
          "color": "#19d3f3",
          "size": [
           9
          ],
          "sizemode": "area",
          "sizeref": 0.008888888888888889,
          "symbol": "circle"
         },
         "mode": "markers",
         "name": "Aid",
         "orientation": "h",
         "showlegend": true,
         "type": "scatter",
         "x": [
          9
         ],
         "xaxis": "x",
         "y": [
          "Aid"
         ],
         "yaxis": "y"
        },
        {
         "hovertemplate": "<b>%{hovertext}</b><br><br>Categories=%{y}<br>Frequency=%{marker.size}<extra></extra>",
         "hovertext": [
          "Provisions"
         ],
         "legendgroup": "Provisions",
         "marker": {
          "color": "#FF6692",
          "size": [
           3
          ],
          "sizemode": "area",
          "sizeref": 0.008888888888888889,
          "symbol": "circle"
         },
         "mode": "markers",
         "name": "Provisions",
         "orientation": "h",
         "showlegend": true,
         "type": "scatter",
         "x": [
          3
         ],
         "xaxis": "x",
         "y": [
          "Provisions"
         ],
         "yaxis": "y"
        },
        {
         "hovertemplate": "<b>%{hovertext}</b><br><br>Categories=%{y}<br>Frequency=%{marker.size}<extra></extra>",
         "hovertext": [
          "Article"
         ],
         "legendgroup": "Article",
         "marker": {
          "color": "#B6E880",
          "size": [
           1
          ],
          "sizemode": "area",
          "sizeref": 0.008888888888888889,
          "symbol": "circle"
         },
         "mode": "markers",
         "name": "Article",
         "orientation": "h",
         "showlegend": true,
         "type": "scatter",
         "x": [
          1
         ],
         "xaxis": "x",
         "y": [
          "Article"
         ],
         "yaxis": "y"
        },
        {
         "hovertemplate": "<b>%{hovertext}</b><br><br>Categories=%{y}<br>Frequency=%{marker.size}<extra></extra>",
         "hovertext": [
          "Adopted_Draft_Budget"
         ],
         "legendgroup": "Adopted_Draft_Budget",
         "marker": {
          "color": "#FF97FF",
          "size": [
           7
          ],
          "sizemode": "area",
          "sizeref": 0.008888888888888889,
          "symbol": "circle"
         },
         "mode": "markers",
         "name": "Adopted_Draft_Budget",
         "orientation": "h",
         "showlegend": true,
         "type": "scatter",
         "x": [
          7
         ],
         "xaxis": "x",
         "y": [
          "Adopted_Draft_Budget"
         ],
         "yaxis": "y"
        }
       ],
       "layout": {
        "legend": {
         "itemsizing": "constant",
         "title": {
          "text": "Categories"
         },
         "tracegroupgap": 0
        },
        "template": {
         "data": {
          "bar": [
           {
            "error_x": {
             "color": "#2a3f5f"
            },
            "error_y": {
             "color": "#2a3f5f"
            },
            "marker": {
             "line": {
              "color": "#E5ECF6",
              "width": 0.5
             },
             "pattern": {
              "fillmode": "overlay",
              "size": 10,
              "solidity": 0.2
             }
            },
            "type": "bar"
           }
          ],
          "barpolar": [
           {
            "marker": {
             "line": {
              "color": "#E5ECF6",
              "width": 0.5
             },
             "pattern": {
              "fillmode": "overlay",
              "size": 10,
              "solidity": 0.2
             }
            },
            "type": "barpolar"
           }
          ],
          "carpet": [
           {
            "aaxis": {
             "endlinecolor": "#2a3f5f",
             "gridcolor": "white",
             "linecolor": "white",
             "minorgridcolor": "white",
             "startlinecolor": "#2a3f5f"
            },
            "baxis": {
             "endlinecolor": "#2a3f5f",
             "gridcolor": "white",
             "linecolor": "white",
             "minorgridcolor": "white",
             "startlinecolor": "#2a3f5f"
            },
            "type": "carpet"
           }
          ],
          "choropleth": [
           {
            "colorbar": {
             "outlinewidth": 0,
             "ticks": ""
            },
            "type": "choropleth"
           }
          ],
          "contour": [
           {
            "colorbar": {
             "outlinewidth": 0,
             "ticks": ""
            },
            "colorscale": [
             [
              0,
              "#0d0887"
             ],
             [
              0.1111111111111111,
              "#46039f"
             ],
             [
              0.2222222222222222,
              "#7201a8"
             ],
             [
              0.3333333333333333,
              "#9c179e"
             ],
             [
              0.4444444444444444,
              "#bd3786"
             ],
             [
              0.5555555555555556,
              "#d8576b"
             ],
             [
              0.6666666666666666,
              "#ed7953"
             ],
             [
              0.7777777777777778,
              "#fb9f3a"
             ],
             [
              0.8888888888888888,
              "#fdca26"
             ],
             [
              1,
              "#f0f921"
             ]
            ],
            "type": "contour"
           }
          ],
          "contourcarpet": [
           {
            "colorbar": {
             "outlinewidth": 0,
             "ticks": ""
            },
            "type": "contourcarpet"
           }
          ],
          "heatmap": [
           {
            "colorbar": {
             "outlinewidth": 0,
             "ticks": ""
            },
            "colorscale": [
             [
              0,
              "#0d0887"
             ],
             [
              0.1111111111111111,
              "#46039f"
             ],
             [
              0.2222222222222222,
              "#7201a8"
             ],
             [
              0.3333333333333333,
              "#9c179e"
             ],
             [
              0.4444444444444444,
              "#bd3786"
             ],
             [
              0.5555555555555556,
              "#d8576b"
             ],
             [
              0.6666666666666666,
              "#ed7953"
             ],
             [
              0.7777777777777778,
              "#fb9f3a"
             ],
             [
              0.8888888888888888,
              "#fdca26"
             ],
             [
              1,
              "#f0f921"
             ]
            ],
            "type": "heatmap"
           }
          ],
          "heatmapgl": [
           {
            "colorbar": {
             "outlinewidth": 0,
             "ticks": ""
            },
            "colorscale": [
             [
              0,
              "#0d0887"
             ],
             [
              0.1111111111111111,
              "#46039f"
             ],
             [
              0.2222222222222222,
              "#7201a8"
             ],
             [
              0.3333333333333333,
              "#9c179e"
             ],
             [
              0.4444444444444444,
              "#bd3786"
             ],
             [
              0.5555555555555556,
              "#d8576b"
             ],
             [
              0.6666666666666666,
              "#ed7953"
             ],
             [
              0.7777777777777778,
              "#fb9f3a"
             ],
             [
              0.8888888888888888,
              "#fdca26"
             ],
             [
              1,
              "#f0f921"
             ]
            ],
            "type": "heatmapgl"
           }
          ],
          "histogram": [
           {
            "marker": {
             "pattern": {
              "fillmode": "overlay",
              "size": 10,
              "solidity": 0.2
             }
            },
            "type": "histogram"
           }
          ],
          "histogram2d": [
           {
            "colorbar": {
             "outlinewidth": 0,
             "ticks": ""
            },
            "colorscale": [
             [
              0,
              "#0d0887"
             ],
             [
              0.1111111111111111,
              "#46039f"
             ],
             [
              0.2222222222222222,
              "#7201a8"
             ],
             [
              0.3333333333333333,
              "#9c179e"
             ],
             [
              0.4444444444444444,
              "#bd3786"
             ],
             [
              0.5555555555555556,
              "#d8576b"
             ],
             [
              0.6666666666666666,
              "#ed7953"
             ],
             [
              0.7777777777777778,
              "#fb9f3a"
             ],
             [
              0.8888888888888888,
              "#fdca26"
             ],
             [
              1,
              "#f0f921"
             ]
            ],
            "type": "histogram2d"
           }
          ],
          "histogram2dcontour": [
           {
            "colorbar": {
             "outlinewidth": 0,
             "ticks": ""
            },
            "colorscale": [
             [
              0,
              "#0d0887"
             ],
             [
              0.1111111111111111,
              "#46039f"
             ],
             [
              0.2222222222222222,
              "#7201a8"
             ],
             [
              0.3333333333333333,
              "#9c179e"
             ],
             [
              0.4444444444444444,
              "#bd3786"
             ],
             [
              0.5555555555555556,
              "#d8576b"
             ],
             [
              0.6666666666666666,
              "#ed7953"
             ],
             [
              0.7777777777777778,
              "#fb9f3a"
             ],
             [
              0.8888888888888888,
              "#fdca26"
             ],
             [
              1,
              "#f0f921"
             ]
            ],
            "type": "histogram2dcontour"
           }
          ],
          "mesh3d": [
           {
            "colorbar": {
             "outlinewidth": 0,
             "ticks": ""
            },
            "type": "mesh3d"
           }
          ],
          "parcoords": [
           {
            "line": {
             "colorbar": {
              "outlinewidth": 0,
              "ticks": ""
             }
            },
            "type": "parcoords"
           }
          ],
          "pie": [
           {
            "automargin": true,
            "type": "pie"
           }
          ],
          "scatter": [
           {
            "fillpattern": {
             "fillmode": "overlay",
             "size": 10,
             "solidity": 0.2
            },
            "type": "scatter"
           }
          ],
          "scatter3d": [
           {
            "line": {
             "colorbar": {
              "outlinewidth": 0,
              "ticks": ""
             }
            },
            "marker": {
             "colorbar": {
              "outlinewidth": 0,
              "ticks": ""
             }
            },
            "type": "scatter3d"
           }
          ],
          "scattercarpet": [
           {
            "marker": {
             "colorbar": {
              "outlinewidth": 0,
              "ticks": ""
             }
            },
            "type": "scattercarpet"
           }
          ],
          "scattergeo": [
           {
            "marker": {
             "colorbar": {
              "outlinewidth": 0,
              "ticks": ""
             }
            },
            "type": "scattergeo"
           }
          ],
          "scattergl": [
           {
            "marker": {
             "colorbar": {
              "outlinewidth": 0,
              "ticks": ""
             }
            },
            "type": "scattergl"
           }
          ],
          "scattermapbox": [
           {
            "marker": {
             "colorbar": {
              "outlinewidth": 0,
              "ticks": ""
             }
            },
            "type": "scattermapbox"
           }
          ],
          "scatterpolar": [
           {
            "marker": {
             "colorbar": {
              "outlinewidth": 0,
              "ticks": ""
             }
            },
            "type": "scatterpolar"
           }
          ],
          "scatterpolargl": [
           {
            "marker": {
             "colorbar": {
              "outlinewidth": 0,
              "ticks": ""
             }
            },
            "type": "scatterpolargl"
           }
          ],
          "scatterternary": [
           {
            "marker": {
             "colorbar": {
              "outlinewidth": 0,
              "ticks": ""
             }
            },
            "type": "scatterternary"
           }
          ],
          "surface": [
           {
            "colorbar": {
             "outlinewidth": 0,
             "ticks": ""
            },
            "colorscale": [
             [
              0,
              "#0d0887"
             ],
             [
              0.1111111111111111,
              "#46039f"
             ],
             [
              0.2222222222222222,
              "#7201a8"
             ],
             [
              0.3333333333333333,
              "#9c179e"
             ],
             [
              0.4444444444444444,
              "#bd3786"
             ],
             [
              0.5555555555555556,
              "#d8576b"
             ],
             [
              0.6666666666666666,
              "#ed7953"
             ],
             [
              0.7777777777777778,
              "#fb9f3a"
             ],
             [
              0.8888888888888888,
              "#fdca26"
             ],
             [
              1,
              "#f0f921"
             ]
            ],
            "type": "surface"
           }
          ],
          "table": [
           {
            "cells": {
             "fill": {
              "color": "#EBF0F8"
             },
             "line": {
              "color": "white"
             }
            },
            "header": {
             "fill": {
              "color": "#C8D4E3"
             },
             "line": {
              "color": "white"
             }
            },
            "type": "table"
           }
          ]
         },
         "layout": {
          "annotationdefaults": {
           "arrowcolor": "#2a3f5f",
           "arrowhead": 0,
           "arrowwidth": 1
          },
          "autotypenumbers": "strict",
          "coloraxis": {
           "colorbar": {
            "outlinewidth": 0,
            "ticks": ""
           }
          },
          "colorscale": {
           "diverging": [
            [
             0,
             "#8e0152"
            ],
            [
             0.1,
             "#c51b7d"
            ],
            [
             0.2,
             "#de77ae"
            ],
            [
             0.3,
             "#f1b6da"
            ],
            [
             0.4,
             "#fde0ef"
            ],
            [
             0.5,
             "#f7f7f7"
            ],
            [
             0.6,
             "#e6f5d0"
            ],
            [
             0.7,
             "#b8e186"
            ],
            [
             0.8,
             "#7fbc41"
            ],
            [
             0.9,
             "#4d9221"
            ],
            [
             1,
             "#276419"
            ]
           ],
           "sequential": [
            [
             0,
             "#0d0887"
            ],
            [
             0.1111111111111111,
             "#46039f"
            ],
            [
             0.2222222222222222,
             "#7201a8"
            ],
            [
             0.3333333333333333,
             "#9c179e"
            ],
            [
             0.4444444444444444,
             "#bd3786"
            ],
            [
             0.5555555555555556,
             "#d8576b"
            ],
            [
             0.6666666666666666,
             "#ed7953"
            ],
            [
             0.7777777777777778,
             "#fb9f3a"
            ],
            [
             0.8888888888888888,
             "#fdca26"
            ],
            [
             1,
             "#f0f921"
            ]
           ],
           "sequentialminus": [
            [
             0,
             "#0d0887"
            ],
            [
             0.1111111111111111,
             "#46039f"
            ],
            [
             0.2222222222222222,
             "#7201a8"
            ],
            [
             0.3333333333333333,
             "#9c179e"
            ],
            [
             0.4444444444444444,
             "#bd3786"
            ],
            [
             0.5555555555555556,
             "#d8576b"
            ],
            [
             0.6666666666666666,
             "#ed7953"
            ],
            [
             0.7777777777777778,
             "#fb9f3a"
            ],
            [
             0.8888888888888888,
             "#fdca26"
            ],
            [
             1,
             "#f0f921"
            ]
           ]
          },
          "colorway": [
           "#636efa",
           "#EF553B",
           "#00cc96",
           "#ab63fa",
           "#FFA15A",
           "#19d3f3",
           "#FF6692",
           "#B6E880",
           "#FF97FF",
           "#FECB52"
          ],
          "font": {
           "color": "#2a3f5f"
          },
          "geo": {
           "bgcolor": "white",
           "lakecolor": "white",
           "landcolor": "#E5ECF6",
           "showlakes": true,
           "showland": true,
           "subunitcolor": "white"
          },
          "hoverlabel": {
           "align": "left"
          },
          "hovermode": "closest",
          "mapbox": {
           "style": "light"
          },
          "paper_bgcolor": "white",
          "plot_bgcolor": "#E5ECF6",
          "polar": {
           "angularaxis": {
            "gridcolor": "white",
            "linecolor": "white",
            "ticks": ""
           },
           "bgcolor": "#E5ECF6",
           "radialaxis": {
            "gridcolor": "white",
            "linecolor": "white",
            "ticks": ""
           }
          },
          "scene": {
           "xaxis": {
            "backgroundcolor": "#E5ECF6",
            "gridcolor": "white",
            "gridwidth": 2,
            "linecolor": "white",
            "showbackground": true,
            "ticks": "",
            "zerolinecolor": "white"
           },
           "yaxis": {
            "backgroundcolor": "#E5ECF6",
            "gridcolor": "white",
            "gridwidth": 2,
            "linecolor": "white",
            "showbackground": true,
            "ticks": "",
            "zerolinecolor": "white"
           },
           "zaxis": {
            "backgroundcolor": "#E5ECF6",
            "gridcolor": "white",
            "gridwidth": 2,
            "linecolor": "white",
            "showbackground": true,
            "ticks": "",
            "zerolinecolor": "white"
           }
          },
          "shapedefaults": {
           "line": {
            "color": "#2a3f5f"
           }
          },
          "ternary": {
           "aaxis": {
            "gridcolor": "white",
            "linecolor": "white",
            "ticks": ""
           },
           "baxis": {
            "gridcolor": "white",
            "linecolor": "white",
            "ticks": ""
           },
           "bgcolor": "#E5ECF6",
           "caxis": {
            "gridcolor": "white",
            "linecolor": "white",
            "ticks": ""
           }
          },
          "title": {
           "x": 0.05
          },
          "xaxis": {
           "automargin": true,
           "gridcolor": "white",
           "linecolor": "white",
           "ticks": "",
           "title": {
            "standoff": 15
           },
           "zerolinecolor": "white",
           "zerolinewidth": 2
          },
          "yaxis": {
           "automargin": true,
           "gridcolor": "white",
           "linecolor": "white",
           "ticks": "",
           "title": {
            "standoff": 15
           },
           "zerolinecolor": "white",
           "zerolinewidth": 2
          }
         }
        },
        "title": {
         "text": "Detected Entities per Class"
        },
        "xaxis": {
         "anchor": "y",
         "domain": [
          0,
          1
         ],
         "title": {
          "text": "Frequency"
         },
         "type": "log"
        },
        "yaxis": {
         "anchor": "x",
         "categoryarray": [
          "Adopted_Draft_Budget",
          "Article",
          "Provisions",
          "Aid",
          "Appropriations",
          "Sections",
          "Person",
          "Financial_Tool",
          "Human_Resources",
          "EU_Action",
          "Fund",
          "Budget_Tool",
          "Working_Documents",
          "Legal_Construct",
          "Budget",
          "Draft_Budget",
          "Estimates",
          "European_Union",
          "Budget_Amendment"
         ],
         "categoryorder": "array",
         "domain": [
          0,
          1
         ],
         "title": {
          "text": "Categories"
         }
        }
       }
      }
     },
     "metadata": {},
     "output_type": "display_data"
    }
   ],
   "source": [
    "# Bubble Plot - Notebook\n",
    "\n",
    "import plotly.express as px\n",
    "\n",
    "fig = px.scatter(total_freq, x=\"Frequency\", y=\"Categories\", size=\"Frequency\", color=\"Categories\",\n",
    "           hover_name=\"Categories\", log_x=True, size_max=60, title=\"Detected Entities per Class\")\n",
    "fig.show() "
   ]
  },
  {
   "cell_type": "code",
   "execution_count": 43,
   "metadata": {},
   "outputs": [
    {
     "data": {
      "image/png": "[encoded data removed]",
      "text/plain": [
       "<Figure size 1000x800 with 1 Axes>"
      ]
     },
     "metadata": {},
     "output_type": "display_data"
    }
   ],
   "source": [
    "# Word Cloud of classes - Rank based on Total Frequency \n",
    "\n",
    "wordcloud = WordCloud(width=800, height=400, background_color='white')\n",
    "wordcloud.generate_from_frequencies(frequencies=total_entities_per_cat)\n",
    "plt.figure(figsize=(10, 8))\n",
    "plt.imshow(wordcloud, interpolation=\"bilinear\")\n",
    "plt.axis(\"off\")\n",
    "plt.show()\n"
   ]
  },
  {
   "cell_type": "code",
   "execution_count": 35,
   "metadata": {},
   "outputs": [
    {
     "data": {
      "image/png": "[encoded data removed]",
      "text/plain": [
       "<Figure size 1000x500 with 1 Axes>"
      ]
     },
     "metadata": {},
     "output_type": "display_data"
    }
   ],
   "source": [
    "wordcloud = WordCloud(width=800, height=400, background_color='white').generate_from_frequencies(frequencies=total_entities_per_cat)\n",
    "\n",
    "plt.figure(figsize=(10, 5))\n",
    "plt.imshow(wordcloud, interpolation='bilinear')\n",
    "plt.axis('off')\n",
    "plt.show()"
   ]
  },
  {
   "cell_type": "markdown",
   "metadata": {},
   "source": [
    "# Compare REBEL with Rule-Based Entity Classes"
   ]
  },
  {
   "cell_type": "code",
   "execution_count": 3,
   "metadata": {},
   "outputs": [],
   "source": [
    "# Load REBEL entities \n",
    "rebel_final = pd.read_csv(r'C:\\Users\\Student\\Desktop\\Thesis-Coding\\Thesis\\REBEL_triplets_per_title\\rebel_triplets_III_clean.csv')\n",
    "\n",
    "for name in rebel_final.columns:\n",
    "     rebel_final[name] = rebel_final[name].apply(lambda x: x.strip())"
   ]
  },
  {
   "cell_type": "code",
   "execution_count": 4,
   "metadata": {},
   "outputs": [],
   "source": [
    "# Load Rule-Based entities\n",
    "ground_truth = pd.read_csv(r'C:\\Users\\Student\\Desktop\\Thesis-Coding\\Thesis\\Final_Use_Case_III_Ground_Truth_KG.csv')\n"
   ]
  },
  {
   "cell_type": "code",
   "execution_count": 5,
   "metadata": {},
   "outputs": [
    {
     "data": {
      "text/html": [
       "<div>\n",
       "<style scoped>\n",
       "    .dataframe tbody tr th:only-of-type {\n",
       "        vertical-align: middle;\n",
       "    }\n",
       "\n",
       "    .dataframe tbody tr th {\n",
       "        vertical-align: top;\n",
       "    }\n",
       "\n",
       "    .dataframe thead th {\n",
       "        text-align: right;\n",
       "    }\n",
       "</style>\n",
       "<table border=\"1\" class=\"dataframe\">\n",
       "  <thead>\n",
       "    <tr style=\"text-align: right;\">\n",
       "      <th></th>\n",
       "      <th>Head</th>\n",
       "      <th>Relation</th>\n",
       "      <th>Tail</th>\n",
       "      <th>Head_Class</th>\n",
       "      <th>Tail_Class</th>\n",
       "      <th>Title</th>\n",
       "      <th>Article</th>\n",
       "      <th>Paragraph_Coreferenced</th>\n",
       "      <th>Sentence_Coreferenced</th>\n",
       "      <th>Article_Content</th>\n",
       "    </tr>\n",
       "  </thead>\n",
       "  <tbody>\n",
       "    <tr>\n",
       "      <th>0</th>\n",
       "      <td>European Parliament</td>\n",
       "      <td>SUBCLASS OF</td>\n",
       "      <td>European Council</td>\n",
       "      <td>European_Union</td>\n",
       "      <td>European_Union</td>\n",
       "      <td>TITLE III ESTABLISHMENT AND STRUCTURE OF THE B...</td>\n",
       "      <td>Article 39  Estimates of revenue and expenditure</td>\n",
       "      <td>each union institution other than the commissi...</td>\n",
       "      <td>each union institution other than the commissi...</td>\n",
       "      <td>Each Union institution other than the Commissi...</td>\n",
       "    </tr>\n",
       "    <tr>\n",
       "      <th>1</th>\n",
       "      <td>Crisis Response</td>\n",
       "      <td>SUBCLASS OF</td>\n",
       "      <td>Humanitarian Aid</td>\n",
       "      <td>EU_Action</td>\n",
       "      <td>Aid</td>\n",
       "      <td>TITLE III ESTABLISHMENT AND STRUCTURE OF THE B...</td>\n",
       "      <td>Article 39  Estimates of revenue and expenditure</td>\n",
       "      <td>the high representative shall hold consultatio...</td>\n",
       "      <td>the high representative shall hold consultatio...</td>\n",
       "      <td>Each Union institution other than the Commissi...</td>\n",
       "    </tr>\n",
       "    <tr>\n",
       "      <th>2</th>\n",
       "      <td>Humanitarian Aid</td>\n",
       "      <td>SUBCLASS OF</td>\n",
       "      <td>Crisis Response</td>\n",
       "      <td>Aid</td>\n",
       "      <td>EU_Action</td>\n",
       "      <td>TITLE III ESTABLISHMENT AND STRUCTURE OF THE B...</td>\n",
       "      <td>Article 39  Estimates of revenue and expenditure</td>\n",
       "      <td>the high representative shall hold consultatio...</td>\n",
       "      <td>the high representative shall hold consultatio...</td>\n",
       "      <td>Each Union institution other than the Commissi...</td>\n",
       "    </tr>\n",
       "    <tr>\n",
       "      <th>3</th>\n",
       "      <td>Council Estimate</td>\n",
       "      <td>SUBCLASS OF</td>\n",
       "      <td>European Council</td>\n",
       "      <td>Estimates</td>\n",
       "      <td>European_Union</td>\n",
       "      <td>TITLE III ESTABLISHMENT AND STRUCTURE OF THE B...</td>\n",
       "      <td>Article 39  Estimates of revenue and expenditure</td>\n",
       "      <td>the commission shall draw up the commission ow...</td>\n",
       "      <td>in preparing the council estimates, the commis...</td>\n",
       "      <td>Each Union institution other than the Commissi...</td>\n",
       "    </tr>\n",
       "    <tr>\n",
       "      <th>4</th>\n",
       "      <td>European Parliament</td>\n",
       "      <td>SUBCLASS OF</td>\n",
       "      <td>National Parliament</td>\n",
       "      <td>European_Union</td>\n",
       "      <td>European_Union</td>\n",
       "      <td>TITLE III ESTABLISHMENT AND STRUCTURE OF THE B...</td>\n",
       "      <td>Article 41  Draft budget</td>\n",
       "      <td>the commission shall submit a proposal contain...</td>\n",
       "      <td>the draft budget shall transmit that proposal,...</td>\n",
       "      <td>The Commission shall submit a proposal contain...</td>\n",
       "    </tr>\n",
       "  </tbody>\n",
       "</table>\n",
       "</div>"
      ],
      "text/plain": [
       "                  Head     Relation                 Tail      Head_Class  \\\n",
       "0  European Parliament  SUBCLASS OF     European Council  European_Union   \n",
       "1      Crisis Response  SUBCLASS OF     Humanitarian Aid       EU_Action   \n",
       "2     Humanitarian Aid  SUBCLASS OF      Crisis Response             Aid   \n",
       "3     Council Estimate  SUBCLASS OF     European Council       Estimates   \n",
       "4  European Parliament  SUBCLASS OF  National Parliament  European_Union   \n",
       "\n",
       "       Tail_Class                                              Title  \\\n",
       "0  European_Union  TITLE III ESTABLISHMENT AND STRUCTURE OF THE B...   \n",
       "1             Aid  TITLE III ESTABLISHMENT AND STRUCTURE OF THE B...   \n",
       "2       EU_Action  TITLE III ESTABLISHMENT AND STRUCTURE OF THE B...   \n",
       "3  European_Union  TITLE III ESTABLISHMENT AND STRUCTURE OF THE B...   \n",
       "4  European_Union  TITLE III ESTABLISHMENT AND STRUCTURE OF THE B...   \n",
       "\n",
       "                                            Article  \\\n",
       "0  Article 39  Estimates of revenue and expenditure   \n",
       "1  Article 39  Estimates of revenue and expenditure   \n",
       "2  Article 39  Estimates of revenue and expenditure   \n",
       "3  Article 39  Estimates of revenue and expenditure   \n",
       "4                          Article 41  Draft budget   \n",
       "\n",
       "                              Paragraph_Coreferenced  \\\n",
       "0  each union institution other than the commissi...   \n",
       "1  the high representative shall hold consultatio...   \n",
       "2  the high representative shall hold consultatio...   \n",
       "3  the commission shall draw up the commission ow...   \n",
       "4  the commission shall submit a proposal contain...   \n",
       "\n",
       "                               Sentence_Coreferenced  \\\n",
       "0  each union institution other than the commissi...   \n",
       "1  the high representative shall hold consultatio...   \n",
       "2  the high representative shall hold consultatio...   \n",
       "3  in preparing the council estimates, the commis...   \n",
       "4  the draft budget shall transmit that proposal,...   \n",
       "\n",
       "                                     Article_Content  \n",
       "0  Each Union institution other than the Commissi...  \n",
       "1  Each Union institution other than the Commissi...  \n",
       "2  Each Union institution other than the Commissi...  \n",
       "3  Each Union institution other than the Commissi...  \n",
       "4  The Commission shall submit a proposal contain...  "
      ]
     },
     "execution_count": 5,
     "metadata": {},
     "output_type": "execute_result"
    }
   ],
   "source": [
    "rebel_final.head()\n"
   ]
  },
  {
   "cell_type": "code",
   "execution_count": null,
   "metadata": {},
   "outputs": [],
   "source": []
  },
  {
   "cell_type": "code",
   "execution_count": 6,
   "metadata": {},
   "outputs": [
    {
     "data": {
      "text/html": [
       "<div>\n",
       "<style scoped>\n",
       "    .dataframe tbody tr th:only-of-type {\n",
       "        vertical-align: middle;\n",
       "    }\n",
       "\n",
       "    .dataframe tbody tr th {\n",
       "        vertical-align: top;\n",
       "    }\n",
       "\n",
       "    .dataframe thead th {\n",
       "        text-align: right;\n",
       "    }\n",
       "</style>\n",
       "<table border=\"1\" class=\"dataframe\">\n",
       "  <thead>\n",
       "    <tr style=\"text-align: right;\">\n",
       "      <th></th>\n",
       "      <th>Head</th>\n",
       "      <th>Relation</th>\n",
       "      <th>Tail</th>\n",
       "      <th>Head_Class</th>\n",
       "      <th>Tail_Class</th>\n",
       "      <th>Title</th>\n",
       "      <th>Articles</th>\n",
       "      <th>Content_Text</th>\n",
       "    </tr>\n",
       "  </thead>\n",
       "  <tbody>\n",
       "    <tr>\n",
       "      <th>0</th>\n",
       "      <td>Letter of Amendment</td>\n",
       "      <td>CONCERNS</td>\n",
       "      <td>Amendment Updating</td>\n",
       "      <td>Budget_Amendment</td>\n",
       "      <td>Budget_Amendment</td>\n",
       "      <td>TITLE III ESTABLISHMENT AND STRUCTURE OF THE B...</td>\n",
       "      <td>Article 42  Letter of amendment to the draft b...</td>\n",
       "      <td>On the basis of any new information which was ...</td>\n",
       "    </tr>\n",
       "    <tr>\n",
       "      <th>1</th>\n",
       "      <td>Amendment Updating</td>\n",
       "      <td>INCLUDED_IN</td>\n",
       "      <td>Letter of Amendment</td>\n",
       "      <td>Budget_Amendment</td>\n",
       "      <td>Budget_Amendment</td>\n",
       "      <td>TITLE III ESTABLISHMENT AND STRUCTURE OF THE B...</td>\n",
       "      <td>Article 42  Letter of amendment to the draft b...</td>\n",
       "      <td>On the basis of any new information which was ...</td>\n",
       "    </tr>\n",
       "    <tr>\n",
       "      <th>2</th>\n",
       "      <td>Letter of Amendment</td>\n",
       "      <td>CREATED_BY</td>\n",
       "      <td>European Commission</td>\n",
       "      <td>Budget_Amendment</td>\n",
       "      <td>European_Union</td>\n",
       "      <td>TITLE III ESTABLISHMENT AND STRUCTURE OF THE B...</td>\n",
       "      <td>Article 42  Letter of amendment to the draft b...</td>\n",
       "      <td>On the basis of any new information which was ...</td>\n",
       "    </tr>\n",
       "    <tr>\n",
       "      <th>3</th>\n",
       "      <td>Letter of Amendment</td>\n",
       "      <td>SEND_TO</td>\n",
       "      <td>European Council</td>\n",
       "      <td>Budget_Amendment</td>\n",
       "      <td>European_Union</td>\n",
       "      <td>TITLE III ESTABLISHMENT AND STRUCTURE OF THE B...</td>\n",
       "      <td>Article 42  Letter of amendment to the draft b...</td>\n",
       "      <td>On the basis of any new information which was ...</td>\n",
       "    </tr>\n",
       "    <tr>\n",
       "      <th>4</th>\n",
       "      <td>Letter of Amendment</td>\n",
       "      <td>SEND_TO</td>\n",
       "      <td>European Parliament</td>\n",
       "      <td>Budget_Amendment</td>\n",
       "      <td>European_Union</td>\n",
       "      <td>TITLE III ESTABLISHMENT AND STRUCTURE OF THE B...</td>\n",
       "      <td>Article 42  Letter of amendment to the draft b...</td>\n",
       "      <td>On the basis of any new information which was ...</td>\n",
       "    </tr>\n",
       "  </tbody>\n",
       "</table>\n",
       "</div>"
      ],
      "text/plain": [
       "                  Head     Relation                 Tail        Head_Class  \\\n",
       "0  Letter of Amendment     CONCERNS   Amendment Updating  Budget_Amendment   \n",
       "1   Amendment Updating  INCLUDED_IN  Letter of Amendment  Budget_Amendment   \n",
       "2  Letter of Amendment   CREATED_BY  European Commission  Budget_Amendment   \n",
       "3  Letter of Amendment      SEND_TO     European Council  Budget_Amendment   \n",
       "4  Letter of Amendment      SEND_TO  European Parliament  Budget_Amendment   \n",
       "\n",
       "         Tail_Class                                              Title  \\\n",
       "0  Budget_Amendment  TITLE III ESTABLISHMENT AND STRUCTURE OF THE B...   \n",
       "1  Budget_Amendment  TITLE III ESTABLISHMENT AND STRUCTURE OF THE B...   \n",
       "2    European_Union  TITLE III ESTABLISHMENT AND STRUCTURE OF THE B...   \n",
       "3    European_Union  TITLE III ESTABLISHMENT AND STRUCTURE OF THE B...   \n",
       "4    European_Union  TITLE III ESTABLISHMENT AND STRUCTURE OF THE B...   \n",
       "\n",
       "                                            Articles  \\\n",
       "0  Article 42  Letter of amendment to the draft b...   \n",
       "1  Article 42  Letter of amendment to the draft b...   \n",
       "2  Article 42  Letter of amendment to the draft b...   \n",
       "3  Article 42  Letter of amendment to the draft b...   \n",
       "4  Article 42  Letter of amendment to the draft b...   \n",
       "\n",
       "                                        Content_Text  \n",
       "0  On the basis of any new information which was ...  \n",
       "1  On the basis of any new information which was ...  \n",
       "2  On the basis of any new information which was ...  \n",
       "3  On the basis of any new information which was ...  \n",
       "4  On the basis of any new information which was ...  "
      ]
     },
     "execution_count": 6,
     "metadata": {},
     "output_type": "execute_result"
    }
   ],
   "source": [
    "ground_truth.head()"
   ]
  },
  {
   "cell_type": "code",
   "execution_count": 7,
   "metadata": {},
   "outputs": [
    {
     "data": {
      "text/plain": [
       "array(['Letter of Amendment', 'Amendment Updating', 'Budget Amendment',\n",
       "       'Draft Budget', 'Structure', 'Working Documents',\n",
       "       'Budget Guarantees and Common Provisioning Fund Work Document',\n",
       "       'Budgetary Guarantees', 'Operations',\n",
       "       'Establishment Plan Work Document', 'Establishment Plan',\n",
       "       'Euratom Supply Agency Staff', 'Personnel Statistics',\n",
       "       'Financial Instruments Work Document', 'Financial Tables',\n",
       "       'Financial Instruments', 'Performance',\n",
       "       'Duration Reduction Action Plan', 'Administrative Expenditure',\n",
       "       'Public-Private Partnership', 'Trust Funds Working Document',\n",
       "       'Union Activities', 'Trust Funds', 'Objectives', 'Sections',\n",
       "       'Commission Budget Section', 'Expenditure Estimates',\n",
       "       'General Summary Statement', 'Budget Lines', 'Emergency Aid',\n",
       "       'Emergency Aid Reserve', 'High Representative', 'Negative Reserve',\n",
       "       'Payment Appropriations', 'Operational Appropriations',\n",
       "       'Administrative Appropriations', 'Appropriations',\n",
       "       'Provision Titles Section', 'Provisions',\n",
       "       'Unauthorized Appropriations', 'Inadequate Appropriations',\n",
       "       'Basic Act', 'Introduction', 'General Introduction',\n",
       "       'Changes in Appropriations', 'Proposal', 'Estimated Draft Budget',\n",
       "       'Revenue Estimates', 'Net Amounts', 'Resource Pay Decision',\n",
       "       'Commission Estimates', 'Union Institution Estimates',\n",
       "       'Budget Contributions', 'Member State', 'Adopted Draft Budget',\n",
       "       'National Parliaments', 'European Council', 'European Parliament',\n",
       "       'European Commission', 'Union Institutions'], dtype=object)"
      ]
     },
     "execution_count": 7,
     "metadata": {},
     "output_type": "execute_result"
    }
   ],
   "source": [
    "ground_truth[\"Head\"].unique()"
   ]
  },
  {
   "cell_type": "code",
   "execution_count": 8,
   "metadata": {},
   "outputs": [
    {
     "data": {
      "text/plain": [
       "array(['European Parliament', 'Crisis Response', 'Humanitarian Aid',\n",
       "       'Council Estimate', 'Draft Budget', 'Revenue', 'Budget',\n",
       "       'European Union', 'Union Institution', 'Appropriation',\n",
       "       'Budget Line', 'Point 30', 'Fund', 'European Commission',\n",
       "       'Public Private Partnership', 'Equity', 'Management Fee',\n",
       "       'Financial Operating Charge', 'Annual Discharge Procedure',\n",
       "       'Financial Instrument', 'Basic Act', 'Court Justice',\n",
       "       'Competition Law', 'Post', 'Expenditure Estimate Agriculture',\n",
       "       'Euratom Treaty', 'Member State', 'European Union Solidarity Fund',\n",
       "       'Amend Budget', 'European Council', 'Administrative Appropriation',\n",
       "       'Operational Appropriation', 'Pro Memoria', 'Establishment Plan',\n",
       "       'Administrative Expenditure', 'Net Amount', 'Provision',\n",
       "       'Negative Reserve', 'Payment Appropriations', 'Emergency Aid',\n",
       "       'International Monetary Fund', 'Reserve', 'Financial Assistance',\n",
       "       'Leverage Effect', 'Debt Management', 'Part Time Work',\n",
       "       'Union Act'], dtype=object)"
      ]
     },
     "execution_count": 8,
     "metadata": {},
     "output_type": "execute_result"
    }
   ],
   "source": [
    "rebel_final[\"Head\"].unique()"
   ]
  },
  {
   "cell_type": "code",
   "execution_count": 9,
   "metadata": {},
   "outputs": [
    {
     "name": "stderr",
     "output_type": "stream",
     "text": [
      "C:\\Users\\Student\\AppData\\Local\\Temp\\ipykernel_15672\\1983623264.py:17: FutureWarning: Series.__getitem__ treating keys as positions is deprecated. In a future version, integer keys will always be treated as labels (consistent with DataFrame behavior). To access a value by position, use `ser.iloc[pos]`\n",
      "  if row[0] not in class_dictionary_unique_entities_re[row[3]]:\n",
      "C:\\Users\\Student\\AppData\\Local\\Temp\\ipykernel_15672\\1983623264.py:18: FutureWarning: Series.__getitem__ treating keys as positions is deprecated. In a future version, integer keys will always be treated as labels (consistent with DataFrame behavior). To access a value by position, use `ser.iloc[pos]`\n",
      "  class_dictionary_unique_entities_re[row[3]].append(row[0])\n",
      "C:\\Users\\Student\\AppData\\Local\\Temp\\ipykernel_15672\\1983623264.py:19: FutureWarning: Series.__getitem__ treating keys as positions is deprecated. In a future version, integer keys will always be treated as labels (consistent with DataFrame behavior). To access a value by position, use `ser.iloc[pos]`\n",
      "  if row[2] not in class_dictionary_unique_entities_re[row[4]]:\n",
      "C:\\Users\\Student\\AppData\\Local\\Temp\\ipykernel_15672\\1983623264.py:20: FutureWarning: Series.__getitem__ treating keys as positions is deprecated. In a future version, integer keys will always be treated as labels (consistent with DataFrame behavior). To access a value by position, use `ser.iloc[pos]`\n",
      "  class_dictionary_unique_entities_re[row[4]].append(row[2])\n",
      "C:\\Users\\Student\\AppData\\Local\\Temp\\ipykernel_15672\\1983623264.py:34: FutureWarning: Series.__getitem__ treating keys as positions is deprecated. In a future version, integer keys will always be treated as labels (consistent with DataFrame behavior). To access a value by position, use `ser.iloc[pos]`\n",
      "  class_dictionary_total_entities_re[row[3]].append(row[0])\n",
      "C:\\Users\\Student\\AppData\\Local\\Temp\\ipykernel_15672\\1983623264.py:35: FutureWarning: Series.__getitem__ treating keys as positions is deprecated. In a future version, integer keys will always be treated as labels (consistent with DataFrame behavior). To access a value by position, use `ser.iloc[pos]`\n",
      "  class_dictionary_total_entities_re[row[4]].append(row[2])\n"
     ]
    }
   ],
   "source": [
    "# Obtain Frequency per category dataframes for REBEL \n",
    "\n",
    "tail_class_re = rebel_final[\"Tail_Class\"].to_list()\n",
    "head_class_re = rebel_final[\"Head_Class\"].to_list()\n",
    "\n",
    "# Dictionary for unique entities \n",
    "class_dictionary_unique_entities_re = {}\n",
    "for class_name_t in tail_class_re:\n",
    "    if class_name_t not in class_dictionary_unique_entities_re.keys():\n",
    "        class_dictionary_unique_entities_re[class_name_t] = []\n",
    "\n",
    "for class_name_h in head_class_re:\n",
    "    if class_name_h not in class_dictionary_unique_entities_re.keys():\n",
    "        class_dictionary_unique_entities_re[class_name_h] = []\n",
    "\n",
    "for index, row in rebel_final.iterrows():\n",
    "    if row[0] not in class_dictionary_unique_entities_re[row[3]]:\n",
    "        class_dictionary_unique_entities_re[row[3]].append(row[0])\n",
    "    if row[2] not in class_dictionary_unique_entities_re[row[4]]:\n",
    "        class_dictionary_unique_entities_re[row[4]].append(row[2])\n",
    "\n",
    "# Dictionary for total entities\n",
    "class_dictionary_total_entities_re = {}\n",
    "for class_name_t in tail_class_re:\n",
    "    if class_name_t not in class_dictionary_total_entities_re.keys():\n",
    "        class_dictionary_total_entities_re[class_name_t] = []\n",
    "\n",
    "for class_name_h in head_class_re:\n",
    "    if class_name_h not in class_dictionary_total_entities_re.keys():\n",
    "        class_dictionary_total_entities_re[class_name_h] = []\n",
    "\n",
    "\n",
    "for index, row in rebel_final.iterrows():\n",
    "     class_dictionary_total_entities_re[row[3]].append(row[0])\n",
    "     class_dictionary_total_entities_re[row[4]].append(row[2])\n",
    "\n",
    "unique_entities_per_cat_re = {}\n",
    "total_entities_per_cat_re = {}\n",
    "\n",
    "for category in class_dictionary_unique_entities_re.keys():\n",
    "    unique_entities_per_cat_re[category]=len(class_dictionary_unique_entities_re[category])\n",
    "    total_entities_per_cat_re[category]=len(class_dictionary_total_entities_re[category])\n",
    "\n",
    "\n",
    "\n",
    "total_freq_rebel = pd.DataFrame(list(total_entities_per_cat_re.items()), columns=['Categories', 'Frequency'])\n",
    "total_freq_rebel.rename(columns={\"Categories\": \"Class\", \"Frequency\": \"Total_Frequency\"}, inplace=True)\n",
    "total_freq_rebel[\"Method\"] = \"Rebel\"\n",
    "\n",
    "unique_freq_rebel = pd.DataFrame(list(unique_entities_per_cat_re.items()), columns=['Categories', 'Frequency'])\n",
    "unique_freq_rebel.rename(columns={\"Categories\": \"Class\", \"Frequency\": \"Unique_Frequency\"}, inplace=True)\n",
    "unique_freq_rebel[\"Method\"] = \"Rebel\"\n",
    "\n",
    "     "
   ]
  },
  {
   "cell_type": "code",
   "execution_count": 10,
   "metadata": {},
   "outputs": [
    {
     "data": {
      "text/html": [
       "<div>\n",
       "<style scoped>\n",
       "    .dataframe tbody tr th:only-of-type {\n",
       "        vertical-align: middle;\n",
       "    }\n",
       "\n",
       "    .dataframe tbody tr th {\n",
       "        vertical-align: top;\n",
       "    }\n",
       "\n",
       "    .dataframe thead th {\n",
       "        text-align: right;\n",
       "    }\n",
       "</style>\n",
       "<table border=\"1\" class=\"dataframe\">\n",
       "  <thead>\n",
       "    <tr style=\"text-align: right;\">\n",
       "      <th></th>\n",
       "      <th>Class</th>\n",
       "      <th>Total_Frequency</th>\n",
       "      <th>Method</th>\n",
       "    </tr>\n",
       "  </thead>\n",
       "  <tbody>\n",
       "    <tr>\n",
       "      <th>0</th>\n",
       "      <td>European_Union</td>\n",
       "      <td>39</td>\n",
       "      <td>Rebel</td>\n",
       "    </tr>\n",
       "    <tr>\n",
       "      <th>1</th>\n",
       "      <td>Aid</td>\n",
       "      <td>6</td>\n",
       "      <td>Rebel</td>\n",
       "    </tr>\n",
       "    <tr>\n",
       "      <th>2</th>\n",
       "      <td>EU_Action</td>\n",
       "      <td>3</td>\n",
       "      <td>Rebel</td>\n",
       "    </tr>\n",
       "    <tr>\n",
       "      <th>3</th>\n",
       "      <td>Budget</td>\n",
       "      <td>15</td>\n",
       "      <td>Rebel</td>\n",
       "    </tr>\n",
       "    <tr>\n",
       "      <th>4</th>\n",
       "      <td>Estimates</td>\n",
       "      <td>21</td>\n",
       "      <td>Rebel</td>\n",
       "    </tr>\n",
       "    <tr>\n",
       "      <th>5</th>\n",
       "      <td>Appropriations</td>\n",
       "      <td>15</td>\n",
       "      <td>Rebel</td>\n",
       "    </tr>\n",
       "    <tr>\n",
       "      <th>6</th>\n",
       "      <td>Legal_Construct</td>\n",
       "      <td>16</td>\n",
       "      <td>Rebel</td>\n",
       "    </tr>\n",
       "    <tr>\n",
       "      <th>7</th>\n",
       "      <td>Draft_Budget</td>\n",
       "      <td>9</td>\n",
       "      <td>Rebel</td>\n",
       "    </tr>\n",
       "    <tr>\n",
       "      <th>8</th>\n",
       "      <td>Working_Documents</td>\n",
       "      <td>2</td>\n",
       "      <td>Rebel</td>\n",
       "    </tr>\n",
       "    <tr>\n",
       "      <th>9</th>\n",
       "      <td>Financial_Tool</td>\n",
       "      <td>11</td>\n",
       "      <td>Rebel</td>\n",
       "    </tr>\n",
       "    <tr>\n",
       "      <th>10</th>\n",
       "      <td>Human_Resources</td>\n",
       "      <td>6</td>\n",
       "      <td>Rebel</td>\n",
       "    </tr>\n",
       "    <tr>\n",
       "      <th>11</th>\n",
       "      <td>Budget_Amendment</td>\n",
       "      <td>4</td>\n",
       "      <td>Rebel</td>\n",
       "    </tr>\n",
       "    <tr>\n",
       "      <th>12</th>\n",
       "      <td>Person</td>\n",
       "      <td>1</td>\n",
       "      <td>Rebel</td>\n",
       "    </tr>\n",
       "    <tr>\n",
       "      <th>13</th>\n",
       "      <td>Budget_Tool</td>\n",
       "      <td>12</td>\n",
       "      <td>Rebel</td>\n",
       "    </tr>\n",
       "    <tr>\n",
       "      <th>14</th>\n",
       "      <td>Provisions</td>\n",
       "      <td>2</td>\n",
       "      <td>Rebel</td>\n",
       "    </tr>\n",
       "    <tr>\n",
       "      <th>15</th>\n",
       "      <td>International_Organization</td>\n",
       "      <td>2</td>\n",
       "      <td>Rebel</td>\n",
       "    </tr>\n",
       "    <tr>\n",
       "      <th>16</th>\n",
       "      <td>Fund</td>\n",
       "      <td>4</td>\n",
       "      <td>Rebel</td>\n",
       "    </tr>\n",
       "  </tbody>\n",
       "</table>\n",
       "</div>"
      ],
      "text/plain": [
       "                         Class  Total_Frequency Method\n",
       "0               European_Union               39  Rebel\n",
       "1                          Aid                6  Rebel\n",
       "2                    EU_Action                3  Rebel\n",
       "3                       Budget               15  Rebel\n",
       "4                    Estimates               21  Rebel\n",
       "5               Appropriations               15  Rebel\n",
       "6              Legal_Construct               16  Rebel\n",
       "7                 Draft_Budget                9  Rebel\n",
       "8            Working_Documents                2  Rebel\n",
       "9               Financial_Tool               11  Rebel\n",
       "10             Human_Resources                6  Rebel\n",
       "11            Budget_Amendment                4  Rebel\n",
       "12                      Person                1  Rebel\n",
       "13                 Budget_Tool               12  Rebel\n",
       "14                  Provisions                2  Rebel\n",
       "15  International_Organization                2  Rebel\n",
       "16                        Fund                4  Rebel"
      ]
     },
     "execution_count": 10,
     "metadata": {},
     "output_type": "execute_result"
    }
   ],
   "source": [
    "total_freq_rebel"
   ]
  },
  {
   "cell_type": "code",
   "execution_count": 11,
   "metadata": {},
   "outputs": [
    {
     "data": {
      "text/html": [
       "<div>\n",
       "<style scoped>\n",
       "    .dataframe tbody tr th:only-of-type {\n",
       "        vertical-align: middle;\n",
       "    }\n",
       "\n",
       "    .dataframe tbody tr th {\n",
       "        vertical-align: top;\n",
       "    }\n",
       "\n",
       "    .dataframe thead th {\n",
       "        text-align: right;\n",
       "    }\n",
       "</style>\n",
       "<table border=\"1\" class=\"dataframe\">\n",
       "  <thead>\n",
       "    <tr style=\"text-align: right;\">\n",
       "      <th></th>\n",
       "      <th>Class</th>\n",
       "      <th>Unique_Frequency</th>\n",
       "      <th>Method</th>\n",
       "    </tr>\n",
       "  </thead>\n",
       "  <tbody>\n",
       "    <tr>\n",
       "      <th>0</th>\n",
       "      <td>European_Union</td>\n",
       "      <td>7</td>\n",
       "      <td>Rebel</td>\n",
       "    </tr>\n",
       "    <tr>\n",
       "      <th>1</th>\n",
       "      <td>Aid</td>\n",
       "      <td>4</td>\n",
       "      <td>Rebel</td>\n",
       "    </tr>\n",
       "    <tr>\n",
       "      <th>2</th>\n",
       "      <td>EU_Action</td>\n",
       "      <td>2</td>\n",
       "      <td>Rebel</td>\n",
       "    </tr>\n",
       "    <tr>\n",
       "      <th>3</th>\n",
       "      <td>Budget</td>\n",
       "      <td>1</td>\n",
       "      <td>Rebel</td>\n",
       "    </tr>\n",
       "    <tr>\n",
       "      <th>4</th>\n",
       "      <td>Estimates</td>\n",
       "      <td>9</td>\n",
       "      <td>Rebel</td>\n",
       "    </tr>\n",
       "    <tr>\n",
       "      <th>5</th>\n",
       "      <td>Appropriations</td>\n",
       "      <td>4</td>\n",
       "      <td>Rebel</td>\n",
       "    </tr>\n",
       "    <tr>\n",
       "      <th>6</th>\n",
       "      <td>Legal_Construct</td>\n",
       "      <td>9</td>\n",
       "      <td>Rebel</td>\n",
       "    </tr>\n",
       "    <tr>\n",
       "      <th>7</th>\n",
       "      <td>Draft_Budget</td>\n",
       "      <td>3</td>\n",
       "      <td>Rebel</td>\n",
       "    </tr>\n",
       "    <tr>\n",
       "      <th>8</th>\n",
       "      <td>Working_Documents</td>\n",
       "      <td>1</td>\n",
       "      <td>Rebel</td>\n",
       "    </tr>\n",
       "    <tr>\n",
       "      <th>9</th>\n",
       "      <td>Financial_Tool</td>\n",
       "      <td>9</td>\n",
       "      <td>Rebel</td>\n",
       "    </tr>\n",
       "    <tr>\n",
       "      <th>10</th>\n",
       "      <td>Human_Resources</td>\n",
       "      <td>5</td>\n",
       "      <td>Rebel</td>\n",
       "    </tr>\n",
       "    <tr>\n",
       "      <th>11</th>\n",
       "      <td>Budget_Amendment</td>\n",
       "      <td>2</td>\n",
       "      <td>Rebel</td>\n",
       "    </tr>\n",
       "    <tr>\n",
       "      <th>12</th>\n",
       "      <td>Person</td>\n",
       "      <td>1</td>\n",
       "      <td>Rebel</td>\n",
       "    </tr>\n",
       "    <tr>\n",
       "      <th>13</th>\n",
       "      <td>Budget_Tool</td>\n",
       "      <td>6</td>\n",
       "      <td>Rebel</td>\n",
       "    </tr>\n",
       "    <tr>\n",
       "      <th>14</th>\n",
       "      <td>Provisions</td>\n",
       "      <td>1</td>\n",
       "      <td>Rebel</td>\n",
       "    </tr>\n",
       "    <tr>\n",
       "      <th>15</th>\n",
       "      <td>International_Organization</td>\n",
       "      <td>2</td>\n",
       "      <td>Rebel</td>\n",
       "    </tr>\n",
       "    <tr>\n",
       "      <th>16</th>\n",
       "      <td>Fund</td>\n",
       "      <td>2</td>\n",
       "      <td>Rebel</td>\n",
       "    </tr>\n",
       "  </tbody>\n",
       "</table>\n",
       "</div>"
      ],
      "text/plain": [
       "                         Class  Unique_Frequency Method\n",
       "0               European_Union                 7  Rebel\n",
       "1                          Aid                 4  Rebel\n",
       "2                    EU_Action                 2  Rebel\n",
       "3                       Budget                 1  Rebel\n",
       "4                    Estimates                 9  Rebel\n",
       "5               Appropriations                 4  Rebel\n",
       "6              Legal_Construct                 9  Rebel\n",
       "7                 Draft_Budget                 3  Rebel\n",
       "8            Working_Documents                 1  Rebel\n",
       "9               Financial_Tool                 9  Rebel\n",
       "10             Human_Resources                 5  Rebel\n",
       "11            Budget_Amendment                 2  Rebel\n",
       "12                      Person                 1  Rebel\n",
       "13                 Budget_Tool                 6  Rebel\n",
       "14                  Provisions                 1  Rebel\n",
       "15  International_Organization                 2  Rebel\n",
       "16                        Fund                 2  Rebel"
      ]
     },
     "execution_count": 11,
     "metadata": {},
     "output_type": "execute_result"
    }
   ],
   "source": [
    "unique_freq_rebel"
   ]
  },
  {
   "cell_type": "code",
   "execution_count": 12,
   "metadata": {},
   "outputs": [],
   "source": [
    "total_freq_rebel[\"Unique_Frequency\"] = unique_freq_rebel[\"Unique_Frequency\"]"
   ]
  },
  {
   "cell_type": "code",
   "execution_count": 13,
   "metadata": {},
   "outputs": [
    {
     "data": {
      "text/html": [
       "<div>\n",
       "<style scoped>\n",
       "    .dataframe tbody tr th:only-of-type {\n",
       "        vertical-align: middle;\n",
       "    }\n",
       "\n",
       "    .dataframe tbody tr th {\n",
       "        vertical-align: top;\n",
       "    }\n",
       "\n",
       "    .dataframe thead th {\n",
       "        text-align: right;\n",
       "    }\n",
       "</style>\n",
       "<table border=\"1\" class=\"dataframe\">\n",
       "  <thead>\n",
       "    <tr style=\"text-align: right;\">\n",
       "      <th></th>\n",
       "      <th>Class</th>\n",
       "      <th>Total_Frequency</th>\n",
       "      <th>Method</th>\n",
       "      <th>Unique_Frequency</th>\n",
       "    </tr>\n",
       "  </thead>\n",
       "  <tbody>\n",
       "    <tr>\n",
       "      <th>0</th>\n",
       "      <td>European_Union</td>\n",
       "      <td>39</td>\n",
       "      <td>Rebel</td>\n",
       "      <td>7</td>\n",
       "    </tr>\n",
       "    <tr>\n",
       "      <th>1</th>\n",
       "      <td>Aid</td>\n",
       "      <td>6</td>\n",
       "      <td>Rebel</td>\n",
       "      <td>4</td>\n",
       "    </tr>\n",
       "    <tr>\n",
       "      <th>2</th>\n",
       "      <td>EU_Action</td>\n",
       "      <td>3</td>\n",
       "      <td>Rebel</td>\n",
       "      <td>2</td>\n",
       "    </tr>\n",
       "    <tr>\n",
       "      <th>3</th>\n",
       "      <td>Budget</td>\n",
       "      <td>15</td>\n",
       "      <td>Rebel</td>\n",
       "      <td>1</td>\n",
       "    </tr>\n",
       "    <tr>\n",
       "      <th>4</th>\n",
       "      <td>Estimates</td>\n",
       "      <td>21</td>\n",
       "      <td>Rebel</td>\n",
       "      <td>9</td>\n",
       "    </tr>\n",
       "    <tr>\n",
       "      <th>5</th>\n",
       "      <td>Appropriations</td>\n",
       "      <td>15</td>\n",
       "      <td>Rebel</td>\n",
       "      <td>4</td>\n",
       "    </tr>\n",
       "    <tr>\n",
       "      <th>6</th>\n",
       "      <td>Legal_Construct</td>\n",
       "      <td>16</td>\n",
       "      <td>Rebel</td>\n",
       "      <td>9</td>\n",
       "    </tr>\n",
       "    <tr>\n",
       "      <th>7</th>\n",
       "      <td>Draft_Budget</td>\n",
       "      <td>9</td>\n",
       "      <td>Rebel</td>\n",
       "      <td>3</td>\n",
       "    </tr>\n",
       "    <tr>\n",
       "      <th>8</th>\n",
       "      <td>Working_Documents</td>\n",
       "      <td>2</td>\n",
       "      <td>Rebel</td>\n",
       "      <td>1</td>\n",
       "    </tr>\n",
       "    <tr>\n",
       "      <th>9</th>\n",
       "      <td>Financial_Tool</td>\n",
       "      <td>11</td>\n",
       "      <td>Rebel</td>\n",
       "      <td>9</td>\n",
       "    </tr>\n",
       "    <tr>\n",
       "      <th>10</th>\n",
       "      <td>Human_Resources</td>\n",
       "      <td>6</td>\n",
       "      <td>Rebel</td>\n",
       "      <td>5</td>\n",
       "    </tr>\n",
       "    <tr>\n",
       "      <th>11</th>\n",
       "      <td>Budget_Amendment</td>\n",
       "      <td>4</td>\n",
       "      <td>Rebel</td>\n",
       "      <td>2</td>\n",
       "    </tr>\n",
       "    <tr>\n",
       "      <th>12</th>\n",
       "      <td>Person</td>\n",
       "      <td>1</td>\n",
       "      <td>Rebel</td>\n",
       "      <td>1</td>\n",
       "    </tr>\n",
       "    <tr>\n",
       "      <th>13</th>\n",
       "      <td>Budget_Tool</td>\n",
       "      <td>12</td>\n",
       "      <td>Rebel</td>\n",
       "      <td>6</td>\n",
       "    </tr>\n",
       "    <tr>\n",
       "      <th>14</th>\n",
       "      <td>Provisions</td>\n",
       "      <td>2</td>\n",
       "      <td>Rebel</td>\n",
       "      <td>1</td>\n",
       "    </tr>\n",
       "    <tr>\n",
       "      <th>15</th>\n",
       "      <td>International_Organization</td>\n",
       "      <td>2</td>\n",
       "      <td>Rebel</td>\n",
       "      <td>2</td>\n",
       "    </tr>\n",
       "    <tr>\n",
       "      <th>16</th>\n",
       "      <td>Fund</td>\n",
       "      <td>4</td>\n",
       "      <td>Rebel</td>\n",
       "      <td>2</td>\n",
       "    </tr>\n",
       "  </tbody>\n",
       "</table>\n",
       "</div>"
      ],
      "text/plain": [
       "                         Class  Total_Frequency Method  Unique_Frequency\n",
       "0               European_Union               39  Rebel                 7\n",
       "1                          Aid                6  Rebel                 4\n",
       "2                    EU_Action                3  Rebel                 2\n",
       "3                       Budget               15  Rebel                 1\n",
       "4                    Estimates               21  Rebel                 9\n",
       "5               Appropriations               15  Rebel                 4\n",
       "6              Legal_Construct               16  Rebel                 9\n",
       "7                 Draft_Budget                9  Rebel                 3\n",
       "8            Working_Documents                2  Rebel                 1\n",
       "9               Financial_Tool               11  Rebel                 9\n",
       "10             Human_Resources                6  Rebel                 5\n",
       "11            Budget_Amendment                4  Rebel                 2\n",
       "12                      Person                1  Rebel                 1\n",
       "13                 Budget_Tool               12  Rebel                 6\n",
       "14                  Provisions                2  Rebel                 1\n",
       "15  International_Organization                2  Rebel                 2\n",
       "16                        Fund                4  Rebel                 2"
      ]
     },
     "execution_count": 13,
     "metadata": {},
     "output_type": "execute_result"
    }
   ],
   "source": [
    "total_freq_rebel"
   ]
  },
  {
   "cell_type": "code",
   "execution_count": 14,
   "metadata": {},
   "outputs": [
    {
     "name": "stderr",
     "output_type": "stream",
     "text": [
      "C:\\Users\\Student\\AppData\\Local\\Temp\\ipykernel_15672\\3094713780.py:16: FutureWarning: Series.__getitem__ treating keys as positions is deprecated. In a future version, integer keys will always be treated as labels (consistent with DataFrame behavior). To access a value by position, use `ser.iloc[pos]`\n",
      "  if row[0] not in class_dictionary_unique_entities[row[3]]:\n",
      "C:\\Users\\Student\\AppData\\Local\\Temp\\ipykernel_15672\\3094713780.py:17: FutureWarning: Series.__getitem__ treating keys as positions is deprecated. In a future version, integer keys will always be treated as labels (consistent with DataFrame behavior). To access a value by position, use `ser.iloc[pos]`\n",
      "  class_dictionary_unique_entities[row[3]].append(row[0])\n",
      "C:\\Users\\Student\\AppData\\Local\\Temp\\ipykernel_15672\\3094713780.py:18: FutureWarning: Series.__getitem__ treating keys as positions is deprecated. In a future version, integer keys will always be treated as labels (consistent with DataFrame behavior). To access a value by position, use `ser.iloc[pos]`\n",
      "  if row[2] not in class_dictionary_unique_entities[row[4]]:\n",
      "C:\\Users\\Student\\AppData\\Local\\Temp\\ipykernel_15672\\3094713780.py:19: FutureWarning: Series.__getitem__ treating keys as positions is deprecated. In a future version, integer keys will always be treated as labels (consistent with DataFrame behavior). To access a value by position, use `ser.iloc[pos]`\n",
      "  class_dictionary_unique_entities[row[4]].append(row[2])\n",
      "C:\\Users\\Student\\AppData\\Local\\Temp\\ipykernel_15672\\3094713780.py:33: FutureWarning: Series.__getitem__ treating keys as positions is deprecated. In a future version, integer keys will always be treated as labels (consistent with DataFrame behavior). To access a value by position, use `ser.iloc[pos]`\n",
      "  class_dictionary_total_entities[row[3]].append(row[0])\n",
      "C:\\Users\\Student\\AppData\\Local\\Temp\\ipykernel_15672\\3094713780.py:34: FutureWarning: Series.__getitem__ treating keys as positions is deprecated. In a future version, integer keys will always be treated as labels (consistent with DataFrame behavior). To access a value by position, use `ser.iloc[pos]`\n",
      "  class_dictionary_total_entities[row[4]].append(row[2])\n"
     ]
    }
   ],
   "source": [
    "# Obtain frequency per category dataframe for Rule-Based Model \n",
    "\n",
    "tail_class = ground_truth[\"Tail_Class\"].to_list()\n",
    "head_class = ground_truth[\"Head_Class\"].to_list()\n",
    "\n",
    "class_dictionary_unique_entities = {}\n",
    "for class_name_t in tail_class:\n",
    "    if class_name_t not in class_dictionary_unique_entities.keys():\n",
    "        class_dictionary_unique_entities[class_name_t] = []\n",
    "\n",
    "for class_name_h in head_class:\n",
    "    if class_name_h not in class_dictionary_unique_entities.keys():\n",
    "        class_dictionary_unique_entities[class_name_h] = []\n",
    "\n",
    "for index, row in ground_truth.iterrows():\n",
    "    if row[0] not in class_dictionary_unique_entities[row[3]]:\n",
    "        class_dictionary_unique_entities[row[3]].append(row[0])\n",
    "    if row[2] not in class_dictionary_unique_entities[row[4]]:\n",
    "        class_dictionary_unique_entities[row[4]].append(row[2])\n",
    "\n",
    "\n",
    "class_dictionary_total_entities = {}\n",
    "for class_name_t in tail_class:\n",
    "    if class_name_t not in class_dictionary_total_entities.keys():\n",
    "        class_dictionary_total_entities[class_name_t] = []\n",
    "\n",
    "for class_name_h in head_class:\n",
    "    if class_name_h not in class_dictionary_total_entities.keys():\n",
    "        class_dictionary_total_entities[class_name_h] = []\n",
    "\n",
    "\n",
    "for index, row in ground_truth.iterrows():\n",
    "     class_dictionary_total_entities[row[3]].append(row[0])\n",
    "     class_dictionary_total_entities[row[4]].append(row[2])\n",
    "\n",
    "\n",
    "unique_entities_per_cat = {}\n",
    "total_entities_per_cat = {}\n",
    "\n",
    "for category in class_dictionary_unique_entities.keys():\n",
    "    unique_entities_per_cat[category]=len(class_dictionary_unique_entities[category])\n",
    "    total_entities_per_cat[category]=len(class_dictionary_total_entities[category])\n",
    "\n",
    "\n",
    "total_freq_rule = pd.DataFrame(list(total_entities_per_cat.items()), columns=['Categories', 'Frequency'])\n",
    "total_freq_rule.rename(columns={\"Categories\": \"Class\", \"Frequency\": \"Total_Frequency\"}, inplace=True)\n",
    "total_freq_rule[\"Method\"] = \"ClausIE\"\n",
    "\n",
    "unique_freq_rule = pd.DataFrame(list(unique_entities_per_cat.items()), columns=['Categories', 'Frequency'])\n",
    "unique_freq_rule.rename(columns={\"Categories\": \"Class\", \"Frequency\": \"Unique_Frequency\"}, inplace=True)\n",
    "unique_freq_rule[\"Method\"] = \"ClausIE\""
   ]
  },
  {
   "cell_type": "code",
   "execution_count": 15,
   "metadata": {},
   "outputs": [
    {
     "data": {
      "text/html": [
       "<div>\n",
       "<style scoped>\n",
       "    .dataframe tbody tr th:only-of-type {\n",
       "        vertical-align: middle;\n",
       "    }\n",
       "\n",
       "    .dataframe tbody tr th {\n",
       "        vertical-align: top;\n",
       "    }\n",
       "\n",
       "    .dataframe thead th {\n",
       "        text-align: right;\n",
       "    }\n",
       "</style>\n",
       "<table border=\"1\" class=\"dataframe\">\n",
       "  <thead>\n",
       "    <tr style=\"text-align: right;\">\n",
       "      <th></th>\n",
       "      <th>Class</th>\n",
       "      <th>Total_Frequency</th>\n",
       "      <th>Method</th>\n",
       "    </tr>\n",
       "  </thead>\n",
       "  <tbody>\n",
       "    <tr>\n",
       "      <th>0</th>\n",
       "      <td>Budget_Amendment</td>\n",
       "      <td>11</td>\n",
       "      <td>ClausIE</td>\n",
       "    </tr>\n",
       "    <tr>\n",
       "      <th>1</th>\n",
       "      <td>European_Union</td>\n",
       "      <td>32</td>\n",
       "      <td>ClausIE</td>\n",
       "    </tr>\n",
       "    <tr>\n",
       "      <th>2</th>\n",
       "      <td>Estimates</td>\n",
       "      <td>27</td>\n",
       "      <td>ClausIE</td>\n",
       "    </tr>\n",
       "    <tr>\n",
       "      <th>3</th>\n",
       "      <td>Draft_Budget</td>\n",
       "      <td>30</td>\n",
       "      <td>ClausIE</td>\n",
       "    </tr>\n",
       "    <tr>\n",
       "      <th>4</th>\n",
       "      <td>Budget</td>\n",
       "      <td>1</td>\n",
       "      <td>ClausIE</td>\n",
       "    </tr>\n",
       "    <tr>\n",
       "      <th>5</th>\n",
       "      <td>Legal_Construct</td>\n",
       "      <td>16</td>\n",
       "      <td>ClausIE</td>\n",
       "    </tr>\n",
       "    <tr>\n",
       "      <th>6</th>\n",
       "      <td>Working_Documents</td>\n",
       "      <td>15</td>\n",
       "      <td>ClausIE</td>\n",
       "    </tr>\n",
       "    <tr>\n",
       "      <th>7</th>\n",
       "      <td>Budget_Tool</td>\n",
       "      <td>10</td>\n",
       "      <td>ClausIE</td>\n",
       "    </tr>\n",
       "    <tr>\n",
       "      <th>8</th>\n",
       "      <td>Fund</td>\n",
       "      <td>6</td>\n",
       "      <td>ClausIE</td>\n",
       "    </tr>\n",
       "    <tr>\n",
       "      <th>9</th>\n",
       "      <td>EU_Action</td>\n",
       "      <td>17</td>\n",
       "      <td>ClausIE</td>\n",
       "    </tr>\n",
       "    <tr>\n",
       "      <th>10</th>\n",
       "      <td>Human_Resources</td>\n",
       "      <td>16</td>\n",
       "      <td>ClausIE</td>\n",
       "    </tr>\n",
       "    <tr>\n",
       "      <th>11</th>\n",
       "      <td>Financial_Tool</td>\n",
       "      <td>20</td>\n",
       "      <td>ClausIE</td>\n",
       "    </tr>\n",
       "    <tr>\n",
       "      <th>12</th>\n",
       "      <td>Person</td>\n",
       "      <td>3</td>\n",
       "      <td>ClausIE</td>\n",
       "    </tr>\n",
       "    <tr>\n",
       "      <th>13</th>\n",
       "      <td>Sections</td>\n",
       "      <td>17</td>\n",
       "      <td>ClausIE</td>\n",
       "    </tr>\n",
       "    <tr>\n",
       "      <th>14</th>\n",
       "      <td>Appropriations</td>\n",
       "      <td>21</td>\n",
       "      <td>ClausIE</td>\n",
       "    </tr>\n",
       "    <tr>\n",
       "      <th>15</th>\n",
       "      <td>Aid</td>\n",
       "      <td>9</td>\n",
       "      <td>ClausIE</td>\n",
       "    </tr>\n",
       "    <tr>\n",
       "      <th>16</th>\n",
       "      <td>Provisions</td>\n",
       "      <td>3</td>\n",
       "      <td>ClausIE</td>\n",
       "    </tr>\n",
       "    <tr>\n",
       "      <th>17</th>\n",
       "      <td>Article</td>\n",
       "      <td>1</td>\n",
       "      <td>ClausIE</td>\n",
       "    </tr>\n",
       "    <tr>\n",
       "      <th>18</th>\n",
       "      <td>Adopted_Draft_Budget</td>\n",
       "      <td>7</td>\n",
       "      <td>ClausIE</td>\n",
       "    </tr>\n",
       "  </tbody>\n",
       "</table>\n",
       "</div>"
      ],
      "text/plain": [
       "                   Class  Total_Frequency   Method\n",
       "0       Budget_Amendment               11  ClausIE\n",
       "1         European_Union               32  ClausIE\n",
       "2              Estimates               27  ClausIE\n",
       "3           Draft_Budget               30  ClausIE\n",
       "4                 Budget                1  ClausIE\n",
       "5        Legal_Construct               16  ClausIE\n",
       "6      Working_Documents               15  ClausIE\n",
       "7            Budget_Tool               10  ClausIE\n",
       "8                   Fund                6  ClausIE\n",
       "9              EU_Action               17  ClausIE\n",
       "10       Human_Resources               16  ClausIE\n",
       "11        Financial_Tool               20  ClausIE\n",
       "12                Person                3  ClausIE\n",
       "13              Sections               17  ClausIE\n",
       "14        Appropriations               21  ClausIE\n",
       "15                   Aid                9  ClausIE\n",
       "16            Provisions                3  ClausIE\n",
       "17               Article                1  ClausIE\n",
       "18  Adopted_Draft_Budget                7  ClausIE"
      ]
     },
     "execution_count": 15,
     "metadata": {},
     "output_type": "execute_result"
    }
   ],
   "source": [
    "total_freq_rule"
   ]
  },
  {
   "cell_type": "code",
   "execution_count": 16,
   "metadata": {},
   "outputs": [
    {
     "data": {
      "text/html": [
       "<div>\n",
       "<style scoped>\n",
       "    .dataframe tbody tr th:only-of-type {\n",
       "        vertical-align: middle;\n",
       "    }\n",
       "\n",
       "    .dataframe tbody tr th {\n",
       "        vertical-align: top;\n",
       "    }\n",
       "\n",
       "    .dataframe thead th {\n",
       "        text-align: right;\n",
       "    }\n",
       "</style>\n",
       "<table border=\"1\" class=\"dataframe\">\n",
       "  <thead>\n",
       "    <tr style=\"text-align: right;\">\n",
       "      <th></th>\n",
       "      <th>Class</th>\n",
       "      <th>Unique_Frequency</th>\n",
       "      <th>Method</th>\n",
       "    </tr>\n",
       "  </thead>\n",
       "  <tbody>\n",
       "    <tr>\n",
       "      <th>0</th>\n",
       "      <td>Budget_Amendment</td>\n",
       "      <td>3</td>\n",
       "      <td>ClausIE</td>\n",
       "    </tr>\n",
       "    <tr>\n",
       "      <th>1</th>\n",
       "      <td>European_Union</td>\n",
       "      <td>7</td>\n",
       "      <td>ClausIE</td>\n",
       "    </tr>\n",
       "    <tr>\n",
       "      <th>2</th>\n",
       "      <td>Estimates</td>\n",
       "      <td>9</td>\n",
       "      <td>ClausIE</td>\n",
       "    </tr>\n",
       "    <tr>\n",
       "      <th>3</th>\n",
       "      <td>Draft_Budget</td>\n",
       "      <td>5</td>\n",
       "      <td>ClausIE</td>\n",
       "    </tr>\n",
       "    <tr>\n",
       "      <th>4</th>\n",
       "      <td>Budget</td>\n",
       "      <td>1</td>\n",
       "      <td>ClausIE</td>\n",
       "    </tr>\n",
       "    <tr>\n",
       "      <th>5</th>\n",
       "      <td>Legal_Construct</td>\n",
       "      <td>7</td>\n",
       "      <td>ClausIE</td>\n",
       "    </tr>\n",
       "    <tr>\n",
       "      <th>6</th>\n",
       "      <td>Working_Documents</td>\n",
       "      <td>5</td>\n",
       "      <td>ClausIE</td>\n",
       "    </tr>\n",
       "    <tr>\n",
       "      <th>7</th>\n",
       "      <td>Budget_Tool</td>\n",
       "      <td>4</td>\n",
       "      <td>ClausIE</td>\n",
       "    </tr>\n",
       "    <tr>\n",
       "      <th>8</th>\n",
       "      <td>Fund</td>\n",
       "      <td>2</td>\n",
       "      <td>ClausIE</td>\n",
       "    </tr>\n",
       "    <tr>\n",
       "      <th>9</th>\n",
       "      <td>EU_Action</td>\n",
       "      <td>6</td>\n",
       "      <td>ClausIE</td>\n",
       "    </tr>\n",
       "    <tr>\n",
       "      <th>10</th>\n",
       "      <td>Human_Resources</td>\n",
       "      <td>8</td>\n",
       "      <td>ClausIE</td>\n",
       "    </tr>\n",
       "    <tr>\n",
       "      <th>11</th>\n",
       "      <td>Financial_Tool</td>\n",
       "      <td>9</td>\n",
       "      <td>ClausIE</td>\n",
       "    </tr>\n",
       "    <tr>\n",
       "      <th>12</th>\n",
       "      <td>Person</td>\n",
       "      <td>2</td>\n",
       "      <td>ClausIE</td>\n",
       "    </tr>\n",
       "    <tr>\n",
       "      <th>13</th>\n",
       "      <td>Sections</td>\n",
       "      <td>7</td>\n",
       "      <td>ClausIE</td>\n",
       "    </tr>\n",
       "    <tr>\n",
       "      <th>14</th>\n",
       "      <td>Appropriations</td>\n",
       "      <td>6</td>\n",
       "      <td>ClausIE</td>\n",
       "    </tr>\n",
       "    <tr>\n",
       "      <th>15</th>\n",
       "      <td>Aid</td>\n",
       "      <td>3</td>\n",
       "      <td>ClausIE</td>\n",
       "    </tr>\n",
       "    <tr>\n",
       "      <th>16</th>\n",
       "      <td>Provisions</td>\n",
       "      <td>1</td>\n",
       "      <td>ClausIE</td>\n",
       "    </tr>\n",
       "    <tr>\n",
       "      <th>17</th>\n",
       "      <td>Article</td>\n",
       "      <td>1</td>\n",
       "      <td>ClausIE</td>\n",
       "    </tr>\n",
       "    <tr>\n",
       "      <th>18</th>\n",
       "      <td>Adopted_Draft_Budget</td>\n",
       "      <td>2</td>\n",
       "      <td>ClausIE</td>\n",
       "    </tr>\n",
       "  </tbody>\n",
       "</table>\n",
       "</div>"
      ],
      "text/plain": [
       "                   Class  Unique_Frequency   Method\n",
       "0       Budget_Amendment                 3  ClausIE\n",
       "1         European_Union                 7  ClausIE\n",
       "2              Estimates                 9  ClausIE\n",
       "3           Draft_Budget                 5  ClausIE\n",
       "4                 Budget                 1  ClausIE\n",
       "5        Legal_Construct                 7  ClausIE\n",
       "6      Working_Documents                 5  ClausIE\n",
       "7            Budget_Tool                 4  ClausIE\n",
       "8                   Fund                 2  ClausIE\n",
       "9              EU_Action                 6  ClausIE\n",
       "10       Human_Resources                 8  ClausIE\n",
       "11        Financial_Tool                 9  ClausIE\n",
       "12                Person                 2  ClausIE\n",
       "13              Sections                 7  ClausIE\n",
       "14        Appropriations                 6  ClausIE\n",
       "15                   Aid                 3  ClausIE\n",
       "16            Provisions                 1  ClausIE\n",
       "17               Article                 1  ClausIE\n",
       "18  Adopted_Draft_Budget                 2  ClausIE"
      ]
     },
     "execution_count": 16,
     "metadata": {},
     "output_type": "execute_result"
    }
   ],
   "source": [
    "unique_freq_rule"
   ]
  },
  {
   "cell_type": "code",
   "execution_count": 17,
   "metadata": {},
   "outputs": [],
   "source": [
    "total_freq_rule[\"Unique_Frequency\"] = unique_freq_rule[\"Unique_Frequency\"]"
   ]
  },
  {
   "cell_type": "code",
   "execution_count": 18,
   "metadata": {},
   "outputs": [
    {
     "data": {
      "text/html": [
       "<div>\n",
       "<style scoped>\n",
       "    .dataframe tbody tr th:only-of-type {\n",
       "        vertical-align: middle;\n",
       "    }\n",
       "\n",
       "    .dataframe tbody tr th {\n",
       "        vertical-align: top;\n",
       "    }\n",
       "\n",
       "    .dataframe thead th {\n",
       "        text-align: right;\n",
       "    }\n",
       "</style>\n",
       "<table border=\"1\" class=\"dataframe\">\n",
       "  <thead>\n",
       "    <tr style=\"text-align: right;\">\n",
       "      <th></th>\n",
       "      <th>Class</th>\n",
       "      <th>Total_Frequency</th>\n",
       "      <th>Method</th>\n",
       "      <th>Unique_Frequency</th>\n",
       "    </tr>\n",
       "  </thead>\n",
       "  <tbody>\n",
       "    <tr>\n",
       "      <th>0</th>\n",
       "      <td>Budget_Amendment</td>\n",
       "      <td>11</td>\n",
       "      <td>ClausIE</td>\n",
       "      <td>3</td>\n",
       "    </tr>\n",
       "    <tr>\n",
       "      <th>1</th>\n",
       "      <td>European_Union</td>\n",
       "      <td>32</td>\n",
       "      <td>ClausIE</td>\n",
       "      <td>7</td>\n",
       "    </tr>\n",
       "    <tr>\n",
       "      <th>2</th>\n",
       "      <td>Estimates</td>\n",
       "      <td>27</td>\n",
       "      <td>ClausIE</td>\n",
       "      <td>9</td>\n",
       "    </tr>\n",
       "    <tr>\n",
       "      <th>3</th>\n",
       "      <td>Draft_Budget</td>\n",
       "      <td>30</td>\n",
       "      <td>ClausIE</td>\n",
       "      <td>5</td>\n",
       "    </tr>\n",
       "    <tr>\n",
       "      <th>4</th>\n",
       "      <td>Budget</td>\n",
       "      <td>1</td>\n",
       "      <td>ClausIE</td>\n",
       "      <td>1</td>\n",
       "    </tr>\n",
       "    <tr>\n",
       "      <th>5</th>\n",
       "      <td>Legal_Construct</td>\n",
       "      <td>16</td>\n",
       "      <td>ClausIE</td>\n",
       "      <td>7</td>\n",
       "    </tr>\n",
       "    <tr>\n",
       "      <th>6</th>\n",
       "      <td>Working_Documents</td>\n",
       "      <td>15</td>\n",
       "      <td>ClausIE</td>\n",
       "      <td>5</td>\n",
       "    </tr>\n",
       "    <tr>\n",
       "      <th>7</th>\n",
       "      <td>Budget_Tool</td>\n",
       "      <td>10</td>\n",
       "      <td>ClausIE</td>\n",
       "      <td>4</td>\n",
       "    </tr>\n",
       "    <tr>\n",
       "      <th>8</th>\n",
       "      <td>Fund</td>\n",
       "      <td>6</td>\n",
       "      <td>ClausIE</td>\n",
       "      <td>2</td>\n",
       "    </tr>\n",
       "    <tr>\n",
       "      <th>9</th>\n",
       "      <td>EU_Action</td>\n",
       "      <td>17</td>\n",
       "      <td>ClausIE</td>\n",
       "      <td>6</td>\n",
       "    </tr>\n",
       "    <tr>\n",
       "      <th>10</th>\n",
       "      <td>Human_Resources</td>\n",
       "      <td>16</td>\n",
       "      <td>ClausIE</td>\n",
       "      <td>8</td>\n",
       "    </tr>\n",
       "    <tr>\n",
       "      <th>11</th>\n",
       "      <td>Financial_Tool</td>\n",
       "      <td>20</td>\n",
       "      <td>ClausIE</td>\n",
       "      <td>9</td>\n",
       "    </tr>\n",
       "    <tr>\n",
       "      <th>12</th>\n",
       "      <td>Person</td>\n",
       "      <td>3</td>\n",
       "      <td>ClausIE</td>\n",
       "      <td>2</td>\n",
       "    </tr>\n",
       "    <tr>\n",
       "      <th>13</th>\n",
       "      <td>Sections</td>\n",
       "      <td>17</td>\n",
       "      <td>ClausIE</td>\n",
       "      <td>7</td>\n",
       "    </tr>\n",
       "    <tr>\n",
       "      <th>14</th>\n",
       "      <td>Appropriations</td>\n",
       "      <td>21</td>\n",
       "      <td>ClausIE</td>\n",
       "      <td>6</td>\n",
       "    </tr>\n",
       "    <tr>\n",
       "      <th>15</th>\n",
       "      <td>Aid</td>\n",
       "      <td>9</td>\n",
       "      <td>ClausIE</td>\n",
       "      <td>3</td>\n",
       "    </tr>\n",
       "    <tr>\n",
       "      <th>16</th>\n",
       "      <td>Provisions</td>\n",
       "      <td>3</td>\n",
       "      <td>ClausIE</td>\n",
       "      <td>1</td>\n",
       "    </tr>\n",
       "    <tr>\n",
       "      <th>17</th>\n",
       "      <td>Article</td>\n",
       "      <td>1</td>\n",
       "      <td>ClausIE</td>\n",
       "      <td>1</td>\n",
       "    </tr>\n",
       "    <tr>\n",
       "      <th>18</th>\n",
       "      <td>Adopted_Draft_Budget</td>\n",
       "      <td>7</td>\n",
       "      <td>ClausIE</td>\n",
       "      <td>2</td>\n",
       "    </tr>\n",
       "  </tbody>\n",
       "</table>\n",
       "</div>"
      ],
      "text/plain": [
       "                   Class  Total_Frequency   Method  Unique_Frequency\n",
       "0       Budget_Amendment               11  ClausIE                 3\n",
       "1         European_Union               32  ClausIE                 7\n",
       "2              Estimates               27  ClausIE                 9\n",
       "3           Draft_Budget               30  ClausIE                 5\n",
       "4                 Budget                1  ClausIE                 1\n",
       "5        Legal_Construct               16  ClausIE                 7\n",
       "6      Working_Documents               15  ClausIE                 5\n",
       "7            Budget_Tool               10  ClausIE                 4\n",
       "8                   Fund                6  ClausIE                 2\n",
       "9              EU_Action               17  ClausIE                 6\n",
       "10       Human_Resources               16  ClausIE                 8\n",
       "11        Financial_Tool               20  ClausIE                 9\n",
       "12                Person                3  ClausIE                 2\n",
       "13              Sections               17  ClausIE                 7\n",
       "14        Appropriations               21  ClausIE                 6\n",
       "15                   Aid                9  ClausIE                 3\n",
       "16            Provisions                3  ClausIE                 1\n",
       "17               Article                1  ClausIE                 1\n",
       "18  Adopted_Draft_Budget                7  ClausIE                 2"
      ]
     },
     "execution_count": 18,
     "metadata": {},
     "output_type": "execute_result"
    }
   ],
   "source": [
    "total_freq_rule"
   ]
  },
  {
   "cell_type": "code",
   "execution_count": 19,
   "metadata": {},
   "outputs": [],
   "source": [
    "rebel_and_claus = pd.concat([total_freq_rebel, total_freq_rule], ignore_index=True)"
   ]
  },
  {
   "cell_type": "code",
   "execution_count": 20,
   "metadata": {},
   "outputs": [
    {
     "data": {
      "text/html": [
       "<div>\n",
       "<style scoped>\n",
       "    .dataframe tbody tr th:only-of-type {\n",
       "        vertical-align: middle;\n",
       "    }\n",
       "\n",
       "    .dataframe tbody tr th {\n",
       "        vertical-align: top;\n",
       "    }\n",
       "\n",
       "    .dataframe thead th {\n",
       "        text-align: right;\n",
       "    }\n",
       "</style>\n",
       "<table border=\"1\" class=\"dataframe\">\n",
       "  <thead>\n",
       "    <tr style=\"text-align: right;\">\n",
       "      <th></th>\n",
       "      <th>Class</th>\n",
       "      <th>Total_Frequency</th>\n",
       "      <th>Method</th>\n",
       "      <th>Unique_Frequency</th>\n",
       "    </tr>\n",
       "  </thead>\n",
       "  <tbody>\n",
       "    <tr>\n",
       "      <th>0</th>\n",
       "      <td>European_Union</td>\n",
       "      <td>39</td>\n",
       "      <td>Rebel</td>\n",
       "      <td>7</td>\n",
       "    </tr>\n",
       "    <tr>\n",
       "      <th>1</th>\n",
       "      <td>Aid</td>\n",
       "      <td>6</td>\n",
       "      <td>Rebel</td>\n",
       "      <td>4</td>\n",
       "    </tr>\n",
       "    <tr>\n",
       "      <th>2</th>\n",
       "      <td>EU_Action</td>\n",
       "      <td>3</td>\n",
       "      <td>Rebel</td>\n",
       "      <td>2</td>\n",
       "    </tr>\n",
       "    <tr>\n",
       "      <th>3</th>\n",
       "      <td>Budget</td>\n",
       "      <td>15</td>\n",
       "      <td>Rebel</td>\n",
       "      <td>1</td>\n",
       "    </tr>\n",
       "    <tr>\n",
       "      <th>4</th>\n",
       "      <td>Estimates</td>\n",
       "      <td>21</td>\n",
       "      <td>Rebel</td>\n",
       "      <td>9</td>\n",
       "    </tr>\n",
       "    <tr>\n",
       "      <th>5</th>\n",
       "      <td>Appropriations</td>\n",
       "      <td>15</td>\n",
       "      <td>Rebel</td>\n",
       "      <td>4</td>\n",
       "    </tr>\n",
       "    <tr>\n",
       "      <th>6</th>\n",
       "      <td>Legal_Construct</td>\n",
       "      <td>16</td>\n",
       "      <td>Rebel</td>\n",
       "      <td>9</td>\n",
       "    </tr>\n",
       "    <tr>\n",
       "      <th>7</th>\n",
       "      <td>Draft_Budget</td>\n",
       "      <td>9</td>\n",
       "      <td>Rebel</td>\n",
       "      <td>3</td>\n",
       "    </tr>\n",
       "    <tr>\n",
       "      <th>8</th>\n",
       "      <td>Working_Documents</td>\n",
       "      <td>2</td>\n",
       "      <td>Rebel</td>\n",
       "      <td>1</td>\n",
       "    </tr>\n",
       "    <tr>\n",
       "      <th>9</th>\n",
       "      <td>Financial_Tool</td>\n",
       "      <td>11</td>\n",
       "      <td>Rebel</td>\n",
       "      <td>9</td>\n",
       "    </tr>\n",
       "    <tr>\n",
       "      <th>10</th>\n",
       "      <td>Human_Resources</td>\n",
       "      <td>6</td>\n",
       "      <td>Rebel</td>\n",
       "      <td>5</td>\n",
       "    </tr>\n",
       "    <tr>\n",
       "      <th>11</th>\n",
       "      <td>Budget_Amendment</td>\n",
       "      <td>4</td>\n",
       "      <td>Rebel</td>\n",
       "      <td>2</td>\n",
       "    </tr>\n",
       "    <tr>\n",
       "      <th>12</th>\n",
       "      <td>Person</td>\n",
       "      <td>1</td>\n",
       "      <td>Rebel</td>\n",
       "      <td>1</td>\n",
       "    </tr>\n",
       "    <tr>\n",
       "      <th>13</th>\n",
       "      <td>Budget_Tool</td>\n",
       "      <td>12</td>\n",
       "      <td>Rebel</td>\n",
       "      <td>6</td>\n",
       "    </tr>\n",
       "    <tr>\n",
       "      <th>14</th>\n",
       "      <td>Provisions</td>\n",
       "      <td>2</td>\n",
       "      <td>Rebel</td>\n",
       "      <td>1</td>\n",
       "    </tr>\n",
       "    <tr>\n",
       "      <th>15</th>\n",
       "      <td>International_Organization</td>\n",
       "      <td>2</td>\n",
       "      <td>Rebel</td>\n",
       "      <td>2</td>\n",
       "    </tr>\n",
       "    <tr>\n",
       "      <th>16</th>\n",
       "      <td>Fund</td>\n",
       "      <td>4</td>\n",
       "      <td>Rebel</td>\n",
       "      <td>2</td>\n",
       "    </tr>\n",
       "    <tr>\n",
       "      <th>17</th>\n",
       "      <td>Budget_Amendment</td>\n",
       "      <td>11</td>\n",
       "      <td>ClausIE</td>\n",
       "      <td>3</td>\n",
       "    </tr>\n",
       "    <tr>\n",
       "      <th>18</th>\n",
       "      <td>European_Union</td>\n",
       "      <td>32</td>\n",
       "      <td>ClausIE</td>\n",
       "      <td>7</td>\n",
       "    </tr>\n",
       "    <tr>\n",
       "      <th>19</th>\n",
       "      <td>Estimates</td>\n",
       "      <td>27</td>\n",
       "      <td>ClausIE</td>\n",
       "      <td>9</td>\n",
       "    </tr>\n",
       "    <tr>\n",
       "      <th>20</th>\n",
       "      <td>Draft_Budget</td>\n",
       "      <td>30</td>\n",
       "      <td>ClausIE</td>\n",
       "      <td>5</td>\n",
       "    </tr>\n",
       "    <tr>\n",
       "      <th>21</th>\n",
       "      <td>Budget</td>\n",
       "      <td>1</td>\n",
       "      <td>ClausIE</td>\n",
       "      <td>1</td>\n",
       "    </tr>\n",
       "    <tr>\n",
       "      <th>22</th>\n",
       "      <td>Legal_Construct</td>\n",
       "      <td>16</td>\n",
       "      <td>ClausIE</td>\n",
       "      <td>7</td>\n",
       "    </tr>\n",
       "    <tr>\n",
       "      <th>23</th>\n",
       "      <td>Working_Documents</td>\n",
       "      <td>15</td>\n",
       "      <td>ClausIE</td>\n",
       "      <td>5</td>\n",
       "    </tr>\n",
       "    <tr>\n",
       "      <th>24</th>\n",
       "      <td>Budget_Tool</td>\n",
       "      <td>10</td>\n",
       "      <td>ClausIE</td>\n",
       "      <td>4</td>\n",
       "    </tr>\n",
       "    <tr>\n",
       "      <th>25</th>\n",
       "      <td>Fund</td>\n",
       "      <td>6</td>\n",
       "      <td>ClausIE</td>\n",
       "      <td>2</td>\n",
       "    </tr>\n",
       "    <tr>\n",
       "      <th>26</th>\n",
       "      <td>EU_Action</td>\n",
       "      <td>17</td>\n",
       "      <td>ClausIE</td>\n",
       "      <td>6</td>\n",
       "    </tr>\n",
       "    <tr>\n",
       "      <th>27</th>\n",
       "      <td>Human_Resources</td>\n",
       "      <td>16</td>\n",
       "      <td>ClausIE</td>\n",
       "      <td>8</td>\n",
       "    </tr>\n",
       "    <tr>\n",
       "      <th>28</th>\n",
       "      <td>Financial_Tool</td>\n",
       "      <td>20</td>\n",
       "      <td>ClausIE</td>\n",
       "      <td>9</td>\n",
       "    </tr>\n",
       "    <tr>\n",
       "      <th>29</th>\n",
       "      <td>Person</td>\n",
       "      <td>3</td>\n",
       "      <td>ClausIE</td>\n",
       "      <td>2</td>\n",
       "    </tr>\n",
       "    <tr>\n",
       "      <th>30</th>\n",
       "      <td>Sections</td>\n",
       "      <td>17</td>\n",
       "      <td>ClausIE</td>\n",
       "      <td>7</td>\n",
       "    </tr>\n",
       "    <tr>\n",
       "      <th>31</th>\n",
       "      <td>Appropriations</td>\n",
       "      <td>21</td>\n",
       "      <td>ClausIE</td>\n",
       "      <td>6</td>\n",
       "    </tr>\n",
       "    <tr>\n",
       "      <th>32</th>\n",
       "      <td>Aid</td>\n",
       "      <td>9</td>\n",
       "      <td>ClausIE</td>\n",
       "      <td>3</td>\n",
       "    </tr>\n",
       "    <tr>\n",
       "      <th>33</th>\n",
       "      <td>Provisions</td>\n",
       "      <td>3</td>\n",
       "      <td>ClausIE</td>\n",
       "      <td>1</td>\n",
       "    </tr>\n",
       "    <tr>\n",
       "      <th>34</th>\n",
       "      <td>Article</td>\n",
       "      <td>1</td>\n",
       "      <td>ClausIE</td>\n",
       "      <td>1</td>\n",
       "    </tr>\n",
       "    <tr>\n",
       "      <th>35</th>\n",
       "      <td>Adopted_Draft_Budget</td>\n",
       "      <td>7</td>\n",
       "      <td>ClausIE</td>\n",
       "      <td>2</td>\n",
       "    </tr>\n",
       "  </tbody>\n",
       "</table>\n",
       "</div>"
      ],
      "text/plain": [
       "                         Class  Total_Frequency   Method  Unique_Frequency\n",
       "0               European_Union               39    Rebel                 7\n",
       "1                          Aid                6    Rebel                 4\n",
       "2                    EU_Action                3    Rebel                 2\n",
       "3                       Budget               15    Rebel                 1\n",
       "4                    Estimates               21    Rebel                 9\n",
       "5               Appropriations               15    Rebel                 4\n",
       "6              Legal_Construct               16    Rebel                 9\n",
       "7                 Draft_Budget                9    Rebel                 3\n",
       "8            Working_Documents                2    Rebel                 1\n",
       "9               Financial_Tool               11    Rebel                 9\n",
       "10             Human_Resources                6    Rebel                 5\n",
       "11            Budget_Amendment                4    Rebel                 2\n",
       "12                      Person                1    Rebel                 1\n",
       "13                 Budget_Tool               12    Rebel                 6\n",
       "14                  Provisions                2    Rebel                 1\n",
       "15  International_Organization                2    Rebel                 2\n",
       "16                        Fund                4    Rebel                 2\n",
       "17            Budget_Amendment               11  ClausIE                 3\n",
       "18              European_Union               32  ClausIE                 7\n",
       "19                   Estimates               27  ClausIE                 9\n",
       "20                Draft_Budget               30  ClausIE                 5\n",
       "21                      Budget                1  ClausIE                 1\n",
       "22             Legal_Construct               16  ClausIE                 7\n",
       "23           Working_Documents               15  ClausIE                 5\n",
       "24                 Budget_Tool               10  ClausIE                 4\n",
       "25                        Fund                6  ClausIE                 2\n",
       "26                   EU_Action               17  ClausIE                 6\n",
       "27             Human_Resources               16  ClausIE                 8\n",
       "28              Financial_Tool               20  ClausIE                 9\n",
       "29                      Person                3  ClausIE                 2\n",
       "30                    Sections               17  ClausIE                 7\n",
       "31              Appropriations               21  ClausIE                 6\n",
       "32                         Aid                9  ClausIE                 3\n",
       "33                  Provisions                3  ClausIE                 1\n",
       "34                     Article                1  ClausIE                 1\n",
       "35        Adopted_Draft_Budget                7  ClausIE                 2"
      ]
     },
     "execution_count": 20,
     "metadata": {},
     "output_type": "execute_result"
    }
   ],
   "source": [
    "rebel_and_claus"
   ]
  },
  {
   "cell_type": "code",
   "execution_count": 21,
   "metadata": {},
   "outputs": [
    {
     "data": {
      "text/html": [
       "<div>\n",
       "<style scoped>\n",
       "    .dataframe tbody tr th:only-of-type {\n",
       "        vertical-align: middle;\n",
       "    }\n",
       "\n",
       "    .dataframe tbody tr th {\n",
       "        vertical-align: top;\n",
       "    }\n",
       "\n",
       "    .dataframe thead th {\n",
       "        text-align: right;\n",
       "    }\n",
       "</style>\n",
       "<table border=\"1\" class=\"dataframe\">\n",
       "  <thead>\n",
       "    <tr style=\"text-align: right;\">\n",
       "      <th></th>\n",
       "      <th></th>\n",
       "      <th>Total_Frequency</th>\n",
       "      <th>Unique_Frequency</th>\n",
       "    </tr>\n",
       "    <tr>\n",
       "      <th>Class</th>\n",
       "      <th>Method</th>\n",
       "      <th></th>\n",
       "      <th></th>\n",
       "    </tr>\n",
       "  </thead>\n",
       "  <tbody>\n",
       "    <tr>\n",
       "      <th>Adopted_Draft_Budget</th>\n",
       "      <th>ClausIE</th>\n",
       "      <td>7</td>\n",
       "      <td>2</td>\n",
       "    </tr>\n",
       "    <tr>\n",
       "      <th rowspan=\"2\" valign=\"top\">Aid</th>\n",
       "      <th>ClausIE</th>\n",
       "      <td>9</td>\n",
       "      <td>3</td>\n",
       "    </tr>\n",
       "    <tr>\n",
       "      <th>Rebel</th>\n",
       "      <td>6</td>\n",
       "      <td>4</td>\n",
       "    </tr>\n",
       "    <tr>\n",
       "      <th rowspan=\"2\" valign=\"top\">Appropriations</th>\n",
       "      <th>ClausIE</th>\n",
       "      <td>21</td>\n",
       "      <td>6</td>\n",
       "    </tr>\n",
       "    <tr>\n",
       "      <th>Rebel</th>\n",
       "      <td>15</td>\n",
       "      <td>4</td>\n",
       "    </tr>\n",
       "    <tr>\n",
       "      <th>Article</th>\n",
       "      <th>ClausIE</th>\n",
       "      <td>1</td>\n",
       "      <td>1</td>\n",
       "    </tr>\n",
       "    <tr>\n",
       "      <th rowspan=\"2\" valign=\"top\">Budget</th>\n",
       "      <th>ClausIE</th>\n",
       "      <td>1</td>\n",
       "      <td>1</td>\n",
       "    </tr>\n",
       "    <tr>\n",
       "      <th>Rebel</th>\n",
       "      <td>15</td>\n",
       "      <td>1</td>\n",
       "    </tr>\n",
       "    <tr>\n",
       "      <th rowspan=\"2\" valign=\"top\">Budget_Amendment</th>\n",
       "      <th>ClausIE</th>\n",
       "      <td>11</td>\n",
       "      <td>3</td>\n",
       "    </tr>\n",
       "    <tr>\n",
       "      <th>Rebel</th>\n",
       "      <td>4</td>\n",
       "      <td>2</td>\n",
       "    </tr>\n",
       "    <tr>\n",
       "      <th rowspan=\"2\" valign=\"top\">Budget_Tool</th>\n",
       "      <th>ClausIE</th>\n",
       "      <td>10</td>\n",
       "      <td>4</td>\n",
       "    </tr>\n",
       "    <tr>\n",
       "      <th>Rebel</th>\n",
       "      <td>12</td>\n",
       "      <td>6</td>\n",
       "    </tr>\n",
       "    <tr>\n",
       "      <th rowspan=\"2\" valign=\"top\">Draft_Budget</th>\n",
       "      <th>ClausIE</th>\n",
       "      <td>30</td>\n",
       "      <td>5</td>\n",
       "    </tr>\n",
       "    <tr>\n",
       "      <th>Rebel</th>\n",
       "      <td>9</td>\n",
       "      <td>3</td>\n",
       "    </tr>\n",
       "    <tr>\n",
       "      <th rowspan=\"2\" valign=\"top\">EU_Action</th>\n",
       "      <th>ClausIE</th>\n",
       "      <td>17</td>\n",
       "      <td>6</td>\n",
       "    </tr>\n",
       "    <tr>\n",
       "      <th>Rebel</th>\n",
       "      <td>3</td>\n",
       "      <td>2</td>\n",
       "    </tr>\n",
       "    <tr>\n",
       "      <th rowspan=\"2\" valign=\"top\">Estimates</th>\n",
       "      <th>ClausIE</th>\n",
       "      <td>27</td>\n",
       "      <td>9</td>\n",
       "    </tr>\n",
       "    <tr>\n",
       "      <th>Rebel</th>\n",
       "      <td>21</td>\n",
       "      <td>9</td>\n",
       "    </tr>\n",
       "    <tr>\n",
       "      <th rowspan=\"2\" valign=\"top\">European_Union</th>\n",
       "      <th>ClausIE</th>\n",
       "      <td>32</td>\n",
       "      <td>7</td>\n",
       "    </tr>\n",
       "    <tr>\n",
       "      <th>Rebel</th>\n",
       "      <td>39</td>\n",
       "      <td>7</td>\n",
       "    </tr>\n",
       "    <tr>\n",
       "      <th rowspan=\"2\" valign=\"top\">Financial_Tool</th>\n",
       "      <th>ClausIE</th>\n",
       "      <td>20</td>\n",
       "      <td>9</td>\n",
       "    </tr>\n",
       "    <tr>\n",
       "      <th>Rebel</th>\n",
       "      <td>11</td>\n",
       "      <td>9</td>\n",
       "    </tr>\n",
       "    <tr>\n",
       "      <th rowspan=\"2\" valign=\"top\">Fund</th>\n",
       "      <th>ClausIE</th>\n",
       "      <td>6</td>\n",
       "      <td>2</td>\n",
       "    </tr>\n",
       "    <tr>\n",
       "      <th>Rebel</th>\n",
       "      <td>4</td>\n",
       "      <td>2</td>\n",
       "    </tr>\n",
       "    <tr>\n",
       "      <th rowspan=\"2\" valign=\"top\">Human_Resources</th>\n",
       "      <th>ClausIE</th>\n",
       "      <td>16</td>\n",
       "      <td>8</td>\n",
       "    </tr>\n",
       "    <tr>\n",
       "      <th>Rebel</th>\n",
       "      <td>6</td>\n",
       "      <td>5</td>\n",
       "    </tr>\n",
       "    <tr>\n",
       "      <th>International_Organization</th>\n",
       "      <th>Rebel</th>\n",
       "      <td>2</td>\n",
       "      <td>2</td>\n",
       "    </tr>\n",
       "    <tr>\n",
       "      <th rowspan=\"2\" valign=\"top\">Legal_Construct</th>\n",
       "      <th>ClausIE</th>\n",
       "      <td>16</td>\n",
       "      <td>7</td>\n",
       "    </tr>\n",
       "    <tr>\n",
       "      <th>Rebel</th>\n",
       "      <td>16</td>\n",
       "      <td>9</td>\n",
       "    </tr>\n",
       "    <tr>\n",
       "      <th rowspan=\"2\" valign=\"top\">Person</th>\n",
       "      <th>ClausIE</th>\n",
       "      <td>3</td>\n",
       "      <td>2</td>\n",
       "    </tr>\n",
       "    <tr>\n",
       "      <th>Rebel</th>\n",
       "      <td>1</td>\n",
       "      <td>1</td>\n",
       "    </tr>\n",
       "    <tr>\n",
       "      <th rowspan=\"2\" valign=\"top\">Provisions</th>\n",
       "      <th>ClausIE</th>\n",
       "      <td>3</td>\n",
       "      <td>1</td>\n",
       "    </tr>\n",
       "    <tr>\n",
       "      <th>Rebel</th>\n",
       "      <td>2</td>\n",
       "      <td>1</td>\n",
       "    </tr>\n",
       "    <tr>\n",
       "      <th>Sections</th>\n",
       "      <th>ClausIE</th>\n",
       "      <td>17</td>\n",
       "      <td>7</td>\n",
       "    </tr>\n",
       "    <tr>\n",
       "      <th rowspan=\"2\" valign=\"top\">Working_Documents</th>\n",
       "      <th>ClausIE</th>\n",
       "      <td>15</td>\n",
       "      <td>5</td>\n",
       "    </tr>\n",
       "    <tr>\n",
       "      <th>Rebel</th>\n",
       "      <td>2</td>\n",
       "      <td>1</td>\n",
       "    </tr>\n",
       "  </tbody>\n",
       "</table>\n",
       "</div>"
      ],
      "text/plain": [
       "                                    Total_Frequency  Unique_Frequency\n",
       "Class                      Method                                    \n",
       "Adopted_Draft_Budget       ClausIE                7                 2\n",
       "Aid                        ClausIE                9                 3\n",
       "                           Rebel                  6                 4\n",
       "Appropriations             ClausIE               21                 6\n",
       "                           Rebel                 15                 4\n",
       "Article                    ClausIE                1                 1\n",
       "Budget                     ClausIE                1                 1\n",
       "                           Rebel                 15                 1\n",
       "Budget_Amendment           ClausIE               11                 3\n",
       "                           Rebel                  4                 2\n",
       "Budget_Tool                ClausIE               10                 4\n",
       "                           Rebel                 12                 6\n",
       "Draft_Budget               ClausIE               30                 5\n",
       "                           Rebel                  9                 3\n",
       "EU_Action                  ClausIE               17                 6\n",
       "                           Rebel                  3                 2\n",
       "Estimates                  ClausIE               27                 9\n",
       "                           Rebel                 21                 9\n",
       "European_Union             ClausIE               32                 7\n",
       "                           Rebel                 39                 7\n",
       "Financial_Tool             ClausIE               20                 9\n",
       "                           Rebel                 11                 9\n",
       "Fund                       ClausIE                6                 2\n",
       "                           Rebel                  4                 2\n",
       "Human_Resources            ClausIE               16                 8\n",
       "                           Rebel                  6                 5\n",
       "International_Organization Rebel                  2                 2\n",
       "Legal_Construct            ClausIE               16                 7\n",
       "                           Rebel                 16                 9\n",
       "Person                     ClausIE                3                 2\n",
       "                           Rebel                  1                 1\n",
       "Provisions                 ClausIE                3                 1\n",
       "                           Rebel                  2                 1\n",
       "Sections                   ClausIE               17                 7\n",
       "Working_Documents          ClausIE               15                 5\n",
       "                           Rebel                  2                 1"
      ]
     },
     "execution_count": 21,
     "metadata": {},
     "output_type": "execute_result"
    }
   ],
   "source": [
    "rebel_and_claus_group = rebel_and_claus.groupby([\"Class\", \"Method\"]).sum()\n",
    "rebel_and_claus_group "
   ]
  },
  {
   "cell_type": "code",
   "execution_count": 22,
   "metadata": {},
   "outputs": [
    {
     "data": {
      "text/html": [
       "<div>\n",
       "<style scoped>\n",
       "    .dataframe tbody tr th:only-of-type {\n",
       "        vertical-align: middle;\n",
       "    }\n",
       "\n",
       "    .dataframe tbody tr th {\n",
       "        vertical-align: top;\n",
       "    }\n",
       "\n",
       "    .dataframe thead th {\n",
       "        text-align: right;\n",
       "    }\n",
       "</style>\n",
       "<table border=\"1\" class=\"dataframe\">\n",
       "  <thead>\n",
       "    <tr style=\"text-align: right;\">\n",
       "      <th></th>\n",
       "      <th>Class</th>\n",
       "      <th>Method</th>\n",
       "      <th>Total_Frequency</th>\n",
       "      <th>Unique_Frequency</th>\n",
       "    </tr>\n",
       "  </thead>\n",
       "  <tbody>\n",
       "    <tr>\n",
       "      <th>0</th>\n",
       "      <td>Adopted_Draft_Budget</td>\n",
       "      <td>ClausIE</td>\n",
       "      <td>7</td>\n",
       "      <td>2</td>\n",
       "    </tr>\n",
       "    <tr>\n",
       "      <th>1</th>\n",
       "      <td>Aid</td>\n",
       "      <td>ClausIE</td>\n",
       "      <td>9</td>\n",
       "      <td>3</td>\n",
       "    </tr>\n",
       "    <tr>\n",
       "      <th>2</th>\n",
       "      <td>Aid</td>\n",
       "      <td>Rebel</td>\n",
       "      <td>6</td>\n",
       "      <td>4</td>\n",
       "    </tr>\n",
       "    <tr>\n",
       "      <th>3</th>\n",
       "      <td>Appropriations</td>\n",
       "      <td>ClausIE</td>\n",
       "      <td>21</td>\n",
       "      <td>6</td>\n",
       "    </tr>\n",
       "    <tr>\n",
       "      <th>4</th>\n",
       "      <td>Appropriations</td>\n",
       "      <td>Rebel</td>\n",
       "      <td>15</td>\n",
       "      <td>4</td>\n",
       "    </tr>\n",
       "    <tr>\n",
       "      <th>5</th>\n",
       "      <td>Article</td>\n",
       "      <td>ClausIE</td>\n",
       "      <td>1</td>\n",
       "      <td>1</td>\n",
       "    </tr>\n",
       "    <tr>\n",
       "      <th>6</th>\n",
       "      <td>Budget</td>\n",
       "      <td>ClausIE</td>\n",
       "      <td>1</td>\n",
       "      <td>1</td>\n",
       "    </tr>\n",
       "    <tr>\n",
       "      <th>7</th>\n",
       "      <td>Budget</td>\n",
       "      <td>Rebel</td>\n",
       "      <td>15</td>\n",
       "      <td>1</td>\n",
       "    </tr>\n",
       "    <tr>\n",
       "      <th>8</th>\n",
       "      <td>Budget_Amendment</td>\n",
       "      <td>ClausIE</td>\n",
       "      <td>11</td>\n",
       "      <td>3</td>\n",
       "    </tr>\n",
       "    <tr>\n",
       "      <th>9</th>\n",
       "      <td>Budget_Amendment</td>\n",
       "      <td>Rebel</td>\n",
       "      <td>4</td>\n",
       "      <td>2</td>\n",
       "    </tr>\n",
       "    <tr>\n",
       "      <th>10</th>\n",
       "      <td>Budget_Tool</td>\n",
       "      <td>ClausIE</td>\n",
       "      <td>10</td>\n",
       "      <td>4</td>\n",
       "    </tr>\n",
       "    <tr>\n",
       "      <th>11</th>\n",
       "      <td>Budget_Tool</td>\n",
       "      <td>Rebel</td>\n",
       "      <td>12</td>\n",
       "      <td>6</td>\n",
       "    </tr>\n",
       "    <tr>\n",
       "      <th>12</th>\n",
       "      <td>Draft_Budget</td>\n",
       "      <td>ClausIE</td>\n",
       "      <td>30</td>\n",
       "      <td>5</td>\n",
       "    </tr>\n",
       "    <tr>\n",
       "      <th>13</th>\n",
       "      <td>Draft_Budget</td>\n",
       "      <td>Rebel</td>\n",
       "      <td>9</td>\n",
       "      <td>3</td>\n",
       "    </tr>\n",
       "    <tr>\n",
       "      <th>14</th>\n",
       "      <td>EU_Action</td>\n",
       "      <td>ClausIE</td>\n",
       "      <td>17</td>\n",
       "      <td>6</td>\n",
       "    </tr>\n",
       "    <tr>\n",
       "      <th>15</th>\n",
       "      <td>EU_Action</td>\n",
       "      <td>Rebel</td>\n",
       "      <td>3</td>\n",
       "      <td>2</td>\n",
       "    </tr>\n",
       "    <tr>\n",
       "      <th>16</th>\n",
       "      <td>Estimates</td>\n",
       "      <td>ClausIE</td>\n",
       "      <td>27</td>\n",
       "      <td>9</td>\n",
       "    </tr>\n",
       "    <tr>\n",
       "      <th>17</th>\n",
       "      <td>Estimates</td>\n",
       "      <td>Rebel</td>\n",
       "      <td>21</td>\n",
       "      <td>9</td>\n",
       "    </tr>\n",
       "    <tr>\n",
       "      <th>18</th>\n",
       "      <td>European_Union</td>\n",
       "      <td>ClausIE</td>\n",
       "      <td>32</td>\n",
       "      <td>7</td>\n",
       "    </tr>\n",
       "    <tr>\n",
       "      <th>19</th>\n",
       "      <td>European_Union</td>\n",
       "      <td>Rebel</td>\n",
       "      <td>39</td>\n",
       "      <td>7</td>\n",
       "    </tr>\n",
       "    <tr>\n",
       "      <th>20</th>\n",
       "      <td>Financial_Tool</td>\n",
       "      <td>ClausIE</td>\n",
       "      <td>20</td>\n",
       "      <td>9</td>\n",
       "    </tr>\n",
       "    <tr>\n",
       "      <th>21</th>\n",
       "      <td>Financial_Tool</td>\n",
       "      <td>Rebel</td>\n",
       "      <td>11</td>\n",
       "      <td>9</td>\n",
       "    </tr>\n",
       "    <tr>\n",
       "      <th>22</th>\n",
       "      <td>Fund</td>\n",
       "      <td>ClausIE</td>\n",
       "      <td>6</td>\n",
       "      <td>2</td>\n",
       "    </tr>\n",
       "    <tr>\n",
       "      <th>23</th>\n",
       "      <td>Fund</td>\n",
       "      <td>Rebel</td>\n",
       "      <td>4</td>\n",
       "      <td>2</td>\n",
       "    </tr>\n",
       "    <tr>\n",
       "      <th>24</th>\n",
       "      <td>Human_Resources</td>\n",
       "      <td>ClausIE</td>\n",
       "      <td>16</td>\n",
       "      <td>8</td>\n",
       "    </tr>\n",
       "    <tr>\n",
       "      <th>25</th>\n",
       "      <td>Human_Resources</td>\n",
       "      <td>Rebel</td>\n",
       "      <td>6</td>\n",
       "      <td>5</td>\n",
       "    </tr>\n",
       "    <tr>\n",
       "      <th>26</th>\n",
       "      <td>International_Organization</td>\n",
       "      <td>Rebel</td>\n",
       "      <td>2</td>\n",
       "      <td>2</td>\n",
       "    </tr>\n",
       "    <tr>\n",
       "      <th>27</th>\n",
       "      <td>Legal_Construct</td>\n",
       "      <td>ClausIE</td>\n",
       "      <td>16</td>\n",
       "      <td>7</td>\n",
       "    </tr>\n",
       "    <tr>\n",
       "      <th>28</th>\n",
       "      <td>Legal_Construct</td>\n",
       "      <td>Rebel</td>\n",
       "      <td>16</td>\n",
       "      <td>9</td>\n",
       "    </tr>\n",
       "    <tr>\n",
       "      <th>29</th>\n",
       "      <td>Person</td>\n",
       "      <td>ClausIE</td>\n",
       "      <td>3</td>\n",
       "      <td>2</td>\n",
       "    </tr>\n",
       "    <tr>\n",
       "      <th>30</th>\n",
       "      <td>Person</td>\n",
       "      <td>Rebel</td>\n",
       "      <td>1</td>\n",
       "      <td>1</td>\n",
       "    </tr>\n",
       "    <tr>\n",
       "      <th>31</th>\n",
       "      <td>Provisions</td>\n",
       "      <td>ClausIE</td>\n",
       "      <td>3</td>\n",
       "      <td>1</td>\n",
       "    </tr>\n",
       "    <tr>\n",
       "      <th>32</th>\n",
       "      <td>Provisions</td>\n",
       "      <td>Rebel</td>\n",
       "      <td>2</td>\n",
       "      <td>1</td>\n",
       "    </tr>\n",
       "    <tr>\n",
       "      <th>33</th>\n",
       "      <td>Sections</td>\n",
       "      <td>ClausIE</td>\n",
       "      <td>17</td>\n",
       "      <td>7</td>\n",
       "    </tr>\n",
       "    <tr>\n",
       "      <th>34</th>\n",
       "      <td>Working_Documents</td>\n",
       "      <td>ClausIE</td>\n",
       "      <td>15</td>\n",
       "      <td>5</td>\n",
       "    </tr>\n",
       "    <tr>\n",
       "      <th>35</th>\n",
       "      <td>Working_Documents</td>\n",
       "      <td>Rebel</td>\n",
       "      <td>2</td>\n",
       "      <td>1</td>\n",
       "    </tr>\n",
       "  </tbody>\n",
       "</table>\n",
       "</div>"
      ],
      "text/plain": [
       "                         Class   Method  Total_Frequency  Unique_Frequency\n",
       "0         Adopted_Draft_Budget  ClausIE                7                 2\n",
       "1                          Aid  ClausIE                9                 3\n",
       "2                          Aid    Rebel                6                 4\n",
       "3               Appropriations  ClausIE               21                 6\n",
       "4               Appropriations    Rebel               15                 4\n",
       "5                      Article  ClausIE                1                 1\n",
       "6                       Budget  ClausIE                1                 1\n",
       "7                       Budget    Rebel               15                 1\n",
       "8             Budget_Amendment  ClausIE               11                 3\n",
       "9             Budget_Amendment    Rebel                4                 2\n",
       "10                 Budget_Tool  ClausIE               10                 4\n",
       "11                 Budget_Tool    Rebel               12                 6\n",
       "12                Draft_Budget  ClausIE               30                 5\n",
       "13                Draft_Budget    Rebel                9                 3\n",
       "14                   EU_Action  ClausIE               17                 6\n",
       "15                   EU_Action    Rebel                3                 2\n",
       "16                   Estimates  ClausIE               27                 9\n",
       "17                   Estimates    Rebel               21                 9\n",
       "18              European_Union  ClausIE               32                 7\n",
       "19              European_Union    Rebel               39                 7\n",
       "20              Financial_Tool  ClausIE               20                 9\n",
       "21              Financial_Tool    Rebel               11                 9\n",
       "22                        Fund  ClausIE                6                 2\n",
       "23                        Fund    Rebel                4                 2\n",
       "24             Human_Resources  ClausIE               16                 8\n",
       "25             Human_Resources    Rebel                6                 5\n",
       "26  International_Organization    Rebel                2                 2\n",
       "27             Legal_Construct  ClausIE               16                 7\n",
       "28             Legal_Construct    Rebel               16                 9\n",
       "29                      Person  ClausIE                3                 2\n",
       "30                      Person    Rebel                1                 1\n",
       "31                  Provisions  ClausIE                3                 1\n",
       "32                  Provisions    Rebel                2                 1\n",
       "33                    Sections  ClausIE               17                 7\n",
       "34           Working_Documents  ClausIE               15                 5\n",
       "35           Working_Documents    Rebel                2                 1"
      ]
     },
     "execution_count": 22,
     "metadata": {},
     "output_type": "execute_result"
    }
   ],
   "source": [
    "rebel_and_claus_group_df = rebel_and_claus.groupby([\"Class\", \"Method\"]).sum().reset_index()\n",
    "rebel_and_claus_group_df"
   ]
  },
  {
   "cell_type": "code",
   "execution_count": 23,
   "metadata": {},
   "outputs": [
    {
     "data": {
      "image/png": "[encoded data removed]",
      "text/plain": [
       "<Figure size 640x480 with 1 Axes>"
      ]
     },
     "metadata": {},
     "output_type": "display_data"
    }
   ],
   "source": [
    "# Bar Plot to compare captured total entities\n",
    "sns.set() \n",
    "# Create the bar plot\n",
    "ax = sns.barplot(data=rebel_and_claus_group_df, x=\"Total_Frequency\", y=\"Class\", hue=\"Method\")\n",
    "\n",
    "# Add a title\n",
    "ax.set_title(\"REBEL VS ClausIE - Detected Total Entities\")\n",
    "\n",
    "# Display the plot\n",
    "plt.show()"
   ]
  },
  {
   "cell_type": "code",
   "execution_count": 24,
   "metadata": {},
   "outputs": [
    {
     "data": {
      "image/png": "[encoded data removed]",
      "text/plain": [
       "<Figure size 640x480 with 1 Axes>"
      ]
     },
     "metadata": {},
     "output_type": "display_data"
    }
   ],
   "source": [
    "\n",
    "# Create the bar plot\n",
    "ax = sns.barplot(data=rebel_and_claus_group_df, x=\"Unique_Frequency\", y=\"Class\", hue=\"Method\")\n",
    "\n",
    "# Add a title\n",
    "ax.set_title(\"REBEL VS ClausIE - Detected Unique Entities\")\n",
    "\n",
    "# Display the plot\n",
    "plt.show()"
   ]
  },
  {
   "cell_type": "code",
   "execution_count": 25,
   "metadata": {},
   "outputs": [
    {
     "data": {
      "text/html": [
       "<div>\n",
       "<style scoped>\n",
       "    .dataframe tbody tr th:only-of-type {\n",
       "        vertical-align: middle;\n",
       "    }\n",
       "\n",
       "    .dataframe tbody tr th {\n",
       "        vertical-align: top;\n",
       "    }\n",
       "\n",
       "    .dataframe thead th {\n",
       "        text-align: right;\n",
       "    }\n",
       "</style>\n",
       "<table border=\"1\" class=\"dataframe\">\n",
       "  <thead>\n",
       "    <tr style=\"text-align: right;\">\n",
       "      <th></th>\n",
       "      <th>Class</th>\n",
       "      <th>Total_Frequency</th>\n",
       "      <th>Method</th>\n",
       "      <th>Unique_Frequency</th>\n",
       "    </tr>\n",
       "  </thead>\n",
       "  <tbody>\n",
       "    <tr>\n",
       "      <th>0</th>\n",
       "      <td>Budget_Amendment</td>\n",
       "      <td>11</td>\n",
       "      <td>ClausIE</td>\n",
       "      <td>3</td>\n",
       "    </tr>\n",
       "    <tr>\n",
       "      <th>1</th>\n",
       "      <td>European_Union</td>\n",
       "      <td>32</td>\n",
       "      <td>ClausIE</td>\n",
       "      <td>7</td>\n",
       "    </tr>\n",
       "    <tr>\n",
       "      <th>2</th>\n",
       "      <td>Estimates</td>\n",
       "      <td>27</td>\n",
       "      <td>ClausIE</td>\n",
       "      <td>9</td>\n",
       "    </tr>\n",
       "    <tr>\n",
       "      <th>3</th>\n",
       "      <td>Draft_Budget</td>\n",
       "      <td>30</td>\n",
       "      <td>ClausIE</td>\n",
       "      <td>5</td>\n",
       "    </tr>\n",
       "    <tr>\n",
       "      <th>4</th>\n",
       "      <td>Budget</td>\n",
       "      <td>1</td>\n",
       "      <td>ClausIE</td>\n",
       "      <td>1</td>\n",
       "    </tr>\n",
       "  </tbody>\n",
       "</table>\n",
       "</div>"
      ],
      "text/plain": [
       "              Class  Total_Frequency   Method  Unique_Frequency\n",
       "0  Budget_Amendment               11  ClausIE                 3\n",
       "1    European_Union               32  ClausIE                 7\n",
       "2         Estimates               27  ClausIE                 9\n",
       "3      Draft_Budget               30  ClausIE                 5\n",
       "4            Budget                1  ClausIE                 1"
      ]
     },
     "execution_count": 25,
     "metadata": {},
     "output_type": "execute_result"
    }
   ],
   "source": [
    "total_freq_rule.head()"
   ]
  },
  {
   "cell_type": "code",
   "execution_count": 26,
   "metadata": {},
   "outputs": [
    {
     "data": {
      "text/plain": [
       "['Budget_Amendment',\n",
       " 'European_Union',\n",
       " 'Estimates',\n",
       " 'Draft_Budget',\n",
       " 'Budget',\n",
       " 'Legal_Construct',\n",
       " 'Working_Documents',\n",
       " 'Budget_Tool',\n",
       " 'Fund',\n",
       " 'EU_Action',\n",
       " 'Human_Resources',\n",
       " 'Financial_Tool',\n",
       " 'Person',\n",
       " 'Sections',\n",
       " 'Appropriations',\n",
       " 'Aid',\n",
       " 'Provisions',\n",
       " 'Article',\n",
       " 'Adopted_Draft_Budget']"
      ]
     },
     "execution_count": 26,
     "metadata": {},
     "output_type": "execute_result"
    }
   ],
   "source": [
    "total_freq_rule[\"Class\"].tolist()"
   ]
  },
  {
   "cell_type": "code",
   "execution_count": 27,
   "metadata": {},
   "outputs": [
    {
     "data": {
      "text/plain": [
       "['European_Union',\n",
       " 'Aid',\n",
       " 'EU_Action',\n",
       " 'Budget',\n",
       " 'Estimates',\n",
       " 'Appropriations',\n",
       " 'Legal_Construct',\n",
       " 'Draft_Budget',\n",
       " 'Working_Documents',\n",
       " 'Financial_Tool',\n",
       " 'Human_Resources',\n",
       " 'Budget_Amendment',\n",
       " 'Person',\n",
       " 'Budget_Tool',\n",
       " 'Provisions',\n",
       " 'International_Organization',\n",
       " 'Fund']"
      ]
     },
     "execution_count": 27,
     "metadata": {},
     "output_type": "execute_result"
    }
   ],
   "source": [
    "total_freq_rebel[\"Class\"].tolist()"
   ]
  },
  {
   "cell_type": "code",
   "execution_count": 28,
   "metadata": {},
   "outputs": [
    {
     "data": {
      "text/plain": [
       "[39, 6, 3, 15, 21, 15, 16, 9, 2, 11, 6, 4, 1, 12, 2, 2, 4]"
      ]
     },
     "execution_count": 28,
     "metadata": {},
     "output_type": "execute_result"
    }
   ],
   "source": [
    "total_freq_rebel[\"Total_Frequency\"].tolist()"
   ]
  },
  {
   "cell_type": "code",
   "execution_count": 29,
   "metadata": {},
   "outputs": [
    {
     "data": {
      "text/plain": [
       "[11, 32, 27, 30, 1, 16, 15, 10, 6, 17, 16, 20, 3, 17, 21, 9, 3, 1, 7]"
      ]
     },
     "execution_count": 29,
     "metadata": {},
     "output_type": "execute_result"
    }
   ],
   "source": [
    "total_freq_rule[\"Total_Frequency\"].tolist()"
   ]
  },
  {
   "cell_type": "code",
   "execution_count": 30,
   "metadata": {},
   "outputs": [
    {
     "data": {
      "text/plain": [
       "[3, 7, 9, 5, 1, 7, 5, 4, 2, 6, 8, 9, 2, 7, 6, 3, 1, 1, 2]"
      ]
     },
     "execution_count": 30,
     "metadata": {},
     "output_type": "execute_result"
    }
   ],
   "source": [
    "total_freq_rule[\"Unique_Frequency\"].tolist()"
   ]
  },
  {
   "cell_type": "code",
   "execution_count": 31,
   "metadata": {},
   "outputs": [
    {
     "data": {
      "application/vnd.plotly.v1+json": {
       "config": {
        "plotlyServerURL": "https://plot.ly"
       },
       "data": [
        {
         "fill": "toself",
         "name": "ClausIE",
         "r": [
          3,
          7,
          9,
          5,
          1,
          7,
          5,
          4,
          2,
          6,
          8,
          9,
          2,
          7,
          6,
          3,
          1,
          1,
          2
         ],
         "theta": [
          "Budget_Amendment",
          "European_Union",
          "Estimates",
          "Draft_Budget",
          "Budget",
          "Legal_Construct",
          "Working_Documents",
          "Budget_Tool",
          "Fund",
          "EU_Action",
          "Human_Resources",
          "Financial_Tool",
          "Person",
          "Sections",
          "Appropriations",
          "Aid",
          "Provisions",
          "Article",
          "Adopted_Draft_Budget"
         ],
         "type": "scatterpolar"
        },
        {
         "fill": "toself",
         "name": "Rebel",
         "r": [
          7,
          4,
          2,
          1,
          9,
          4,
          9,
          3,
          1,
          9,
          5,
          2,
          1,
          6,
          1,
          2,
          2
         ],
         "theta": [
          "European_Union",
          "Aid",
          "EU_Action",
          "Budget",
          "Estimates",
          "Appropriations",
          "Legal_Construct",
          "Draft_Budget",
          "Working_Documents",
          "Financial_Tool",
          "Human_Resources",
          "Budget_Amendment",
          "Person",
          "Budget_Tool",
          "Provisions",
          "International_Organization",
          "Fund"
         ],
         "type": "scatterpolar"
        }
       ],
       "layout": {
        "polar": {
         "radialaxis": {
          "range": [
           0,
           10
          ],
          "visible": true
         }
        },
        "showlegend": true,
        "template": {
         "data": {
          "bar": [
           {
            "error_x": {
             "color": "#2a3f5f"
            },
            "error_y": {
             "color": "#2a3f5f"
            },
            "marker": {
             "line": {
              "color": "#E5ECF6",
              "width": 0.5
             },
             "pattern": {
              "fillmode": "overlay",
              "size": 10,
              "solidity": 0.2
             }
            },
            "type": "bar"
           }
          ],
          "barpolar": [
           {
            "marker": {
             "line": {
              "color": "#E5ECF6",
              "width": 0.5
             },
             "pattern": {
              "fillmode": "overlay",
              "size": 10,
              "solidity": 0.2
             }
            },
            "type": "barpolar"
           }
          ],
          "carpet": [
           {
            "aaxis": {
             "endlinecolor": "#2a3f5f",
             "gridcolor": "white",
             "linecolor": "white",
             "minorgridcolor": "white",
             "startlinecolor": "#2a3f5f"
            },
            "baxis": {
             "endlinecolor": "#2a3f5f",
             "gridcolor": "white",
             "linecolor": "white",
             "minorgridcolor": "white",
             "startlinecolor": "#2a3f5f"
            },
            "type": "carpet"
           }
          ],
          "choropleth": [
           {
            "colorbar": {
             "outlinewidth": 0,
             "ticks": ""
            },
            "type": "choropleth"
           }
          ],
          "contour": [
           {
            "colorbar": {
             "outlinewidth": 0,
             "ticks": ""
            },
            "colorscale": [
             [
              0,
              "#0d0887"
             ],
             [
              0.1111111111111111,
              "#46039f"
             ],
             [
              0.2222222222222222,
              "#7201a8"
             ],
             [
              0.3333333333333333,
              "#9c179e"
             ],
             [
              0.4444444444444444,
              "#bd3786"
             ],
             [
              0.5555555555555556,
              "#d8576b"
             ],
             [
              0.6666666666666666,
              "#ed7953"
             ],
             [
              0.7777777777777778,
              "#fb9f3a"
             ],
             [
              0.8888888888888888,
              "#fdca26"
             ],
             [
              1,
              "#f0f921"
             ]
            ],
            "type": "contour"
           }
          ],
          "contourcarpet": [
           {
            "colorbar": {
             "outlinewidth": 0,
             "ticks": ""
            },
            "type": "contourcarpet"
           }
          ],
          "heatmap": [
           {
            "colorbar": {
             "outlinewidth": 0,
             "ticks": ""
            },
            "colorscale": [
             [
              0,
              "#0d0887"
             ],
             [
              0.1111111111111111,
              "#46039f"
             ],
             [
              0.2222222222222222,
              "#7201a8"
             ],
             [
              0.3333333333333333,
              "#9c179e"
             ],
             [
              0.4444444444444444,
              "#bd3786"
             ],
             [
              0.5555555555555556,
              "#d8576b"
             ],
             [
              0.6666666666666666,
              "#ed7953"
             ],
             [
              0.7777777777777778,
              "#fb9f3a"
             ],
             [
              0.8888888888888888,
              "#fdca26"
             ],
             [
              1,
              "#f0f921"
             ]
            ],
            "type": "heatmap"
           }
          ],
          "heatmapgl": [
           {
            "colorbar": {
             "outlinewidth": 0,
             "ticks": ""
            },
            "colorscale": [
             [
              0,
              "#0d0887"
             ],
             [
              0.1111111111111111,
              "#46039f"
             ],
             [
              0.2222222222222222,
              "#7201a8"
             ],
             [
              0.3333333333333333,
              "#9c179e"
             ],
             [
              0.4444444444444444,
              "#bd3786"
             ],
             [
              0.5555555555555556,
              "#d8576b"
             ],
             [
              0.6666666666666666,
              "#ed7953"
             ],
             [
              0.7777777777777778,
              "#fb9f3a"
             ],
             [
              0.8888888888888888,
              "#fdca26"
             ],
             [
              1,
              "#f0f921"
             ]
            ],
            "type": "heatmapgl"
           }
          ],
          "histogram": [
           {
            "marker": {
             "pattern": {
              "fillmode": "overlay",
              "size": 10,
              "solidity": 0.2
             }
            },
            "type": "histogram"
           }
          ],
          "histogram2d": [
           {
            "colorbar": {
             "outlinewidth": 0,
             "ticks": ""
            },
            "colorscale": [
             [
              0,
              "#0d0887"
             ],
             [
              0.1111111111111111,
              "#46039f"
             ],
             [
              0.2222222222222222,
              "#7201a8"
             ],
             [
              0.3333333333333333,
              "#9c179e"
             ],
             [
              0.4444444444444444,
              "#bd3786"
             ],
             [
              0.5555555555555556,
              "#d8576b"
             ],
             [
              0.6666666666666666,
              "#ed7953"
             ],
             [
              0.7777777777777778,
              "#fb9f3a"
             ],
             [
              0.8888888888888888,
              "#fdca26"
             ],
             [
              1,
              "#f0f921"
             ]
            ],
            "type": "histogram2d"
           }
          ],
          "histogram2dcontour": [
           {
            "colorbar": {
             "outlinewidth": 0,
             "ticks": ""
            },
            "colorscale": [
             [
              0,
              "#0d0887"
             ],
             [
              0.1111111111111111,
              "#46039f"
             ],
             [
              0.2222222222222222,
              "#7201a8"
             ],
             [
              0.3333333333333333,
              "#9c179e"
             ],
             [
              0.4444444444444444,
              "#bd3786"
             ],
             [
              0.5555555555555556,
              "#d8576b"
             ],
             [
              0.6666666666666666,
              "#ed7953"
             ],
             [
              0.7777777777777778,
              "#fb9f3a"
             ],
             [
              0.8888888888888888,
              "#fdca26"
             ],
             [
              1,
              "#f0f921"
             ]
            ],
            "type": "histogram2dcontour"
           }
          ],
          "mesh3d": [
           {
            "colorbar": {
             "outlinewidth": 0,
             "ticks": ""
            },
            "type": "mesh3d"
           }
          ],
          "parcoords": [
           {
            "line": {
             "colorbar": {
              "outlinewidth": 0,
              "ticks": ""
             }
            },
            "type": "parcoords"
           }
          ],
          "pie": [
           {
            "automargin": true,
            "type": "pie"
           }
          ],
          "scatter": [
           {
            "fillpattern": {
             "fillmode": "overlay",
             "size": 10,
             "solidity": 0.2
            },
            "type": "scatter"
           }
          ],
          "scatter3d": [
           {
            "line": {
             "colorbar": {
              "outlinewidth": 0,
              "ticks": ""
             }
            },
            "marker": {
             "colorbar": {
              "outlinewidth": 0,
              "ticks": ""
             }
            },
            "type": "scatter3d"
           }
          ],
          "scattercarpet": [
           {
            "marker": {
             "colorbar": {
              "outlinewidth": 0,
              "ticks": ""
             }
            },
            "type": "scattercarpet"
           }
          ],
          "scattergeo": [
           {
            "marker": {
             "colorbar": {
              "outlinewidth": 0,
              "ticks": ""
             }
            },
            "type": "scattergeo"
           }
          ],
          "scattergl": [
           {
            "marker": {
             "colorbar": {
              "outlinewidth": 0,
              "ticks": ""
             }
            },
            "type": "scattergl"
           }
          ],
          "scattermapbox": [
           {
            "marker": {
             "colorbar": {
              "outlinewidth": 0,
              "ticks": ""
             }
            },
            "type": "scattermapbox"
           }
          ],
          "scatterpolar": [
           {
            "marker": {
             "colorbar": {
              "outlinewidth": 0,
              "ticks": ""
             }
            },
            "type": "scatterpolar"
           }
          ],
          "scatterpolargl": [
           {
            "marker": {
             "colorbar": {
              "outlinewidth": 0,
              "ticks": ""
             }
            },
            "type": "scatterpolargl"
           }
          ],
          "scatterternary": [
           {
            "marker": {
             "colorbar": {
              "outlinewidth": 0,
              "ticks": ""
             }
            },
            "type": "scatterternary"
           }
          ],
          "surface": [
           {
            "colorbar": {
             "outlinewidth": 0,
             "ticks": ""
            },
            "colorscale": [
             [
              0,
              "#0d0887"
             ],
             [
              0.1111111111111111,
              "#46039f"
             ],
             [
              0.2222222222222222,
              "#7201a8"
             ],
             [
              0.3333333333333333,
              "#9c179e"
             ],
             [
              0.4444444444444444,
              "#bd3786"
             ],
             [
              0.5555555555555556,
              "#d8576b"
             ],
             [
              0.6666666666666666,
              "#ed7953"
             ],
             [
              0.7777777777777778,
              "#fb9f3a"
             ],
             [
              0.8888888888888888,
              "#fdca26"
             ],
             [
              1,
              "#f0f921"
             ]
            ],
            "type": "surface"
           }
          ],
          "table": [
           {
            "cells": {
             "fill": {
              "color": "#EBF0F8"
             },
             "line": {
              "color": "white"
             }
            },
            "header": {
             "fill": {
              "color": "#C8D4E3"
             },
             "line": {
              "color": "white"
             }
            },
            "type": "table"
           }
          ]
         },
         "layout": {
          "annotationdefaults": {
           "arrowcolor": "#2a3f5f",
           "arrowhead": 0,
           "arrowwidth": 1
          },
          "autotypenumbers": "strict",
          "coloraxis": {
           "colorbar": {
            "outlinewidth": 0,
            "ticks": ""
           }
          },
          "colorscale": {
           "diverging": [
            [
             0,
             "#8e0152"
            ],
            [
             0.1,
             "#c51b7d"
            ],
            [
             0.2,
             "#de77ae"
            ],
            [
             0.3,
             "#f1b6da"
            ],
            [
             0.4,
             "#fde0ef"
            ],
            [
             0.5,
             "#f7f7f7"
            ],
            [
             0.6,
             "#e6f5d0"
            ],
            [
             0.7,
             "#b8e186"
            ],
            [
             0.8,
             "#7fbc41"
            ],
            [
             0.9,
             "#4d9221"
            ],
            [
             1,
             "#276419"
            ]
           ],
           "sequential": [
            [
             0,
             "#0d0887"
            ],
            [
             0.1111111111111111,
             "#46039f"
            ],
            [
             0.2222222222222222,
             "#7201a8"
            ],
            [
             0.3333333333333333,
             "#9c179e"
            ],
            [
             0.4444444444444444,
             "#bd3786"
            ],
            [
             0.5555555555555556,
             "#d8576b"
            ],
            [
             0.6666666666666666,
             "#ed7953"
            ],
            [
             0.7777777777777778,
             "#fb9f3a"
            ],
            [
             0.8888888888888888,
             "#fdca26"
            ],
            [
             1,
             "#f0f921"
            ]
           ],
           "sequentialminus": [
            [
             0,
             "#0d0887"
            ],
            [
             0.1111111111111111,
             "#46039f"
            ],
            [
             0.2222222222222222,
             "#7201a8"
            ],
            [
             0.3333333333333333,
             "#9c179e"
            ],
            [
             0.4444444444444444,
             "#bd3786"
            ],
            [
             0.5555555555555556,
             "#d8576b"
            ],
            [
             0.6666666666666666,
             "#ed7953"
            ],
            [
             0.7777777777777778,
             "#fb9f3a"
            ],
            [
             0.8888888888888888,
             "#fdca26"
            ],
            [
             1,
             "#f0f921"
            ]
           ]
          },
          "colorway": [
           "#636efa",
           "#EF553B",
           "#00cc96",
           "#ab63fa",
           "#FFA15A",
           "#19d3f3",
           "#FF6692",
           "#B6E880",
           "#FF97FF",
           "#FECB52"
          ],
          "font": {
           "color": "#2a3f5f"
          },
          "geo": {
           "bgcolor": "white",
           "lakecolor": "white",
           "landcolor": "#E5ECF6",
           "showlakes": true,
           "showland": true,
           "subunitcolor": "white"
          },
          "hoverlabel": {
           "align": "left"
          },
          "hovermode": "closest",
          "mapbox": {
           "style": "light"
          },
          "paper_bgcolor": "white",
          "plot_bgcolor": "#E5ECF6",
          "polar": {
           "angularaxis": {
            "gridcolor": "white",
            "linecolor": "white",
            "ticks": ""
           },
           "bgcolor": "#E5ECF6",
           "radialaxis": {
            "gridcolor": "white",
            "linecolor": "white",
            "ticks": ""
           }
          },
          "scene": {
           "xaxis": {
            "backgroundcolor": "#E5ECF6",
            "gridcolor": "white",
            "gridwidth": 2,
            "linecolor": "white",
            "showbackground": true,
            "ticks": "",
            "zerolinecolor": "white"
           },
           "yaxis": {
            "backgroundcolor": "#E5ECF6",
            "gridcolor": "white",
            "gridwidth": 2,
            "linecolor": "white",
            "showbackground": true,
            "ticks": "",
            "zerolinecolor": "white"
           },
           "zaxis": {
            "backgroundcolor": "#E5ECF6",
            "gridcolor": "white",
            "gridwidth": 2,
            "linecolor": "white",
            "showbackground": true,
            "ticks": "",
            "zerolinecolor": "white"
           }
          },
          "shapedefaults": {
           "line": {
            "color": "#2a3f5f"
           }
          },
          "ternary": {
           "aaxis": {
            "gridcolor": "white",
            "linecolor": "white",
            "ticks": ""
           },
           "baxis": {
            "gridcolor": "white",
            "linecolor": "white",
            "ticks": ""
           },
           "bgcolor": "#E5ECF6",
           "caxis": {
            "gridcolor": "white",
            "linecolor": "white",
            "ticks": ""
           }
          },
          "title": {
           "x": 0.05
          },
          "xaxis": {
           "automargin": true,
           "gridcolor": "white",
           "linecolor": "white",
           "ticks": "",
           "title": {
            "standoff": 15
           },
           "zerolinecolor": "white",
           "zerolinewidth": 2
          },
          "yaxis": {
           "automargin": true,
           "gridcolor": "white",
           "linecolor": "white",
           "ticks": "",
           "title": {
            "standoff": 15
           },
           "zerolinecolor": "white",
           "zerolinewidth": 2
          }
         }
        }
       }
      }
     },
     "metadata": {},
     "output_type": "display_data"
    }
   ],
   "source": [
    "# Radar Chart to compare captured total entities \n",
    "\n",
    "import plotly.graph_objects as go\n",
    "\n",
    "categories_claus = total_freq_rule[\"Class\"].tolist()\n",
    "\n",
    "categories_rebel = total_freq_rebel[\"Class\"].tolist()\n",
    "\n",
    "r_claus = total_freq_rule[\"Unique_Frequency\"].tolist()\n",
    "\n",
    "r_rebel = total_freq_rebel[\"Unique_Frequency\"].tolist()\n",
    "\n",
    "fig = go.Figure()\n",
    "\n",
    "fig.add_trace(go.Scatterpolar(\n",
    "      r=r_claus,\n",
    "      theta=categories_claus,\n",
    "      fill='toself',\n",
    "      name='ClausIE'\n",
    "))\n",
    "fig.add_trace(go.Scatterpolar(\n",
    "      r=r_rebel,\n",
    "      theta=categories_rebel,\n",
    "      fill='toself',\n",
    "      name='Rebel'\n",
    "))\n",
    "\n",
    "fig.update_layout(\n",
    "  polar=dict(\n",
    "    radialaxis=dict(\n",
    "      visible=True,\n",
    "      range=[0, 10]\n",
    "    )),\n",
    "  showlegend=True\n",
    ")\n",
    "\n",
    "fig.show()"
   ]
  },
  {
   "cell_type": "code",
   "execution_count": 32,
   "metadata": {},
   "outputs": [
    {
     "data": {
      "application/vnd.plotly.v1+json": {
       "config": {
        "plotlyServerURL": "https://plot.ly"
       },
       "data": [
        {
         "fill": "toself",
         "name": "ClausIE",
         "r": [
          11,
          32,
          27,
          30,
          1,
          16,
          15,
          10,
          6,
          17,
          16,
          20,
          3,
          17,
          21,
          9,
          3,
          1,
          7
         ],
         "theta": [
          "Budget_Amendment",
          "European_Union",
          "Estimates",
          "Draft_Budget",
          "Budget",
          "Legal_Construct",
          "Working_Documents",
          "Budget_Tool",
          "Fund",
          "EU_Action",
          "Human_Resources",
          "Financial_Tool",
          "Person",
          "Sections",
          "Appropriations",
          "Aid",
          "Provisions",
          "Article",
          "Adopted_Draft_Budget"
         ],
         "type": "scatterpolar"
        },
        {
         "fill": "toself",
         "name": "Rebel",
         "r": [
          39,
          6,
          3,
          15,
          21,
          15,
          16,
          9,
          2,
          11,
          6,
          4,
          1,
          12,
          2,
          2,
          4
         ],
         "theta": [
          "European_Union",
          "Aid",
          "EU_Action",
          "Budget",
          "Estimates",
          "Appropriations",
          "Legal_Construct",
          "Draft_Budget",
          "Working_Documents",
          "Financial_Tool",
          "Human_Resources",
          "Budget_Amendment",
          "Person",
          "Budget_Tool",
          "Provisions",
          "International_Organization",
          "Fund"
         ],
         "type": "scatterpolar"
        }
       ],
       "layout": {
        "polar": {
         "radialaxis": {
          "range": [
           0,
           10
          ],
          "visible": true
         }
        },
        "showlegend": true,
        "template": {
         "data": {
          "bar": [
           {
            "error_x": {
             "color": "#2a3f5f"
            },
            "error_y": {
             "color": "#2a3f5f"
            },
            "marker": {
             "line": {
              "color": "#E5ECF6",
              "width": 0.5
             },
             "pattern": {
              "fillmode": "overlay",
              "size": 10,
              "solidity": 0.2
             }
            },
            "type": "bar"
           }
          ],
          "barpolar": [
           {
            "marker": {
             "line": {
              "color": "#E5ECF6",
              "width": 0.5
             },
             "pattern": {
              "fillmode": "overlay",
              "size": 10,
              "solidity": 0.2
             }
            },
            "type": "barpolar"
           }
          ],
          "carpet": [
           {
            "aaxis": {
             "endlinecolor": "#2a3f5f",
             "gridcolor": "white",
             "linecolor": "white",
             "minorgridcolor": "white",
             "startlinecolor": "#2a3f5f"
            },
            "baxis": {
             "endlinecolor": "#2a3f5f",
             "gridcolor": "white",
             "linecolor": "white",
             "minorgridcolor": "white",
             "startlinecolor": "#2a3f5f"
            },
            "type": "carpet"
           }
          ],
          "choropleth": [
           {
            "colorbar": {
             "outlinewidth": 0,
             "ticks": ""
            },
            "type": "choropleth"
           }
          ],
          "contour": [
           {
            "colorbar": {
             "outlinewidth": 0,
             "ticks": ""
            },
            "colorscale": [
             [
              0,
              "#0d0887"
             ],
             [
              0.1111111111111111,
              "#46039f"
             ],
             [
              0.2222222222222222,
              "#7201a8"
             ],
             [
              0.3333333333333333,
              "#9c179e"
             ],
             [
              0.4444444444444444,
              "#bd3786"
             ],
             [
              0.5555555555555556,
              "#d8576b"
             ],
             [
              0.6666666666666666,
              "#ed7953"
             ],
             [
              0.7777777777777778,
              "#fb9f3a"
             ],
             [
              0.8888888888888888,
              "#fdca26"
             ],
             [
              1,
              "#f0f921"
             ]
            ],
            "type": "contour"
           }
          ],
          "contourcarpet": [
           {
            "colorbar": {
             "outlinewidth": 0,
             "ticks": ""
            },
            "type": "contourcarpet"
           }
          ],
          "heatmap": [
           {
            "colorbar": {
             "outlinewidth": 0,
             "ticks": ""
            },
            "colorscale": [
             [
              0,
              "#0d0887"
             ],
             [
              0.1111111111111111,
              "#46039f"
             ],
             [
              0.2222222222222222,
              "#7201a8"
             ],
             [
              0.3333333333333333,
              "#9c179e"
             ],
             [
              0.4444444444444444,
              "#bd3786"
             ],
             [
              0.5555555555555556,
              "#d8576b"
             ],
             [
              0.6666666666666666,
              "#ed7953"
             ],
             [
              0.7777777777777778,
              "#fb9f3a"
             ],
             [
              0.8888888888888888,
              "#fdca26"
             ],
             [
              1,
              "#f0f921"
             ]
            ],
            "type": "heatmap"
           }
          ],
          "heatmapgl": [
           {
            "colorbar": {
             "outlinewidth": 0,
             "ticks": ""
            },
            "colorscale": [
             [
              0,
              "#0d0887"
             ],
             [
              0.1111111111111111,
              "#46039f"
             ],
             [
              0.2222222222222222,
              "#7201a8"
             ],
             [
              0.3333333333333333,
              "#9c179e"
             ],
             [
              0.4444444444444444,
              "#bd3786"
             ],
             [
              0.5555555555555556,
              "#d8576b"
             ],
             [
              0.6666666666666666,
              "#ed7953"
             ],
             [
              0.7777777777777778,
              "#fb9f3a"
             ],
             [
              0.8888888888888888,
              "#fdca26"
             ],
             [
              1,
              "#f0f921"
             ]
            ],
            "type": "heatmapgl"
           }
          ],
          "histogram": [
           {
            "marker": {
             "pattern": {
              "fillmode": "overlay",
              "size": 10,
              "solidity": 0.2
             }
            },
            "type": "histogram"
           }
          ],
          "histogram2d": [
           {
            "colorbar": {
             "outlinewidth": 0,
             "ticks": ""
            },
            "colorscale": [
             [
              0,
              "#0d0887"
             ],
             [
              0.1111111111111111,
              "#46039f"
             ],
             [
              0.2222222222222222,
              "#7201a8"
             ],
             [
              0.3333333333333333,
              "#9c179e"
             ],
             [
              0.4444444444444444,
              "#bd3786"
             ],
             [
              0.5555555555555556,
              "#d8576b"
             ],
             [
              0.6666666666666666,
              "#ed7953"
             ],
             [
              0.7777777777777778,
              "#fb9f3a"
             ],
             [
              0.8888888888888888,
              "#fdca26"
             ],
             [
              1,
              "#f0f921"
             ]
            ],
            "type": "histogram2d"
           }
          ],
          "histogram2dcontour": [
           {
            "colorbar": {
             "outlinewidth": 0,
             "ticks": ""
            },
            "colorscale": [
             [
              0,
              "#0d0887"
             ],
             [
              0.1111111111111111,
              "#46039f"
             ],
             [
              0.2222222222222222,
              "#7201a8"
             ],
             [
              0.3333333333333333,
              "#9c179e"
             ],
             [
              0.4444444444444444,
              "#bd3786"
             ],
             [
              0.5555555555555556,
              "#d8576b"
             ],
             [
              0.6666666666666666,
              "#ed7953"
             ],
             [
              0.7777777777777778,
              "#fb9f3a"
             ],
             [
              0.8888888888888888,
              "#fdca26"
             ],
             [
              1,
              "#f0f921"
             ]
            ],
            "type": "histogram2dcontour"
           }
          ],
          "mesh3d": [
           {
            "colorbar": {
             "outlinewidth": 0,
             "ticks": ""
            },
            "type": "mesh3d"
           }
          ],
          "parcoords": [
           {
            "line": {
             "colorbar": {
              "outlinewidth": 0,
              "ticks": ""
             }
            },
            "type": "parcoords"
           }
          ],
          "pie": [
           {
            "automargin": true,
            "type": "pie"
           }
          ],
          "scatter": [
           {
            "fillpattern": {
             "fillmode": "overlay",
             "size": 10,
             "solidity": 0.2
            },
            "type": "scatter"
           }
          ],
          "scatter3d": [
           {
            "line": {
             "colorbar": {
              "outlinewidth": 0,
              "ticks": ""
             }
            },
            "marker": {
             "colorbar": {
              "outlinewidth": 0,
              "ticks": ""
             }
            },
            "type": "scatter3d"
           }
          ],
          "scattercarpet": [
           {
            "marker": {
             "colorbar": {
              "outlinewidth": 0,
              "ticks": ""
             }
            },
            "type": "scattercarpet"
           }
          ],
          "scattergeo": [
           {
            "marker": {
             "colorbar": {
              "outlinewidth": 0,
              "ticks": ""
             }
            },
            "type": "scattergeo"
           }
          ],
          "scattergl": [
           {
            "marker": {
             "colorbar": {
              "outlinewidth": 0,
              "ticks": ""
             }
            },
            "type": "scattergl"
           }
          ],
          "scattermapbox": [
           {
            "marker": {
             "colorbar": {
              "outlinewidth": 0,
              "ticks": ""
             }
            },
            "type": "scattermapbox"
           }
          ],
          "scatterpolar": [
           {
            "marker": {
             "colorbar": {
              "outlinewidth": 0,
              "ticks": ""
             }
            },
            "type": "scatterpolar"
           }
          ],
          "scatterpolargl": [
           {
            "marker": {
             "colorbar": {
              "outlinewidth": 0,
              "ticks": ""
             }
            },
            "type": "scatterpolargl"
           }
          ],
          "scatterternary": [
           {
            "marker": {
             "colorbar": {
              "outlinewidth": 0,
              "ticks": ""
             }
            },
            "type": "scatterternary"
           }
          ],
          "surface": [
           {
            "colorbar": {
             "outlinewidth": 0,
             "ticks": ""
            },
            "colorscale": [
             [
              0,
              "#0d0887"
             ],
             [
              0.1111111111111111,
              "#46039f"
             ],
             [
              0.2222222222222222,
              "#7201a8"
             ],
             [
              0.3333333333333333,
              "#9c179e"
             ],
             [
              0.4444444444444444,
              "#bd3786"
             ],
             [
              0.5555555555555556,
              "#d8576b"
             ],
             [
              0.6666666666666666,
              "#ed7953"
             ],
             [
              0.7777777777777778,
              "#fb9f3a"
             ],
             [
              0.8888888888888888,
              "#fdca26"
             ],
             [
              1,
              "#f0f921"
             ]
            ],
            "type": "surface"
           }
          ],
          "table": [
           {
            "cells": {
             "fill": {
              "color": "#EBF0F8"
             },
             "line": {
              "color": "white"
             }
            },
            "header": {
             "fill": {
              "color": "#C8D4E3"
             },
             "line": {
              "color": "white"
             }
            },
            "type": "table"
           }
          ]
         },
         "layout": {
          "annotationdefaults": {
           "arrowcolor": "#2a3f5f",
           "arrowhead": 0,
           "arrowwidth": 1
          },
          "autotypenumbers": "strict",
          "coloraxis": {
           "colorbar": {
            "outlinewidth": 0,
            "ticks": ""
           }
          },
          "colorscale": {
           "diverging": [
            [
             0,
             "#8e0152"
            ],
            [
             0.1,
             "#c51b7d"
            ],
            [
             0.2,
             "#de77ae"
            ],
            [
             0.3,
             "#f1b6da"
            ],
            [
             0.4,
             "#fde0ef"
            ],
            [
             0.5,
             "#f7f7f7"
            ],
            [
             0.6,
             "#e6f5d0"
            ],
            [
             0.7,
             "#b8e186"
            ],
            [
             0.8,
             "#7fbc41"
            ],
            [
             0.9,
             "#4d9221"
            ],
            [
             1,
             "#276419"
            ]
           ],
           "sequential": [
            [
             0,
             "#0d0887"
            ],
            [
             0.1111111111111111,
             "#46039f"
            ],
            [
             0.2222222222222222,
             "#7201a8"
            ],
            [
             0.3333333333333333,
             "#9c179e"
            ],
            [
             0.4444444444444444,
             "#bd3786"
            ],
            [
             0.5555555555555556,
             "#d8576b"
            ],
            [
             0.6666666666666666,
             "#ed7953"
            ],
            [
             0.7777777777777778,
             "#fb9f3a"
            ],
            [
             0.8888888888888888,
             "#fdca26"
            ],
            [
             1,
             "#f0f921"
            ]
           ],
           "sequentialminus": [
            [
             0,
             "#0d0887"
            ],
            [
             0.1111111111111111,
             "#46039f"
            ],
            [
             0.2222222222222222,
             "#7201a8"
            ],
            [
             0.3333333333333333,
             "#9c179e"
            ],
            [
             0.4444444444444444,
             "#bd3786"
            ],
            [
             0.5555555555555556,
             "#d8576b"
            ],
            [
             0.6666666666666666,
             "#ed7953"
            ],
            [
             0.7777777777777778,
             "#fb9f3a"
            ],
            [
             0.8888888888888888,
             "#fdca26"
            ],
            [
             1,
             "#f0f921"
            ]
           ]
          },
          "colorway": [
           "#636efa",
           "#EF553B",
           "#00cc96",
           "#ab63fa",
           "#FFA15A",
           "#19d3f3",
           "#FF6692",
           "#B6E880",
           "#FF97FF",
           "#FECB52"
          ],
          "font": {
           "color": "#2a3f5f"
          },
          "geo": {
           "bgcolor": "white",
           "lakecolor": "white",
           "landcolor": "#E5ECF6",
           "showlakes": true,
           "showland": true,
           "subunitcolor": "white"
          },
          "hoverlabel": {
           "align": "left"
          },
          "hovermode": "closest",
          "mapbox": {
           "style": "light"
          },
          "paper_bgcolor": "white",
          "plot_bgcolor": "#E5ECF6",
          "polar": {
           "angularaxis": {
            "gridcolor": "white",
            "linecolor": "white",
            "ticks": ""
           },
           "bgcolor": "#E5ECF6",
           "radialaxis": {
            "gridcolor": "white",
            "linecolor": "white",
            "ticks": ""
           }
          },
          "scene": {
           "xaxis": {
            "backgroundcolor": "#E5ECF6",
            "gridcolor": "white",
            "gridwidth": 2,
            "linecolor": "white",
            "showbackground": true,
            "ticks": "",
            "zerolinecolor": "white"
           },
           "yaxis": {
            "backgroundcolor": "#E5ECF6",
            "gridcolor": "white",
            "gridwidth": 2,
            "linecolor": "white",
            "showbackground": true,
            "ticks": "",
            "zerolinecolor": "white"
           },
           "zaxis": {
            "backgroundcolor": "#E5ECF6",
            "gridcolor": "white",
            "gridwidth": 2,
            "linecolor": "white",
            "showbackground": true,
            "ticks": "",
            "zerolinecolor": "white"
           }
          },
          "shapedefaults": {
           "line": {
            "color": "#2a3f5f"
           }
          },
          "ternary": {
           "aaxis": {
            "gridcolor": "white",
            "linecolor": "white",
            "ticks": ""
           },
           "baxis": {
            "gridcolor": "white",
            "linecolor": "white",
            "ticks": ""
           },
           "bgcolor": "#E5ECF6",
           "caxis": {
            "gridcolor": "white",
            "linecolor": "white",
            "ticks": ""
           }
          },
          "title": {
           "x": 0.05
          },
          "xaxis": {
           "automargin": true,
           "gridcolor": "white",
           "linecolor": "white",
           "ticks": "",
           "title": {
            "standoff": 15
           },
           "zerolinecolor": "white",
           "zerolinewidth": 2
          },
          "yaxis": {
           "automargin": true,
           "gridcolor": "white",
           "linecolor": "white",
           "ticks": "",
           "title": {
            "standoff": 15
           },
           "zerolinecolor": "white",
           "zerolinewidth": 2
          }
         }
        }
       }
      }
     },
     "metadata": {},
     "output_type": "display_data"
    }
   ],
   "source": [
    "# Radar Chart to compare captured total entities \n",
    "\n",
    "import plotly.graph_objects as go\n",
    "\n",
    "categories_claus = total_freq_rule[\"Class\"].tolist()\n",
    "\n",
    "categories_rebel = total_freq_rebel[\"Class\"].tolist()\n",
    "\n",
    "r_claus = total_freq_rule[\"Total_Frequency\"].tolist()\n",
    "\n",
    "r_rebel = total_freq_rebel[\"Total_Frequency\"].tolist()\n",
    "\n",
    "fig = go.Figure()\n",
    "\n",
    "fig.add_trace(go.Scatterpolar(\n",
    "      r=r_claus,\n",
    "      theta=categories_claus,\n",
    "      fill='toself',\n",
    "      name='ClausIE'\n",
    "))\n",
    "fig.add_trace(go.Scatterpolar(\n",
    "      r=r_rebel,\n",
    "      theta=categories_rebel,\n",
    "      fill='toself',\n",
    "      name='Rebel'\n",
    "))\n",
    "\n",
    "fig.update_layout(\n",
    "  polar=dict(\n",
    "    radialaxis=dict(\n",
    "      visible=True,\n",
    "      range=[0, 10]\n",
    "    )),\n",
    "  showlegend=True\n",
    ")\n",
    "\n",
    "fig.show()"
   ]
  },
  {
   "cell_type": "code",
   "execution_count": 33,
   "metadata": {},
   "outputs": [
    {
     "data": {
      "application/vnd.plotly.v1+json": {
       "config": {
        "plotlyServerURL": "https://plot.ly"
       },
       "data": [
        {
         "fill": "toself",
         "name": "ClausIE",
         "r": [
          11,
          32,
          27,
          30,
          1,
          16,
          15,
          10,
          6,
          17,
          16,
          20,
          3,
          17,
          21,
          9,
          3,
          1,
          7
         ],
         "theta": [
          "Budget_Amendment",
          "European_Union",
          "Estimates",
          "Draft_Budget",
          "Budget",
          "Legal_Construct",
          "Working_Documents",
          "Budget_Tool",
          "Fund",
          "EU_Action",
          "Human_Resources",
          "Financial_Tool",
          "Person",
          "Sections",
          "Appropriations",
          "Aid",
          "Provisions",
          "Article",
          "Adopted_Draft_Budget"
         ],
         "type": "scatterpolar"
        }
       ],
       "layout": {
        "polar": {
         "radialaxis": {
          "range": [
           0,
           40
          ],
          "visible": true
         }
        },
        "showlegend": true,
        "template": {
         "data": {
          "bar": [
           {
            "error_x": {
             "color": "#2a3f5f"
            },
            "error_y": {
             "color": "#2a3f5f"
            },
            "marker": {
             "line": {
              "color": "#E5ECF6",
              "width": 0.5
             },
             "pattern": {
              "fillmode": "overlay",
              "size": 10,
              "solidity": 0.2
             }
            },
            "type": "bar"
           }
          ],
          "barpolar": [
           {
            "marker": {
             "line": {
              "color": "#E5ECF6",
              "width": 0.5
             },
             "pattern": {
              "fillmode": "overlay",
              "size": 10,
              "solidity": 0.2
             }
            },
            "type": "barpolar"
           }
          ],
          "carpet": [
           {
            "aaxis": {
             "endlinecolor": "#2a3f5f",
             "gridcolor": "white",
             "linecolor": "white",
             "minorgridcolor": "white",
             "startlinecolor": "#2a3f5f"
            },
            "baxis": {
             "endlinecolor": "#2a3f5f",
             "gridcolor": "white",
             "linecolor": "white",
             "minorgridcolor": "white",
             "startlinecolor": "#2a3f5f"
            },
            "type": "carpet"
           }
          ],
          "choropleth": [
           {
            "colorbar": {
             "outlinewidth": 0,
             "ticks": ""
            },
            "type": "choropleth"
           }
          ],
          "contour": [
           {
            "colorbar": {
             "outlinewidth": 0,
             "ticks": ""
            },
            "colorscale": [
             [
              0,
              "#0d0887"
             ],
             [
              0.1111111111111111,
              "#46039f"
             ],
             [
              0.2222222222222222,
              "#7201a8"
             ],
             [
              0.3333333333333333,
              "#9c179e"
             ],
             [
              0.4444444444444444,
              "#bd3786"
             ],
             [
              0.5555555555555556,
              "#d8576b"
             ],
             [
              0.6666666666666666,
              "#ed7953"
             ],
             [
              0.7777777777777778,
              "#fb9f3a"
             ],
             [
              0.8888888888888888,
              "#fdca26"
             ],
             [
              1,
              "#f0f921"
             ]
            ],
            "type": "contour"
           }
          ],
          "contourcarpet": [
           {
            "colorbar": {
             "outlinewidth": 0,
             "ticks": ""
            },
            "type": "contourcarpet"
           }
          ],
          "heatmap": [
           {
            "colorbar": {
             "outlinewidth": 0,
             "ticks": ""
            },
            "colorscale": [
             [
              0,
              "#0d0887"
             ],
             [
              0.1111111111111111,
              "#46039f"
             ],
             [
              0.2222222222222222,
              "#7201a8"
             ],
             [
              0.3333333333333333,
              "#9c179e"
             ],
             [
              0.4444444444444444,
              "#bd3786"
             ],
             [
              0.5555555555555556,
              "#d8576b"
             ],
             [
              0.6666666666666666,
              "#ed7953"
             ],
             [
              0.7777777777777778,
              "#fb9f3a"
             ],
             [
              0.8888888888888888,
              "#fdca26"
             ],
             [
              1,
              "#f0f921"
             ]
            ],
            "type": "heatmap"
           }
          ],
          "heatmapgl": [
           {
            "colorbar": {
             "outlinewidth": 0,
             "ticks": ""
            },
            "colorscale": [
             [
              0,
              "#0d0887"
             ],
             [
              0.1111111111111111,
              "#46039f"
             ],
             [
              0.2222222222222222,
              "#7201a8"
             ],
             [
              0.3333333333333333,
              "#9c179e"
             ],
             [
              0.4444444444444444,
              "#bd3786"
             ],
             [
              0.5555555555555556,
              "#d8576b"
             ],
             [
              0.6666666666666666,
              "#ed7953"
             ],
             [
              0.7777777777777778,
              "#fb9f3a"
             ],
             [
              0.8888888888888888,
              "#fdca26"
             ],
             [
              1,
              "#f0f921"
             ]
            ],
            "type": "heatmapgl"
           }
          ],
          "histogram": [
           {
            "marker": {
             "pattern": {
              "fillmode": "overlay",
              "size": 10,
              "solidity": 0.2
             }
            },
            "type": "histogram"
           }
          ],
          "histogram2d": [
           {
            "colorbar": {
             "outlinewidth": 0,
             "ticks": ""
            },
            "colorscale": [
             [
              0,
              "#0d0887"
             ],
             [
              0.1111111111111111,
              "#46039f"
             ],
             [
              0.2222222222222222,
              "#7201a8"
             ],
             [
              0.3333333333333333,
              "#9c179e"
             ],
             [
              0.4444444444444444,
              "#bd3786"
             ],
             [
              0.5555555555555556,
              "#d8576b"
             ],
             [
              0.6666666666666666,
              "#ed7953"
             ],
             [
              0.7777777777777778,
              "#fb9f3a"
             ],
             [
              0.8888888888888888,
              "#fdca26"
             ],
             [
              1,
              "#f0f921"
             ]
            ],
            "type": "histogram2d"
           }
          ],
          "histogram2dcontour": [
           {
            "colorbar": {
             "outlinewidth": 0,
             "ticks": ""
            },
            "colorscale": [
             [
              0,
              "#0d0887"
             ],
             [
              0.1111111111111111,
              "#46039f"
             ],
             [
              0.2222222222222222,
              "#7201a8"
             ],
             [
              0.3333333333333333,
              "#9c179e"
             ],
             [
              0.4444444444444444,
              "#bd3786"
             ],
             [
              0.5555555555555556,
              "#d8576b"
             ],
             [
              0.6666666666666666,
              "#ed7953"
             ],
             [
              0.7777777777777778,
              "#fb9f3a"
             ],
             [
              0.8888888888888888,
              "#fdca26"
             ],
             [
              1,
              "#f0f921"
             ]
            ],
            "type": "histogram2dcontour"
           }
          ],
          "mesh3d": [
           {
            "colorbar": {
             "outlinewidth": 0,
             "ticks": ""
            },
            "type": "mesh3d"
           }
          ],
          "parcoords": [
           {
            "line": {
             "colorbar": {
              "outlinewidth": 0,
              "ticks": ""
             }
            },
            "type": "parcoords"
           }
          ],
          "pie": [
           {
            "automargin": true,
            "type": "pie"
           }
          ],
          "scatter": [
           {
            "fillpattern": {
             "fillmode": "overlay",
             "size": 10,
             "solidity": 0.2
            },
            "type": "scatter"
           }
          ],
          "scatter3d": [
           {
            "line": {
             "colorbar": {
              "outlinewidth": 0,
              "ticks": ""
             }
            },
            "marker": {
             "colorbar": {
              "outlinewidth": 0,
              "ticks": ""
             }
            },
            "type": "scatter3d"
           }
          ],
          "scattercarpet": [
           {
            "marker": {
             "colorbar": {
              "outlinewidth": 0,
              "ticks": ""
             }
            },
            "type": "scattercarpet"
           }
          ],
          "scattergeo": [
           {
            "marker": {
             "colorbar": {
              "outlinewidth": 0,
              "ticks": ""
             }
            },
            "type": "scattergeo"
           }
          ],
          "scattergl": [
           {
            "marker": {
             "colorbar": {
              "outlinewidth": 0,
              "ticks": ""
             }
            },
            "type": "scattergl"
           }
          ],
          "scattermapbox": [
           {
            "marker": {
             "colorbar": {
              "outlinewidth": 0,
              "ticks": ""
             }
            },
            "type": "scattermapbox"
           }
          ],
          "scatterpolar": [
           {
            "marker": {
             "colorbar": {
              "outlinewidth": 0,
              "ticks": ""
             }
            },
            "type": "scatterpolar"
           }
          ],
          "scatterpolargl": [
           {
            "marker": {
             "colorbar": {
              "outlinewidth": 0,
              "ticks": ""
             }
            },
            "type": "scatterpolargl"
           }
          ],
          "scatterternary": [
           {
            "marker": {
             "colorbar": {
              "outlinewidth": 0,
              "ticks": ""
             }
            },
            "type": "scatterternary"
           }
          ],
          "surface": [
           {
            "colorbar": {
             "outlinewidth": 0,
             "ticks": ""
            },
            "colorscale": [
             [
              0,
              "#0d0887"
             ],
             [
              0.1111111111111111,
              "#46039f"
             ],
             [
              0.2222222222222222,
              "#7201a8"
             ],
             [
              0.3333333333333333,
              "#9c179e"
             ],
             [
              0.4444444444444444,
              "#bd3786"
             ],
             [
              0.5555555555555556,
              "#d8576b"
             ],
             [
              0.6666666666666666,
              "#ed7953"
             ],
             [
              0.7777777777777778,
              "#fb9f3a"
             ],
             [
              0.8888888888888888,
              "#fdca26"
             ],
             [
              1,
              "#f0f921"
             ]
            ],
            "type": "surface"
           }
          ],
          "table": [
           {
            "cells": {
             "fill": {
              "color": "#EBF0F8"
             },
             "line": {
              "color": "white"
             }
            },
            "header": {
             "fill": {
              "color": "#C8D4E3"
             },
             "line": {
              "color": "white"
             }
            },
            "type": "table"
           }
          ]
         },
         "layout": {
          "annotationdefaults": {
           "arrowcolor": "#2a3f5f",
           "arrowhead": 0,
           "arrowwidth": 1
          },
          "autotypenumbers": "strict",
          "coloraxis": {
           "colorbar": {
            "outlinewidth": 0,
            "ticks": ""
           }
          },
          "colorscale": {
           "diverging": [
            [
             0,
             "#8e0152"
            ],
            [
             0.1,
             "#c51b7d"
            ],
            [
             0.2,
             "#de77ae"
            ],
            [
             0.3,
             "#f1b6da"
            ],
            [
             0.4,
             "#fde0ef"
            ],
            [
             0.5,
             "#f7f7f7"
            ],
            [
             0.6,
             "#e6f5d0"
            ],
            [
             0.7,
             "#b8e186"
            ],
            [
             0.8,
             "#7fbc41"
            ],
            [
             0.9,
             "#4d9221"
            ],
            [
             1,
             "#276419"
            ]
           ],
           "sequential": [
            [
             0,
             "#0d0887"
            ],
            [
             0.1111111111111111,
             "#46039f"
            ],
            [
             0.2222222222222222,
             "#7201a8"
            ],
            [
             0.3333333333333333,
             "#9c179e"
            ],
            [
             0.4444444444444444,
             "#bd3786"
            ],
            [
             0.5555555555555556,
             "#d8576b"
            ],
            [
             0.6666666666666666,
             "#ed7953"
            ],
            [
             0.7777777777777778,
             "#fb9f3a"
            ],
            [
             0.8888888888888888,
             "#fdca26"
            ],
            [
             1,
             "#f0f921"
            ]
           ],
           "sequentialminus": [
            [
             0,
             "#0d0887"
            ],
            [
             0.1111111111111111,
             "#46039f"
            ],
            [
             0.2222222222222222,
             "#7201a8"
            ],
            [
             0.3333333333333333,
             "#9c179e"
            ],
            [
             0.4444444444444444,
             "#bd3786"
            ],
            [
             0.5555555555555556,
             "#d8576b"
            ],
            [
             0.6666666666666666,
             "#ed7953"
            ],
            [
             0.7777777777777778,
             "#fb9f3a"
            ],
            [
             0.8888888888888888,
             "#fdca26"
            ],
            [
             1,
             "#f0f921"
            ]
           ]
          },
          "colorway": [
           "#636efa",
           "#EF553B",
           "#00cc96",
           "#ab63fa",
           "#FFA15A",
           "#19d3f3",
           "#FF6692",
           "#B6E880",
           "#FF97FF",
           "#FECB52"
          ],
          "font": {
           "color": "#2a3f5f"
          },
          "geo": {
           "bgcolor": "white",
           "lakecolor": "white",
           "landcolor": "#E5ECF6",
           "showlakes": true,
           "showland": true,
           "subunitcolor": "white"
          },
          "hoverlabel": {
           "align": "left"
          },
          "hovermode": "closest",
          "mapbox": {
           "style": "light"
          },
          "paper_bgcolor": "white",
          "plot_bgcolor": "#E5ECF6",
          "polar": {
           "angularaxis": {
            "gridcolor": "white",
            "linecolor": "white",
            "ticks": ""
           },
           "bgcolor": "#E5ECF6",
           "radialaxis": {
            "gridcolor": "white",
            "linecolor": "white",
            "ticks": ""
           }
          },
          "scene": {
           "xaxis": {
            "backgroundcolor": "#E5ECF6",
            "gridcolor": "white",
            "gridwidth": 2,
            "linecolor": "white",
            "showbackground": true,
            "ticks": "",
            "zerolinecolor": "white"
           },
           "yaxis": {
            "backgroundcolor": "#E5ECF6",
            "gridcolor": "white",
            "gridwidth": 2,
            "linecolor": "white",
            "showbackground": true,
            "ticks": "",
            "zerolinecolor": "white"
           },
           "zaxis": {
            "backgroundcolor": "#E5ECF6",
            "gridcolor": "white",
            "gridwidth": 2,
            "linecolor": "white",
            "showbackground": true,
            "ticks": "",
            "zerolinecolor": "white"
           }
          },
          "shapedefaults": {
           "line": {
            "color": "#2a3f5f"
           }
          },
          "ternary": {
           "aaxis": {
            "gridcolor": "white",
            "linecolor": "white",
            "ticks": ""
           },
           "baxis": {
            "gridcolor": "white",
            "linecolor": "white",
            "ticks": ""
           },
           "bgcolor": "#E5ECF6",
           "caxis": {
            "gridcolor": "white",
            "linecolor": "white",
            "ticks": ""
           }
          },
          "title": {
           "x": 0.05
          },
          "xaxis": {
           "automargin": true,
           "gridcolor": "white",
           "linecolor": "white",
           "ticks": "",
           "title": {
            "standoff": 15
           },
           "zerolinecolor": "white",
           "zerolinewidth": 2
          },
          "yaxis": {
           "automargin": true,
           "gridcolor": "white",
           "linecolor": "white",
           "ticks": "",
           "title": {
            "standoff": 15
           },
           "zerolinecolor": "white",
           "zerolinewidth": 2
          }
         }
        }
       }
      }
     },
     "metadata": {},
     "output_type": "display_data"
    }
   ],
   "source": [
    "import plotly.graph_objects as go\n",
    "\n",
    "categories_claus = total_freq_rule[\"Class\"].tolist()\n",
    "\n",
    "r_claus = total_freq_rule[\"Total_Frequency\"].tolist()\n",
    "\n",
    "fig = go.Figure()\n",
    "\n",
    "fig.add_trace(go.Scatterpolar(\n",
    "      r=r_claus,\n",
    "      theta=categories_claus,\n",
    "      fill='toself',\n",
    "      name='ClausIE'\n",
    "))\n",
    "\n",
    "fig.update_layout(\n",
    "  polar=dict(\n",
    "    radialaxis=dict(\n",
    "      visible=True,\n",
    "      range=[0, 40]\n",
    "    )),\n",
    "  showlegend=True\n",
    ")\n",
    "\n",
    "fig.show()"
   ]
  },
  {
   "cell_type": "code",
   "execution_count": 34,
   "metadata": {},
   "outputs": [
    {
     "data": {
      "application/vnd.plotly.v1+json": {
       "config": {
        "plotlyServerURL": "https://plot.ly"
       },
       "data": [
        {
         "fill": "toself",
         "name": "Rebel",
         "r": [
          39,
          6,
          3,
          15,
          21,
          15,
          16,
          9,
          2,
          11,
          6,
          4,
          1,
          12,
          2,
          2,
          4
         ],
         "theta": [
          "European_Union",
          "Aid",
          "EU_Action",
          "Budget",
          "Estimates",
          "Appropriations",
          "Legal_Construct",
          "Draft_Budget",
          "Working_Documents",
          "Financial_Tool",
          "Human_Resources",
          "Budget_Amendment",
          "Person",
          "Budget_Tool",
          "Provisions",
          "International_Organization",
          "Fund"
         ],
         "type": "scatterpolar"
        }
       ],
       "layout": {
        "polar": {
         "radialaxis": {
          "range": [
           0,
           40
          ],
          "visible": true
         }
        },
        "showlegend": true,
        "template": {
         "data": {
          "bar": [
           {
            "error_x": {
             "color": "#2a3f5f"
            },
            "error_y": {
             "color": "#2a3f5f"
            },
            "marker": {
             "line": {
              "color": "#E5ECF6",
              "width": 0.5
             },
             "pattern": {
              "fillmode": "overlay",
              "size": 10,
              "solidity": 0.2
             }
            },
            "type": "bar"
           }
          ],
          "barpolar": [
           {
            "marker": {
             "line": {
              "color": "#E5ECF6",
              "width": 0.5
             },
             "pattern": {
              "fillmode": "overlay",
              "size": 10,
              "solidity": 0.2
             }
            },
            "type": "barpolar"
           }
          ],
          "carpet": [
           {
            "aaxis": {
             "endlinecolor": "#2a3f5f",
             "gridcolor": "white",
             "linecolor": "white",
             "minorgridcolor": "white",
             "startlinecolor": "#2a3f5f"
            },
            "baxis": {
             "endlinecolor": "#2a3f5f",
             "gridcolor": "white",
             "linecolor": "white",
             "minorgridcolor": "white",
             "startlinecolor": "#2a3f5f"
            },
            "type": "carpet"
           }
          ],
          "choropleth": [
           {
            "colorbar": {
             "outlinewidth": 0,
             "ticks": ""
            },
            "type": "choropleth"
           }
          ],
          "contour": [
           {
            "colorbar": {
             "outlinewidth": 0,
             "ticks": ""
            },
            "colorscale": [
             [
              0,
              "#0d0887"
             ],
             [
              0.1111111111111111,
              "#46039f"
             ],
             [
              0.2222222222222222,
              "#7201a8"
             ],
             [
              0.3333333333333333,
              "#9c179e"
             ],
             [
              0.4444444444444444,
              "#bd3786"
             ],
             [
              0.5555555555555556,
              "#d8576b"
             ],
             [
              0.6666666666666666,
              "#ed7953"
             ],
             [
              0.7777777777777778,
              "#fb9f3a"
             ],
             [
              0.8888888888888888,
              "#fdca26"
             ],
             [
              1,
              "#f0f921"
             ]
            ],
            "type": "contour"
           }
          ],
          "contourcarpet": [
           {
            "colorbar": {
             "outlinewidth": 0,
             "ticks": ""
            },
            "type": "contourcarpet"
           }
          ],
          "heatmap": [
           {
            "colorbar": {
             "outlinewidth": 0,
             "ticks": ""
            },
            "colorscale": [
             [
              0,
              "#0d0887"
             ],
             [
              0.1111111111111111,
              "#46039f"
             ],
             [
              0.2222222222222222,
              "#7201a8"
             ],
             [
              0.3333333333333333,
              "#9c179e"
             ],
             [
              0.4444444444444444,
              "#bd3786"
             ],
             [
              0.5555555555555556,
              "#d8576b"
             ],
             [
              0.6666666666666666,
              "#ed7953"
             ],
             [
              0.7777777777777778,
              "#fb9f3a"
             ],
             [
              0.8888888888888888,
              "#fdca26"
             ],
             [
              1,
              "#f0f921"
             ]
            ],
            "type": "heatmap"
           }
          ],
          "heatmapgl": [
           {
            "colorbar": {
             "outlinewidth": 0,
             "ticks": ""
            },
            "colorscale": [
             [
              0,
              "#0d0887"
             ],
             [
              0.1111111111111111,
              "#46039f"
             ],
             [
              0.2222222222222222,
              "#7201a8"
             ],
             [
              0.3333333333333333,
              "#9c179e"
             ],
             [
              0.4444444444444444,
              "#bd3786"
             ],
             [
              0.5555555555555556,
              "#d8576b"
             ],
             [
              0.6666666666666666,
              "#ed7953"
             ],
             [
              0.7777777777777778,
              "#fb9f3a"
             ],
             [
              0.8888888888888888,
              "#fdca26"
             ],
             [
              1,
              "#f0f921"
             ]
            ],
            "type": "heatmapgl"
           }
          ],
          "histogram": [
           {
            "marker": {
             "pattern": {
              "fillmode": "overlay",
              "size": 10,
              "solidity": 0.2
             }
            },
            "type": "histogram"
           }
          ],
          "histogram2d": [
           {
            "colorbar": {
             "outlinewidth": 0,
             "ticks": ""
            },
            "colorscale": [
             [
              0,
              "#0d0887"
             ],
             [
              0.1111111111111111,
              "#46039f"
             ],
             [
              0.2222222222222222,
              "#7201a8"
             ],
             [
              0.3333333333333333,
              "#9c179e"
             ],
             [
              0.4444444444444444,
              "#bd3786"
             ],
             [
              0.5555555555555556,
              "#d8576b"
             ],
             [
              0.6666666666666666,
              "#ed7953"
             ],
             [
              0.7777777777777778,
              "#fb9f3a"
             ],
             [
              0.8888888888888888,
              "#fdca26"
             ],
             [
              1,
              "#f0f921"
             ]
            ],
            "type": "histogram2d"
           }
          ],
          "histogram2dcontour": [
           {
            "colorbar": {
             "outlinewidth": 0,
             "ticks": ""
            },
            "colorscale": [
             [
              0,
              "#0d0887"
             ],
             [
              0.1111111111111111,
              "#46039f"
             ],
             [
              0.2222222222222222,
              "#7201a8"
             ],
             [
              0.3333333333333333,
              "#9c179e"
             ],
             [
              0.4444444444444444,
              "#bd3786"
             ],
             [
              0.5555555555555556,
              "#d8576b"
             ],
             [
              0.6666666666666666,
              "#ed7953"
             ],
             [
              0.7777777777777778,
              "#fb9f3a"
             ],
             [
              0.8888888888888888,
              "#fdca26"
             ],
             [
              1,
              "#f0f921"
             ]
            ],
            "type": "histogram2dcontour"
           }
          ],
          "mesh3d": [
           {
            "colorbar": {
             "outlinewidth": 0,
             "ticks": ""
            },
            "type": "mesh3d"
           }
          ],
          "parcoords": [
           {
            "line": {
             "colorbar": {
              "outlinewidth": 0,
              "ticks": ""
             }
            },
            "type": "parcoords"
           }
          ],
          "pie": [
           {
            "automargin": true,
            "type": "pie"
           }
          ],
          "scatter": [
           {
            "fillpattern": {
             "fillmode": "overlay",
             "size": 10,
             "solidity": 0.2
            },
            "type": "scatter"
           }
          ],
          "scatter3d": [
           {
            "line": {
             "colorbar": {
              "outlinewidth": 0,
              "ticks": ""
             }
            },
            "marker": {
             "colorbar": {
              "outlinewidth": 0,
              "ticks": ""
             }
            },
            "type": "scatter3d"
           }
          ],
          "scattercarpet": [
           {
            "marker": {
             "colorbar": {
              "outlinewidth": 0,
              "ticks": ""
             }
            },
            "type": "scattercarpet"
           }
          ],
          "scattergeo": [
           {
            "marker": {
             "colorbar": {
              "outlinewidth": 0,
              "ticks": ""
             }
            },
            "type": "scattergeo"
           }
          ],
          "scattergl": [
           {
            "marker": {
             "colorbar": {
              "outlinewidth": 0,
              "ticks": ""
             }
            },
            "type": "scattergl"
           }
          ],
          "scattermapbox": [
           {
            "marker": {
             "colorbar": {
              "outlinewidth": 0,
              "ticks": ""
             }
            },
            "type": "scattermapbox"
           }
          ],
          "scatterpolar": [
           {
            "marker": {
             "colorbar": {
              "outlinewidth": 0,
              "ticks": ""
             }
            },
            "type": "scatterpolar"
           }
          ],
          "scatterpolargl": [
           {
            "marker": {
             "colorbar": {
              "outlinewidth": 0,
              "ticks": ""
             }
            },
            "type": "scatterpolargl"
           }
          ],
          "scatterternary": [
           {
            "marker": {
             "colorbar": {
              "outlinewidth": 0,
              "ticks": ""
             }
            },
            "type": "scatterternary"
           }
          ],
          "surface": [
           {
            "colorbar": {
             "outlinewidth": 0,
             "ticks": ""
            },
            "colorscale": [
             [
              0,
              "#0d0887"
             ],
             [
              0.1111111111111111,
              "#46039f"
             ],
             [
              0.2222222222222222,
              "#7201a8"
             ],
             [
              0.3333333333333333,
              "#9c179e"
             ],
             [
              0.4444444444444444,
              "#bd3786"
             ],
             [
              0.5555555555555556,
              "#d8576b"
             ],
             [
              0.6666666666666666,
              "#ed7953"
             ],
             [
              0.7777777777777778,
              "#fb9f3a"
             ],
             [
              0.8888888888888888,
              "#fdca26"
             ],
             [
              1,
              "#f0f921"
             ]
            ],
            "type": "surface"
           }
          ],
          "table": [
           {
            "cells": {
             "fill": {
              "color": "#EBF0F8"
             },
             "line": {
              "color": "white"
             }
            },
            "header": {
             "fill": {
              "color": "#C8D4E3"
             },
             "line": {
              "color": "white"
             }
            },
            "type": "table"
           }
          ]
         },
         "layout": {
          "annotationdefaults": {
           "arrowcolor": "#2a3f5f",
           "arrowhead": 0,
           "arrowwidth": 1
          },
          "autotypenumbers": "strict",
          "coloraxis": {
           "colorbar": {
            "outlinewidth": 0,
            "ticks": ""
           }
          },
          "colorscale": {
           "diverging": [
            [
             0,
             "#8e0152"
            ],
            [
             0.1,
             "#c51b7d"
            ],
            [
             0.2,
             "#de77ae"
            ],
            [
             0.3,
             "#f1b6da"
            ],
            [
             0.4,
             "#fde0ef"
            ],
            [
             0.5,
             "#f7f7f7"
            ],
            [
             0.6,
             "#e6f5d0"
            ],
            [
             0.7,
             "#b8e186"
            ],
            [
             0.8,
             "#7fbc41"
            ],
            [
             0.9,
             "#4d9221"
            ],
            [
             1,
             "#276419"
            ]
           ],
           "sequential": [
            [
             0,
             "#0d0887"
            ],
            [
             0.1111111111111111,
             "#46039f"
            ],
            [
             0.2222222222222222,
             "#7201a8"
            ],
            [
             0.3333333333333333,
             "#9c179e"
            ],
            [
             0.4444444444444444,
             "#bd3786"
            ],
            [
             0.5555555555555556,
             "#d8576b"
            ],
            [
             0.6666666666666666,
             "#ed7953"
            ],
            [
             0.7777777777777778,
             "#fb9f3a"
            ],
            [
             0.8888888888888888,
             "#fdca26"
            ],
            [
             1,
             "#f0f921"
            ]
           ],
           "sequentialminus": [
            [
             0,
             "#0d0887"
            ],
            [
             0.1111111111111111,
             "#46039f"
            ],
            [
             0.2222222222222222,
             "#7201a8"
            ],
            [
             0.3333333333333333,
             "#9c179e"
            ],
            [
             0.4444444444444444,
             "#bd3786"
            ],
            [
             0.5555555555555556,
             "#d8576b"
            ],
            [
             0.6666666666666666,
             "#ed7953"
            ],
            [
             0.7777777777777778,
             "#fb9f3a"
            ],
            [
             0.8888888888888888,
             "#fdca26"
            ],
            [
             1,
             "#f0f921"
            ]
           ]
          },
          "colorway": [
           "#636efa",
           "#EF553B",
           "#00cc96",
           "#ab63fa",
           "#FFA15A",
           "#19d3f3",
           "#FF6692",
           "#B6E880",
           "#FF97FF",
           "#FECB52"
          ],
          "font": {
           "color": "#2a3f5f"
          },
          "geo": {
           "bgcolor": "white",
           "lakecolor": "white",
           "landcolor": "#E5ECF6",
           "showlakes": true,
           "showland": true,
           "subunitcolor": "white"
          },
          "hoverlabel": {
           "align": "left"
          },
          "hovermode": "closest",
          "mapbox": {
           "style": "light"
          },
          "paper_bgcolor": "white",
          "plot_bgcolor": "#E5ECF6",
          "polar": {
           "angularaxis": {
            "gridcolor": "white",
            "linecolor": "white",
            "ticks": ""
           },
           "bgcolor": "#E5ECF6",
           "radialaxis": {
            "gridcolor": "white",
            "linecolor": "white",
            "ticks": ""
           }
          },
          "scene": {
           "xaxis": {
            "backgroundcolor": "#E5ECF6",
            "gridcolor": "white",
            "gridwidth": 2,
            "linecolor": "white",
            "showbackground": true,
            "ticks": "",
            "zerolinecolor": "white"
           },
           "yaxis": {
            "backgroundcolor": "#E5ECF6",
            "gridcolor": "white",
            "gridwidth": 2,
            "linecolor": "white",
            "showbackground": true,
            "ticks": "",
            "zerolinecolor": "white"
           },
           "zaxis": {
            "backgroundcolor": "#E5ECF6",
            "gridcolor": "white",
            "gridwidth": 2,
            "linecolor": "white",
            "showbackground": true,
            "ticks": "",
            "zerolinecolor": "white"
           }
          },
          "shapedefaults": {
           "line": {
            "color": "#2a3f5f"
           }
          },
          "ternary": {
           "aaxis": {
            "gridcolor": "white",
            "linecolor": "white",
            "ticks": ""
           },
           "baxis": {
            "gridcolor": "white",
            "linecolor": "white",
            "ticks": ""
           },
           "bgcolor": "#E5ECF6",
           "caxis": {
            "gridcolor": "white",
            "linecolor": "white",
            "ticks": ""
           }
          },
          "title": {
           "x": 0.05
          },
          "xaxis": {
           "automargin": true,
           "gridcolor": "white",
           "linecolor": "white",
           "ticks": "",
           "title": {
            "standoff": 15
           },
           "zerolinecolor": "white",
           "zerolinewidth": 2
          },
          "yaxis": {
           "automargin": true,
           "gridcolor": "white",
           "linecolor": "white",
           "ticks": "",
           "title": {
            "standoff": 15
           },
           "zerolinecolor": "white",
           "zerolinewidth": 2
          }
         }
        }
       }
      }
     },
     "metadata": {},
     "output_type": "display_data"
    }
   ],
   "source": [
    "import plotly.graph_objects as go\n",
    "\n",
    "categories_claus = total_freq_rebel[\"Class\"].tolist()\n",
    "\n",
    "r_claus = total_freq_rebel[\"Total_Frequency\"].tolist()\n",
    "\n",
    "fig = go.Figure()\n",
    "\n",
    "fig.add_trace(go.Scatterpolar(\n",
    "      r=r_claus,\n",
    "      theta=categories_claus,\n",
    "      fill='toself',\n",
    "      name='Rebel'\n",
    "))\n",
    "\n",
    "fig.update_layout(\n",
    "  polar=dict(\n",
    "    radialaxis=dict(\n",
    "      visible=True,\n",
    "      range=[0, 40]\n",
    "    )),\n",
    "  showlegend=True\n",
    ")\n",
    "\n",
    "fig.show()"
   ]
  },
  {
   "cell_type": "code",
   "execution_count": 35,
   "metadata": {},
   "outputs": [
    {
     "data": {
      "text/html": [
       "<div>\n",
       "<style scoped>\n",
       "    .dataframe tbody tr th:only-of-type {\n",
       "        vertical-align: middle;\n",
       "    }\n",
       "\n",
       "    .dataframe tbody tr th {\n",
       "        vertical-align: top;\n",
       "    }\n",
       "\n",
       "    .dataframe thead th {\n",
       "        text-align: right;\n",
       "    }\n",
       "</style>\n",
       "<table border=\"1\" class=\"dataframe\">\n",
       "  <thead>\n",
       "    <tr style=\"text-align: right;\">\n",
       "      <th></th>\n",
       "      <th>Head</th>\n",
       "      <th>Relation</th>\n",
       "      <th>Tail</th>\n",
       "      <th>Head_Class</th>\n",
       "      <th>Tail_Class</th>\n",
       "      <th>Title</th>\n",
       "      <th>Article</th>\n",
       "      <th>Paragraph_Coreferenced</th>\n",
       "      <th>Sentence_Coreferenced</th>\n",
       "      <th>Article_Content</th>\n",
       "    </tr>\n",
       "  </thead>\n",
       "  <tbody>\n",
       "    <tr>\n",
       "      <th>0</th>\n",
       "      <td>European Parliament</td>\n",
       "      <td>SUBCLASS OF</td>\n",
       "      <td>European Council</td>\n",
       "      <td>European_Union</td>\n",
       "      <td>European_Union</td>\n",
       "      <td>TITLE III ESTABLISHMENT AND STRUCTURE OF THE B...</td>\n",
       "      <td>Article 39  Estimates of revenue and expenditure</td>\n",
       "      <td>each union institution other than the commissi...</td>\n",
       "      <td>each union institution other than the commissi...</td>\n",
       "      <td>Each Union institution other than the Commissi...</td>\n",
       "    </tr>\n",
       "    <tr>\n",
       "      <th>1</th>\n",
       "      <td>Crisis Response</td>\n",
       "      <td>SUBCLASS OF</td>\n",
       "      <td>Humanitarian Aid</td>\n",
       "      <td>EU_Action</td>\n",
       "      <td>Aid</td>\n",
       "      <td>TITLE III ESTABLISHMENT AND STRUCTURE OF THE B...</td>\n",
       "      <td>Article 39  Estimates of revenue and expenditure</td>\n",
       "      <td>the high representative shall hold consultatio...</td>\n",
       "      <td>the high representative shall hold consultatio...</td>\n",
       "      <td>Each Union institution other than the Commissi...</td>\n",
       "    </tr>\n",
       "    <tr>\n",
       "      <th>2</th>\n",
       "      <td>Humanitarian Aid</td>\n",
       "      <td>SUBCLASS OF</td>\n",
       "      <td>Crisis Response</td>\n",
       "      <td>Aid</td>\n",
       "      <td>EU_Action</td>\n",
       "      <td>TITLE III ESTABLISHMENT AND STRUCTURE OF THE B...</td>\n",
       "      <td>Article 39  Estimates of revenue and expenditure</td>\n",
       "      <td>the high representative shall hold consultatio...</td>\n",
       "      <td>the high representative shall hold consultatio...</td>\n",
       "      <td>Each Union institution other than the Commissi...</td>\n",
       "    </tr>\n",
       "    <tr>\n",
       "      <th>3</th>\n",
       "      <td>Council Estimate</td>\n",
       "      <td>SUBCLASS OF</td>\n",
       "      <td>European Council</td>\n",
       "      <td>Estimates</td>\n",
       "      <td>European_Union</td>\n",
       "      <td>TITLE III ESTABLISHMENT AND STRUCTURE OF THE B...</td>\n",
       "      <td>Article 39  Estimates of revenue and expenditure</td>\n",
       "      <td>the commission shall draw up the commission ow...</td>\n",
       "      <td>in preparing the council estimates, the commis...</td>\n",
       "      <td>Each Union institution other than the Commissi...</td>\n",
       "    </tr>\n",
       "    <tr>\n",
       "      <th>4</th>\n",
       "      <td>European Parliament</td>\n",
       "      <td>SUBCLASS OF</td>\n",
       "      <td>National Parliament</td>\n",
       "      <td>European_Union</td>\n",
       "      <td>European_Union</td>\n",
       "      <td>TITLE III ESTABLISHMENT AND STRUCTURE OF THE B...</td>\n",
       "      <td>Article 41  Draft budget</td>\n",
       "      <td>the commission shall submit a proposal contain...</td>\n",
       "      <td>the draft budget shall transmit that proposal,...</td>\n",
       "      <td>The Commission shall submit a proposal contain...</td>\n",
       "    </tr>\n",
       "  </tbody>\n",
       "</table>\n",
       "</div>"
      ],
      "text/plain": [
       "                  Head     Relation                 Tail      Head_Class  \\\n",
       "0  European Parliament  SUBCLASS OF     European Council  European_Union   \n",
       "1      Crisis Response  SUBCLASS OF     Humanitarian Aid       EU_Action   \n",
       "2     Humanitarian Aid  SUBCLASS OF      Crisis Response             Aid   \n",
       "3     Council Estimate  SUBCLASS OF     European Council       Estimates   \n",
       "4  European Parliament  SUBCLASS OF  National Parliament  European_Union   \n",
       "\n",
       "       Tail_Class                                              Title  \\\n",
       "0  European_Union  TITLE III ESTABLISHMENT AND STRUCTURE OF THE B...   \n",
       "1             Aid  TITLE III ESTABLISHMENT AND STRUCTURE OF THE B...   \n",
       "2       EU_Action  TITLE III ESTABLISHMENT AND STRUCTURE OF THE B...   \n",
       "3  European_Union  TITLE III ESTABLISHMENT AND STRUCTURE OF THE B...   \n",
       "4  European_Union  TITLE III ESTABLISHMENT AND STRUCTURE OF THE B...   \n",
       "\n",
       "                                            Article  \\\n",
       "0  Article 39  Estimates of revenue and expenditure   \n",
       "1  Article 39  Estimates of revenue and expenditure   \n",
       "2  Article 39  Estimates of revenue and expenditure   \n",
       "3  Article 39  Estimates of revenue and expenditure   \n",
       "4                          Article 41  Draft budget   \n",
       "\n",
       "                              Paragraph_Coreferenced  \\\n",
       "0  each union institution other than the commissi...   \n",
       "1  the high representative shall hold consultatio...   \n",
       "2  the high representative shall hold consultatio...   \n",
       "3  the commission shall draw up the commission ow...   \n",
       "4  the commission shall submit a proposal contain...   \n",
       "\n",
       "                               Sentence_Coreferenced  \\\n",
       "0  each union institution other than the commissi...   \n",
       "1  the high representative shall hold consultatio...   \n",
       "2  the high representative shall hold consultatio...   \n",
       "3  in preparing the council estimates, the commis...   \n",
       "4  the draft budget shall transmit that proposal,...   \n",
       "\n",
       "                                     Article_Content  \n",
       "0  Each Union institution other than the Commissi...  \n",
       "1  Each Union institution other than the Commissi...  \n",
       "2  Each Union institution other than the Commissi...  \n",
       "3  Each Union institution other than the Commissi...  \n",
       "4  The Commission shall submit a proposal contain...  "
      ]
     },
     "execution_count": 35,
     "metadata": {},
     "output_type": "execute_result"
    }
   ],
   "source": [
    "# Percentage of identical entities REBEL managed to capture - Accuracy \n",
    "rebel_final.head()\n",
    "\n"
   ]
  },
  {
   "cell_type": "code",
   "execution_count": 36,
   "metadata": {},
   "outputs": [
    {
     "data": {
      "text/html": [
       "<div>\n",
       "<style scoped>\n",
       "    .dataframe tbody tr th:only-of-type {\n",
       "        vertical-align: middle;\n",
       "    }\n",
       "\n",
       "    .dataframe tbody tr th {\n",
       "        vertical-align: top;\n",
       "    }\n",
       "\n",
       "    .dataframe thead th {\n",
       "        text-align: right;\n",
       "    }\n",
       "</style>\n",
       "<table border=\"1\" class=\"dataframe\">\n",
       "  <thead>\n",
       "    <tr style=\"text-align: right;\">\n",
       "      <th></th>\n",
       "      <th>Head</th>\n",
       "      <th>Relation</th>\n",
       "      <th>Tail</th>\n",
       "      <th>Head_Class</th>\n",
       "      <th>Tail_Class</th>\n",
       "      <th>Title</th>\n",
       "      <th>Articles</th>\n",
       "      <th>Content_Text</th>\n",
       "    </tr>\n",
       "  </thead>\n",
       "  <tbody>\n",
       "    <tr>\n",
       "      <th>0</th>\n",
       "      <td>Letter of Amendment</td>\n",
       "      <td>CONCERNS</td>\n",
       "      <td>Amendment Updating</td>\n",
       "      <td>Budget_Amendment</td>\n",
       "      <td>Budget_Amendment</td>\n",
       "      <td>TITLE III ESTABLISHMENT AND STRUCTURE OF THE B...</td>\n",
       "      <td>Article 42  Letter of amendment to the draft b...</td>\n",
       "      <td>On the basis of any new information which was ...</td>\n",
       "    </tr>\n",
       "    <tr>\n",
       "      <th>1</th>\n",
       "      <td>Amendment Updating</td>\n",
       "      <td>INCLUDED_IN</td>\n",
       "      <td>Letter of Amendment</td>\n",
       "      <td>Budget_Amendment</td>\n",
       "      <td>Budget_Amendment</td>\n",
       "      <td>TITLE III ESTABLISHMENT AND STRUCTURE OF THE B...</td>\n",
       "      <td>Article 42  Letter of amendment to the draft b...</td>\n",
       "      <td>On the basis of any new information which was ...</td>\n",
       "    </tr>\n",
       "    <tr>\n",
       "      <th>2</th>\n",
       "      <td>Letter of Amendment</td>\n",
       "      <td>CREATED_BY</td>\n",
       "      <td>European Commission</td>\n",
       "      <td>Budget_Amendment</td>\n",
       "      <td>European_Union</td>\n",
       "      <td>TITLE III ESTABLISHMENT AND STRUCTURE OF THE B...</td>\n",
       "      <td>Article 42  Letter of amendment to the draft b...</td>\n",
       "      <td>On the basis of any new information which was ...</td>\n",
       "    </tr>\n",
       "    <tr>\n",
       "      <th>3</th>\n",
       "      <td>Letter of Amendment</td>\n",
       "      <td>SEND_TO</td>\n",
       "      <td>European Council</td>\n",
       "      <td>Budget_Amendment</td>\n",
       "      <td>European_Union</td>\n",
       "      <td>TITLE III ESTABLISHMENT AND STRUCTURE OF THE B...</td>\n",
       "      <td>Article 42  Letter of amendment to the draft b...</td>\n",
       "      <td>On the basis of any new information which was ...</td>\n",
       "    </tr>\n",
       "    <tr>\n",
       "      <th>4</th>\n",
       "      <td>Letter of Amendment</td>\n",
       "      <td>SEND_TO</td>\n",
       "      <td>European Parliament</td>\n",
       "      <td>Budget_Amendment</td>\n",
       "      <td>European_Union</td>\n",
       "      <td>TITLE III ESTABLISHMENT AND STRUCTURE OF THE B...</td>\n",
       "      <td>Article 42  Letter of amendment to the draft b...</td>\n",
       "      <td>On the basis of any new information which was ...</td>\n",
       "    </tr>\n",
       "  </tbody>\n",
       "</table>\n",
       "</div>"
      ],
      "text/plain": [
       "                  Head     Relation                 Tail        Head_Class  \\\n",
       "0  Letter of Amendment     CONCERNS   Amendment Updating  Budget_Amendment   \n",
       "1   Amendment Updating  INCLUDED_IN  Letter of Amendment  Budget_Amendment   \n",
       "2  Letter of Amendment   CREATED_BY  European Commission  Budget_Amendment   \n",
       "3  Letter of Amendment      SEND_TO     European Council  Budget_Amendment   \n",
       "4  Letter of Amendment      SEND_TO  European Parliament  Budget_Amendment   \n",
       "\n",
       "         Tail_Class                                              Title  \\\n",
       "0  Budget_Amendment  TITLE III ESTABLISHMENT AND STRUCTURE OF THE B...   \n",
       "1  Budget_Amendment  TITLE III ESTABLISHMENT AND STRUCTURE OF THE B...   \n",
       "2    European_Union  TITLE III ESTABLISHMENT AND STRUCTURE OF THE B...   \n",
       "3    European_Union  TITLE III ESTABLISHMENT AND STRUCTURE OF THE B...   \n",
       "4    European_Union  TITLE III ESTABLISHMENT AND STRUCTURE OF THE B...   \n",
       "\n",
       "                                            Articles  \\\n",
       "0  Article 42  Letter of amendment to the draft b...   \n",
       "1  Article 42  Letter of amendment to the draft b...   \n",
       "2  Article 42  Letter of amendment to the draft b...   \n",
       "3  Article 42  Letter of amendment to the draft b...   \n",
       "4  Article 42  Letter of amendment to the draft b...   \n",
       "\n",
       "                                        Content_Text  \n",
       "0  On the basis of any new information which was ...  \n",
       "1  On the basis of any new information which was ...  \n",
       "2  On the basis of any new information which was ...  \n",
       "3  On the basis of any new information which was ...  \n",
       "4  On the basis of any new information which was ...  "
      ]
     },
     "execution_count": 36,
     "metadata": {},
     "output_type": "execute_result"
    }
   ],
   "source": [
    "ground_truth.head()"
   ]
  },
  {
   "cell_type": "code",
   "execution_count": 37,
   "metadata": {},
   "outputs": [
    {
     "data": {
      "text/plain": [
       "['European Parliament',\n",
       " 'Crisis Response',\n",
       " 'Humanitarian Aid',\n",
       " 'Council Estimate',\n",
       " 'European Parliament',\n",
       " 'Draft Budget',\n",
       " 'Revenue',\n",
       " 'Budget',\n",
       " 'European Union',\n",
       " 'Union Institution',\n",
       " 'Appropriation',\n",
       " 'Budget',\n",
       " 'Budget Line',\n",
       " 'Budget Line',\n",
       " 'Point 30',\n",
       " 'Point 30',\n",
       " 'Draft Budget',\n",
       " 'Budget',\n",
       " 'Draft Budget',\n",
       " 'Fund',\n",
       " 'European Commission',\n",
       " 'Public Private Partnership',\n",
       " 'Equity',\n",
       " 'Management Fee',\n",
       " 'Financial Operating Charge',\n",
       " 'Annual Discharge Procedure',\n",
       " 'Financial Instrument',\n",
       " 'European Union',\n",
       " 'Basic Act',\n",
       " 'Basic Act',\n",
       " 'Court Justice',\n",
       " 'Competition Law',\n",
       " 'Budget Line',\n",
       " 'Revenue',\n",
       " 'Post',\n",
       " 'Expenditure Estimate Agriculture',\n",
       " 'Expenditure Estimate Agriculture',\n",
       " 'Expenditure Estimate Agriculture',\n",
       " 'Euratom Treaty',\n",
       " 'European Parliament',\n",
       " 'Euratom Treaty',\n",
       " 'European Union',\n",
       " 'Member State',\n",
       " 'European Union Solidarity Fund',\n",
       " 'European Union Solidarity Fund',\n",
       " 'Budget',\n",
       " 'Amend Budget',\n",
       " 'European Union Solidarity Fund',\n",
       " 'European Parliament',\n",
       " 'European Council',\n",
       " 'European Council',\n",
       " 'Administrative Appropriation',\n",
       " 'Operational Appropriation',\n",
       " 'Operational Appropriation',\n",
       " 'Pro Memoria',\n",
       " 'Pro Memoria',\n",
       " 'Pro Memoria',\n",
       " 'Administrative Appropriation',\n",
       " 'Establishment Plan',\n",
       " 'Administrative Expenditure',\n",
       " 'European Commission',\n",
       " 'Revenue',\n",
       " 'Net Amount',\n",
       " 'Budget',\n",
       " 'Provision',\n",
       " 'Basic Act',\n",
       " 'Negative Reserve',\n",
       " 'Appropriation',\n",
       " 'Payment Appropriations',\n",
       " 'Emergency Aid',\n",
       " 'International Monetary Fund',\n",
       " 'Reserve',\n",
       " 'Revenue',\n",
       " 'Financial Assistance',\n",
       " 'Financial Assistance',\n",
       " 'Budget',\n",
       " 'Leverage Effect',\n",
       " 'Debt Management',\n",
       " 'European Union',\n",
       " 'European Parliament',\n",
       " 'European Parliament',\n",
       " 'Part Time Work',\n",
       " 'Part Time Work',\n",
       " 'Union Act']"
      ]
     },
     "execution_count": 37,
     "metadata": {},
     "output_type": "execute_result"
    }
   ],
   "source": [
    "rebel_final[\"Head\"].to_list()"
   ]
  },
  {
   "cell_type": "code",
   "execution_count": 38,
   "metadata": {},
   "outputs": [
    {
     "data": {
      "text/plain": [
       "84"
      ]
     },
     "execution_count": 38,
     "metadata": {},
     "output_type": "execute_result"
    }
   ],
   "source": [
    "len(rebel_final[\"Tail\"].to_list())"
   ]
  },
  {
   "cell_type": "code",
   "execution_count": 39,
   "metadata": {},
   "outputs": [],
   "source": [
    "total_rebel_entities = rebel_final[\"Head\"].to_list() + rebel_final[\"Tail\"].to_list()"
   ]
  },
  {
   "cell_type": "code",
   "execution_count": 40,
   "metadata": {},
   "outputs": [
    {
     "data": {
      "text/plain": [
       "168"
      ]
     },
     "execution_count": 40,
     "metadata": {},
     "output_type": "execute_result"
    }
   ],
   "source": [
    "len(total_rebel_entities)"
   ]
  },
  {
   "cell_type": "code",
   "execution_count": 41,
   "metadata": {},
   "outputs": [],
   "source": [
    "total_claus_entities = ground_truth[\"Head\"].to_list() + ground_truth[\"Tail\"].to_list()"
   ]
  },
  {
   "cell_type": "code",
   "execution_count": 42,
   "metadata": {},
   "outputs": [
    {
     "data": {
      "text/plain": [
       "262"
      ]
     },
     "execution_count": 42,
     "metadata": {},
     "output_type": "execute_result"
    }
   ],
   "source": [
    "len(total_claus_entities)"
   ]
  },
  {
   "cell_type": "code",
   "execution_count": 43,
   "metadata": {},
   "outputs": [],
   "source": [
    "claus_unique = list(set(total_claus_entities))\n",
    "\n",
    "rebel_unique = list(set(total_rebel_entities))"
   ]
  },
  {
   "cell_type": "code",
   "execution_count": 44,
   "metadata": {},
   "outputs": [
    {
     "data": {
      "text/plain": [
       "77.01149425287356"
      ]
     },
     "execution_count": 44,
     "metadata": {},
     "output_type": "execute_result"
    }
   ],
   "source": [
    "(len(rebel_unique) / len(claus_unique)) * 100"
   ]
  },
  {
   "cell_type": "code",
   "execution_count": 49,
   "metadata": {},
   "outputs": [],
   "source": [
    "# bar plot of percentage unique entities captured per class \n",
    "\n",
    "perce_per_class = {}\n",
    "# for category in class_dictionary_unique_entities_re.keys():\n",
    "#     perce_per_class[category] = 0\n",
    "\n",
    "         \n",
    "for category in class_dictionary_unique_entities.keys():\n",
    "    if category not in perce_per_class.keys():\n",
    "        perce_per_class[category] = 0 \n",
    "\n",
    "\n"
   ]
  },
  {
   "cell_type": "code",
   "execution_count": 50,
   "metadata": {},
   "outputs": [
    {
     "data": {
      "text/plain": [
       "{'Budget_Amendment': 0,\n",
       " 'European_Union': 0,\n",
       " 'Estimates': 0,\n",
       " 'Draft_Budget': 0,\n",
       " 'Budget': 0,\n",
       " 'Legal_Construct': 0,\n",
       " 'Working_Documents': 0,\n",
       " 'Budget_Tool': 0,\n",
       " 'Fund': 0,\n",
       " 'EU_Action': 0,\n",
       " 'Human_Resources': 0,\n",
       " 'Financial_Tool': 0,\n",
       " 'Person': 0,\n",
       " 'Sections': 0,\n",
       " 'Appropriations': 0,\n",
       " 'Aid': 0,\n",
       " 'Provisions': 0,\n",
       " 'Article': 0,\n",
       " 'Adopted_Draft_Budget': 0}"
      ]
     },
     "execution_count": 50,
     "metadata": {},
     "output_type": "execute_result"
    }
   ],
   "source": [
    "perce_per_class"
   ]
  },
  {
   "cell_type": "code",
   "execution_count": 52,
   "metadata": {},
   "outputs": [],
   "source": [
    "for category in class_dictionary_unique_entities_re.keys():\n",
    "    if category in perce_per_class.keys():\n",
    "        for entity in class_dictionary_unique_entities_re[category]:\n",
    "            if entity in class_dictionary_unique_entities[category]:\n",
    "                perce_per_class[category] = perce_per_class[category] + 1\n",
    "\n"
   ]
  },
  {
   "cell_type": "code",
   "execution_count": 53,
   "metadata": {},
   "outputs": [
    {
     "data": {
      "text/plain": [
       "{'Budget_Amendment': 0,\n",
       " 'European_Union': 5,\n",
       " 'Estimates': 3,\n",
       " 'Draft_Budget': 1,\n",
       " 'Budget': 1,\n",
       " 'Legal_Construct': 3,\n",
       " 'Working_Documents': 0,\n",
       " 'Budget_Tool': 1,\n",
       " 'Fund': 0,\n",
       " 'EU_Action': 0,\n",
       " 'Human_Resources': 1,\n",
       " 'Financial_Tool': 0,\n",
       " 'Person': 0,\n",
       " 'Sections': 0,\n",
       " 'Appropriations': 1,\n",
       " 'Aid': 2,\n",
       " 'Provisions': 0,\n",
       " 'Article': 0,\n",
       " 'Adopted_Draft_Budget': 0}"
      ]
     },
     "execution_count": 53,
     "metadata": {},
     "output_type": "execute_result"
    }
   ],
   "source": [
    "perce_per_class"
   ]
  },
  {
   "cell_type": "code",
   "execution_count": 47,
   "metadata": {},
   "outputs": [
    {
     "data": {
      "text/plain": [
       "{'European_Union': ['European Parliament',\n",
       "  'European Council',\n",
       "  'National Parliament',\n",
       "  'European Union',\n",
       "  'Union Institution',\n",
       "  'European Commission',\n",
       "  'Member State'],\n",
       " 'Aid': ['Humanitarian Aid', 'Negative Reserve', 'Emergency Aid', 'Reserve'],\n",
       " 'EU_Action': ['Crisis Response', 'Union Act'],\n",
       " 'Budget': ['Budget'],\n",
       " 'Estimates': ['Council Estimate',\n",
       "  'Revenue',\n",
       "  'Expenditure',\n",
       "  'Management Fee',\n",
       "  'Administrative Expenditure',\n",
       "  'Financial Operating Charge',\n",
       "  'Expenditure Estimate Agriculture',\n",
       "  'Remuneration',\n",
       "  'Net Amount'],\n",
       " 'Appropriations': ['Appropriation',\n",
       "  'Administrative Appropriation',\n",
       "  'Operational Appropriation',\n",
       "  'Payment Appropriations'],\n",
       " 'Legal_Construct': ['Expenditure Policy Area',\n",
       "  'Point 30',\n",
       "  'Interinstitutional Agreement',\n",
       "  'Public Private Partnership',\n",
       "  'Basic Act',\n",
       "  'Court Justice',\n",
       "  'Competition Law',\n",
       "  'Euratom Treaty',\n",
       "  'Multiannual Financial Framework'],\n",
       " 'Draft_Budget': ['Draft Budget', 'Budget Line', 'Budgetary Procedure'],\n",
       " 'Working_Documents': ['Work Document'],\n",
       " 'Financial_Tool': ['Equity',\n",
       "  'Debt',\n",
       "  'Annual Discharge Procedure',\n",
       "  'Financial Instrument',\n",
       "  'Table Information',\n",
       "  'Financial Assistance',\n",
       "  'Leverage Effect',\n",
       "  'Capital Operation',\n",
       "  'Debt Management'],\n",
       " 'Human_Resources': ['Post', 'Personnel', 'Part Time Work', 'Work', 'Salary'],\n",
       " 'Budget_Amendment': ['Letter Amendment', 'Amend Budget'],\n",
       " 'Person': ['President'],\n",
       " 'Budget_Tool': ['Budget Line',\n",
       "  'Pro Memoria',\n",
       "  'Token Entry',\n",
       "  'Token',\n",
       "  'Establishment Plan',\n",
       "  'Budgetary Guarantee'],\n",
       " 'Provisions': ['Provision'],\n",
       " 'International_Organization': ['International Monetary Fund', 'World Bank'],\n",
       " 'Fund': ['Fund', 'European Union Solidarity Fund']}"
      ]
     },
     "execution_count": 47,
     "metadata": {},
     "output_type": "execute_result"
    }
   ],
   "source": [
    "class_dictionary_unique_entities_re"
   ]
  },
  {
   "cell_type": "code",
   "execution_count": 48,
   "metadata": {},
   "outputs": [
    {
     "data": {
      "text/plain": [
       "{'Budget_Amendment': ['Letter of Amendment',\n",
       "  'Amendment Updating',\n",
       "  'Budget Amendment'],\n",
       " 'European_Union': ['European Commission',\n",
       "  'European Council',\n",
       "  'European Parliament',\n",
       "  'Member State',\n",
       "  'Union Institutions',\n",
       "  'National Parliaments',\n",
       "  'European Union'],\n",
       " 'Estimates': ['Expenditure Estimates',\n",
       "  'Administrative Expenditure',\n",
       "  'Management Fee',\n",
       "  'Financial Operating Charge',\n",
       "  'Estimates',\n",
       "  'Revenue Estimates',\n",
       "  'Net Amounts',\n",
       "  'Commission Estimates',\n",
       "  'Union Institution Estimates'],\n",
       " 'Draft_Budget': ['Draft Budget',\n",
       "  'Structure',\n",
       "  'Proposal',\n",
       "  'Estimated Draft Budget',\n",
       "  'Adopted Draft Budget'],\n",
       " 'Budget': ['Budget'],\n",
       " 'Legal_Construct': ['Euratom Treaty',\n",
       "  'Multiannual Financial Framework',\n",
       "  'Basic Act',\n",
       "  'Public-Private Partnership',\n",
       "  'Commitments',\n",
       "  'Sound Financial Management',\n",
       "  'Euratom treaty'],\n",
       " 'Working_Documents': ['Working Documents',\n",
       "  'Budget Guarantees and Common Provisioning Fund Work Document',\n",
       "  'Establishment Plan Work Document',\n",
       "  'Financial Instruments Work Document',\n",
       "  'Trust Funds Working Document'],\n",
       " 'Budget_Tool': ['Budgetary Guarantees',\n",
       "  'Establishment Plan',\n",
       "  'Budget Lines',\n",
       "  'Token Entry Pro Memoria'],\n",
       " 'Fund': ['Common Provisioning Fund', 'Trust Funds'],\n",
       " 'EU_Action': ['Operations',\n",
       "  'EU_Action',\n",
       "  'Union Activities',\n",
       "  'Objectives',\n",
       "  'Changes in Appropriations',\n",
       "  'Resource Pay Decision'],\n",
       " 'Human_Resources': ['Personnel',\n",
       "  'Euratom Supply Agency Staff',\n",
       "  'Personnel Statistics',\n",
       "  'Posts',\n",
       "  'Number',\n",
       "  'Grade',\n",
       "  'Gender Balance',\n",
       "  'Administrative Units'],\n",
       " 'Financial_Tool': ['Financial Tables',\n",
       "  'Financial Instruments',\n",
       "  'Performance',\n",
       "  'Realized Investment',\n",
       "  'Private Capital',\n",
       "  'Achieved Target',\n",
       "  'Multiplier Effect',\n",
       "  'Duration Reduction Action Plan',\n",
       "  'Annual Discharge Procedure Framework'],\n",
       " 'Person': ['External Donors', 'High Representative'],\n",
       " 'Sections': ['Sections',\n",
       "  'Commission Budget Section',\n",
       "  'General Summary Statement',\n",
       "  'Provision Titles Section',\n",
       "  'Introduction',\n",
       "  'General Introduction',\n",
       "  'Union Institution Introduction'],\n",
       " 'Appropriations': ['Payment Appropriations',\n",
       "  'Operational Appropriations',\n",
       "  'Administrative Appropriations',\n",
       "  'Appropriations',\n",
       "  'Unauthorized Appropriations',\n",
       "  'Inadequate Appropriations'],\n",
       " 'Aid': ['Emergency Aid Reserve', 'Emergency Aid', 'Negative Reserve'],\n",
       " 'Provisions': ['Provisions'],\n",
       " 'Article': ['Article 294 TFUE'],\n",
       " 'Adopted_Draft_Budget': ['Budget Contributions', 'Adopted Draft Budget']}"
      ]
     },
     "execution_count": 48,
     "metadata": {},
     "output_type": "execute_result"
    }
   ],
   "source": [
    "class_dictionary_unique_entities"
   ]
  },
  {
   "cell_type": "code",
   "execution_count": null,
   "metadata": {},
   "outputs": [],
   "source": []
  },
  {
   "cell_type": "code",
   "execution_count": null,
   "metadata": {},
   "outputs": [],
   "source": []
  },
  {
   "cell_type": "code",
   "execution_count": null,
   "metadata": {},
   "outputs": [],
   "source": []
  },
  {
   "cell_type": "code",
   "execution_count": null,
   "metadata": {},
   "outputs": [],
   "source": []
  }
 ],
 "metadata": {
  "kernelspec": {
   "display_name": ".venv",
   "language": "python",
   "name": "python3"
  },
  "language_info": {
   "codemirror_mode": {
    "name": "ipython",
    "version": 3
   },
   "file_extension": ".py",
   "mimetype": "text/x-python",
   "name": "python",
   "nbconvert_exporter": "python",
   "pygments_lexer": "ipython3",
   "version": "3.12.0"
  }
 },
 "nbformat": 4,
 "nbformat_minor": 2
}
