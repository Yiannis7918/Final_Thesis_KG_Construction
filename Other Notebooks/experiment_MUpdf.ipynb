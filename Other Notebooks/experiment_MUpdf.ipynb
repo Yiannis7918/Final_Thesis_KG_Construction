{
 "cells": [
  {
   "cell_type": "code",
   "execution_count": 2,
   "metadata": {},
   "outputs": [],
   "source": [
    "import pymupdf"
   ]
  },
  {
   "cell_type": "code",
   "execution_count": 63,
   "metadata": {},
   "outputs": [],
   "source": [
    "# doc = pymupdf.open(\"test.pdf\") # open document\n",
    "# page = doc[0] # get the 1st page of the document\n",
    "# page.set_cropbox(pymupdf.Rect(100, 100, 400, 400)) # set a cropbox for the page\n",
    "# doc.save(\"cropped-page-1.pdf\")"
   ]
  },
  {
   "cell_type": "code",
   "execution_count": null,
   "metadata": {},
   "outputs": [],
   "source": []
  },
  {
   "cell_type": "code",
   "execution_count": 73,
   "metadata": {},
   "outputs": [],
   "source": [
    "# Open the PDF document\n",
    "doc = pymupdf.open('regulations_new.pdf')\n",
    "\n",
    "# Get the first page\n",
    "page = doc[4]"
   ]
  },
  {
   "cell_type": "code",
   "execution_count": 74,
   "metadata": {},
   "outputs": [
    {
     "name": "stdout",
     "output_type": "stream",
     "text": [
      " \n",
      "(60) ‘Staff Regulations’ means the Staff Regulations of Officials of the European Union and the Conditions of \n",
      "Employment of Other Servants of the European Union laid down in Regulation (EEC, Euratom, ECSC) No 259/68; \n",
      "(61) ‘subcontractor’ means an economic operator that is proposed by a candidate or tenderer or contractor to perform \n",
      "part of a contract or by a beneficiary to perform part of the tasks co-financed by a grant; \n",
      "(62) ‘subscription’ means sums paid to bodies of which the Union is member, in accordance with the budgetary decisions \n",
      "and the conditions of payment established by the body concerned; \n",
      "(63) ‘supply contract’ means a contract covering the purchase, leasing, rental or hire purchase, with or without option to \n",
      "buy, of products, and which may include, as an incidental matter, siting and installation operations; \n",
      "(64) ‘technical assistance’ means, without prejudice to sector-specific rules, support and capacity-building activities \n",
      "necessary for the implementation of a programme or an action, in particular preparatory, management, monitoring, \n",
      "evaluation, audit and control activities; \n",
      "(65) ‘tenderer’ means an economic operator that has submitted a tender; \n",
      "(66) ‘Union’ means the European Union, the European Atomic Energy Community, or both, as the context may require; \n",
      "(67) ‘Union institution’ means the European Parliament, the European Council, the Council, the Commission, the Court \n",
      "of Justice of the European Union, the Court of Auditors, the European Economic and Social Committee, the \n",
      "Committee of the Regions, the European Ombudsman, the European Data Protection Supervisor or the European \n",
      "External Action Service (the ‘EEAS’); the European Central Bank shall not be considered to be a Union institution; \n",
      "(68) ‘vendor’ means an economic operator registered in a list of vendors to be invited to submit requests to participate in \n",
      "or submit tenders; \n",
      "(69) ‘volunteer’ means a person working on a non-compulsory basis for an organisation without being paid; \n",
      "(70) ‘work’ means the outcome of building or civil engineering works taken as a whole that is sufficient in itself to fulfil \n",
      "an economic or technical function; \n",
      "(71) ‘works contract’ means a contract covering either: \n",
      "(a) the execution or both the execution and design of a work; \n",
      "(b) the execution or both the execution and design of a work related to one of the activities referred to in Annex II \n",
      "to Directive 2014/24/EU; or \n",
      "(c) the realisation, by whatever means, of a work corresponding to the requirements specified by the contracting \n",
      "authority exercising a decisive influence on the type or design of the work. \n",
      "Article 3 \n",
      "Compliance of secondary legislation with this Regulation \n",
      "1. \n",
      "Provisions concerning the implementation of the revenue and expenditure of the budget, and contained in a basic \n",
      "act, shall comply with the budgetary principles set out in Title II. \n",
      "2. \n",
      "Without prejudice to paragraph 1, any proposal or amendment to a proposal submitted to the legislative authority \n",
      "containing derogations from the provisions of this Regulation other than those set out in Title II, or from delegated acts \n",
      "adopted pursuant to this Regulation, shall clearly indicate such derogations and shall state the specific reasons justifying \n",
      "them in the recitals and in the explanatory memorandum of such proposals or amendments. \n",
      "Article 4 \n",
      "Periods, dates and time limits \n",
      "Unless otherwise provided in this Regulation, Council Regulation (EEC, Euratom) No 1182/71 ( 1 ) shall apply to the \n",
      "deadlines set out in this Regulation.\n",
      "EN \n",
      "L 193/30 \n",
      "Official Journal of the European Union \n",
      "30.7.2018 \n",
      "( 1 ) Council Regulation (EEC, Euratom) No 1182/71 of 3 June 1971 determining the rules applicable to periods, dates and time limits \n",
      "(OJ L 124, 8.6.1971, p. 1).\n",
      "\n"
     ]
    }
   ],
   "source": [
    "print(page.get_text())"
   ]
  },
  {
   "cell_type": "code",
   "execution_count": 66,
   "metadata": {},
   "outputs": [
    {
     "name": "stdout",
     "output_type": "stream",
     "text": [
      "595.2760009765625 841.8900146484375\n"
     ]
    }
   ],
   "source": [
    "print(page.rect.width, page.rect.height)"
   ]
  },
  {
   "cell_type": "code",
   "execution_count": 67,
   "metadata": {},
   "outputs": [
    {
     "name": "stdout",
     "output_type": "stream",
     "text": [
      "595.2760009765625 841.8900146484375\n"
     ]
    }
   ],
   "source": [
    "print(page.mediabox.width, page.mediabox.height)"
   ]
  },
  {
   "cell_type": "code",
   "execution_count": 68,
   "metadata": {},
   "outputs": [
    {
     "name": "stdout",
     "output_type": "stream",
     "text": [
      "595.2760009765625 841.8900146484375\n"
     ]
    }
   ],
   "source": [
    "print(page.cropbox.width, page.cropbox.height)"
   ]
  },
  {
   "cell_type": "code",
   "execution_count": null,
   "metadata": {},
   "outputs": [],
   "source": []
  },
  {
   "cell_type": "code",
   "execution_count": 5,
   "metadata": {},
   "outputs": [],
   "source": [
    "\n",
    "doc = pymupdf.open('regulations_new.pdf')\n",
    "\n",
    "# Add a redacction annotation which will have a red fill color\n",
    "for page in doc:\n",
    "    rect = [0,0,595.2760009765625,50]\n",
    "    page.add_redact_annot(rect, fill=(1,0,0))\n",
    "    page.apply_redactions(graphics=0)\n",
    "\n",
    "# Save the modified document\n",
    "doc.save('redactied_document_3.pdf')\n",
    "\n",
    "# Close the document\n",
    "doc.close()"
   ]
  },
  {
   "cell_type": "code",
   "execution_count": 78,
   "metadata": {},
   "outputs": [
    {
     "name": "stdout",
     "output_type": "stream",
     "text": [
      "0\n",
      "1\n",
      "2\n",
      "3\n",
      "4\n",
      "5\n",
      "6\n",
      "7\n",
      "8\n",
      "9\n",
      "10\n",
      "11\n",
      "12\n",
      "13\n",
      "14\n",
      "15\n",
      "16\n",
      "17\n",
      "18\n",
      "19\n",
      "20\n",
      "21\n",
      "22\n",
      "23\n",
      "24\n",
      "25\n",
      "26\n",
      "27\n",
      "28\n",
      "29\n",
      "30\n",
      "31\n",
      "32\n",
      "33\n",
      "34\n",
      "35\n",
      "36\n",
      "37\n",
      "38\n",
      "39\n",
      "40\n",
      "41\n",
      "42\n",
      "43\n",
      "44\n",
      "45\n",
      "46\n",
      "47\n",
      "48\n",
      "49\n",
      "50\n",
      "51\n",
      "52\n",
      "53\n",
      "54\n",
      "55\n",
      "56\n",
      "57\n",
      "58\n",
      "59\n",
      "60\n",
      "61\n",
      "62\n",
      "63\n",
      "64\n",
      "65\n",
      "66\n",
      "67\n",
      "68\n",
      "69\n",
      "70\n",
      "71\n",
      "72\n",
      "73\n",
      "74\n",
      "75\n",
      "76\n",
      "77\n",
      "78\n",
      "79\n",
      "80\n",
      "81\n",
      "82\n",
      "83\n",
      "84\n",
      "85\n",
      "86\n",
      "87\n",
      "88\n",
      "89\n",
      "90\n",
      "91\n",
      "92\n",
      "93\n",
      "94\n",
      "95\n",
      "96\n",
      "97\n",
      "98\n",
      "99\n",
      "100\n",
      "101\n",
      "102\n",
      "103\n",
      "104\n",
      "105\n",
      "106\n",
      "107\n",
      "108\n",
      "109\n",
      "110\n",
      "111\n",
      "112\n",
      "113\n",
      "114\n",
      "115\n",
      "116\n",
      "117\n",
      "118\n",
      "119\n",
      "120\n",
      "121\n",
      "122\n",
      "123\n",
      "124\n",
      "125\n",
      "126\n",
      "127\n",
      "128\n",
      "129\n",
      "130\n",
      "131\n",
      "132\n",
      "133\n",
      "134\n",
      "135\n",
      "136\n",
      "137\n",
      "138\n",
      "139\n",
      "140\n",
      "141\n",
      "142\n",
      "143\n",
      "144\n",
      "145\n",
      "146\n",
      "147\n",
      "148\n",
      "149\n",
      "150\n",
      "151\n",
      "152\n",
      "153\n",
      "154\n",
      "155\n",
      "156\n",
      "157\n",
      "158\n",
      "159\n",
      "160\n"
     ]
    }
   ],
   "source": [
    "doc = pymupdf.open('regulations_new.pdf')\n",
    "for page in doc:\n",
    "    print(page.number)"
   ]
  },
  {
   "cell_type": "code",
   "execution_count": null,
   "metadata": {},
   "outputs": [],
   "source": [
    "# try with deducting instances of noise"
   ]
  },
  {
   "cell_type": "code",
   "execution_count": null,
   "metadata": {},
   "outputs": [],
   "source": [
    "\\nEN \\n30.7.2018 \\nOfficial Journal of the European Union \\nL 193/31\\n"
   ]
  },
  {
   "cell_type": "code",
   "execution_count": null,
   "metadata": {},
   "outputs": [],
   "source": [
    "import pymupdf\n",
    "\n",
    "# Open the PDF document\n",
    "doc = pymupdf.open('regulations_new.pdf')\n",
    "\n",
    "# Iterate over each page of the document\n",
    "for page in doc:\n",
    "    # Find all instances of \"Jane Doe\" on the current page\n",
    "    instances = page.search_for(\"Official Journal of the European Union\")\n",
    "    instances_2 = page.search_for(\"30.7.2018\")\n",
    "    \n",
    "\n",
    "    # Redact each instance of \"Jane Doe\" on the current page\n",
    "    for inst in instances:\n",
    "        page.add_redact_annot(inst)\n",
    "\n",
    "    # Apply the redactions to the current page\n",
    "    page.apply_redactions()\n",
    "\n",
    "# Save the modified document\n",
    "doc.save('redacted_document.pdf')\n",
    "\n",
    "# Close the document\n",
    "doc.close()"
   ]
  },
  {
   "cell_type": "code",
   "execution_count": null,
   "metadata": {},
   "outputs": [],
   "source": []
  },
  {
   "cell_type": "code",
   "execution_count": null,
   "metadata": {},
   "outputs": [],
   "source": []
  },
  {
   "cell_type": "code",
   "execution_count": null,
   "metadata": {},
   "outputs": [],
   "source": []
  },
  {
   "cell_type": "code",
   "execution_count": null,
   "metadata": {},
   "outputs": [],
   "source": []
  }
 ],
 "metadata": {
  "kernelspec": {
   "display_name": ".venv",
   "language": "python",
   "name": "python3"
  },
  "language_info": {
   "codemirror_mode": {
    "name": "ipython",
    "version": 3
   },
   "file_extension": ".py",
   "mimetype": "text/x-python",
   "name": "python",
   "nbconvert_exporter": "python",
   "pygments_lexer": "ipython3",
   "version": "3.11.5"
  }
 },
 "nbformat": 4,
 "nbformat_minor": 2
}
