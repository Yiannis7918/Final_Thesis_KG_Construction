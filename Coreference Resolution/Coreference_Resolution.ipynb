{
 "cells": [
  {
   "cell_type": "markdown",
   "metadata": {},
   "source": [
    "# Coreference Resolution \n",
    "\n",
    "- Application of the neuralcoref spaCy modude: https://spacy.io/universe/project/neuralcoref"
   ]
  },
  {
   "cell_type": "markdown",
   "metadata": {},
   "source": [
    "## Install the required spaCy version and the required packages\n",
    "\n",
    "-REMARK!!!! -> This notebook requires a specific spacy version to run: spacy==2.1.0"
   ]
  },
  {
   "cell_type": "code",
   "execution_count": 1,
   "metadata": {},
   "outputs": [],
   "source": [
    "# !python -m pip install spacy==2.1.0"
   ]
  },
  {
   "cell_type": "code",
   "execution_count": 2,
   "metadata": {},
   "outputs": [],
   "source": [
    "# !pip install neuralcoref"
   ]
  },
  {
   "cell_type": "code",
   "execution_count": 3,
   "metadata": {},
   "outputs": [],
   "source": [
    "import neuralcoref"
   ]
  },
  {
   "cell_type": "code",
   "execution_count": 4,
   "metadata": {},
   "outputs": [],
   "source": [
    "# !python -m spacy download en_core_web_lg\n"
   ]
  },
  {
   "cell_type": "code",
   "execution_count": 5,
   "metadata": {},
   "outputs": [],
   "source": [
    "# !python -m spacy download en"
   ]
  },
  {
   "cell_type": "markdown",
   "metadata": {},
   "source": [
    "# Coreference Resolution - Exploration "
   ]
  },
  {
   "cell_type": "markdown",
   "metadata": {},
   "source": [
    "## Coreference Resolution Example from spaCy \n",
    "\n",
    "- spaCy's Large English model is utilized"
   ]
  },
  {
   "cell_type": "code",
   "execution_count": 6,
   "metadata": {},
   "outputs": [
    {
     "name": "stdout",
     "output_type": "stream",
     "text": [
      "[My sister: [My sister, She], a dog: [a dog, him]]\n",
      "Angela: [Angela, She]\n",
      "Boston: [Boston, that city]\n"
     ]
    }
   ],
   "source": [
    "import en_core_web_lg\n",
    "\n",
    "nlp = en_core_web_lg.load()\n",
    "\n",
    "import spacy\n",
    "import neuralcoref\n",
    "\n",
    "# nlp = spacy.load(r'C:\\Users\\Johnn\\AppData\\Local\\Programs\\Python\\Python37\\lib\\site-packages\\en_core_web_lg')\n",
    "\n",
    "# nlp = spacy.load('en_core_web_lg')  # Correct model name\n",
    "neuralcoref.add_to_pipe(nlp)\n",
    "\n",
    "doc1 = nlp('My sister has a dog. She loves him.')\n",
    "print(doc1._.coref_clusters)\n",
    "\n",
    "doc2 = nlp('Angela lives in Boston. She is quite happy in that city.')\n",
    "for ent in doc2.ents:\n",
    "    print(ent._.coref_cluster)\n"
   ]
  },
  {
   "cell_type": "code",
   "execution_count": 7,
   "metadata": {},
   "outputs": [
    {
     "data": {
      "text/plain": [
       "'My sister has a dog. My sister loves a dog.'"
      ]
     },
     "execution_count": 7,
     "metadata": {},
     "output_type": "execute_result"
    }
   ],
   "source": [
    "doc1._.coref_resolved"
   ]
  },
  {
   "cell_type": "markdown",
   "metadata": {},
   "source": [
    "## Import the \"final_dataframe.csv\" as constructed in notebook 1:PDF Parsing & Dataframe Creation"
   ]
  },
  {
   "cell_type": "code",
   "execution_count": 8,
   "metadata": {},
   "outputs": [],
   "source": [
    "import pandas as pd\n",
    "import ast"
   ]
  },
  {
   "cell_type": "code",
   "execution_count": 9,
   "metadata": {},
   "outputs": [],
   "source": [
    "final_dataframe = pd.read_csv(r'C:\\Users\\Johnn\\Desktop\\Thesis-Coding\\final_dataframe.csv')\n",
    "\n",
    "def convert_to_list(column):\n",
    "    return column.apply(ast.literal_eval)\n",
    "\n",
    "final_dataframe['Content'] = convert_to_list(final_dataframe['Content'])\n",
    "final_dataframe['Cleaned_Content'] = convert_to_list(final_dataframe['Cleaned_Content'])"
   ]
  },
  {
   "cell_type": "code",
   "execution_count": 10,
   "metadata": {},
   "outputs": [],
   "source": [
    "def coref_solve(text):\n",
    "    doc = nlp(text)\n",
    "    new_text = doc._.coref_resolved\n",
    "    return new_text\n"
   ]
  },
  {
   "cell_type": "code",
   "execution_count": 52,
   "metadata": {},
   "outputs": [
    {
     "data": {
      "text/plain": [
       "'Angela lives in Boston. Angela is quite happy in Boston.'"
      ]
     },
     "execution_count": 52,
     "metadata": {},
     "output_type": "execute_result"
    }
   ],
   "source": [
    "coref_solve('Angela lives in Boston. She is quite happy in that city.')"
   ]
  },
  {
   "cell_type": "code",
   "execution_count": 12,
   "metadata": {},
   "outputs": [
    {
     "data": {
      "text/html": [
       "<div>\n",
       "<style scoped>\n",
       "    .dataframe tbody tr th:only-of-type {\n",
       "        vertical-align: middle;\n",
       "    }\n",
       "\n",
       "    .dataframe tbody tr th {\n",
       "        vertical-align: top;\n",
       "    }\n",
       "\n",
       "    .dataframe thead th {\n",
       "        text-align: right;\n",
       "    }\n",
       "</style>\n",
       "<table border=\"1\" class=\"dataframe\">\n",
       "  <thead>\n",
       "    <tr style=\"text-align: right;\">\n",
       "      <th></th>\n",
       "      <th>Title</th>\n",
       "      <th>Articles</th>\n",
       "      <th>Content</th>\n",
       "      <th>Cleaned_Content</th>\n",
       "    </tr>\n",
       "  </thead>\n",
       "  <tbody>\n",
       "    <tr>\n",
       "      <th>0</th>\n",
       "      <td>TITLE I \\nSUBJECT MATTER, DEFINITIONS AND GENE...</td>\n",
       "      <td>Article 1  Subject matter</td>\n",
       "      <td>[\\nThis Regulation lays down the rules for the...</td>\n",
       "      <td>[this regulation lays down the rules for the e...</td>\n",
       "    </tr>\n",
       "    <tr>\n",
       "      <th>1</th>\n",
       "      <td>TITLE I \\nSUBJECT MATTER, DEFINITIONS AND GENE...</td>\n",
       "      <td>Article 2  Definitions</td>\n",
       "      <td>[ ‘applicant’ means a natural person or an ent...</td>\n",
       "      <td>[‘applicant’ means a natural person or an enti...</td>\n",
       "    </tr>\n",
       "    <tr>\n",
       "      <th>2</th>\n",
       "      <td>TITLE I \\nSUBJECT MATTER, DEFINITIONS AND GENE...</td>\n",
       "      <td>Article 3  Compliance of secondary legislation...</td>\n",
       "      <td>[ \\nProvisions concerning the implementation o...</td>\n",
       "      <td>[provisions concerning the implementation of t...</td>\n",
       "    </tr>\n",
       "    <tr>\n",
       "      <th>3</th>\n",
       "      <td>TITLE I \\nSUBJECT MATTER, DEFINITIONS AND GENE...</td>\n",
       "      <td>Article 4  Periods, dates and time limits</td>\n",
       "      <td>[\\nUnless otherwise provided in this Regulatio...</td>\n",
       "      <td>[unless otherwise provided in this regulation,...</td>\n",
       "    </tr>\n",
       "    <tr>\n",
       "      <th>4</th>\n",
       "      <td>TITLE I \\nSUBJECT MATTER, DEFINITIONS AND GENE...</td>\n",
       "      <td>Article 5  Protection of personal data</td>\n",
       "      <td>[\\nThis Regulation is without prejudice to Reg...</td>\n",
       "      <td>[this regulation is without prejudice to regul...</td>\n",
       "    </tr>\n",
       "  </tbody>\n",
       "</table>\n",
       "</div>"
      ],
      "text/plain": [
       "                                               Title  \\\n",
       "0  TITLE I \\nSUBJECT MATTER, DEFINITIONS AND GENE...   \n",
       "1  TITLE I \\nSUBJECT MATTER, DEFINITIONS AND GENE...   \n",
       "2  TITLE I \\nSUBJECT MATTER, DEFINITIONS AND GENE...   \n",
       "3  TITLE I \\nSUBJECT MATTER, DEFINITIONS AND GENE...   \n",
       "4  TITLE I \\nSUBJECT MATTER, DEFINITIONS AND GENE...   \n",
       "\n",
       "                                            Articles  \\\n",
       "0                         Article 1  Subject matter    \n",
       "1                            Article 2  Definitions    \n",
       "2  Article 3  Compliance of secondary legislation...   \n",
       "3         Article 4  Periods, dates and time limits    \n",
       "4            Article 5  Protection of personal data    \n",
       "\n",
       "                                             Content  \\\n",
       "0  [\\nThis Regulation lays down the rules for the...   \n",
       "1  [ ‘applicant’ means a natural person or an ent...   \n",
       "2  [ \\nProvisions concerning the implementation o...   \n",
       "3  [\\nUnless otherwise provided in this Regulatio...   \n",
       "4  [\\nThis Regulation is without prejudice to Reg...   \n",
       "\n",
       "                                     Cleaned_Content  \n",
       "0  [this regulation lays down the rules for the e...  \n",
       "1  [‘applicant’ means a natural person or an enti...  \n",
       "2  [provisions concerning the implementation of t...  \n",
       "3  [unless otherwise provided in this regulation,...  \n",
       "4  [this regulation is without prejudice to regul...  "
      ]
     },
     "execution_count": 12,
     "metadata": {},
     "output_type": "execute_result"
    }
   ],
   "source": [
    "final_dataframe.head()"
   ]
  },
  {
   "cell_type": "code",
   "execution_count": 13,
   "metadata": {},
   "outputs": [
    {
     "data": {
      "text/plain": [
       "'‘applicant’ means a natural person or an entity with or without legal personality who has submitted an application in a grant award procedure or in a contest for prizes;‘application document’ means a tender, a request to participate, a grant application or an application in a contest for prizes;‘award procedure’ means a procurement procedure, a grant award procedure, a contest for prizes, or a procedure for the selection of experts or persons or entities implementing the budget pursuant to point (c) of the first subparagraph of article 62(1);‘basic act’ means a legal act, other than a recommendation or an opinion, which provides a legal basis for an action and for the implementation of the corresponding expenditure entered in the budget or of the budgetary guarantee or financial assistance backed by the budget, and which may take any of the following forms: (a) in implementation of the treaty on the functioning of the european union (tfeu) and the treaty establishing the european atomic energy community (the euratom treaty), the form of a regulation, a directive or a decision within the meaning of article 288 tfeu; or (b) in implementation of title v of the treaty on european union (teu), one of the forms specified in articles 28(1) and 31(2), article 33, and articles 42(4) and 43(2) teu;‘beneficiary’ means a natural person or an entity with or without legal personality with whom a grant agreement has been signed;‘blending facility or platform’ means a cooperation framework established between the commission and devel\\xadopment or other public finance institutions with a view to combining non-repayable forms of support and/or financial instruments and/or budgetary guarantees from the budget and repayable forms of support from devel\\xadopment or other public finance institutions, as well as from private-sector finance institutions and private-sector investors;‘budget implementation’ means the carrying out of activities relating to the management, monitoring, control and auditing of budget appropriations in accordance with the methods provided for in article 62;‘budgetary commitment’ means the operation by which the authorising officer responsible reserves the budget appropriations necessary to cover subsequent payments to honour legal commitments; l 193/26‘budgetary guarantee’ means a legal commitment of the union to support a programme of actions by taking on the budget a financial obligation that can be called upon should a specified event materialise during the implementation of the programme, and that remains valid for the duration of the maturity of the commitments made under the supported programme;‘building contract’ means a contract covering the purchase, exchange, long lease, usufruct, leasing, rental or hire purchase, with or without option to buy, of land, buildings or other immovable property. it covers both existing buildings and buildings before completion provided that the candidate has obtained a valid building permit for it. it does not cover buildings designed in accordance with the specifications of the contracting authority that are covered by works contracts;‘candidate’ means an economic operator that has sought an invitation or has been invited to take part in a restricted procedure, a competitive procedure with negotiation, a competitive dialogue, an innovation partnership, a design contest or a negotiated procedure;‘central purchasing body’ means a contracting authority providing centralised purchasing activities and, where applicable, ancillary purchasing activities;‘check’ means the verification of a specific aspect of a revenue or expenditure operation;‘concession contract’ means a contract for pecuniary interest concluded in writing between one or more economic operators and one or more contracting authorities within the meaning of articles 174 and 178, in order to entrust the execution of works or the provision and management of services to an economic operator (the ‘concession’), and where: (a) the remuneration consists either solely in the right to exploit the works or services or in that right together with payment; (b) the award of the concession contract involves the transfer to the concessionaire of an operating risk in exploiting those works or services encompassing demand risk or supply risk, or both. the concessionaire shall be deemed to assume an operating risk where, under normal operating conditions, there is no guarantee of recouping the investments made or the costs incurred in operating the works or the services concerned;‘contingent liability’ means a potential financial obligation that could be incurred depending on the outcome of a future event;‘contract’ means a public contract or a concession contract;‘contractor’ means an economic operator with whom a public contract has been signed;‘contribution agreement’ means an agreement concluded with persons or entities implementing union funds pursuant to points (c)(ii) to (viii) of the first subparagraph of article 62(1);‘control’ means any measure taken to provide reasonable assurance regarding the effectiveness, efficiency and economy of operations, the reliability of reporting, the safeguarding of assets and information, the prevention and detection and correction of fraud and irregularities and their follow-up, and the adequate management of the risks relating to the legality and regularity of the underlying transactions, taking into account the multiannual character of programmes as well as the nature of the payments concerned. controls may involve various checks, as well as the implementation of any policies and procedures to achieve the objectives referred to in the first sentence;‘counterpart’ means the party that is granted a budgetary guarantee;‘crisis’ means: (a) a situation of immediate or imminent danger threatening to escalate into an armed conflict or to destabilise a country or its neighbourhood; (b) a situation caused by natural disasters, man-made crisis such as wars and other conflicts or extraordinary circumstances having comparable effects related, inter alia, to climate change, environmental degradation, privation of access to energy and natural resources or extreme poverty;‘decommitment’ means an operation whereby the authorising officer responsible cancels wholly or partly the reservation of appropriations previously made by means of a budgetary commitment;‘dynamic purchasing system’ means a completely electronic process for making commonly used purchases of items generally available on the market;‘economic operator’ means any natural or legal person, including a public entity, or a group of such persons, who offers to supply products, execute works or provide services or supply immovable property;‘equity investment’ means the provision of capital to a company, invested directly or indirectly in return for total or partial ownership of that company and where the equity investor may assume some management control of the company and may share the company’s profits;‘european office’ means an administrative structure set up by the commission, or by the commission with one or more other union institutions, to perform specific cross-cutting tasks;‘final administrative decision’ means a decision of an administrative authority having final and binding effect in accordance with the applicable law;‘financial asset’ means any asset in the form of cash, an equity instrument of a publicly or privately held entity or a contractual right to receive cash or another financial asset from such entity;‘financial instrument’ means a union measure of financial support provided from the budget to address one or more specific policy objectives of the union which may take the form of equity or quasi-equity investments, loans or guarantees, or other risk-sharing instruments, and which may, where appropriate, be combined with other forms of financial support or with funds under shared management or funds of the european development fund (edf);‘financial liability’ means a contractual obligation to deliver cash or another financial asset to another entity;‘framework contract’ means a public contract concluded between one or more economic operators and one or more contracting authorities, the purpose of which is to establish the terms governing specific contracts under it to be awarded during a given period, in particular with regard to price and, where appropriate, the quantity envisaged;‘global provisioning’ means the total amount of resources deemed necessary over the entire lifetime of a budgetary guarantee as a result of applying the provisioning rate referred to in article 211(1) to the amount of the budgetary guarantee authorised by the basic act referred to in point (b) of article 210(1);‘grant’ means a financial contribution by way of donation. where such a contribution is provided under direct management, it shall be governed by title viii;‘guarantee’ means a written commitment to assume responsibility for all or part of a third party’s debt or obligation or for the successful performance by that third party of its obligations if an event occurs which triggers such guarantee, such as a loan default;‘guarantee on demand’ means a guarantee that must be honoured by the guarantor upon the counterpart’s demand, notwithstanding any deficiencies in the enforceability of the underlying obligation;‘in-kind contribution’ means non-financial resources made available free of charge by third parties to a beneficiary;‘legal commitment’ means an act whereby the authorising officer responsible enters into or establishes an obligation which results in subsequent payment or payments and the recognition of expenditure charged to the budget, and which includes specific agreements and contracts concluded under financial framework partnership agreements and framework contracts;‘leverage effect’ means the amount of reimbursable financing provided to eligible final recipients divided by the amount of the union contribution;‘liquidity risk’ means the risk that a financial asset held in the common provisioning fund might not be sold during a certain period of time without incurring a significant loss;‘loan’ means an agreement which obliges the lender to make available to the borrower an agreed amount of money for an agreed period and under which the borrower is obliged to repay that amount within the agreed period;‘low value grant’ means a grant lower than or equal to eur 60 000;‘member state organisation’ means an entity established in a member state as a public law body, or as a body governed by private law entrusted with a public service mission and provided with adequate financial guarantees from the member state;‘method of implementation’ means any of the methods of budget implementation referred to in article 62, that is direct management, indirect management and shared management; l 193/28‘multi-donor action’ means any action where union funds are pooled with at least one other donor;‘multiplier effect’ means the investment by eligible final recipients divided by the amount of the union contribution;‘output’ means the deliverables generated by the action determined in accordance with sector-specific rules;‘participant’ means a candidate or tenderer in a procurement procedure, an applicant in a grant award procedure, an expert in a procedure for selection of experts, an applicant in a contest for prizes or a person or entity participating in a procedure for implementing union funds pursuant to point (c) of the first subparagraph of article 62(1);‘prize’ means a financial contribution given as a reward following a contest. where such a contribution is provided under direct management, it shall be governed by title ix;‘procurement’ means the acquisition by means of a contract of works, supplies or services and the acquisition or rental of land, buildings or other immovable property, by one or more contracting authorities from economic operators chosen by those contracting authorities;‘procurement document’ means any document produced or referred to by the contracting authority to describe or determine elements of the procurement procedure, including: (a) the publicity measures set out in article 163; (b) the invitation to tender; (c) the tender specifications, including the technical specifications and the relevant criteria, or the descriptive documents in the case of a competitive dialogue; (d) the draft contract;‘public contract’ means a contract for pecuniary interest concluded in writing between one or more economic operators and one or more contracting authorities within the meaning of articles 174 and 178, in order to obtain, against payment of a price paid in whole or in part from the budget, the supply of movable or immovable assets, the execution of works or the provision of services, comprising: (a) building contracts; (b) supply contracts; (c) works contracts; (d) service contracts;‘quasi-equity investment’ means a type of financing that ranks between equity and debt, having a higher risk than senior debt and a lower risk than common equity and which can be structured as debt, typically unsecured and subordinated and in some cases convertible into equity, or into preferred equity;‘recipient’ means a beneficiary, a contractor, a remunerated external expert or a person or entity receiving prizes or funds under a financial instrument or implementing union funds pursuant to point (c) of the first subparagraph of article 62(1);‘repurchase agreement’ means the sale of securities for cash with an agreement to repurchase them on a specified future date, or on demand;‘research and technological development appropriation’ means an appropriation entered either in one of the titles of the budget relating to the policy areas linked to ‘indirect research’ or ‘direct research’ or in a chapter relating to research activities in another title;‘result’ means the effects of the implementation of an action determined in accordance with sector-specific rules;‘risk-sharing instrument’ means a financial instrument which allows for the sharing of a defined risk between two or more entities, where appropriate in exchange for an agreed remuneration;‘service contract’ means a contract covering all intellectual and non-intellectual services other than those covered by supply contracts, works contracts and building contracts;‘sound financial management’ means implementation of the budget in accordance with the principles of economy, efficiency and effectiveness;‘staff regulations’ means the staff regulations of officials of the european union and the conditions of employment of other servants of the european union laid down in regulation (eec, euratom, ecsc) no 259/68;‘subcontractor’ means an economic operator that is proposed by a candidate or tenderer or contractor to perform part of a contract or by a beneficiary to perform part of the tasks co-financed by a grant;‘subscription’ means sums paid to bodies of which the union is member, in accordance with the budgetary decisions and the conditions of payment established by the body concerned;‘supply contract’ means a contract covering the purchase, leasing, rental or hire purchase, with or without option to buy, of products, and which may include, as an incidental matter, siting and installation operations;‘technical assistance’ means, without prejudice to sector-specific rules, support and capacity-building activities necessary for the implementation of a programme or an action, in particular preparatory, management, monitoring, evaluation, audit and control activities;‘tenderer’ means an economic operator that has submitted a tender;‘union’ means the european union, the european atomic energy community, or both, as the context may require;‘union institution’ means the european parliament, the european council, the council, the commission, the court of justice of the european union, the court of auditors, the european economic and social committee, the committee of the regions, the european ombudsman, the european data protection supervisor or the european external action service (the ‘eeas’); the european central bank shall not be considered to be a union institution;‘vendor’ means an economic operator registered in a list of vendors to be invited to submit requests to participate in or submit tenders;‘volunteer’ means a person working on a non-compulsory basis for an organisation without being paid;‘work’ means the outcome of building or civil engineering works taken as a whole that is sufficient in itself to fulfil an economic or technical function;‘works contract’ means a contract covering either: (a) the execution or both the execution and design of a work; (b) the execution or both the execution and design of a work related to one of the activities referred to in annex ii to directive 2014/24/eu; or (c) the realisation, by whatever means, of a work corresponding to the requirements specified by the contracting authority exercising a decisive influence on the type or design of the work.'"
      ]
     },
     "execution_count": 13,
     "metadata": {},
     "output_type": "execute_result"
    }
   ],
   "source": [
    "\"\".join(final_dataframe.iloc[1,3])"
   ]
  },
  {
   "cell_type": "code",
   "execution_count": 14,
   "metadata": {},
   "outputs": [
    {
     "data": {
      "text/plain": [
       "array(['Article 1  Subject matter ', 'Article 2  Definitions ',\n",
       "       'Article 3  Compliance of secondary legislation with this Regulation ',\n",
       "       'Article 4  Periods, dates and time limits ',\n",
       "       'Article 5  Protection of personal data ',\n",
       "       'Article 6  Respect for budgetary principles ',\n",
       "       'Article 7  Scope of the budget ',\n",
       "       'Article 8  Specific rules on the principles of unity and budgetary accuracy ',\n",
       "       'Article 9  Definition ',\n",
       "       'Article 10  Budgetary accounting for revenue and appropriations ',\n",
       "       'Article 11  Commitment of appropriations ',\n",
       "       'Article 12  Cancellation and carry-over of appropriations ',\n",
       "       'Article 13  Detailed provisions on cancellation and carry-over of appropriations ',\n",
       "       'Article 14  Decommitments ',\n",
       "       'Article 15  Making appropriations corresponding to decommitments available again ',\n",
       "       'Article 16  Rules applicable in the event of late adoption of the budget ',\n",
       "       'Article 17  Definition and scope ',\n",
       "       'Article 18  Balance from financial year ',\n",
       "       'Article 19  Use of euro ', 'Article 20  Scope ',\n",
       "       'Article 21  Assigned revenue ',\n",
       "       'Article 22  Structure to accommodate assigned revenue and provision of corresponding appropriations ',\n",
       "       'Article 23  Contributions from Member States to research programmes ',\n",
       "       'Article 24  Assigned revenue resulting from the participation of EFTA States in certain Union programmes ',\n",
       "       'Article 25  Donations ', 'Article 26  Corporate sponsorship ',\n",
       "       'Article 27  Rules on deductions and exchange rate adjustments ',\n",
       "       'Article 28  General provisions ',\n",
       "       'Article 29  Transfers by Union institutions other than the Commission ',\n",
       "       'Article 30  Transfers by the Commission ',\n",
       "       'Article 31  Transfer proposals submitted to the European Parliament and to the Council by Union institutions ',\n",
       "       'Article 32  Transfers subject to special provisions ',\n",
       "       'Article 33  Performance and principles of economy, efficiency and effectiveness ',\n",
       "       'Article 34  Evaluations ',\n",
       "       'Article 35  Compulsory financial statement ',\n",
       "       'Article 36  Internal control of budget implementation ',\n",
       "       'Article 37  Publication of accounts and budgets ',\n",
       "       'Article 38  Publication of information on recipients and other information ',\n",
       "       'Article 39  Estimates of revenue and expenditure ',\n",
       "       'Article 40  Estimated budget of the Union bodies referred to in Article 70 ',\n",
       "       'Article 41  Draft budget ',\n",
       "       'Article 42  Letter of amendment to the draft budget ',\n",
       "       'Article 43  Obligations of Member States as a result of the adoption of the budget ',\n",
       "       'Article 44  Draft amending budgets ',\n",
       "       'Article 45  Early transmission of estimates and draft budgets ',\n",
       "       'Article 46  Structure of the budget ',\n",
       "       'Article 47  Budget nomenclature ',\n",
       "       'Article 48  Negative revenue ', 'Article 49  Provisions ',\n",
       "       'Article 50  Negative reserve ',\n",
       "       'Article 51  Emergency Aid Reserve ',\n",
       "       'Article 52  Presentation of the budget ',\n",
       "       'Article 53  Rules on the establishment plans for staff ',\n",
       "       'Article 54  Compliance with the multiannual financial framework and Decision 2014/335/EU, Euratom ',\n",
       "       'Article 55  Compliance of Union acts with the budget ',\n",
       "       'Article 56  Budget implementation in accordance with the principle of sound financial management ',\n",
       "       'Article 57  Information on transfers of personal data for audit purposes ',\n",
       "       'Article 58  Basic act and exceptions ',\n",
       "       'Article 59  Budget implementation by Union institutions other than the Commission ',\n",
       "       'Article 60  Delegation of budget implementation powers ',\n",
       "       'Article 61  Conflict of interests ',\n",
       "       'Article 62  Methods of budget implementation ',\n",
       "       'Article 63  Shared management with Member States ',\n",
       "       'Article 64  Scope of competences of European offices ',\n",
       "       'Article 65  Appropriations regarding European offices ',\n",
       "       'Article 66  Non-obligatory tasks ',\n",
       "       'Article 67  Accounting records of European offices ',\n",
       "       'Article 68  Applicability to the Euratom Supply Agency ',\n",
       "       'Article 69  Executive agencies ',\n",
       "       'Article 70  Bodies set up under the TFEU and the Euratom Treaty ',\n",
       "       'Article 71  Public-private partnership bodies ',\n",
       "       'Article 72  Segregation of duties ',\n",
       "       'Article 73  Authorising officer ',\n",
       "       'Article 74  Powers and duties of the authorising officer ',\n",
       "       'Article 75  Keeping of supporting documents by authorising officers ',\n",
       "       'Article 76  Powers and duties of Heads of Union Delegations ',\n",
       "       'Article 77  Powers and duties of the accounting officer ',\n",
       "       'Article 78  Appointment and termination of duties of the accounting officer ',\n",
       "       'Article 79  Powers which may be delegated by the accounting officer ',\n",
       "       'Article 80  Accounting rules ',\n",
       "       'Article 81  Organisation of the accounts ',\n",
       "       'Article 82  Keeping the accounts ',\n",
       "       'Article 83  Content and keeping of budget accounts ',\n",
       "       'Article 84  General accounts ', 'Article 85  Bank accounts ',\n",
       "       'Article 86  Treasury management ',\n",
       "       'Article 87  The inventory of assets ',\n",
       "       'Article 88  Imprest accounts ',\n",
       "       'Article 89  Creation and administration of imprest accounts ',\n",
       "       'Article 90  Withdrawal of delegation of powers to and suspension of duties of financial actors ',\n",
       "       'Article 91  Liability of financial actors for illegal activity, fraud or corruption ',\n",
       "       'Article 92  Rules applicable to authorising officers ',\n",
       "       'Article 93  Treatment of financial irregularities on the part of a member of staff ',\n",
       "       'Article 94  Rules applicable to accounting officers ',\n",
       "       'Article 95  Rules applicable to imprest administrators ',\n",
       "       'Article 96  Own resources ',\n",
       "       'Article 97  Estimate of amounts receivable ',\n",
       "       'Article 98  Establishment of amounts receivable ',\n",
       "       'Article 99  Default interest ',\n",
       "       'Article 100  Authorisation of recovery ',\n",
       "       'Article 101  Rules on recovery ',\n",
       "       'Article 102  Recovery by offsetting ',\n",
       "       'Article 103  Recovery procedure failing voluntary payment ',\n",
       "       'Article 104  Additional time for payment ',\n",
       "       'Article 105  Limitation period ',\n",
       "       'Article 106  National treatment for entitlements of the Union ',\n",
       "       'Article 107  Fines, other penalties, sanctions and accrued interest imposed by Union institutions ',\n",
       "       'Article 108  Recovery of fines, other penalties or sanctions imposed by Union institutions ',\n",
       "       'Article 109  Compensatory interests ',\n",
       "       'Article 110  Financing decisions ',\n",
       "       'Article 111  Expenditure operations ',\n",
       "       'Article 112  Types of budgetary commitments ',\n",
       "       'Article 113  Commitments for EAGF appropriations ',\n",
       "       'Article 114  Time limits for commitments ',\n",
       "       'Article 115  Types of payments ',\n",
       "       'Article 116  Time limits for payments ',\n",
       "       'Article 117  Appointment of the internal auditor ',\n",
       "       'Article 118  Powers and duties of the internal auditor ',\n",
       "       'Article 119  Work programme of the internal auditor ',\n",
       "       'Article 120  Independence of the internal auditor ',\n",
       "       'Article 121  Liability of the internal auditor ',\n",
       "       'Article 122  Action before the Court of Justice of the European Union ',\n",
       "       'Article 123  Internal audit progress committees ',\n",
       "       'Article 124  Scope ', 'Article 125  Forms of Union contribution ',\n",
       "       'Article 126  Cross-reliance on assessments ',\n",
       "       'Article 127  Cross-reliance on audits ',\n",
       "       'Article 128  Use of already available information ',\n",
       "       'Article 129  Cooperation for protection of the financial interests of the Union ',\n",
       "       'Article 130  Financial framework partnerships ',\n",
       "       'Article 131  Suspension, termination and reduction ',\n",
       "       'Article 132  Record-keeping ',\n",
       "       'Article 133  Adversarial procedure and means of redress ',\n",
       "       'Article 134  Interest rate rebates and guarantee fee subsidies ',\n",
       "       'Article 135  Protection of the financial interests of the Union by means of detection of risks, exclusion and imposition of ',\n",
       "       'Article 136  Exclusion criteria and decisions on exclusions ',\n",
       "       'Article 137  Declaration and evidence of absence of an exclusion situation ',\n",
       "       'Article 138  Financial penalties ',\n",
       "       'Article 139  Duration of exclusion and limitation period ',\n",
       "       'Article 140  Publication of exclusion and financial penalties ',\n",
       "       'Article 141  Rejection from an award procedure ',\n",
       "       'Article 142  The early-detection and exclusion system ',\n",
       "       'Article 143  Panel ',\n",
       "       'Article 144  Functioning of the database for the early-detection and exclusion system ',\n",
       "       'Article 145  Exception applicable to the Joint Research Centre ',\n",
       "       'Article 146  Electronic management of operations ',\n",
       "       'Article 147  e-Government ',\n",
       "       'Article 148  Electronic exchange systems ',\n",
       "       'Article 149  Submission of application documents ',\n",
       "       'Article 150  Evaluation committee ',\n",
       "       'Article 151  Clarification and correction of application documents ',\n",
       "       'Article 152  Guarantees ',\n",
       "       'Article 153  Guarantee on pre-financing ',\n",
       "       'Article 154  Indirect management ',\n",
       "       'Article 155  Implementation of Union funds and budgetary guarantees ',\n",
       "       'Article 156  Indirect management with international organisations ',\n",
       "       'Article 157  Indirect management with Member State organisations ',\n",
       "       'Article 158  Indirect management with third countries ',\n",
       "       'Article 159  Blending operations ',\n",
       "       'Article 160  Principles applicable to contracts and scope ',\n",
       "       'Article 161  Annex on procurement and delegation of powers ',\n",
       "       'Article 162  Mixed contracts and common procurement vocabulary ',\n",
       "       'Article 163  Publicity measures ',\n",
       "       'Article 164  Procurement procedures ',\n",
       "       'Article 165  Interinstitutional procurement and joint procurement ',\n",
       "       'Article 166  Preparation of a procurement procedure ',\n",
       "       'Article 167  Award of contracts ',\n",
       "       'Article 168  Submission, electronic communication and evaluation ',\n",
       "       'Article 169  Contacts during the procurement procedure ',\n",
       "       'Article 170  Award decision and information to candidates or tenderers ',\n",
       "       'Article 171  Cancellation of the procurement procedure ',\n",
       "       'Article 172  Performance and modifications of the contract ',\n",
       "       'Article 173  Performance guarantees and retention money guarantees ',\n",
       "       'Article 174  The contracting authority ',\n",
       "       'Article 175  Thresholds applicable and standstill period ',\n",
       "       'Article 176  Rules on access to procurement ',\n",
       "       'Article 177  Procurement rules of the World Trade Organisation ',\n",
       "       'Article 178  External action procurement ',\n",
       "       'Article 179  Rules on access to procurement in the field of external actions ',\n",
       "       'Article 180  Scope and form of grants ',\n",
       "       'Article 181  Lump sums, unit costs and flat-rate financing ',\n",
       "       'Article 182  Single lump sums ',\n",
       "       'Article 183  Checks and controls on beneficiaries related to lump sums, unit costs and flat rates ',\n",
       "       'Article 184  Periodic assessment of lump sums, unit costs or flat-rates ',\n",
       "       'Article 185  Usual cost accounting practices of the beneficiary ',\n",
       "       'Article 186  Eligible costs ',\n",
       "       'Article 187  Affiliated entities and sole beneficiary ',\n",
       "       'Article 188  General principles applicable to grants ',\n",
       "       'Article 189  Transparency ', 'Article 190  Co-financing ',\n",
       "       'Article 191  Principle of non-cumulative award and prohibition of double funding ',\n",
       "       'Article 192  No-profit principle ',\n",
       "       'Article 193  Principle of non-retroactivity ',\n",
       "       'Article 194  Content and publication of calls for proposals ',\n",
       "       'Article 195  Exceptions to calls for proposals ',\n",
       "       'Article 196  Content of grant applications ',\n",
       "       'Article 197  Eligibility criteria ',\n",
       "       'Article 198  Selection criteria ', 'Article 199  Award criteria ',\n",
       "       'Article 200  Evaluation procedure ',\n",
       "       'Article 201  Grant agreement ',\n",
       "       'Article 202  Amount of the grant and extension of audit findings ',\n",
       "       'Article 203  Supporting documents for payment requests ',\n",
       "       'Article 204  Financial support to third parties ',\n",
       "       'Article 205  Implementation contracts ',\n",
       "       'Article 206  General rules ',\n",
       "       'Article 207  Rules of contest, award and publication ',\n",
       "       'Article 208  Scope and implementation ',\n",
       "       'Article 209  Principles and conditions applicable to financial instruments and budgetary guarantees ',\n",
       "       'Article 210  Financial liability of the Union ',\n",
       "       'Article 211  Provisioning of financial liabilities ',\n",
       "       'Article 212  Common provisioning fund ',\n",
       "       'Article 213  Effective provisioning rate ',\n",
       "       'Article 214  Annual reporting ',\n",
       "       'Article 215  Rules and implementation ',\n",
       "       'Article 216  Financial instruments directly implemented by the Commission ',\n",
       "       'Article 217  Treatment of contributions from funds implemented under shared management ',\n",
       "       'Article 218  Rules for budgetary guarantees ',\n",
       "       'Article 219  Implementation of budgetary guarantees ',\n",
       "       'Article 220  Rules and implementation ',\n",
       "       'Article 221  General provisions ', 'Article 222  Principles ',\n",
       "       'Article 223  Budgetary aspects ',\n",
       "       'Article 224  Call for contributions ',\n",
       "       'Article 225  Award procedure ',\n",
       "       'Article 226  Form of contributions ', 'Article 227  Guarantees ',\n",
       "       'Article 228  Use of contributions ',\n",
       "       'Article 229  Report on the use of the contributions ',\n",
       "       'Article 230  Amount of the contribution ',\n",
       "       'Article 231  Control and penalties ',\n",
       "       'Article 232  Record keeping ',\n",
       "       'Article 233  Selection of external audit bodies or experts ',\n",
       "       'Article 234  Union trust funds for external actions ',\n",
       "       'Article 235  Implementation of Union trust funds for external actions ',\n",
       "       'Article 236  Use of budget support ',\n",
       "       'Article 237  Remunerated external experts ',\n",
       "       'Article 238  Non-remunerated experts ',\n",
       "       'Article 239  Membership fees and other payments of subscriptions ',\n",
       "       'Article 240  Expenditure on the members and staff of Union institutions ',\n",
       "       'Article 241  Structure of the accounts ',\n",
       "       'Article 242  Supporting documents ',\n",
       "       'Article 243  Financial statements ',\n",
       "       'Article 244  Budget implementation reports ',\n",
       "       'Article 245  Provisional accounts ',\n",
       "       'Article 246  Approval of the final consolidated accounts ',\n",
       "       'Article 247  Integrated financial and accountability reporting ',\n",
       "       'Article 248  Monthly reporting on budget implementation ',\n",
       "       'Article 249  Annual report on budgetary and financial management ',\n",
       "       'Article 250  Annual report on financial instruments, budgetary guarantees and financial assistance ',\n",
       "       'Article 251  Status report on accounting issues ',\n",
       "       'Article 252  Reporting on Union trust funds for external actions ',\n",
       "       'Article 253  Publication of information on recipients ',\n",
       "       'Article 254  External audit by the Court of Auditors ',\n",
       "       'Article 255  Rules and procedure on the audit ',\n",
       "       'Article 256  Checks on securities and cash ',\n",
       "       'Article 257  Court of Auditors’ right of access ',\n",
       "       'Article 258  Annual report of the Court of Auditors ',\n",
       "       'Article 259  Special reports of the Court of Auditors ',\n",
       "       'Article 260  Timetable of the discharge procedure ',\n",
       "       'Article 261  The discharge procedure ',\n",
       "       'Article 262  Follow-up measures ',\n",
       "       'Article 263  Specific provisions regarding the EEAS ',\n",
       "       'Article 264  General provisions ',\n",
       "       'Article 265  Payments made in advance ',\n",
       "       'Article 266  Specific provisions regarding building projects ',\n",
       "       'Article 267  Early information procedure and prior approval procedure ',\n",
       "       'Article 268  Information requests by the European Parliament and by the Council ',\n",
       "       'Article 269  Exercise of the delegation ',\n",
       "       'Article 270  Amendments to Regulation (EU) No 1296/2013 ',\n",
       "       'Article 271  Amendments to Regulation (EU) No 1301/2013 ',\n",
       "       'Article 272  Amendments to Regulation (EU) No 1303/2013 ',\n",
       "       'Article 273  Amendments to Regulation (EU) No 1304/2013 ',\n",
       "       'Article 274  Amendments to Regulation (EU) No 1309/2013 ',\n",
       "       'Article 275  Amendments to Regulation (EU) No 1316/2013 ',\n",
       "       'Article 276  Amendments to Regulation (EU) No 223/2014 ',\n",
       "       'Article 277  Amendments to Regulation (EU) No 283/2014 ',\n",
       "       'Article 278  Amendment to Decision No 541/2014/EU ',\n",
       "       'Article 279  Transitional provisions ', 'Article 280  Review ',\n",
       "       'Article 281  Repeal ',\n",
       "       'Article 282  Entry into force and application '], dtype=object)"
      ]
     },
     "execution_count": 14,
     "metadata": {},
     "output_type": "execute_result"
    }
   ],
   "source": [
    "final_dataframe[\"Articles\"].unique()"
   ]
  },
  {
   "cell_type": "code",
   "execution_count": 15,
   "metadata": {},
   "outputs": [
    {
     "data": {
      "text/plain": [
       "['this regulation shall enter into force on the third day following that of its publication in the official journal of the european union.',\n",
       " 'it shall apply from 2 august 2018.',\n",
       " 'by way of derogation from paragraph 2 of this article: (a) article 271(1)(a), article 272(2), article 272(10)(a), article 272(11)(b)(i), (c), (d) and (e), article 272(12)(a), (b)(i) and (c), article 272(14)(c), article 272(15), (17), (18), (22) and (23), article 272(26)(d), article 272(27)(a)(i), article 272(53), and (54), article 272(55)(b)(i), article 273(3), article 276(2) and article 276(4)(b) shall apply from 1 january 2014; (b) article 272(11)(a) and (f), article 272(13), article 272(14)(b), article 272(16), article 272(19)(a) and article 274(3) shall apply from 1 january 2018; (c) articles 6 to 60, 63 to 68, 73 to 207, 241 to 253 and 264 to 268 shall apply from 1 january 2019 as regards the implementation of the administrative appropriations of union institutions; this is without prejudice to point (h) of this paragraph; (d) point (4) of article 2, articles 208 to 211 and article 214(1) shall apply to budgetary guarantees and financial assistance only as from the date of application of the post-2020 multiannual financial framework; (e) article 250 shall apply to budgetary guarantees, financial assistance and contingent liabilities only as from the date of application of the post-2020 multiannual financial framework; (f) point (6) of article 2, article 21(3)(f), article 41(4)(l), articles 62(2), 154(1) and (2), 155(1) to (4) and article 159 shall apply to budgetary guarantees only as from the date of application of the post-2020 multiannual financial framework;    (g) points (9), (15), (32) and (39) of article 2, article 30(1)(g), article 41(5), articles 110(3)(h) and 115(2)(c), articles 212 and 213, article 214(2) and articles 218, 219 and 220 shall apply only as from the date of application of the post-2020 multiannual financial framework; (h) the information on the annual average of full-time equivalents referred to in article 41(3)(b)(iii) and the information on the estimated amount of assigned revenue carried over from preceding years referred to in article 41(8)(b) shall be provided for the first time together with the draft budget to be presented in 2021. this regulation shall be binding in its entirety and directly applicable in all member states. done at brussels, 18 july 2018. for the european parliament the president a. tajani for the council the president j. bogner-strauss l 193/186']"
      ]
     },
     "execution_count": 15,
     "metadata": {},
     "output_type": "execute_result"
    }
   ],
   "source": [
    "final_dataframe[final_dataframe[\"Articles\"]=='Article 282  Entry into force and application '].iloc[0,3]"
   ]
  },
  {
   "cell_type": "code",
   "execution_count": null,
   "metadata": {},
   "outputs": [],
   "source": []
  },
  {
   "cell_type": "code",
   "execution_count": 16,
   "metadata": {},
   "outputs": [
    {
     "data": {
      "text/plain": [
       "'this regulation shall enter into force on the third day following that of its publication in the official journal of the european union.\\n it shall apply from 2 august 2018.\\n by way of derogation from paragraph 2 of this article: (a) article 271(1)(a), article 272(2), article 272(10)(a), article 272(11)(b)(i), (c), (d) and (e), article 272(12)(a), (b)(i) and (c), article 272(14)(c), article 272(15), (17), (18), (22) and (23), article 272(26)(d), article 272(27)(a)(i), article 272(53), and (54), article 272(55)(b)(i), article 273(3), article 276(2) and article 276(4)(b) shall apply from 1 january 2014; (b) article 272(11)(a) and (f), article 272(13), article 272(14)(b), article 272(16), article 272(19)(a) and article 274(3) shall apply from 1 january 2018; (c) articles 6 to 60, 63 to 68, 73 to 207, 241 to 253 and 264 to 268 shall apply from 1 january 2019 as regards the implementation of the administrative appropriations of union institutions; this is without prejudice to point (h) of this paragraph; (d) point (4) of article 2, articles 208 to 211 and article 214(1) shall apply to budgetary guarantees and financial assistance only as from the date of application of the post-2020 multiannual financial framework; (e) article 250 shall apply to budgetary guarantees, financial assistance and contingent liabilities only as from the date of application of the post-2020 multiannual financial framework; (f) point (6) of article 2, article 21(3)(f), article 41(4)(l), articles 62(2), 154(1) and (2), 155(1) to (4) and article 159 shall apply to budgetary guarantees only as from the date of application of the post-2020 multiannual financial framework;    (g) points (9), (15), (32) and (39) of article 2, article 30(1)(g), article 41(5), articles 110(3)(h) and 115(2)(c), articles 212 and 213, article 214(2) and articles 218, 219 and 220 shall apply only as from the date of application of the post-2020 multiannual financial framework; (h) the information on the annual average of full-time equivalents referred to in article 41(3)(b)(iii) and the information on the estimated amount of assigned revenue carried over from preceding years referred to in article 41(8)(b) shall be provided for the first time together with the draft budget to be presented in 2021. this regulation shall be binding in its entirety and directly applicable in all member states. done at brussels, 18 july 2018. for the european parliament the president a. tajani for the council the president j. bogner-strauss l 193/186'"
      ]
     },
     "execution_count": 16,
     "metadata": {},
     "output_type": "execute_result"
    }
   ],
   "source": [
    "example_text = \"\\n \".join(final_dataframe[final_dataframe[\"Articles\"]=='Article 282  Entry into force and application '].iloc[0,3])\n",
    "example_text"
   ]
  },
  {
   "cell_type": "code",
   "execution_count": 17,
   "metadata": {},
   "outputs": [
    {
     "data": {
      "text/plain": [
       "'this regulation shall enter into force on the third day following that of this regulation publication in the official journal of the european union.\\n this regulation shall apply from 2 august 2018.\\n by way of derogation from paragraph 2 of this article: (a) article 271(1)(a), article 272(2), article 272(10)(a), article 272(11)(b)(i), (c), (d) and (e), article 272(12)(a), (b)(i) and (c), article 272(14)(c), article 272(15), (17), (18), (22) and (23), article 272(26)(d), article 272(27)(a)(i), article 272(53), and (54), article 272(55)(b)(i), article 273(3), article 276(2) and article 276(4)(b) shall apply from 1 january 2014; (b) article 272(11)(a) and (f), article 272(13), article 272(14)(b), article 272(16), article 272(19)(a) and article 274(3) shall apply from 1 january 2018; (c) articles 6 to 60, 63 to 68, 73 to 207, 241 to 253 and 264 to 268 shall apply from 1 january 2019 as regards the implementation of the administrative appropriations of union institutions; this is without prejudice to point (h) of this paragraph; (d) point (4) of article 2, articles 208 to 211 and article 214(1) shall apply to budgetary guarantees and financial assistance only as from the date of application of the post-2020 multiannual financial framework; (e) article 250 shall apply to budgetary guarantees, financial assistance and contingent liabilities only as from the date of application of the post-2020 multiannual financial framework; (f) point (6) of article 2, article 21(3)(f), article 41(4)(l), articles 62(2), 154(1) and (2), 155(1) to (4) and article 159 shall apply to budgetary guarantees only as from the date of application of the post-2020 multiannual financial framework;    (g) points (9), (15), (32) and (39) of article 2, article 30(1)(g), article 41(5), articles 110(3)(h) and 115(2)(c), articles 212 and 213, article 214(2) and articles 218, 219 and 220 shall apply only as from the date of application of the post-2020 multiannual financial framework; (h) the information on the annual average of full-time equivalents referred to in article 41(3)(b)(iii) and the information on the estimated amount of assigned revenue carried over from preceding years referred to in article 41(8)(b) shall be provided for the first time together with the draft budget to be presented in 2021. this regulation shall be binding in this regulation entirety and directly applicable in all member states. done at brussels, 18 july 2018. for the european parliament the president a. tajani for the council the president j. bogner-strauss l 193/186'"
      ]
     },
     "execution_count": 17,
     "metadata": {},
     "output_type": "execute_result"
    }
   ],
   "source": [
    "coref_solve(example_text)"
   ]
  },
  {
   "cell_type": "code",
   "execution_count": 19,
   "metadata": {},
   "outputs": [
    {
     "data": {
      "text/plain": [
       "True"
      ]
     },
     "execution_count": 19,
     "metadata": {},
     "output_type": "execute_result"
    }
   ],
   "source": [
    "example_text.split(\"\\n \") == final_dataframe[final_dataframe[\"Articles\"]=='Article 282  Entry into force and application '].iloc[0,3]"
   ]
  },
  {
   "cell_type": "code",
   "execution_count": 51,
   "metadata": {},
   "outputs": [
    {
     "data": {
      "text/plain": [
       "'‘prize’ means a financial contribution given as a reward following a contest. where such a contribution is provided under direct management, such a contribution shall be governed by title ix;'"
      ]
     },
     "execution_count": 51,
     "metadata": {},
     "output_type": "execute_result"
    }
   ],
   "source": [
    "coref_solve('‘prize’ means a financial contribution given as a reward following a contest. where such a contribution is provided under direct management, it shall be governed by title ix;')"
   ]
  },
  {
   "cell_type": "code",
   "execution_count": 20,
   "metadata": {},
   "outputs": [],
   "source": [
    "dataframe_I = final_dataframe.explode('Cleaned_Content')"
   ]
  },
  {
   "cell_type": "code",
   "execution_count": 21,
   "metadata": {},
   "outputs": [
    {
     "data": {
      "text/html": [
       "<div>\n",
       "<style scoped>\n",
       "    .dataframe tbody tr th:only-of-type {\n",
       "        vertical-align: middle;\n",
       "    }\n",
       "\n",
       "    .dataframe tbody tr th {\n",
       "        vertical-align: top;\n",
       "    }\n",
       "\n",
       "    .dataframe thead th {\n",
       "        text-align: right;\n",
       "    }\n",
       "</style>\n",
       "<table border=\"1\" class=\"dataframe\">\n",
       "  <thead>\n",
       "    <tr style=\"text-align: right;\">\n",
       "      <th></th>\n",
       "      <th>index</th>\n",
       "      <th>Title</th>\n",
       "      <th>Articles</th>\n",
       "      <th>Content</th>\n",
       "      <th>Cleaned_Content</th>\n",
       "    </tr>\n",
       "  </thead>\n",
       "  <tbody>\n",
       "    <tr>\n",
       "      <th>0</th>\n",
       "      <td>0</td>\n",
       "      <td>TITLE I \\nSUBJECT MATTER, DEFINITIONS AND GENE...</td>\n",
       "      <td>Article 1  Subject matter</td>\n",
       "      <td>[\\nThis Regulation lays down the rules for the...</td>\n",
       "      <td>this regulation lays down the rules for the es...</td>\n",
       "    </tr>\n",
       "    <tr>\n",
       "      <th>1</th>\n",
       "      <td>1</td>\n",
       "      <td>TITLE I \\nSUBJECT MATTER, DEFINITIONS AND GENE...</td>\n",
       "      <td>Article 2  Definitions</td>\n",
       "      <td>[ ‘applicant’ means a natural person or an ent...</td>\n",
       "      <td>‘applicant’ means a natural person or an entit...</td>\n",
       "    </tr>\n",
       "    <tr>\n",
       "      <th>2</th>\n",
       "      <td>1</td>\n",
       "      <td>TITLE I \\nSUBJECT MATTER, DEFINITIONS AND GENE...</td>\n",
       "      <td>Article 2  Definitions</td>\n",
       "      <td>[ ‘applicant’ means a natural person or an ent...</td>\n",
       "      <td>‘application document’ means a tender, a reque...</td>\n",
       "    </tr>\n",
       "    <tr>\n",
       "      <th>3</th>\n",
       "      <td>1</td>\n",
       "      <td>TITLE I \\nSUBJECT MATTER, DEFINITIONS AND GENE...</td>\n",
       "      <td>Article 2  Definitions</td>\n",
       "      <td>[ ‘applicant’ means a natural person or an ent...</td>\n",
       "      <td>‘award procedure’ means a procurement procedur...</td>\n",
       "    </tr>\n",
       "    <tr>\n",
       "      <th>4</th>\n",
       "      <td>1</td>\n",
       "      <td>TITLE I \\nSUBJECT MATTER, DEFINITIONS AND GENE...</td>\n",
       "      <td>Article 2  Definitions</td>\n",
       "      <td>[ ‘applicant’ means a natural person or an ent...</td>\n",
       "      <td>‘basic act’ means a legal act, other than a re...</td>\n",
       "    </tr>\n",
       "    <tr>\n",
       "      <th>...</th>\n",
       "      <td>...</td>\n",
       "      <td>...</td>\n",
       "      <td>...</td>\n",
       "      <td>...</td>\n",
       "      <td>...</td>\n",
       "    </tr>\n",
       "    <tr>\n",
       "      <th>1099</th>\n",
       "      <td>280</td>\n",
       "      <td>TITLE XVI \\nINFORMATION REQUESTS AND DELEGATED...</td>\n",
       "      <td>Article 281  Repeal</td>\n",
       "      <td>[ \\nRegulation (EU, Euratom) No 966/2012 is re...</td>\n",
       "      <td>without prejudice to article 279(3), the commi...</td>\n",
       "    </tr>\n",
       "    <tr>\n",
       "      <th>1100</th>\n",
       "      <td>280</td>\n",
       "      <td>TITLE XVI \\nINFORMATION REQUESTS AND DELEGATED...</td>\n",
       "      <td>Article 281  Repeal</td>\n",
       "      <td>[ \\nRegulation (EU, Euratom) No 966/2012 is re...</td>\n",
       "      <td>references to the repealed regulation shall be...</td>\n",
       "    </tr>\n",
       "    <tr>\n",
       "      <th>1101</th>\n",
       "      <td>281</td>\n",
       "      <td>TITLE XVI \\nINFORMATION REQUESTS AND DELEGATED...</td>\n",
       "      <td>Article 282  Entry into force and application</td>\n",
       "      <td>[ \\nThis Regulation shall enter into force on ...</td>\n",
       "      <td>this regulation shall enter into force on the ...</td>\n",
       "    </tr>\n",
       "    <tr>\n",
       "      <th>1102</th>\n",
       "      <td>281</td>\n",
       "      <td>TITLE XVI \\nINFORMATION REQUESTS AND DELEGATED...</td>\n",
       "      <td>Article 282  Entry into force and application</td>\n",
       "      <td>[ \\nThis Regulation shall enter into force on ...</td>\n",
       "      <td>it shall apply from 2 august 2018.</td>\n",
       "    </tr>\n",
       "    <tr>\n",
       "      <th>1103</th>\n",
       "      <td>281</td>\n",
       "      <td>TITLE XVI \\nINFORMATION REQUESTS AND DELEGATED...</td>\n",
       "      <td>Article 282  Entry into force and application</td>\n",
       "      <td>[ \\nThis Regulation shall enter into force on ...</td>\n",
       "      <td>by way of derogation from paragraph 2 of this ...</td>\n",
       "    </tr>\n",
       "  </tbody>\n",
       "</table>\n",
       "<p>1104 rows × 5 columns</p>\n",
       "</div>"
      ],
      "text/plain": [
       "      index                                              Title  \\\n",
       "0         0  TITLE I \\nSUBJECT MATTER, DEFINITIONS AND GENE...   \n",
       "1         1  TITLE I \\nSUBJECT MATTER, DEFINITIONS AND GENE...   \n",
       "2         1  TITLE I \\nSUBJECT MATTER, DEFINITIONS AND GENE...   \n",
       "3         1  TITLE I \\nSUBJECT MATTER, DEFINITIONS AND GENE...   \n",
       "4         1  TITLE I \\nSUBJECT MATTER, DEFINITIONS AND GENE...   \n",
       "...     ...                                                ...   \n",
       "1099    280  TITLE XVI \\nINFORMATION REQUESTS AND DELEGATED...   \n",
       "1100    280  TITLE XVI \\nINFORMATION REQUESTS AND DELEGATED...   \n",
       "1101    281  TITLE XVI \\nINFORMATION REQUESTS AND DELEGATED...   \n",
       "1102    281  TITLE XVI \\nINFORMATION REQUESTS AND DELEGATED...   \n",
       "1103    281  TITLE XVI \\nINFORMATION REQUESTS AND DELEGATED...   \n",
       "\n",
       "                                            Articles  \\\n",
       "0                         Article 1  Subject matter    \n",
       "1                            Article 2  Definitions    \n",
       "2                            Article 2  Definitions    \n",
       "3                            Article 2  Definitions    \n",
       "4                            Article 2  Definitions    \n",
       "...                                              ...   \n",
       "1099                            Article 281  Repeal    \n",
       "1100                            Article 281  Repeal    \n",
       "1101  Article 282  Entry into force and application    \n",
       "1102  Article 282  Entry into force and application    \n",
       "1103  Article 282  Entry into force and application    \n",
       "\n",
       "                                                Content  \\\n",
       "0     [\\nThis Regulation lays down the rules for the...   \n",
       "1     [ ‘applicant’ means a natural person or an ent...   \n",
       "2     [ ‘applicant’ means a natural person or an ent...   \n",
       "3     [ ‘applicant’ means a natural person or an ent...   \n",
       "4     [ ‘applicant’ means a natural person or an ent...   \n",
       "...                                                 ...   \n",
       "1099  [ \\nRegulation (EU, Euratom) No 966/2012 is re...   \n",
       "1100  [ \\nRegulation (EU, Euratom) No 966/2012 is re...   \n",
       "1101  [ \\nThis Regulation shall enter into force on ...   \n",
       "1102  [ \\nThis Regulation shall enter into force on ...   \n",
       "1103  [ \\nThis Regulation shall enter into force on ...   \n",
       "\n",
       "                                        Cleaned_Content  \n",
       "0     this regulation lays down the rules for the es...  \n",
       "1     ‘applicant’ means a natural person or an entit...  \n",
       "2     ‘application document’ means a tender, a reque...  \n",
       "3     ‘award procedure’ means a procurement procedur...  \n",
       "4     ‘basic act’ means a legal act, other than a re...  \n",
       "...                                                 ...  \n",
       "1099  without prejudice to article 279(3), the commi...  \n",
       "1100  references to the repealed regulation shall be...  \n",
       "1101  this regulation shall enter into force on the ...  \n",
       "1102                 it shall apply from 2 august 2018.  \n",
       "1103  by way of derogation from paragraph 2 of this ...  \n",
       "\n",
       "[1104 rows x 5 columns]"
      ]
     },
     "execution_count": 21,
     "metadata": {},
     "output_type": "execute_result"
    }
   ],
   "source": [
    "dataframe_I.reset_index()"
   ]
  },
  {
   "cell_type": "code",
   "execution_count": 22,
   "metadata": {},
   "outputs": [
    {
     "data": {
      "text/plain": [
       "'it shall apply from 2 august 2018.'"
      ]
     },
     "execution_count": 22,
     "metadata": {},
     "output_type": "execute_result"
    }
   ],
   "source": [
    "dataframe_I.iloc[1102,3]"
   ]
  },
  {
   "cell_type": "code",
   "execution_count": 23,
   "metadata": {},
   "outputs": [
    {
     "data": {
      "text/html": [
       "<div>\n",
       "<style scoped>\n",
       "    .dataframe tbody tr th:only-of-type {\n",
       "        vertical-align: middle;\n",
       "    }\n",
       "\n",
       "    .dataframe tbody tr th {\n",
       "        vertical-align: top;\n",
       "    }\n",
       "\n",
       "    .dataframe thead th {\n",
       "        text-align: right;\n",
       "    }\n",
       "</style>\n",
       "<table border=\"1\" class=\"dataframe\">\n",
       "  <thead>\n",
       "    <tr style=\"text-align: right;\">\n",
       "      <th></th>\n",
       "      <th>Title</th>\n",
       "      <th>Articles</th>\n",
       "      <th>Content</th>\n",
       "      <th>Cleaned_Content</th>\n",
       "    </tr>\n",
       "  </thead>\n",
       "  <tbody>\n",
       "    <tr>\n",
       "      <th>0</th>\n",
       "      <td>TITLE I \\nSUBJECT MATTER, DEFINITIONS AND GENE...</td>\n",
       "      <td>Article 1  Subject matter</td>\n",
       "      <td>[\\nThis Regulation lays down the rules for the...</td>\n",
       "      <td>[this regulation lays down the rules for the e...</td>\n",
       "    </tr>\n",
       "    <tr>\n",
       "      <th>1</th>\n",
       "      <td>TITLE I \\nSUBJECT MATTER, DEFINITIONS AND GENE...</td>\n",
       "      <td>Article 2  Definitions</td>\n",
       "      <td>[ ‘applicant’ means a natural person or an ent...</td>\n",
       "      <td>[‘applicant’ means a natural person or an enti...</td>\n",
       "    </tr>\n",
       "    <tr>\n",
       "      <th>2</th>\n",
       "      <td>TITLE I \\nSUBJECT MATTER, DEFINITIONS AND GENE...</td>\n",
       "      <td>Article 3  Compliance of secondary legislation...</td>\n",
       "      <td>[ \\nProvisions concerning the implementation o...</td>\n",
       "      <td>[provisions concerning the implementation of t...</td>\n",
       "    </tr>\n",
       "    <tr>\n",
       "      <th>3</th>\n",
       "      <td>TITLE I \\nSUBJECT MATTER, DEFINITIONS AND GENE...</td>\n",
       "      <td>Article 4  Periods, dates and time limits</td>\n",
       "      <td>[\\nUnless otherwise provided in this Regulatio...</td>\n",
       "      <td>[unless otherwise provided in this regulation,...</td>\n",
       "    </tr>\n",
       "    <tr>\n",
       "      <th>4</th>\n",
       "      <td>TITLE I \\nSUBJECT MATTER, DEFINITIONS AND GENE...</td>\n",
       "      <td>Article 5  Protection of personal data</td>\n",
       "      <td>[\\nThis Regulation is without prejudice to Reg...</td>\n",
       "      <td>[this regulation is without prejudice to regul...</td>\n",
       "    </tr>\n",
       "    <tr>\n",
       "      <th>...</th>\n",
       "      <td>...</td>\n",
       "      <td>...</td>\n",
       "      <td>...</td>\n",
       "      <td>...</td>\n",
       "    </tr>\n",
       "    <tr>\n",
       "      <th>277</th>\n",
       "      <td>TITLE XVI \\nINFORMATION REQUESTS AND DELEGATED...</td>\n",
       "      <td>Article 278  Amendment to Decision No 541/2014...</td>\n",
       "      <td>[\\nIn Article 4 of Decision No 541/2014/EU of ...</td>\n",
       "      <td>[in article 4 of decision no 541/2014/eu of th...</td>\n",
       "    </tr>\n",
       "    <tr>\n",
       "      <th>278</th>\n",
       "      <td>TITLE XVI \\nINFORMATION REQUESTS AND DELEGATED...</td>\n",
       "      <td>Article 279  Transitional provisions</td>\n",
       "      <td>[ \\nLegal commitments for grants implementing ...</td>\n",
       "      <td>[legal commitments for grants implementing the...</td>\n",
       "    </tr>\n",
       "    <tr>\n",
       "      <th>279</th>\n",
       "      <td>TITLE XVI \\nINFORMATION REQUESTS AND DELEGATED...</td>\n",
       "      <td>Article 280  Review</td>\n",
       "      <td>[\\nThis Regulation shall be reviewed whenever ...</td>\n",
       "      <td>[this regulation shall be reviewed whenever it...</td>\n",
       "    </tr>\n",
       "    <tr>\n",
       "      <th>280</th>\n",
       "      <td>TITLE XVI \\nINFORMATION REQUESTS AND DELEGATED...</td>\n",
       "      <td>Article 281  Repeal</td>\n",
       "      <td>[ \\nRegulation (EU, Euratom) No 966/2012 is re...</td>\n",
       "      <td>[regulation (eu, euratom) no 966/2012 is repea...</td>\n",
       "    </tr>\n",
       "    <tr>\n",
       "      <th>281</th>\n",
       "      <td>TITLE XVI \\nINFORMATION REQUESTS AND DELEGATED...</td>\n",
       "      <td>Article 282  Entry into force and application</td>\n",
       "      <td>[ \\nThis Regulation shall enter into force on ...</td>\n",
       "      <td>[this regulation shall enter into force on the...</td>\n",
       "    </tr>\n",
       "  </tbody>\n",
       "</table>\n",
       "<p>282 rows × 4 columns</p>\n",
       "</div>"
      ],
      "text/plain": [
       "                                                 Title  \\\n",
       "0    TITLE I \\nSUBJECT MATTER, DEFINITIONS AND GENE...   \n",
       "1    TITLE I \\nSUBJECT MATTER, DEFINITIONS AND GENE...   \n",
       "2    TITLE I \\nSUBJECT MATTER, DEFINITIONS AND GENE...   \n",
       "3    TITLE I \\nSUBJECT MATTER, DEFINITIONS AND GENE...   \n",
       "4    TITLE I \\nSUBJECT MATTER, DEFINITIONS AND GENE...   \n",
       "..                                                 ...   \n",
       "277  TITLE XVI \\nINFORMATION REQUESTS AND DELEGATED...   \n",
       "278  TITLE XVI \\nINFORMATION REQUESTS AND DELEGATED...   \n",
       "279  TITLE XVI \\nINFORMATION REQUESTS AND DELEGATED...   \n",
       "280  TITLE XVI \\nINFORMATION REQUESTS AND DELEGATED...   \n",
       "281  TITLE XVI \\nINFORMATION REQUESTS AND DELEGATED...   \n",
       "\n",
       "                                              Articles  \\\n",
       "0                           Article 1  Subject matter    \n",
       "1                              Article 2  Definitions    \n",
       "2    Article 3  Compliance of secondary legislation...   \n",
       "3           Article 4  Periods, dates and time limits    \n",
       "4              Article 5  Protection of personal data    \n",
       "..                                                 ...   \n",
       "277  Article 278  Amendment to Decision No 541/2014...   \n",
       "278              Article 279  Transitional provisions    \n",
       "279                               Article 280  Review    \n",
       "280                               Article 281  Repeal    \n",
       "281     Article 282  Entry into force and application    \n",
       "\n",
       "                                               Content  \\\n",
       "0    [\\nThis Regulation lays down the rules for the...   \n",
       "1    [ ‘applicant’ means a natural person or an ent...   \n",
       "2    [ \\nProvisions concerning the implementation o...   \n",
       "3    [\\nUnless otherwise provided in this Regulatio...   \n",
       "4    [\\nThis Regulation is without prejudice to Reg...   \n",
       "..                                                 ...   \n",
       "277  [\\nIn Article 4 of Decision No 541/2014/EU of ...   \n",
       "278  [ \\nLegal commitments for grants implementing ...   \n",
       "279  [\\nThis Regulation shall be reviewed whenever ...   \n",
       "280  [ \\nRegulation (EU, Euratom) No 966/2012 is re...   \n",
       "281  [ \\nThis Regulation shall enter into force on ...   \n",
       "\n",
       "                                       Cleaned_Content  \n",
       "0    [this regulation lays down the rules for the e...  \n",
       "1    [‘applicant’ means a natural person or an enti...  \n",
       "2    [provisions concerning the implementation of t...  \n",
       "3    [unless otherwise provided in this regulation,...  \n",
       "4    [this regulation is without prejudice to regul...  \n",
       "..                                                 ...  \n",
       "277  [in article 4 of decision no 541/2014/eu of th...  \n",
       "278  [legal commitments for grants implementing the...  \n",
       "279  [this regulation shall be reviewed whenever it...  \n",
       "280  [regulation (eu, euratom) no 966/2012 is repea...  \n",
       "281  [this regulation shall enter into force on the...  \n",
       "\n",
       "[282 rows x 4 columns]"
      ]
     },
     "execution_count": 23,
     "metadata": {},
     "output_type": "execute_result"
    }
   ],
   "source": [
    "final_dataframe"
   ]
  },
  {
   "cell_type": "markdown",
   "metadata": {},
   "source": [
    "## Obtain the whole text of each Article by joining each Article's paragraphs together"
   ]
  },
  {
   "cell_type": "code",
   "execution_count": 24,
   "metadata": {},
   "outputs": [],
   "source": [
    "final_dataframe['whole_text'] = final_dataframe['Cleaned_Content'].apply(lambda x: \"\\n \".join(x))"
   ]
  },
  {
   "cell_type": "code",
   "execution_count": 25,
   "metadata": {},
   "outputs": [
    {
     "data": {
      "text/html": [
       "<div>\n",
       "<style scoped>\n",
       "    .dataframe tbody tr th:only-of-type {\n",
       "        vertical-align: middle;\n",
       "    }\n",
       "\n",
       "    .dataframe tbody tr th {\n",
       "        vertical-align: top;\n",
       "    }\n",
       "\n",
       "    .dataframe thead th {\n",
       "        text-align: right;\n",
       "    }\n",
       "</style>\n",
       "<table border=\"1\" class=\"dataframe\">\n",
       "  <thead>\n",
       "    <tr style=\"text-align: right;\">\n",
       "      <th></th>\n",
       "      <th>Title</th>\n",
       "      <th>Articles</th>\n",
       "      <th>Content</th>\n",
       "      <th>Cleaned_Content</th>\n",
       "      <th>whole_text</th>\n",
       "    </tr>\n",
       "  </thead>\n",
       "  <tbody>\n",
       "    <tr>\n",
       "      <th>0</th>\n",
       "      <td>TITLE I \\nSUBJECT MATTER, DEFINITIONS AND GENE...</td>\n",
       "      <td>Article 1  Subject matter</td>\n",
       "      <td>[\\nThis Regulation lays down the rules for the...</td>\n",
       "      <td>[this regulation lays down the rules for the e...</td>\n",
       "      <td>this regulation lays down the rules for the es...</td>\n",
       "    </tr>\n",
       "    <tr>\n",
       "      <th>1</th>\n",
       "      <td>TITLE I \\nSUBJECT MATTER, DEFINITIONS AND GENE...</td>\n",
       "      <td>Article 2  Definitions</td>\n",
       "      <td>[ ‘applicant’ means a natural person or an ent...</td>\n",
       "      <td>[‘applicant’ means a natural person or an enti...</td>\n",
       "      <td>‘applicant’ means a natural person or an entit...</td>\n",
       "    </tr>\n",
       "    <tr>\n",
       "      <th>2</th>\n",
       "      <td>TITLE I \\nSUBJECT MATTER, DEFINITIONS AND GENE...</td>\n",
       "      <td>Article 3  Compliance of secondary legislation...</td>\n",
       "      <td>[ \\nProvisions concerning the implementation o...</td>\n",
       "      <td>[provisions concerning the implementation of t...</td>\n",
       "      <td>provisions concerning the implementation of th...</td>\n",
       "    </tr>\n",
       "    <tr>\n",
       "      <th>3</th>\n",
       "      <td>TITLE I \\nSUBJECT MATTER, DEFINITIONS AND GENE...</td>\n",
       "      <td>Article 4  Periods, dates and time limits</td>\n",
       "      <td>[\\nUnless otherwise provided in this Regulatio...</td>\n",
       "      <td>[unless otherwise provided in this regulation,...</td>\n",
       "      <td>unless otherwise provided in this regulation, ...</td>\n",
       "    </tr>\n",
       "    <tr>\n",
       "      <th>4</th>\n",
       "      <td>TITLE I \\nSUBJECT MATTER, DEFINITIONS AND GENE...</td>\n",
       "      <td>Article 5  Protection of personal data</td>\n",
       "      <td>[\\nThis Regulation is without prejudice to Reg...</td>\n",
       "      <td>[this regulation is without prejudice to regul...</td>\n",
       "      <td>this regulation is without prejudice to regula...</td>\n",
       "    </tr>\n",
       "    <tr>\n",
       "      <th>...</th>\n",
       "      <td>...</td>\n",
       "      <td>...</td>\n",
       "      <td>...</td>\n",
       "      <td>...</td>\n",
       "      <td>...</td>\n",
       "    </tr>\n",
       "    <tr>\n",
       "      <th>277</th>\n",
       "      <td>TITLE XVI \\nINFORMATION REQUESTS AND DELEGATED...</td>\n",
       "      <td>Article 278  Amendment to Decision No 541/2014...</td>\n",
       "      <td>[\\nIn Article 4 of Decision No 541/2014/EU of ...</td>\n",
       "      <td>[in article 4 of decision no 541/2014/eu of th...</td>\n",
       "      <td>in article 4 of decision no 541/2014/eu of the...</td>\n",
       "    </tr>\n",
       "    <tr>\n",
       "      <th>278</th>\n",
       "      <td>TITLE XVI \\nINFORMATION REQUESTS AND DELEGATED...</td>\n",
       "      <td>Article 279  Transitional provisions</td>\n",
       "      <td>[ \\nLegal commitments for grants implementing ...</td>\n",
       "      <td>[legal commitments for grants implementing the...</td>\n",
       "      <td>legal commitments for grants implementing the ...</td>\n",
       "    </tr>\n",
       "    <tr>\n",
       "      <th>279</th>\n",
       "      <td>TITLE XVI \\nINFORMATION REQUESTS AND DELEGATED...</td>\n",
       "      <td>Article 280  Review</td>\n",
       "      <td>[\\nThis Regulation shall be reviewed whenever ...</td>\n",
       "      <td>[this regulation shall be reviewed whenever it...</td>\n",
       "      <td>this regulation shall be reviewed whenever it ...</td>\n",
       "    </tr>\n",
       "    <tr>\n",
       "      <th>280</th>\n",
       "      <td>TITLE XVI \\nINFORMATION REQUESTS AND DELEGATED...</td>\n",
       "      <td>Article 281  Repeal</td>\n",
       "      <td>[ \\nRegulation (EU, Euratom) No 966/2012 is re...</td>\n",
       "      <td>[regulation (eu, euratom) no 966/2012 is repea...</td>\n",
       "      <td>regulation (eu, euratom) no 966/2012 is repeal...</td>\n",
       "    </tr>\n",
       "    <tr>\n",
       "      <th>281</th>\n",
       "      <td>TITLE XVI \\nINFORMATION REQUESTS AND DELEGATED...</td>\n",
       "      <td>Article 282  Entry into force and application</td>\n",
       "      <td>[ \\nThis Regulation shall enter into force on ...</td>\n",
       "      <td>[this regulation shall enter into force on the...</td>\n",
       "      <td>this regulation shall enter into force on the ...</td>\n",
       "    </tr>\n",
       "  </tbody>\n",
       "</table>\n",
       "<p>282 rows × 5 columns</p>\n",
       "</div>"
      ],
      "text/plain": [
       "                                                 Title  \\\n",
       "0    TITLE I \\nSUBJECT MATTER, DEFINITIONS AND GENE...   \n",
       "1    TITLE I \\nSUBJECT MATTER, DEFINITIONS AND GENE...   \n",
       "2    TITLE I \\nSUBJECT MATTER, DEFINITIONS AND GENE...   \n",
       "3    TITLE I \\nSUBJECT MATTER, DEFINITIONS AND GENE...   \n",
       "4    TITLE I \\nSUBJECT MATTER, DEFINITIONS AND GENE...   \n",
       "..                                                 ...   \n",
       "277  TITLE XVI \\nINFORMATION REQUESTS AND DELEGATED...   \n",
       "278  TITLE XVI \\nINFORMATION REQUESTS AND DELEGATED...   \n",
       "279  TITLE XVI \\nINFORMATION REQUESTS AND DELEGATED...   \n",
       "280  TITLE XVI \\nINFORMATION REQUESTS AND DELEGATED...   \n",
       "281  TITLE XVI \\nINFORMATION REQUESTS AND DELEGATED...   \n",
       "\n",
       "                                              Articles  \\\n",
       "0                           Article 1  Subject matter    \n",
       "1                              Article 2  Definitions    \n",
       "2    Article 3  Compliance of secondary legislation...   \n",
       "3           Article 4  Periods, dates and time limits    \n",
       "4              Article 5  Protection of personal data    \n",
       "..                                                 ...   \n",
       "277  Article 278  Amendment to Decision No 541/2014...   \n",
       "278              Article 279  Transitional provisions    \n",
       "279                               Article 280  Review    \n",
       "280                               Article 281  Repeal    \n",
       "281     Article 282  Entry into force and application    \n",
       "\n",
       "                                               Content  \\\n",
       "0    [\\nThis Regulation lays down the rules for the...   \n",
       "1    [ ‘applicant’ means a natural person or an ent...   \n",
       "2    [ \\nProvisions concerning the implementation o...   \n",
       "3    [\\nUnless otherwise provided in this Regulatio...   \n",
       "4    [\\nThis Regulation is without prejudice to Reg...   \n",
       "..                                                 ...   \n",
       "277  [\\nIn Article 4 of Decision No 541/2014/EU of ...   \n",
       "278  [ \\nLegal commitments for grants implementing ...   \n",
       "279  [\\nThis Regulation shall be reviewed whenever ...   \n",
       "280  [ \\nRegulation (EU, Euratom) No 966/2012 is re...   \n",
       "281  [ \\nThis Regulation shall enter into force on ...   \n",
       "\n",
       "                                       Cleaned_Content  \\\n",
       "0    [this regulation lays down the rules for the e...   \n",
       "1    [‘applicant’ means a natural person or an enti...   \n",
       "2    [provisions concerning the implementation of t...   \n",
       "3    [unless otherwise provided in this regulation,...   \n",
       "4    [this regulation is without prejudice to regul...   \n",
       "..                                                 ...   \n",
       "277  [in article 4 of decision no 541/2014/eu of th...   \n",
       "278  [legal commitments for grants implementing the...   \n",
       "279  [this regulation shall be reviewed whenever it...   \n",
       "280  [regulation (eu, euratom) no 966/2012 is repea...   \n",
       "281  [this regulation shall enter into force on the...   \n",
       "\n",
       "                                            whole_text  \n",
       "0    this regulation lays down the rules for the es...  \n",
       "1    ‘applicant’ means a natural person or an entit...  \n",
       "2    provisions concerning the implementation of th...  \n",
       "3    unless otherwise provided in this regulation, ...  \n",
       "4    this regulation is without prejudice to regula...  \n",
       "..                                                 ...  \n",
       "277  in article 4 of decision no 541/2014/eu of the...  \n",
       "278  legal commitments for grants implementing the ...  \n",
       "279  this regulation shall be reviewed whenever it ...  \n",
       "280  regulation (eu, euratom) no 966/2012 is repeal...  \n",
       "281  this regulation shall enter into force on the ...  \n",
       "\n",
       "[282 rows x 5 columns]"
      ]
     },
     "execution_count": 25,
     "metadata": {},
     "output_type": "execute_result"
    }
   ],
   "source": [
    "final_dataframe"
   ]
  },
  {
   "cell_type": "code",
   "execution_count": 26,
   "metadata": {},
   "outputs": [
    {
     "data": {
      "text/plain": [
       "'this regulation shall enter into force on the third day following that of its publication in the official journal of the european union.\\n it shall apply from 2 august 2018.\\n by way of derogation from paragraph 2 of this article: (a) article 271(1)(a), article 272(2), article 272(10)(a), article 272(11)(b)(i), (c), (d) and (e), article 272(12)(a), (b)(i) and (c), article 272(14)(c), article 272(15), (17), (18), (22) and (23), article 272(26)(d), article 272(27)(a)(i), article 272(53), and (54), article 272(55)(b)(i), article 273(3), article 276(2) and article 276(4)(b) shall apply from 1 january 2014; (b) article 272(11)(a) and (f), article 272(13), article 272(14)(b), article 272(16), article 272(19)(a) and article 274(3) shall apply from 1 january 2018; (c) articles 6 to 60, 63 to 68, 73 to 207, 241 to 253 and 264 to 268 shall apply from 1 january 2019 as regards the implementation of the administrative appropriations of union institutions; this is without prejudice to point (h) of this paragraph; (d) point (4) of article 2, articles 208 to 211 and article 214(1) shall apply to budgetary guarantees and financial assistance only as from the date of application of the post-2020 multiannual financial framework; (e) article 250 shall apply to budgetary guarantees, financial assistance and contingent liabilities only as from the date of application of the post-2020 multiannual financial framework; (f) point (6) of article 2, article 21(3)(f), article 41(4)(l), articles 62(2), 154(1) and (2), 155(1) to (4) and article 159 shall apply to budgetary guarantees only as from the date of application of the post-2020 multiannual financial framework;    (g) points (9), (15), (32) and (39) of article 2, article 30(1)(g), article 41(5), articles 110(3)(h) and 115(2)(c), articles 212 and 213, article 214(2) and articles 218, 219 and 220 shall apply only as from the date of application of the post-2020 multiannual financial framework; (h) the information on the annual average of full-time equivalents referred to in article 41(3)(b)(iii) and the information on the estimated amount of assigned revenue carried over from preceding years referred to in article 41(8)(b) shall be provided for the first time together with the draft budget to be presented in 2021. this regulation shall be binding in its entirety and directly applicable in all member states. done at brussels, 18 july 2018. for the european parliament the president a. tajani for the council the president j. bogner-strauss l 193/186'"
      ]
     },
     "execution_count": 26,
     "metadata": {},
     "output_type": "execute_result"
    }
   ],
   "source": [
    "final_dataframe[final_dataframe[\"Articles\"]=='Article 282  Entry into force and application '].iloc[0,4]"
   ]
  },
  {
   "cell_type": "code",
   "execution_count": 27,
   "metadata": {},
   "outputs": [],
   "source": [
    "final_dataframe['whole_text_list'] = final_dataframe['whole_text'].apply(lambda x: x.split(\"\\n \"))"
   ]
  },
  {
   "cell_type": "code",
   "execution_count": 28,
   "metadata": {},
   "outputs": [],
   "source": [
    "equality_check = final_dataframe['whole_text_list'] == final_dataframe['Cleaned_Content']"
   ]
  },
  {
   "cell_type": "code",
   "execution_count": 29,
   "metadata": {},
   "outputs": [
    {
     "data": {
      "text/plain": [
       "282"
      ]
     },
     "execution_count": 29,
     "metadata": {},
     "output_type": "execute_result"
    }
   ],
   "source": [
    "equality_check.sum()"
   ]
  },
  {
   "cell_type": "code",
   "execution_count": 30,
   "metadata": {},
   "outputs": [
    {
     "data": {
      "text/html": [
       "<div>\n",
       "<style scoped>\n",
       "    .dataframe tbody tr th:only-of-type {\n",
       "        vertical-align: middle;\n",
       "    }\n",
       "\n",
       "    .dataframe tbody tr th {\n",
       "        vertical-align: top;\n",
       "    }\n",
       "\n",
       "    .dataframe thead th {\n",
       "        text-align: right;\n",
       "    }\n",
       "</style>\n",
       "<table border=\"1\" class=\"dataframe\">\n",
       "  <thead>\n",
       "    <tr style=\"text-align: right;\">\n",
       "      <th></th>\n",
       "      <th>Title</th>\n",
       "      <th>Articles</th>\n",
       "      <th>Content</th>\n",
       "      <th>Cleaned_Content</th>\n",
       "      <th>whole_text</th>\n",
       "      <th>whole_text_list</th>\n",
       "    </tr>\n",
       "  </thead>\n",
       "  <tbody>\n",
       "    <tr>\n",
       "      <th>0</th>\n",
       "      <td>TITLE I \\nSUBJECT MATTER, DEFINITIONS AND GENE...</td>\n",
       "      <td>Article 1  Subject matter</td>\n",
       "      <td>[\\nThis Regulation lays down the rules for the...</td>\n",
       "      <td>[this regulation lays down the rules for the e...</td>\n",
       "      <td>this regulation lays down the rules for the es...</td>\n",
       "      <td>[this regulation lays down the rules for the e...</td>\n",
       "    </tr>\n",
       "    <tr>\n",
       "      <th>1</th>\n",
       "      <td>TITLE I \\nSUBJECT MATTER, DEFINITIONS AND GENE...</td>\n",
       "      <td>Article 2  Definitions</td>\n",
       "      <td>[ ‘applicant’ means a natural person or an ent...</td>\n",
       "      <td>[‘applicant’ means a natural person or an enti...</td>\n",
       "      <td>‘applicant’ means a natural person or an entit...</td>\n",
       "      <td>[‘applicant’ means a natural person or an enti...</td>\n",
       "    </tr>\n",
       "    <tr>\n",
       "      <th>2</th>\n",
       "      <td>TITLE I \\nSUBJECT MATTER, DEFINITIONS AND GENE...</td>\n",
       "      <td>Article 3  Compliance of secondary legislation...</td>\n",
       "      <td>[ \\nProvisions concerning the implementation o...</td>\n",
       "      <td>[provisions concerning the implementation of t...</td>\n",
       "      <td>provisions concerning the implementation of th...</td>\n",
       "      <td>[provisions concerning the implementation of t...</td>\n",
       "    </tr>\n",
       "    <tr>\n",
       "      <th>3</th>\n",
       "      <td>TITLE I \\nSUBJECT MATTER, DEFINITIONS AND GENE...</td>\n",
       "      <td>Article 4  Periods, dates and time limits</td>\n",
       "      <td>[\\nUnless otherwise provided in this Regulatio...</td>\n",
       "      <td>[unless otherwise provided in this regulation,...</td>\n",
       "      <td>unless otherwise provided in this regulation, ...</td>\n",
       "      <td>[unless otherwise provided in this regulation,...</td>\n",
       "    </tr>\n",
       "    <tr>\n",
       "      <th>4</th>\n",
       "      <td>TITLE I \\nSUBJECT MATTER, DEFINITIONS AND GENE...</td>\n",
       "      <td>Article 5  Protection of personal data</td>\n",
       "      <td>[\\nThis Regulation is without prejudice to Reg...</td>\n",
       "      <td>[this regulation is without prejudice to regul...</td>\n",
       "      <td>this regulation is without prejudice to regula...</td>\n",
       "      <td>[this regulation is without prejudice to regul...</td>\n",
       "    </tr>\n",
       "    <tr>\n",
       "      <th>...</th>\n",
       "      <td>...</td>\n",
       "      <td>...</td>\n",
       "      <td>...</td>\n",
       "      <td>...</td>\n",
       "      <td>...</td>\n",
       "      <td>...</td>\n",
       "    </tr>\n",
       "    <tr>\n",
       "      <th>277</th>\n",
       "      <td>TITLE XVI \\nINFORMATION REQUESTS AND DELEGATED...</td>\n",
       "      <td>Article 278  Amendment to Decision No 541/2014...</td>\n",
       "      <td>[\\nIn Article 4 of Decision No 541/2014/EU of ...</td>\n",
       "      <td>[in article 4 of decision no 541/2014/eu of th...</td>\n",
       "      <td>in article 4 of decision no 541/2014/eu of the...</td>\n",
       "      <td>[in article 4 of decision no 541/2014/eu of th...</td>\n",
       "    </tr>\n",
       "    <tr>\n",
       "      <th>278</th>\n",
       "      <td>TITLE XVI \\nINFORMATION REQUESTS AND DELEGATED...</td>\n",
       "      <td>Article 279  Transitional provisions</td>\n",
       "      <td>[ \\nLegal commitments for grants implementing ...</td>\n",
       "      <td>[legal commitments for grants implementing the...</td>\n",
       "      <td>legal commitments for grants implementing the ...</td>\n",
       "      <td>[legal commitments for grants implementing the...</td>\n",
       "    </tr>\n",
       "    <tr>\n",
       "      <th>279</th>\n",
       "      <td>TITLE XVI \\nINFORMATION REQUESTS AND DELEGATED...</td>\n",
       "      <td>Article 280  Review</td>\n",
       "      <td>[\\nThis Regulation shall be reviewed whenever ...</td>\n",
       "      <td>[this regulation shall be reviewed whenever it...</td>\n",
       "      <td>this regulation shall be reviewed whenever it ...</td>\n",
       "      <td>[this regulation shall be reviewed whenever it...</td>\n",
       "    </tr>\n",
       "    <tr>\n",
       "      <th>280</th>\n",
       "      <td>TITLE XVI \\nINFORMATION REQUESTS AND DELEGATED...</td>\n",
       "      <td>Article 281  Repeal</td>\n",
       "      <td>[ \\nRegulation (EU, Euratom) No 966/2012 is re...</td>\n",
       "      <td>[regulation (eu, euratom) no 966/2012 is repea...</td>\n",
       "      <td>regulation (eu, euratom) no 966/2012 is repeal...</td>\n",
       "      <td>[regulation (eu, euratom) no 966/2012 is repea...</td>\n",
       "    </tr>\n",
       "    <tr>\n",
       "      <th>281</th>\n",
       "      <td>TITLE XVI \\nINFORMATION REQUESTS AND DELEGATED...</td>\n",
       "      <td>Article 282  Entry into force and application</td>\n",
       "      <td>[ \\nThis Regulation shall enter into force on ...</td>\n",
       "      <td>[this regulation shall enter into force on the...</td>\n",
       "      <td>this regulation shall enter into force on the ...</td>\n",
       "      <td>[this regulation shall enter into force on the...</td>\n",
       "    </tr>\n",
       "  </tbody>\n",
       "</table>\n",
       "<p>282 rows × 6 columns</p>\n",
       "</div>"
      ],
      "text/plain": [
       "                                                 Title  \\\n",
       "0    TITLE I \\nSUBJECT MATTER, DEFINITIONS AND GENE...   \n",
       "1    TITLE I \\nSUBJECT MATTER, DEFINITIONS AND GENE...   \n",
       "2    TITLE I \\nSUBJECT MATTER, DEFINITIONS AND GENE...   \n",
       "3    TITLE I \\nSUBJECT MATTER, DEFINITIONS AND GENE...   \n",
       "4    TITLE I \\nSUBJECT MATTER, DEFINITIONS AND GENE...   \n",
       "..                                                 ...   \n",
       "277  TITLE XVI \\nINFORMATION REQUESTS AND DELEGATED...   \n",
       "278  TITLE XVI \\nINFORMATION REQUESTS AND DELEGATED...   \n",
       "279  TITLE XVI \\nINFORMATION REQUESTS AND DELEGATED...   \n",
       "280  TITLE XVI \\nINFORMATION REQUESTS AND DELEGATED...   \n",
       "281  TITLE XVI \\nINFORMATION REQUESTS AND DELEGATED...   \n",
       "\n",
       "                                              Articles  \\\n",
       "0                           Article 1  Subject matter    \n",
       "1                              Article 2  Definitions    \n",
       "2    Article 3  Compliance of secondary legislation...   \n",
       "3           Article 4  Periods, dates and time limits    \n",
       "4              Article 5  Protection of personal data    \n",
       "..                                                 ...   \n",
       "277  Article 278  Amendment to Decision No 541/2014...   \n",
       "278              Article 279  Transitional provisions    \n",
       "279                               Article 280  Review    \n",
       "280                               Article 281  Repeal    \n",
       "281     Article 282  Entry into force and application    \n",
       "\n",
       "                                               Content  \\\n",
       "0    [\\nThis Regulation lays down the rules for the...   \n",
       "1    [ ‘applicant’ means a natural person or an ent...   \n",
       "2    [ \\nProvisions concerning the implementation o...   \n",
       "3    [\\nUnless otherwise provided in this Regulatio...   \n",
       "4    [\\nThis Regulation is without prejudice to Reg...   \n",
       "..                                                 ...   \n",
       "277  [\\nIn Article 4 of Decision No 541/2014/EU of ...   \n",
       "278  [ \\nLegal commitments for grants implementing ...   \n",
       "279  [\\nThis Regulation shall be reviewed whenever ...   \n",
       "280  [ \\nRegulation (EU, Euratom) No 966/2012 is re...   \n",
       "281  [ \\nThis Regulation shall enter into force on ...   \n",
       "\n",
       "                                       Cleaned_Content  \\\n",
       "0    [this regulation lays down the rules for the e...   \n",
       "1    [‘applicant’ means a natural person or an enti...   \n",
       "2    [provisions concerning the implementation of t...   \n",
       "3    [unless otherwise provided in this regulation,...   \n",
       "4    [this regulation is without prejudice to regul...   \n",
       "..                                                 ...   \n",
       "277  [in article 4 of decision no 541/2014/eu of th...   \n",
       "278  [legal commitments for grants implementing the...   \n",
       "279  [this regulation shall be reviewed whenever it...   \n",
       "280  [regulation (eu, euratom) no 966/2012 is repea...   \n",
       "281  [this regulation shall enter into force on the...   \n",
       "\n",
       "                                            whole_text  \\\n",
       "0    this regulation lays down the rules for the es...   \n",
       "1    ‘applicant’ means a natural person or an entit...   \n",
       "2    provisions concerning the implementation of th...   \n",
       "3    unless otherwise provided in this regulation, ...   \n",
       "4    this regulation is without prejudice to regula...   \n",
       "..                                                 ...   \n",
       "277  in article 4 of decision no 541/2014/eu of the...   \n",
       "278  legal commitments for grants implementing the ...   \n",
       "279  this regulation shall be reviewed whenever it ...   \n",
       "280  regulation (eu, euratom) no 966/2012 is repeal...   \n",
       "281  this regulation shall enter into force on the ...   \n",
       "\n",
       "                                       whole_text_list  \n",
       "0    [this regulation lays down the rules for the e...  \n",
       "1    [‘applicant’ means a natural person or an enti...  \n",
       "2    [provisions concerning the implementation of t...  \n",
       "3    [unless otherwise provided in this regulation,...  \n",
       "4    [this regulation is without prejudice to regul...  \n",
       "..                                                 ...  \n",
       "277  [in article 4 of decision no 541/2014/eu of th...  \n",
       "278  [legal commitments for grants implementing the...  \n",
       "279  [this regulation shall be reviewed whenever it...  \n",
       "280  [regulation (eu, euratom) no 966/2012 is repea...  \n",
       "281  [this regulation shall enter into force on the...  \n",
       "\n",
       "[282 rows x 6 columns]"
      ]
     },
     "execution_count": 30,
     "metadata": {},
     "output_type": "execute_result"
    }
   ],
   "source": [
    "final_dataframe"
   ]
  },
  {
   "cell_type": "markdown",
   "metadata": {},
   "source": [
    "## Apply coreference resolution to each Article's content"
   ]
  },
  {
   "cell_type": "code",
   "execution_count": 31,
   "metadata": {},
   "outputs": [],
   "source": [
    "final_dataframe['coreference_text'] = final_dataframe['whole_text'].apply(lambda x: coref_solve(x)) "
   ]
  },
  {
   "cell_type": "code",
   "execution_count": 32,
   "metadata": {},
   "outputs": [
    {
     "data": {
      "text/html": [
       "<div>\n",
       "<style scoped>\n",
       "    .dataframe tbody tr th:only-of-type {\n",
       "        vertical-align: middle;\n",
       "    }\n",
       "\n",
       "    .dataframe tbody tr th {\n",
       "        vertical-align: top;\n",
       "    }\n",
       "\n",
       "    .dataframe thead th {\n",
       "        text-align: right;\n",
       "    }\n",
       "</style>\n",
       "<table border=\"1\" class=\"dataframe\">\n",
       "  <thead>\n",
       "    <tr style=\"text-align: right;\">\n",
       "      <th></th>\n",
       "      <th>Title</th>\n",
       "      <th>Articles</th>\n",
       "      <th>Content</th>\n",
       "      <th>Cleaned_Content</th>\n",
       "      <th>whole_text</th>\n",
       "      <th>whole_text_list</th>\n",
       "      <th>coreference_text</th>\n",
       "    </tr>\n",
       "  </thead>\n",
       "  <tbody>\n",
       "    <tr>\n",
       "      <th>0</th>\n",
       "      <td>TITLE I \\nSUBJECT MATTER, DEFINITIONS AND GENE...</td>\n",
       "      <td>Article 1  Subject matter</td>\n",
       "      <td>[\\nThis Regulation lays down the rules for the...</td>\n",
       "      <td>[this regulation lays down the rules for the e...</td>\n",
       "      <td>this regulation lays down the rules for the es...</td>\n",
       "      <td>[this regulation lays down the rules for the e...</td>\n",
       "      <td>this regulation lays down the rules for the es...</td>\n",
       "    </tr>\n",
       "    <tr>\n",
       "      <th>1</th>\n",
       "      <td>TITLE I \\nSUBJECT MATTER, DEFINITIONS AND GENE...</td>\n",
       "      <td>Article 2  Definitions</td>\n",
       "      <td>[ ‘applicant’ means a natural person or an ent...</td>\n",
       "      <td>[‘applicant’ means a natural person or an enti...</td>\n",
       "      <td>‘applicant’ means a natural person or an entit...</td>\n",
       "      <td>[‘applicant’ means a natural person or an enti...</td>\n",
       "      <td>‘applicant’ means a natural person or an entit...</td>\n",
       "    </tr>\n",
       "    <tr>\n",
       "      <th>2</th>\n",
       "      <td>TITLE I \\nSUBJECT MATTER, DEFINITIONS AND GENE...</td>\n",
       "      <td>Article 3  Compliance of secondary legislation...</td>\n",
       "      <td>[ \\nProvisions concerning the implementation o...</td>\n",
       "      <td>[provisions concerning the implementation of t...</td>\n",
       "      <td>provisions concerning the implementation of th...</td>\n",
       "      <td>[provisions concerning the implementation of t...</td>\n",
       "      <td>provisions concerning the implementation of th...</td>\n",
       "    </tr>\n",
       "    <tr>\n",
       "      <th>3</th>\n",
       "      <td>TITLE I \\nSUBJECT MATTER, DEFINITIONS AND GENE...</td>\n",
       "      <td>Article 4  Periods, dates and time limits</td>\n",
       "      <td>[\\nUnless otherwise provided in this Regulatio...</td>\n",
       "      <td>[unless otherwise provided in this regulation,...</td>\n",
       "      <td>unless otherwise provided in this regulation, ...</td>\n",
       "      <td>[unless otherwise provided in this regulation,...</td>\n",
       "      <td>unless otherwise provided in this regulation, ...</td>\n",
       "    </tr>\n",
       "    <tr>\n",
       "      <th>4</th>\n",
       "      <td>TITLE I \\nSUBJECT MATTER, DEFINITIONS AND GENE...</td>\n",
       "      <td>Article 5  Protection of personal data</td>\n",
       "      <td>[\\nThis Regulation is without prejudice to Reg...</td>\n",
       "      <td>[this regulation is without prejudice to regul...</td>\n",
       "      <td>this regulation is without prejudice to regula...</td>\n",
       "      <td>[this regulation is without prejudice to regul...</td>\n",
       "      <td>this regulation is without prejudice to regula...</td>\n",
       "    </tr>\n",
       "    <tr>\n",
       "      <th>...</th>\n",
       "      <td>...</td>\n",
       "      <td>...</td>\n",
       "      <td>...</td>\n",
       "      <td>...</td>\n",
       "      <td>...</td>\n",
       "      <td>...</td>\n",
       "      <td>...</td>\n",
       "    </tr>\n",
       "    <tr>\n",
       "      <th>277</th>\n",
       "      <td>TITLE XVI \\nINFORMATION REQUESTS AND DELEGATED...</td>\n",
       "      <td>Article 278  Amendment to Decision No 541/2014...</td>\n",
       "      <td>[\\nIn Article 4 of Decision No 541/2014/EU of ...</td>\n",
       "      <td>[in article 4 of decision no 541/2014/eu of th...</td>\n",
       "      <td>in article 4 of decision no 541/2014/eu of the...</td>\n",
       "      <td>[in article 4 of decision no 541/2014/eu of th...</td>\n",
       "      <td>in article 4 of decision no 541/2014/eu of the...</td>\n",
       "    </tr>\n",
       "    <tr>\n",
       "      <th>278</th>\n",
       "      <td>TITLE XVI \\nINFORMATION REQUESTS AND DELEGATED...</td>\n",
       "      <td>Article 279  Transitional provisions</td>\n",
       "      <td>[ \\nLegal commitments for grants implementing ...</td>\n",
       "      <td>[legal commitments for grants implementing the...</td>\n",
       "      <td>legal commitments for grants implementing the ...</td>\n",
       "      <td>[legal commitments for grants implementing the...</td>\n",
       "      <td>legal commitments for grants implementing the ...</td>\n",
       "    </tr>\n",
       "    <tr>\n",
       "      <th>279</th>\n",
       "      <td>TITLE XVI \\nINFORMATION REQUESTS AND DELEGATED...</td>\n",
       "      <td>Article 280  Review</td>\n",
       "      <td>[\\nThis Regulation shall be reviewed whenever ...</td>\n",
       "      <td>[this regulation shall be reviewed whenever it...</td>\n",
       "      <td>this regulation shall be reviewed whenever it ...</td>\n",
       "      <td>[this regulation shall be reviewed whenever it...</td>\n",
       "      <td>this regulation shall be reviewed whenever thi...</td>\n",
       "    </tr>\n",
       "    <tr>\n",
       "      <th>280</th>\n",
       "      <td>TITLE XVI \\nINFORMATION REQUESTS AND DELEGATED...</td>\n",
       "      <td>Article 281  Repeal</td>\n",
       "      <td>[ \\nRegulation (EU, Euratom) No 966/2012 is re...</td>\n",
       "      <td>[regulation (eu, euratom) no 966/2012 is repea...</td>\n",
       "      <td>regulation (eu, euratom) no 966/2012 is repeal...</td>\n",
       "      <td>[regulation (eu, euratom) no 966/2012 is repea...</td>\n",
       "      <td>regulation (eu, euratom) no 966/2012 is repeal...</td>\n",
       "    </tr>\n",
       "    <tr>\n",
       "      <th>281</th>\n",
       "      <td>TITLE XVI \\nINFORMATION REQUESTS AND DELEGATED...</td>\n",
       "      <td>Article 282  Entry into force and application</td>\n",
       "      <td>[ \\nThis Regulation shall enter into force on ...</td>\n",
       "      <td>[this regulation shall enter into force on the...</td>\n",
       "      <td>this regulation shall enter into force on the ...</td>\n",
       "      <td>[this regulation shall enter into force on the...</td>\n",
       "      <td>this regulation shall enter into force on the ...</td>\n",
       "    </tr>\n",
       "  </tbody>\n",
       "</table>\n",
       "<p>282 rows × 7 columns</p>\n",
       "</div>"
      ],
      "text/plain": [
       "                                                 Title  \\\n",
       "0    TITLE I \\nSUBJECT MATTER, DEFINITIONS AND GENE...   \n",
       "1    TITLE I \\nSUBJECT MATTER, DEFINITIONS AND GENE...   \n",
       "2    TITLE I \\nSUBJECT MATTER, DEFINITIONS AND GENE...   \n",
       "3    TITLE I \\nSUBJECT MATTER, DEFINITIONS AND GENE...   \n",
       "4    TITLE I \\nSUBJECT MATTER, DEFINITIONS AND GENE...   \n",
       "..                                                 ...   \n",
       "277  TITLE XVI \\nINFORMATION REQUESTS AND DELEGATED...   \n",
       "278  TITLE XVI \\nINFORMATION REQUESTS AND DELEGATED...   \n",
       "279  TITLE XVI \\nINFORMATION REQUESTS AND DELEGATED...   \n",
       "280  TITLE XVI \\nINFORMATION REQUESTS AND DELEGATED...   \n",
       "281  TITLE XVI \\nINFORMATION REQUESTS AND DELEGATED...   \n",
       "\n",
       "                                              Articles  \\\n",
       "0                           Article 1  Subject matter    \n",
       "1                              Article 2  Definitions    \n",
       "2    Article 3  Compliance of secondary legislation...   \n",
       "3           Article 4  Periods, dates and time limits    \n",
       "4              Article 5  Protection of personal data    \n",
       "..                                                 ...   \n",
       "277  Article 278  Amendment to Decision No 541/2014...   \n",
       "278              Article 279  Transitional provisions    \n",
       "279                               Article 280  Review    \n",
       "280                               Article 281  Repeal    \n",
       "281     Article 282  Entry into force and application    \n",
       "\n",
       "                                               Content  \\\n",
       "0    [\\nThis Regulation lays down the rules for the...   \n",
       "1    [ ‘applicant’ means a natural person or an ent...   \n",
       "2    [ \\nProvisions concerning the implementation o...   \n",
       "3    [\\nUnless otherwise provided in this Regulatio...   \n",
       "4    [\\nThis Regulation is without prejudice to Reg...   \n",
       "..                                                 ...   \n",
       "277  [\\nIn Article 4 of Decision No 541/2014/EU of ...   \n",
       "278  [ \\nLegal commitments for grants implementing ...   \n",
       "279  [\\nThis Regulation shall be reviewed whenever ...   \n",
       "280  [ \\nRegulation (EU, Euratom) No 966/2012 is re...   \n",
       "281  [ \\nThis Regulation shall enter into force on ...   \n",
       "\n",
       "                                       Cleaned_Content  \\\n",
       "0    [this regulation lays down the rules for the e...   \n",
       "1    [‘applicant’ means a natural person or an enti...   \n",
       "2    [provisions concerning the implementation of t...   \n",
       "3    [unless otherwise provided in this regulation,...   \n",
       "4    [this regulation is without prejudice to regul...   \n",
       "..                                                 ...   \n",
       "277  [in article 4 of decision no 541/2014/eu of th...   \n",
       "278  [legal commitments for grants implementing the...   \n",
       "279  [this regulation shall be reviewed whenever it...   \n",
       "280  [regulation (eu, euratom) no 966/2012 is repea...   \n",
       "281  [this regulation shall enter into force on the...   \n",
       "\n",
       "                                            whole_text  \\\n",
       "0    this regulation lays down the rules for the es...   \n",
       "1    ‘applicant’ means a natural person or an entit...   \n",
       "2    provisions concerning the implementation of th...   \n",
       "3    unless otherwise provided in this regulation, ...   \n",
       "4    this regulation is without prejudice to regula...   \n",
       "..                                                 ...   \n",
       "277  in article 4 of decision no 541/2014/eu of the...   \n",
       "278  legal commitments for grants implementing the ...   \n",
       "279  this regulation shall be reviewed whenever it ...   \n",
       "280  regulation (eu, euratom) no 966/2012 is repeal...   \n",
       "281  this regulation shall enter into force on the ...   \n",
       "\n",
       "                                       whole_text_list  \\\n",
       "0    [this regulation lays down the rules for the e...   \n",
       "1    [‘applicant’ means a natural person or an enti...   \n",
       "2    [provisions concerning the implementation of t...   \n",
       "3    [unless otherwise provided in this regulation,...   \n",
       "4    [this regulation is without prejudice to regul...   \n",
       "..                                                 ...   \n",
       "277  [in article 4 of decision no 541/2014/eu of th...   \n",
       "278  [legal commitments for grants implementing the...   \n",
       "279  [this regulation shall be reviewed whenever it...   \n",
       "280  [regulation (eu, euratom) no 966/2012 is repea...   \n",
       "281  [this regulation shall enter into force on the...   \n",
       "\n",
       "                                      coreference_text  \n",
       "0    this regulation lays down the rules for the es...  \n",
       "1    ‘applicant’ means a natural person or an entit...  \n",
       "2    provisions concerning the implementation of th...  \n",
       "3    unless otherwise provided in this regulation, ...  \n",
       "4    this regulation is without prejudice to regula...  \n",
       "..                                                 ...  \n",
       "277  in article 4 of decision no 541/2014/eu of the...  \n",
       "278  legal commitments for grants implementing the ...  \n",
       "279  this regulation shall be reviewed whenever thi...  \n",
       "280  regulation (eu, euratom) no 966/2012 is repeal...  \n",
       "281  this regulation shall enter into force on the ...  \n",
       "\n",
       "[282 rows x 7 columns]"
      ]
     },
     "execution_count": 32,
     "metadata": {},
     "output_type": "execute_result"
    }
   ],
   "source": [
    "final_dataframe"
   ]
  },
  {
   "cell_type": "code",
   "execution_count": 33,
   "metadata": {},
   "outputs": [
    {
     "data": {
      "text/plain": [
       "'this regulation shall enter into force on the third day following that of this regulation publication in the official journal of the european union.\\n this regulation shall apply from 2 august 2018.\\n by way of derogation from paragraph 2 of this article: (a) article 271(1)(a), article 272(2), article 272(10)(a), article 272(11)(b)(i), (c), (d) and (e), article 272(12)(a), (b)(i) and (c), article 272(14)(c), article 272(15), (17), (18), (22) and (23), article 272(26)(d), article 272(27)(a)(i), article 272(53), and (54), article 272(55)(b)(i), article 273(3), article 276(2) and article 276(4)(b) shall apply from 1 january 2014; (b) article 272(11)(a) and (f), article 272(13), article 272(14)(b), article 272(16), article 272(19)(a) and article 274(3) shall apply from 1 january 2018; (c) articles 6 to 60, 63 to 68, 73 to 207, 241 to 253 and 264 to 268 shall apply from 1 january 2019 as regards the implementation of the administrative appropriations of union institutions; this is without prejudice to point (h) of this paragraph; (d) point (4) of article 2, articles 208 to 211 and article 214(1) shall apply to budgetary guarantees and financial assistance only as from the date of application of the post-2020 multiannual financial framework; (e) article 250 shall apply to budgetary guarantees, financial assistance and contingent liabilities only as from the date of application of the post-2020 multiannual financial framework; (f) point (6) of article 2, article 21(3)(f), article 41(4)(l), articles 62(2), 154(1) and (2), 155(1) to (4) and article 159 shall apply to budgetary guarantees only as from the date of application of the post-2020 multiannual financial framework;    (g) points (9), (15), (32) and (39) of article 2, article 30(1)(g), article 41(5), articles 110(3)(h) and 115(2)(c), articles 212 and 213, article 214(2) and articles 218, 219 and 220 shall apply only as from the date of application of the post-2020 multiannual financial framework; (h) the information on the annual average of full-time equivalents referred to in article 41(3)(b)(iii) and the information on the estimated amount of assigned revenue carried over from preceding years referred to in article 41(8)(b) shall be provided for the first time together with the draft budget to be presented in 2021. this regulation shall be binding in this regulation entirety and directly applicable in all member states. done at brussels, 18 july 2018. for the european parliament the president a. tajani for the council the president j. bogner-strauss l 193/186'"
      ]
     },
     "execution_count": 33,
     "metadata": {},
     "output_type": "execute_result"
    }
   ],
   "source": [
    "final_dataframe[final_dataframe[\"Articles\"]=='Article 282  Entry into force and application '].iloc[0,6]"
   ]
  },
  {
   "cell_type": "code",
   "execution_count": 34,
   "metadata": {},
   "outputs": [],
   "source": [
    "final_dataframe['coreference_list_ready'] = final_dataframe['coreference_text'].apply(lambda x: x.split(\"\\n \")) "
   ]
  },
  {
   "cell_type": "code",
   "execution_count": 36,
   "metadata": {},
   "outputs": [],
   "source": [
    "final_dataframe['identical_length'] = final_dataframe.apply(lambda row: len(row['Cleaned_Content']) == len(row['coreference_list_ready']), axis=1)"
   ]
  },
  {
   "cell_type": "code",
   "execution_count": 37,
   "metadata": {},
   "outputs": [
    {
     "data": {
      "text/plain": [
       "280"
      ]
     },
     "execution_count": 37,
     "metadata": {},
     "output_type": "execute_result"
    }
   ],
   "source": [
    "final_dataframe['identical_length'].sum()"
   ]
  },
  {
   "cell_type": "code",
   "execution_count": 38,
   "metadata": {},
   "outputs": [
    {
     "data": {
      "text/html": [
       "<div>\n",
       "<style scoped>\n",
       "    .dataframe tbody tr th:only-of-type {\n",
       "        vertical-align: middle;\n",
       "    }\n",
       "\n",
       "    .dataframe tbody tr th {\n",
       "        vertical-align: top;\n",
       "    }\n",
       "\n",
       "    .dataframe thead th {\n",
       "        text-align: right;\n",
       "    }\n",
       "</style>\n",
       "<table border=\"1\" class=\"dataframe\">\n",
       "  <thead>\n",
       "    <tr style=\"text-align: right;\">\n",
       "      <th></th>\n",
       "      <th>Title</th>\n",
       "      <th>Articles</th>\n",
       "      <th>Content</th>\n",
       "      <th>Cleaned_Content</th>\n",
       "      <th>whole_text</th>\n",
       "      <th>whole_text_list</th>\n",
       "      <th>coreference_text</th>\n",
       "      <th>coreference_list_ready</th>\n",
       "      <th>identical_length</th>\n",
       "    </tr>\n",
       "  </thead>\n",
       "  <tbody>\n",
       "    <tr>\n",
       "      <th>141</th>\n",
       "      <td>TITLE V \\nCOMMON RULES</td>\n",
       "      <td>Article 142  The early-detection and exclusion...</td>\n",
       "      <td>[ \\nInformation exchanged within the early-det...</td>\n",
       "      <td>[information exchanged within the early-detect...</td>\n",
       "      <td>information exchanged within the early-detecti...</td>\n",
       "      <td>[information exchanged within the early-detect...</td>\n",
       "      <td>information exchanged within the early-detecti...</td>\n",
       "      <td>[information exchanged within the early-detect...</td>\n",
       "      <td>False</td>\n",
       "    </tr>\n",
       "    <tr>\n",
       "      <th>242</th>\n",
       "      <td>TITLE XIII \\nANNUAL ACCOUNTS AND OTHER FINANCI...</td>\n",
       "      <td>Article 243  Financial statements</td>\n",
       "      <td>[ \\nThe financial statements shall be presente...</td>\n",
       "      <td>[the financial statements shall be presented i...</td>\n",
       "      <td>the financial statements shall be presented in...</td>\n",
       "      <td>[the financial statements shall be presented i...</td>\n",
       "      <td>the financial statements shall be presented in...</td>\n",
       "      <td>[the financial statements shall be presented i...</td>\n",
       "      <td>False</td>\n",
       "    </tr>\n",
       "  </tbody>\n",
       "</table>\n",
       "</div>"
      ],
      "text/plain": [
       "                                                 Title  \\\n",
       "141                            TITLE V \\nCOMMON RULES    \n",
       "242  TITLE XIII \\nANNUAL ACCOUNTS AND OTHER FINANCI...   \n",
       "\n",
       "                                              Articles  \\\n",
       "141  Article 142  The early-detection and exclusion...   \n",
       "242                 Article 243  Financial statements    \n",
       "\n",
       "                                               Content  \\\n",
       "141  [ \\nInformation exchanged within the early-det...   \n",
       "242  [ \\nThe financial statements shall be presente...   \n",
       "\n",
       "                                       Cleaned_Content  \\\n",
       "141  [information exchanged within the early-detect...   \n",
       "242  [the financial statements shall be presented i...   \n",
       "\n",
       "                                            whole_text  \\\n",
       "141  information exchanged within the early-detecti...   \n",
       "242  the financial statements shall be presented in...   \n",
       "\n",
       "                                       whole_text_list  \\\n",
       "141  [information exchanged within the early-detect...   \n",
       "242  [the financial statements shall be presented i...   \n",
       "\n",
       "                                      coreference_text  \\\n",
       "141  information exchanged within the early-detecti...   \n",
       "242  the financial statements shall be presented in...   \n",
       "\n",
       "                                coreference_list_ready  identical_length  \n",
       "141  [information exchanged within the early-detect...             False  \n",
       "242  [the financial statements shall be presented i...             False  "
      ]
     },
     "execution_count": 38,
     "metadata": {},
     "output_type": "execute_result"
    }
   ],
   "source": [
    "final_dataframe[final_dataframe['identical_length']==False]"
   ]
  },
  {
   "cell_type": "code",
   "execution_count": 43,
   "metadata": {},
   "outputs": [
    {
     "data": {
      "text/plain": [
       "['information exchanged within the early-detection and exclusion system referred to in article 135 shall be centralised in a database set up by the commission (‘the database’) and shall be managed in accordance with the right to privacy and other rights provided for in regulation (ec) no 45/2001. l 193/100   information on cases of early detection, exclusion and/or financial penalties shall be entered in the database by the authorising officer responsible after notifying the person or entity concerned, as referred to in article 135(2). such notification may be deferred in exceptional circumstances, where there are compelling legitimate grounds to preserve the confidentiality of an investigation or of national judicial proceedings, until such compelling legitimate grounds to preserve the confidentiality cease to exist. in accordance with regulation (ec) no 45/2001, the commission shall upon request inform the person or entity subject to the early-detection and exclusion system, as referred to in article 135(2), of the data stored in the database relating to that person or entity. the information contained in the database shall be updated, where appropriate, following a rectification, an erasure or any modification of data. it shall only be published in accordance with article 140.',\n",
       " 'the early-detection and exclusion system shall be based on facts and findings as referred to in the fourth subparagraph of article 136(2) and on the transmission of information to the commission, in particular, by: (a) eppo in respect of those member states participating in enhanced cooperation pursuant to regulation (eu) 2017/1939, or olaf in accordance with regulation (eu, euratom) no 883/2013 where an investigation completed or in progress shows that it might be appropriate to take precautionary measures or actions to protect the financial interests of the union, with due regard to the respect for procedural and fundamental rights, and to the protection of whistle-blowers; (b) an authorising officer of the commission, of a european office set up by the commission or of an executive agency; (c) a union institution, a european office, an agency other than those referred to in point (b) of this paragraph, or a body or a person entrusted with implementation of cfsp actions; (d) entities implementing the budget in accordance with article 63, in cases of detected fraud and/or irregularity and their follow up, where the transmission of information is required by sector-specific rules; (e) persons or entities implementing union funds pursuant to point (c) of the first subparagraph of article 62(1), in cases of detected fraud and/or irregularity and their follow up.',\n",
       " 'except where information is to be submitted in accordance with sector-specific rules, the information to be transmitted pursuant to paragraph 2 of this article shall include: (a) the identification of the entity or person concerned; (b) a summary of the risks detected or the facts in question; (c) information that could assist the authorising officer in carrying out the verification referred to in paragraph 4 of this article or in taking a decision on exclusion as referred to in article 136(1) or (2), or a decision to impose a financial penalty as referred to in article 138; (d) where applicable, information on any special measures necessary to ensure the confidentiality of the information transmitted, including measures for the safeguarding of evidence to protect the investigation or the national judicial proceedings.',\n",
       " 'the commission shall without delay transmit the information referred to in paragraph 3 to its authorising officers and those of its executive agencies, all other union institutions, union bodies, european offices and agencies through the database referred to in paragraph 1 in order to allow them to carry out the necessary verification in respect of their ongoing award procedures and existing legal commitments. in carrying out that verification, the authorising officer responsible shall exercise his or her powers as set out in article 74 and shall not go beyond what is foreseen in the terms and conditions of the award procedure and legal commitments. the retention period for the information related to the early detection transmitted in accordance with paragraph 3 of this article shall not exceed one year. if, during that period, the authorising officer responsible requests the panel to issue a recommendation in a case concerning exclusion or financial penalties, the retention period may be extended until such time as the authorising officer responsible has taken a decision.',\n",
       " 'all persons and entities involved in budget implementation in accordance with article 62 shall be granted access by the commission to the information on decisions on exclusion pursuant to article 136 to enable them to verify whether there is an exclusion in the system with a view to taking this information into account, as appropriate and on their own responsibility, when awarding contracts in budget implementation.',\n",
       " 'as part of the annual report of the commission to the european parliament and to the council pursuant to article 325(5) tfeu, the commission shall provide aggregate information on the decisions taken by the authorising officers under articles 135 to 142 of this regulation. that report shall also provide further information on any decisions taken by the authorising officers pursuant to point (b) of the first subparagraph of article 136(6) of this regulation and article 140(2) of this regulation and on any decisions by the authorising officers to deviate from the recommendation of the panel pursuant to the third subparagraph of article 143(6) of this regulation. the information referred to in the first subparagraph of this paragraph shall be provided with due regard to confiden\\xadtiality requirements and shall, in particular, not allow for the identification of the person or entity concerned, as referred to in article 135(2).']"
      ]
     },
     "execution_count": 43,
     "metadata": {},
     "output_type": "execute_result"
    }
   ],
   "source": [
    "final_dataframe[final_dataframe['identical_length']==False].iloc[0,3]"
   ]
  },
  {
   "cell_type": "code",
   "execution_count": 45,
   "metadata": {},
   "outputs": [
    {
     "data": {
      "text/plain": [
       "'information exchanged within the early-detection and exclusion system referred to in article 135 shall be centralised in a database set up by the commission (‘the database’) and shall be managed in accordance with the right to privacy and other rights provided for in regulation (ec) no 45/2001. l 193/100   information on cases of early detection, exclusion and/or financial penalties shall be entered in the database by the authorising officer responsible after notifying the person or entity concerned, as referred to in article 135(2). such notification may be deferred in exceptional circumstances, where there are compelling legitimate grounds to preserve the confidentiality of an investigation or of national judicial proceedings, until such compelling legitimate grounds to preserve the confidentiality cease to exist. in accordance with regulation (ec) no 45/2001, the commission shall upon request inform the person or entity subject to the early-detection and exclusion system, as referred to in article 135(2), of the data stored in the database relating to that person or entity. the information contained in the database shall be updated, where appropriate, following a rectification, an erasure or any modification of data. it shall only be published in accordance with article 140.\\n the early-detection and exclusion system shall be based on facts and findings as referred to in the fourth subparagraph of article 136(2) and on the transmission of information to the commission, in particular, by: (a) eppo in respect of those member states participating in enhanced cooperation pursuant to regulation (eu) 2017/1939, or olaf in accordance with regulation (eu, euratom) no 883/2013 where an investigation completed or in progress shows that it might be appropriate to take precautionary measures or actions to protect the financial interests of the union, with due regard to the respect for procedural and fundamental rights, and to the protection of whistle-blowers; (b) an authorising officer of the commission, of a european office set up by the commission or of an executive agency; (c) a union institution, a european office, an agency other than those referred to in point (b) of this paragraph, or a body or a person entrusted with implementation of cfsp actions; (d) entities implementing the budget in accordance with article 63, in cases of detected fraud and/or irregularity and their follow up, where the transmission of information is required by sector-specific rules; (e) persons or entities implementing union funds pursuant to point (c) of the first subparagraph of article 62(1), in cases of detected fraud and/or irregularity and their follow up.\\n except where information is to be submitted in accordance with sector-specific rules, the information to be transmitted pursuant to paragraph 2 of this article shall include: (a) the identification of the entity or person concerned; (b) a summary of the risks detected or the facts in question; (c) information that could assist the authorising officer in carrying out the verification referred to in paragraph 4 of this article or in taking a decision on exclusion as referred to in article 136(1) or (2), or a decision to impose a financial penalty as referred to in article 138; (d) where applicable, information on any special measures necessary to ensure the confidentiality of the information transmitted, including measures for the safeguarding of evidence to protect the investigation or the national judicial proceedings.\\n the commission shall without delay transmit the information referred to in paragraph 3 to its authorising officers and those of its executive agencies, all other union institutions, union bodies, european offices and agencies through the database referred to in paragraph 1 in order to allow them to carry out the necessary verification in respect of their ongoing award procedures and existing legal commitments. in carrying out that verification, the authorising officer responsible shall exercise his or her powers as set out in article 74 and shall not go beyond what is foreseen in the terms and conditions of the award procedure and legal commitments. the retention period for the information related to the early detection transmitted in accordance with paragraph 3 of this article shall not exceed one year. if, during that period, the authorising officer responsible requests the panel to issue a recommendation in a case concerning exclusion or financial penalties, the retention period may be extended until such time as the authorising officer responsible has taken a decision.\\n all persons and entities involved in budget implementation in accordance with article 62 shall be granted access by the commission to the information on decisions on exclusion pursuant to article 136 to enable them to verify whether there is an exclusion in the system with a view to taking this information into account, as appropriate and on their own responsibility, when awarding contracts in budget implementation.\\n as part of the annual report of the commission to the european parliament and to the council pursuant to article 325(5) tfeu, the commission shall provide aggregate information on the decisions taken by the authorising officers under articles 135 to 142 of this regulation. that report shall also provide further information on any decisions taken by the authorising officers pursuant to point (b) of the first subparagraph of article 136(6) of this regulation and article 140(2) of this regulation and on any decisions by the authorising officers to deviate from the recommendation of the panel pursuant to the third subparagraph of article 143(6) of this regulation. the information referred to in the first subparagraph of this paragraph shall be provided with due regard to confiden\\xadtiality requirements and shall, in particular, not allow for the identification of the person or entity concerned, as referred to in article 135(2).'"
      ]
     },
     "execution_count": 45,
     "metadata": {},
     "output_type": "execute_result"
    }
   ],
   "source": [
    "final_dataframe[final_dataframe['identical_length']==False].iloc[0,4]"
   ]
  },
  {
   "cell_type": "code",
   "execution_count": 49,
   "metadata": {},
   "outputs": [
    {
     "data": {
      "text/plain": [
       "[' \\nInformation exchanged within the early-detection and exclusion system referred to in Article 135 shall be \\ncentralised in a database set up by the Commission (‘the database’) and shall be managed in accordance with the \\nright to privacy and other rights provided for in Regulation (EC) No 45/2001. \\nL 193/100  \\n\\x0c \\nInformation on cases of early detection, exclusion and/or financial penalties shall be entered in the database by the \\nauthorising officer responsible after notifying the person or entity concerned, as referred to in Article 135(2). Such \\nnotification may be deferred in exceptional circumstances, where there are compelling legitimate grounds to preserve \\nthe confidentiality of an investigation or of national judicial proceedings, until such compelling legitimate grounds to \\npreserve the confidentiality cease to exist. \\nIn accordance with Regulation (EC) No 45/2001, the Commission shall upon request inform the person or entity subject \\nto the early-detection and exclusion system, as referred to in Article 135(2), of the data stored in the database relating to \\nthat person or entity. \\nThe information contained in the database shall be updated, where appropriate, following a rectification, an erasure or \\nany modification of data. It shall only be published in accordance with Article 140. ',\n",
       " ' \\nThe early-detection and exclusion system shall be based on facts and findings as referred to in the fourth \\nsubparagraph of Article 136(2) and on the transmission of information to the Commission, in particular, by: \\n(a) EPPO in respect of those Member States participating in enhanced cooperation pursuant to Regulation (EU) \\n2017/1939, or OLAF in accordance with Regulation (EU, Euratom) No 883/2013 where an investigation \\ncompleted or in progress shows that it might be appropriate to take precautionary measures or actions to protect \\nthe financial interests of the Union, with due regard to the respect for procedural and fundamental rights, and to the \\nprotection of whistle-blowers; \\n(b) an authorising officer of the Commission, of a European office set up by the Commission or of an executive agency; \\n(c) a Union institution, a European office, an agency other than those referred to in point (b) of this paragraph, or a body \\nor a person entrusted with implementation of CFSP actions; \\n(d) entities implementing the budget in accordance with Article 63, in cases of detected fraud and/or irregularity and their \\nfollow up, where the transmission of information is required by sector-specific rules; \\n(e) persons or entities implementing Union funds pursuant to point (c) of the first subparagraph of Article 62(1), in cases \\nof detected fraud and/or irregularity and their follow up. ',\n",
       " ' \\nExcept where information is to be submitted in accordance with sector-specific rules, the information to be \\ntransmitted pursuant to paragraph 2 of this Article shall include: \\n(a) the identification of the entity or person concerned; \\n(b) a summary of the risks detected or the facts in question; \\n(c) information that could assist the authorising officer in carrying out the verification referred to in paragraph 4 of this \\nArticle or in taking a decision on exclusion as referred to in Article 136(1) or (2), or a decision to impose a financial \\npenalty as referred to in Article 138; \\n(d) where applicable, information on any special measures necessary to ensure the confidentiality of the information \\ntransmitted, including measures for the safeguarding of evidence to protect the investigation or the national judicial \\nproceedings. ',\n",
       " ' \\nThe Commission shall without delay transmit the information referred to in paragraph 3 to its authorising officers \\nand those of its executive agencies, all other Union institutions, Union bodies, European offices and agencies through the \\ndatabase referred to in paragraph 1 in order to allow them to carry out the necessary verification in respect of their \\nongoing award procedures and existing legal commitments. \\nIn carrying out that verification, the authorising officer responsible shall exercise his or her powers as set out in Article 74 \\nand shall not go beyond what is foreseen in the terms and conditions of the award procedure and legal commitments. \\nThe retention period for the information related to the early detection transmitted in accordance with paragraph 3 of this \\nArticle shall not exceed one year. If, during that period, the authorising officer responsible requests the panel to issue a \\nrecommendation in a case concerning exclusion or financial penalties, the retention period may be extended until such \\ntime as the authorising officer responsible has taken a decision. ',\n",
       " ' \\nAll persons and entities involved in budget implementation in accordance with Article 62 shall be granted access by \\nthe Commission to the information on decisions on exclusion pursuant to Article 136 to enable them to verify whether \\nthere is an exclusion in the system with a view to taking this information into account, as appropriate and on their own \\nresponsibility, when awarding contracts in budget implementation.   \\x0c ',\n",
       " ' \\nAs part of the annual report of the Commission to the European Parliament and to the Council pursuant to \\nArticle 325(5) TFEU, the Commission shall provide aggregate information on the decisions taken by the authorising \\nofficers under Articles 135 to 142 of this Regulation. That report shall also provide further information on any decisions \\ntaken by the authorising officers pursuant to point (b) of the first subparagraph of Article 136(6) of this Regulation and \\nArticle 140(2) of this Regulation and on any decisions by the authorising officers to deviate from the recommendation of \\nthe panel pursuant to the third subparagraph of Article 143(6) of this Regulation. \\nThe information referred to in the first subparagraph of this paragraph shall be provided with due regard to confiden\\xad\\ntiality requirements and shall, in particular, not allow for the identification of the person or entity concerned, as referred \\nto in Article 135(2). ']"
      ]
     },
     "execution_count": 49,
     "metadata": {},
     "output_type": "execute_result"
    }
   ],
   "source": [
    "final_dataframe[final_dataframe['identical_length']==False].iloc[0,2]"
   ]
  },
  {
   "cell_type": "code",
   "execution_count": 46,
   "metadata": {},
   "outputs": [
    {
     "data": {
      "text/plain": [
       "'information exchanged within the early-detection and exclusion system referred to in article 135 shall be centralised in a database set up by the commission (‘the database’) and shall be managed in accordance with the right to privacy and other rights provided for in regulation (ec) no 45/2001. l 193/100   information on cases of early detection, exclusion and/or financial penalties shall be entered in the database by the authorising officer responsible after notifying the person or entity concerned, as referred to in article 135(2). such notification may be deferred in exceptional circumstances, where there are compelling legitimate grounds to preserve the confidentiality of an investigation or of national judicial proceedings, until such compelling legitimate grounds to preserve the confidentiality cease to exist. in accordance with regulation (ec) no 45/2001, the commission shall upon request inform the person or entity subject to the early-detection and exclusion system, as referred to in article 135(2), of the data stored in the database relating to that person or entity. the information contained in the database shall be updated, where appropriate, following a rectification, an erasure or any modification of data. it shall only be published in accordance with article 140.\\n the early-detection and exclusion system shall be based on facts and findings as referred to in the fourth subparagraph of article 136(2) and on the transmission of information to the commission, in particular, by: (a) eppo in respect of those member states participating in enhanced cooperation pursuant to regulation (eu) 2017/1939, or olaf in accordance with regulation (eu, euratom) no 883/2013 where an investigation completed or in progress shows that it might be appropriate to take precautionary measures or actions to protect the financial interests of the union, with due regard to the respect for procedural and fundamental rights, and to the protection of whistle-blowers; (b) an authorising officer of the commission, of a european office set up by the commission or of an executive agency; (c) a union institution, a european office, an agency other than those referred to in point (b) of this paragraph, or a body or a person entrusted with implementation of cfsp actions; (d) entities implementing the budget in accordance with article 63, in cases of detected fraud and/or irregularity and those referred to in point (b) of this paragraph, or a body or a person entrusted with implementation of cfsp actions follow up, where the transmission of information is required by sector-specific rules; (e) persons or entities implementing union funds pursuant to point (c) of the first subparagraph of article 62(1), in cases of detected fraud and/or irregularity and (c) of the first subparagraph of article 62(1), in cases of detected fraud and/or irregularity and their follow up.\\n  follow up.\\n except where information is to be submitted in accordance with sector-specific rules, the information to be transmitted pursuant to paragraph 2 of this article shall include: (a) the identification of the entity or person concerned; (b) a summary of the risks detected or the facts in question; (c) information that could assist the authorising officer in carrying out the verification referred to in paragraph 4 of this article or in taking a decision on exclusion as referred to in article 136(1) or (2), or a decision to impose a financial penalty as referred to in article 138; (d) where applicable, information on any special measures necessary to ensure the confidentiality of the information transmitted, including measures for the safeguarding of evidence to protect the investigation or the national judicial proceedings.\\n the commission shall without delay transmit the information referred to in paragraph 3 to the commission authorising officers and those of the commission executive agencies, all other union institutions, union bodies, european offices and agencies through the database referred to in paragraph 1 in order to allow european offices and agencies through the database to carry out the necessary verification in respect of european offices and agencies through the database ongoing award procedures and existing legal commitments. in carrying out that verification, the authorising officer responsible shall exercise the authorising officer responsible or the authorising officer responsible powers as set out in article 74 and shall not go beyond what is foreseen in the terms and conditions of the award procedure and legal commitments. the retention period for the information related to the early detection transmitted in accordance with paragraph 3 of this article shall not exceed one year. if, during that period, the authorising officer responsible requests the panel to issue a recommendation in a case concerning exclusion or financial penalties, the retention period may be extended until such time as the authorising officer responsible has taken a decision.\\n all persons and entities involved in budget implementation in accordance with article 62 shall be granted access by the commission to the information on decisions on exclusion pursuant to article 136 to enable all persons and entities involved in budget implementation in accordance with article 62 to verify whether there is an exclusion in the system with a view to taking the information on decisions on exclusion pursuant to article 136 into account, as appropriate and on all persons and entities involved in budget implementation in accordance with article 62 own responsibility, when awarding contracts in budget implementation.\\n as part of the annual report of the commission to the european parliament and to the council pursuant to article 325(5) tfeu, the commission shall provide aggregate information on the decisions taken by the authorising officers under articles 135 to 142 of this regulation. the annual report of the commission to the european parliament and to the council shall also provide further information on any decisions taken by the authorising officers pursuant to point (b) of the first subparagraph of article 136(6) of this regulation 140(2) of this regulation and on any decisions by the authorising officers to deviate from the recommendation of the panel pursuant to the third subparagraph of article 143(6) of this regulation. the information referred to in the first subparagraph of this paragraph shall be provided with due regard to confiden\\xadtiality requirements and shall, in particular, not allow for the identification of the person or entity concerned, as referred to in article 135(2).'"
      ]
     },
     "execution_count": 46,
     "metadata": {},
     "output_type": "execute_result"
    }
   ],
   "source": [
    "final_dataframe[final_dataframe['identical_length']==False].iloc[0,6]"
   ]
  },
  {
   "cell_type": "code",
   "execution_count": null,
   "metadata": {},
   "outputs": [
    {
     "data": {
      "text/plain": [
       "'information exchanged within the early-detection and exclusion system referred to in article 135 shall be centralised in a database set up by the commission (‘the database’) and shall be managed in accordance with the right to privacy and other rights provided for in regulation (ec) no 45/2001. l 193/100   information on cases of early detection, exclusion and/or financial penalties shall be entered in the database by the authorising officer responsible after notifying the person or entity concerned, as referred to in article 135(2). such notification may be deferred in exceptional circumstances, where there are compelling legitimate grounds to preserve the confidentiality of an investigation or of national judicial proceedings, until such compelling legitimate grounds to preserve the confidentiality cease to exist. in accordance with regulation (ec) no 45/2001, the commission shall upon request inform the person or entity subject to the early-detection and exclusion system, as referred to in article 135(2), of the data stored in the database relating to that person or entity. the information contained in the database shall be updated, where appropriate, following a rectification, an erasure or any modification of data. it shall only be published in accordance with article 140.\\n the early-detection and exclusion system shall be based on facts and findings as referred to in the fourth subparagraph of article 136(2) and on the transmission of information to the commission, in particular, by: (a) eppo in respect of those member states participating in enhanced cooperation pursuant to regulation (eu) 2017/1939, or olaf in accordance with regulation (eu, euratom) no 883/2013 where an investigation completed or in progress shows that it might be appropriate to take precautionary measures or actions to protect the financial interests of the union, with due regard to the respect for procedural and fundamental rights, and to the protection of whistle-blowers; (b) an authorising officer of the commission, of a european office set up by the commission or of an executive agency; (c) a union institution, a european office, an agency other than those referred to in point (b) of this paragraph, or a body or a person entrusted with implementation of cfsp actions; (d) entities implementing the budget in accordance with article 63, in cases of detected fraud and/or irregularity and those referred to in point (b) of this paragraph, or a body or a person entrusted with implementation of cfsp actions follow up, where the transmission of information is required by sector-specific rules; (e) persons or entities implementing union funds pursuant to point (c) of the first subparagraph of article 62(1), in cases of detected fraud and/or irregularity and (c) of the first subparagraph of article 62(1), in cases of detected fraud and/or irregularity and detected fraud and/or irregularity and (c) of the first subparagraph of article 62(1) follow up.\\n  follow up.\\n except where information is to be submitted in accordance with sector-specific rules, the information to be transmitted pursuant to paragraph 2 of this article shall include: (a) the identification of the entity or person concerned; (b) a summary of the risks detected or the facts in question; (c) information that could assist the authorising officer in carrying out the verification referred to in paragraph 4 of this article or in taking a decision on exclusion as referred to in article 136(1) or (2), or a decision to impose a financial penalty as referred to in article 138; (d) where applicable, information on any special measures necessary to ensure the confidentiality of the information transmitted, including measures for the safeguarding of evidence to protect the investigation or the national judicial proceedings.\\n the commission shall without delay transmit the information referred to in paragraph 3 to the commission authorising officers and those of the commission executive agencies, all other union institutions, union bodies, european offices and agencies through the database referred to in paragraph 1 in order to allow european offices and agencies through the database to carry out the necessary verification in respect of european offices and agencies through the database ongoing award procedures and existing legal commitments. in carrying out that verification, the authorising officer responsible shall exercise the authorising officer responsible or the authorising officer responsible powers as set out in article 74 and shall not go beyond what is foreseen in the terms and conditions of the award procedure and legal commitments. the retention period for the information related to the early detection transmitted in accordance with paragraph 3 of this article shall not exceed one year. if, during that period, the authorising officer responsible requests the panel to issue a recommendation in a case concerning exclusion or financial penalties, the retention period may be extended until such time as the authorising officer responsible has taken a decision.\\n all persons and entities involved in budget implementation in accordance with article 62 shall be granted access by the commission to the information on decisions on exclusion pursuant to article 136 to enable all persons and entities involved in budget implementation in accordance with article 62 to verify whether there is an exclusion in the system with a view to taking the information on decisions on exclusion pursuant to article 136 into account, as appropriate and on all persons and entities involved in budget implementation in accordance with article 62 own responsibility, when awarding contracts in budget implementation.\\n as part of the annual report of the commission to the european parliament and to the council pursuant to article 325(5) tfeu, the commission shall provide aggregate information on the decisions taken by the authorising officers under articles 135 to 142 of this regulation. the annual report of the commission to the european parliament and to the council the european parliament and to the council the council shall also provide further information on any decisions taken by the authorising officers pursuant to point (b) of the first subparagraph of article 136(6) of this regulation of this regulation and on any decisions by the authorising officers to deviate from the recommendation of the panel pursuant to the third subparagraph of article 143(6) of this regulation. the information referred to in the first subparagraph of this paragraph shall be provided with due regard to confiden\\xadtiality requirements and shall, in particular, not allow for the identification of the person or entity concerned, as referred to in article 135(2).'"
      ]
     },
     "execution_count": 47,
     "metadata": {},
     "output_type": "execute_result"
    }
   ],
   "source": [
    "coref_solve(final_dataframe[final_dataframe['identical_length']==False].iloc[0,6])"
   ]
  },
  {
   "cell_type": "code",
   "execution_count": 50,
   "metadata": {},
   "outputs": [
    {
     "data": {
      "text/plain": [
       "'The information contained in the database shall be updated, where appropriate, following a rectification, an erasure or any modification of data. It shall only be published in accordance with article 140.'"
      ]
     },
     "execution_count": 50,
     "metadata": {},
     "output_type": "execute_result"
    }
   ],
   "source": [
    "coref_solve('The information contained in the database shall be updated, where appropriate, following a rectification, an erasure or any modification of data. It shall only be published in accordance with article 140.')"
   ]
  },
  {
   "cell_type": "markdown",
   "metadata": {},
   "source": [
    "# Coreference Resolution Implementation Pipeline\n",
    "\n",
    "- Import Packages\n",
    "- Give spaCy example\n",
    "- Import Financial Regulations Dataframe\n",
    "- Apply coreference resolution to the whole content of an article (all paragraphs joined)\n",
    "- Apply coreference resolution to each paragraph of an article, separately "
   ]
  },
  {
   "cell_type": "markdown",
   "metadata": {},
   "source": [
    "## Import Packages"
   ]
  },
  {
   "cell_type": "code",
   "execution_count": 56,
   "metadata": {},
   "outputs": [],
   "source": [
    "import neuralcoref\n",
    "import spacy\n",
    "import pandas as pd\n",
    "import ast"
   ]
  },
  {
   "cell_type": "markdown",
   "metadata": {},
   "source": [
    "## spaCy Coreference Resolution Example"
   ]
  },
  {
   "cell_type": "code",
   "execution_count": 57,
   "metadata": {},
   "outputs": [
    {
     "name": "stdout",
     "output_type": "stream",
     "text": [
      "[My sister: [My sister, She], a dog: [a dog, him]]\n",
      "Angela: [Angela, She]\n",
      "Boston: [Boston, that city]\n"
     ]
    }
   ],
   "source": [
    "import en_core_web_lg\n",
    "\n",
    "nlp = en_core_web_lg.load()\n",
    "\n",
    "neuralcoref.add_to_pipe(nlp)\n",
    "\n",
    "doc1 = nlp('My sister has a dog. She loves him.')\n",
    "print(doc1._.coref_clusters)\n",
    "\n",
    "doc2 = nlp('Angela lives in Boston. She is quite happy in that city.')\n",
    "for ent in doc2.ents:\n",
    "    print(ent._.coref_cluster)"
   ]
  },
  {
   "cell_type": "markdown",
   "metadata": {},
   "source": [
    "## Import Dataframe of Financial Regulations as created in notebook 1: Parsing PDF"
   ]
  },
  {
   "cell_type": "code",
   "execution_count": 58,
   "metadata": {},
   "outputs": [],
   "source": [
    "final_dataframe = pd.read_csv(r'C:\\Users\\Johnn\\Desktop\\Thesis-Coding\\final_dataframe.csv')\n",
    "\n",
    "def convert_to_list(column):\n",
    "    return column.apply(ast.literal_eval)\n",
    "\n",
    "final_dataframe['Content'] = convert_to_list(final_dataframe['Content'])\n",
    "final_dataframe['Cleaned_Content'] = convert_to_list(final_dataframe['Cleaned_Content'])"
   ]
  },
  {
   "cell_type": "code",
   "execution_count": 59,
   "metadata": {},
   "outputs": [],
   "source": [
    "def coref_solve(text):\n",
    "    doc = nlp(text)\n",
    "    new_text = doc._.coref_resolved\n",
    "    return new_text"
   ]
  },
  {
   "cell_type": "code",
   "execution_count": 60,
   "metadata": {},
   "outputs": [
    {
     "data": {
      "text/html": [
       "<div>\n",
       "<style scoped>\n",
       "    .dataframe tbody tr th:only-of-type {\n",
       "        vertical-align: middle;\n",
       "    }\n",
       "\n",
       "    .dataframe tbody tr th {\n",
       "        vertical-align: top;\n",
       "    }\n",
       "\n",
       "    .dataframe thead th {\n",
       "        text-align: right;\n",
       "    }\n",
       "</style>\n",
       "<table border=\"1\" class=\"dataframe\">\n",
       "  <thead>\n",
       "    <tr style=\"text-align: right;\">\n",
       "      <th></th>\n",
       "      <th>Title</th>\n",
       "      <th>Articles</th>\n",
       "      <th>Content</th>\n",
       "      <th>Cleaned_Content</th>\n",
       "    </tr>\n",
       "  </thead>\n",
       "  <tbody>\n",
       "    <tr>\n",
       "      <th>0</th>\n",
       "      <td>TITLE I \\nSUBJECT MATTER, DEFINITIONS AND GENE...</td>\n",
       "      <td>Article 1  Subject matter</td>\n",
       "      <td>[\\nThis Regulation lays down the rules for the...</td>\n",
       "      <td>[this regulation lays down the rules for the e...</td>\n",
       "    </tr>\n",
       "    <tr>\n",
       "      <th>1</th>\n",
       "      <td>TITLE I \\nSUBJECT MATTER, DEFINITIONS AND GENE...</td>\n",
       "      <td>Article 2  Definitions</td>\n",
       "      <td>[ ‘applicant’ means a natural person or an ent...</td>\n",
       "      <td>[‘applicant’ means a natural person or an enti...</td>\n",
       "    </tr>\n",
       "    <tr>\n",
       "      <th>2</th>\n",
       "      <td>TITLE I \\nSUBJECT MATTER, DEFINITIONS AND GENE...</td>\n",
       "      <td>Article 3  Compliance of secondary legislation...</td>\n",
       "      <td>[ \\nProvisions concerning the implementation o...</td>\n",
       "      <td>[provisions concerning the implementation of t...</td>\n",
       "    </tr>\n",
       "    <tr>\n",
       "      <th>3</th>\n",
       "      <td>TITLE I \\nSUBJECT MATTER, DEFINITIONS AND GENE...</td>\n",
       "      <td>Article 4  Periods, dates and time limits</td>\n",
       "      <td>[\\nUnless otherwise provided in this Regulatio...</td>\n",
       "      <td>[unless otherwise provided in this regulation,...</td>\n",
       "    </tr>\n",
       "    <tr>\n",
       "      <th>4</th>\n",
       "      <td>TITLE I \\nSUBJECT MATTER, DEFINITIONS AND GENE...</td>\n",
       "      <td>Article 5  Protection of personal data</td>\n",
       "      <td>[\\nThis Regulation is without prejudice to Reg...</td>\n",
       "      <td>[this regulation is without prejudice to regul...</td>\n",
       "    </tr>\n",
       "    <tr>\n",
       "      <th>...</th>\n",
       "      <td>...</td>\n",
       "      <td>...</td>\n",
       "      <td>...</td>\n",
       "      <td>...</td>\n",
       "    </tr>\n",
       "    <tr>\n",
       "      <th>277</th>\n",
       "      <td>TITLE XVI \\nINFORMATION REQUESTS AND DELEGATED...</td>\n",
       "      <td>Article 278  Amendment to Decision No 541/2014...</td>\n",
       "      <td>[\\nIn Article 4 of Decision No 541/2014/EU of ...</td>\n",
       "      <td>[in article 4 of decision no 541/2014/eu of th...</td>\n",
       "    </tr>\n",
       "    <tr>\n",
       "      <th>278</th>\n",
       "      <td>TITLE XVI \\nINFORMATION REQUESTS AND DELEGATED...</td>\n",
       "      <td>Article 279  Transitional provisions</td>\n",
       "      <td>[ \\nLegal commitments for grants implementing ...</td>\n",
       "      <td>[legal commitments for grants implementing the...</td>\n",
       "    </tr>\n",
       "    <tr>\n",
       "      <th>279</th>\n",
       "      <td>TITLE XVI \\nINFORMATION REQUESTS AND DELEGATED...</td>\n",
       "      <td>Article 280  Review</td>\n",
       "      <td>[\\nThis Regulation shall be reviewed whenever ...</td>\n",
       "      <td>[this regulation shall be reviewed whenever it...</td>\n",
       "    </tr>\n",
       "    <tr>\n",
       "      <th>280</th>\n",
       "      <td>TITLE XVI \\nINFORMATION REQUESTS AND DELEGATED...</td>\n",
       "      <td>Article 281  Repeal</td>\n",
       "      <td>[ \\nRegulation (EU, Euratom) No 966/2012 is re...</td>\n",
       "      <td>[regulation (eu, euratom) no 966/2012 is repea...</td>\n",
       "    </tr>\n",
       "    <tr>\n",
       "      <th>281</th>\n",
       "      <td>TITLE XVI \\nINFORMATION REQUESTS AND DELEGATED...</td>\n",
       "      <td>Article 282  Entry into force and application</td>\n",
       "      <td>[ \\nThis Regulation shall enter into force on ...</td>\n",
       "      <td>[this regulation shall enter into force on the...</td>\n",
       "    </tr>\n",
       "  </tbody>\n",
       "</table>\n",
       "<p>282 rows × 4 columns</p>\n",
       "</div>"
      ],
      "text/plain": [
       "                                                 Title  \\\n",
       "0    TITLE I \\nSUBJECT MATTER, DEFINITIONS AND GENE...   \n",
       "1    TITLE I \\nSUBJECT MATTER, DEFINITIONS AND GENE...   \n",
       "2    TITLE I \\nSUBJECT MATTER, DEFINITIONS AND GENE...   \n",
       "3    TITLE I \\nSUBJECT MATTER, DEFINITIONS AND GENE...   \n",
       "4    TITLE I \\nSUBJECT MATTER, DEFINITIONS AND GENE...   \n",
       "..                                                 ...   \n",
       "277  TITLE XVI \\nINFORMATION REQUESTS AND DELEGATED...   \n",
       "278  TITLE XVI \\nINFORMATION REQUESTS AND DELEGATED...   \n",
       "279  TITLE XVI \\nINFORMATION REQUESTS AND DELEGATED...   \n",
       "280  TITLE XVI \\nINFORMATION REQUESTS AND DELEGATED...   \n",
       "281  TITLE XVI \\nINFORMATION REQUESTS AND DELEGATED...   \n",
       "\n",
       "                                              Articles  \\\n",
       "0                           Article 1  Subject matter    \n",
       "1                              Article 2  Definitions    \n",
       "2    Article 3  Compliance of secondary legislation...   \n",
       "3           Article 4  Periods, dates and time limits    \n",
       "4              Article 5  Protection of personal data    \n",
       "..                                                 ...   \n",
       "277  Article 278  Amendment to Decision No 541/2014...   \n",
       "278              Article 279  Transitional provisions    \n",
       "279                               Article 280  Review    \n",
       "280                               Article 281  Repeal    \n",
       "281     Article 282  Entry into force and application    \n",
       "\n",
       "                                               Content  \\\n",
       "0    [\\nThis Regulation lays down the rules for the...   \n",
       "1    [ ‘applicant’ means a natural person or an ent...   \n",
       "2    [ \\nProvisions concerning the implementation o...   \n",
       "3    [\\nUnless otherwise provided in this Regulatio...   \n",
       "4    [\\nThis Regulation is without prejudice to Reg...   \n",
       "..                                                 ...   \n",
       "277  [\\nIn Article 4 of Decision No 541/2014/EU of ...   \n",
       "278  [ \\nLegal commitments for grants implementing ...   \n",
       "279  [\\nThis Regulation shall be reviewed whenever ...   \n",
       "280  [ \\nRegulation (EU, Euratom) No 966/2012 is re...   \n",
       "281  [ \\nThis Regulation shall enter into force on ...   \n",
       "\n",
       "                                       Cleaned_Content  \n",
       "0    [this regulation lays down the rules for the e...  \n",
       "1    [‘applicant’ means a natural person or an enti...  \n",
       "2    [provisions concerning the implementation of t...  \n",
       "3    [unless otherwise provided in this regulation,...  \n",
       "4    [this regulation is without prejudice to regul...  \n",
       "..                                                 ...  \n",
       "277  [in article 4 of decision no 541/2014/eu of th...  \n",
       "278  [legal commitments for grants implementing the...  \n",
       "279  [this regulation shall be reviewed whenever it...  \n",
       "280  [regulation (eu, euratom) no 966/2012 is repea...  \n",
       "281  [this regulation shall enter into force on the...  \n",
       "\n",
       "[282 rows x 4 columns]"
      ]
     },
     "execution_count": 60,
     "metadata": {},
     "output_type": "execute_result"
    }
   ],
   "source": [
    "final_dataframe"
   ]
  },
  {
   "cell_type": "markdown",
   "metadata": {},
   "source": [
    "## Apply Coreference Resolution to each Paragraph and to each Articles Content"
   ]
  },
  {
   "cell_type": "code",
   "execution_count": 61,
   "metadata": {},
   "outputs": [],
   "source": [
    "final_dataframe['whole_text'] = final_dataframe['Cleaned_Content'].apply(lambda x: \"\\n \".join(x))\n",
    "final_dataframe['coreference_text'] = final_dataframe['whole_text'].apply(lambda x: coref_solve(x)) \n",
    "final_dataframe['coreference_list_ready'] = final_dataframe['coreference_text'].apply(lambda x: x.split(\"\\n \")) \n"
   ]
  },
  {
   "cell_type": "markdown",
   "metadata": {},
   "source": [
    "## Save CSV - coreferenced_final_dataframe.csv"
   ]
  },
  {
   "cell_type": "code",
   "execution_count": 63,
   "metadata": {},
   "outputs": [],
   "source": [
    "final_dataframe.to_csv('coreferenced_final_dataframe.csv', index=False)  "
   ]
  },
  {
   "cell_type": "code",
   "execution_count": null,
   "metadata": {},
   "outputs": [],
   "source": []
  },
  {
   "cell_type": "code",
   "execution_count": null,
   "metadata": {},
   "outputs": [],
   "source": []
  },
  {
   "cell_type": "code",
   "execution_count": null,
   "metadata": {},
   "outputs": [],
   "source": []
  },
  {
   "cell_type": "code",
   "execution_count": null,
   "metadata": {},
   "outputs": [],
   "source": []
  },
  {
   "cell_type": "code",
   "execution_count": null,
   "metadata": {},
   "outputs": [],
   "source": []
  },
  {
   "cell_type": "code",
   "execution_count": null,
   "metadata": {},
   "outputs": [],
   "source": []
  },
  {
   "cell_type": "code",
   "execution_count": null,
   "metadata": {},
   "outputs": [],
   "source": []
  }
 ],
 "metadata": {
  "kernelspec": {
   "display_name": ".venv",
   "language": "python",
   "name": "python3"
  },
  "language_info": {
   "codemirror_mode": {
    "name": "ipython",
    "version": 3
   },
   "file_extension": ".py",
   "mimetype": "text/x-python",
   "name": "python",
   "nbconvert_exporter": "python",
   "pygments_lexer": "ipython3",
   "version": "3.7.0"
  }
 },
 "nbformat": 4,
 "nbformat_minor": 2
}
